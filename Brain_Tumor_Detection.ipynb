{
  "nbformat": 4,
  "nbformat_minor": 0,
  "metadata": {
    "colab": {
      "name": "Brain Tumor Detection",
      "provenance": [],
      "collapsed_sections": [
        "IJAI2ntn-Zux",
        "uRwN9d99EfmO",
        "qNWgUYONKNqt",
        "cFWU4geq3A--",
        "yDDcxbKEpjYf",
        "bsFqKvY8zxd6"
      ]
    },
    "kernelspec": {
      "name": "python3",
      "display_name": "Python 3"
    },
    "language_info": {
      "name": "python"
    },
    "accelerator": "GPU",
    "gpuClass": "standard"
  },
  "cells": [
    {
      "cell_type": "code",
      "execution_count": 1,
      "metadata": {
        "id": "futrKj6VBobA"
      },
      "outputs": [],
      "source": [
        "import tensorflow as tf\n",
        "from tensorflow import keras\n",
        "from tensorflow.keras.preprocessing.image import ImageDataGenerator\n",
        "from tensorflow.keras.models import Sequential, Model\n",
        "from tensorflow.keras.layers import Conv2D, MaxPool2D, Dense, Flatten, Dropout, GlobalAveragePooling2D, Input, Bidirectional, LSTM, TimeDistributed, RNN\n",
        "from tensorflow.keras.optimizers import Adam, SGD\n",
        "from tensorflow.keras.applications.resnet50 import ResNet50\n",
        "from tensorflow.keras.applications.vgg19 import VGG19\n",
        "from tensorflow.keras.applications.xception import Xception\n",
        "from tensorflow.keras.utils import to_categorical\n",
        "from sklearn.model_selection import train_test_split\n",
        "from sklearn.preprocessing import LabelEncoder\n",
        "from sklearn.model_selection import KFold\n",
        "from sklearn.metrics import classification_report\n",
        "from sklearn.metrics import confusion_matrix\n",
        "from sklearn.utils import shuffle\n",
        "from tqdm import tqdm\n",
        "import matplotlib.pyplot as plt\n",
        "import matplotlib.image as mpimg\n",
        "import pandas as pd\n",
        "import numpy as np\n",
        "import shutil\n",
        "import cv2\n",
        "import os"
      ]
    },
    {
      "cell_type": "code",
      "source": [
        "from google.colab import drive\n",
        "drive.mount('/content/drive')"
      ],
      "metadata": {
        "colab": {
          "base_uri": "https://localhost:8080/"
        },
        "id": "KQzHxFa7kDl4",
        "outputId": "2397cd38-bb60-4831-aaa1-3e23d30fc09b"
      },
      "execution_count": 2,
      "outputs": [
        {
          "output_type": "stream",
          "name": "stdout",
          "text": [
            "Mounted at /content/drive\n"
          ]
        }
      ]
    },
    {
      "cell_type": "code",
      "source": [
        "!unzip \"/content/drive/MyDrive/Dataset/dataset_tumor_otak.zip\" -d \"/content/dataset\""
      ],
      "metadata": {
        "id": "H309a6ihkPRH",
        "colab": {
          "base_uri": "https://localhost:8080/"
        },
        "outputId": "aec36a0c-740e-482b-c34c-859832e226f1"
      },
      "execution_count": 3,
      "outputs": [
        {
          "output_type": "stream",
          "name": "stdout",
          "text": [
            "Archive:  /content/drive/MyDrive/Dataset/dataset_tumor_otak.zip\n",
            "  inflating: /content/dataset/Testing/glioma_tumor/image(1).jpg  \n",
            "  inflating: /content/dataset/Testing/glioma_tumor/image(10).jpg  \n",
            "  inflating: /content/dataset/Testing/glioma_tumor/image(100).jpg  \n",
            "  inflating: /content/dataset/Testing/glioma_tumor/image(11).jpg  \n",
            "  inflating: /content/dataset/Testing/glioma_tumor/image(12).jpg  \n",
            "  inflating: /content/dataset/Testing/glioma_tumor/image(13).jpg  \n",
            "  inflating: /content/dataset/Testing/glioma_tumor/image(14).jpg  \n",
            "  inflating: /content/dataset/Testing/glioma_tumor/image(15).jpg  \n",
            "  inflating: /content/dataset/Testing/glioma_tumor/image(16).jpg  \n",
            "  inflating: /content/dataset/Testing/glioma_tumor/image(17).jpg  \n",
            "  inflating: /content/dataset/Testing/glioma_tumor/image(18).jpg  \n",
            "  inflating: /content/dataset/Testing/glioma_tumor/image(19).jpg  \n",
            "  inflating: /content/dataset/Testing/glioma_tumor/image(2).jpg  \n",
            "  inflating: /content/dataset/Testing/glioma_tumor/image(20).jpg  \n",
            "  inflating: /content/dataset/Testing/glioma_tumor/image(21).jpg  \n",
            "  inflating: /content/dataset/Testing/glioma_tumor/image(22).jpg  \n",
            "  inflating: /content/dataset/Testing/glioma_tumor/image(23).jpg  \n",
            "  inflating: /content/dataset/Testing/glioma_tumor/image(24).jpg  \n",
            "  inflating: /content/dataset/Testing/glioma_tumor/image(25).jpg  \n",
            "  inflating: /content/dataset/Testing/glioma_tumor/image(26).jpg  \n",
            "  inflating: /content/dataset/Testing/glioma_tumor/image(27).jpg  \n",
            "  inflating: /content/dataset/Testing/glioma_tumor/image(28).jpg  \n",
            "  inflating: /content/dataset/Testing/glioma_tumor/image(29).jpg  \n",
            "  inflating: /content/dataset/Testing/glioma_tumor/image(3).jpg  \n",
            "  inflating: /content/dataset/Testing/glioma_tumor/image(30).jpg  \n",
            "  inflating: /content/dataset/Testing/glioma_tumor/image(31).jpg  \n",
            "  inflating: /content/dataset/Testing/glioma_tumor/image(32).jpg  \n",
            "  inflating: /content/dataset/Testing/glioma_tumor/image(33).jpg  \n",
            "  inflating: /content/dataset/Testing/glioma_tumor/image(34).jpg  \n",
            "  inflating: /content/dataset/Testing/glioma_tumor/image(35).jpg  \n",
            "  inflating: /content/dataset/Testing/glioma_tumor/image(36).jpg  \n",
            "  inflating: /content/dataset/Testing/glioma_tumor/image(37).jpg  \n",
            "  inflating: /content/dataset/Testing/glioma_tumor/image(38).jpg  \n",
            "  inflating: /content/dataset/Testing/glioma_tumor/image(39).jpg  \n",
            "  inflating: /content/dataset/Testing/glioma_tumor/image(4).jpg  \n",
            "  inflating: /content/dataset/Testing/glioma_tumor/image(40).jpg  \n",
            "  inflating: /content/dataset/Testing/glioma_tumor/image(41).jpg  \n",
            "  inflating: /content/dataset/Testing/glioma_tumor/image(42).jpg  \n",
            "  inflating: /content/dataset/Testing/glioma_tumor/image(43).jpg  \n",
            "  inflating: /content/dataset/Testing/glioma_tumor/image(44).jpg  \n",
            "  inflating: /content/dataset/Testing/glioma_tumor/image(45).jpg  \n",
            "  inflating: /content/dataset/Testing/glioma_tumor/image(46).jpg  \n",
            "  inflating: /content/dataset/Testing/glioma_tumor/image(47).jpg  \n",
            "  inflating: /content/dataset/Testing/glioma_tumor/image(48).jpg  \n",
            "  inflating: /content/dataset/Testing/glioma_tumor/image(49).jpg  \n",
            "  inflating: /content/dataset/Testing/glioma_tumor/image(5).jpg  \n",
            "  inflating: /content/dataset/Testing/glioma_tumor/image(50).jpg  \n",
            "  inflating: /content/dataset/Testing/glioma_tumor/image(51).jpg  \n",
            "  inflating: /content/dataset/Testing/glioma_tumor/image(52).jpg  \n",
            "  inflating: /content/dataset/Testing/glioma_tumor/image(53).jpg  \n",
            "  inflating: /content/dataset/Testing/glioma_tumor/image(54).jpg  \n",
            "  inflating: /content/dataset/Testing/glioma_tumor/image(55).jpg  \n",
            "  inflating: /content/dataset/Testing/glioma_tumor/image(56).jpg  \n",
            "  inflating: /content/dataset/Testing/glioma_tumor/image(57).jpg  \n",
            "  inflating: /content/dataset/Testing/glioma_tumor/image(58).jpg  \n",
            "  inflating: /content/dataset/Testing/glioma_tumor/image(59).jpg  \n",
            "  inflating: /content/dataset/Testing/glioma_tumor/image(6).jpg  \n",
            "  inflating: /content/dataset/Testing/glioma_tumor/image(60).jpg  \n",
            "  inflating: /content/dataset/Testing/glioma_tumor/image(61).jpg  \n",
            "  inflating: /content/dataset/Testing/glioma_tumor/image(62).jpg  \n",
            "  inflating: /content/dataset/Testing/glioma_tumor/image(63).jpg  \n",
            "  inflating: /content/dataset/Testing/glioma_tumor/image(64).jpg  \n",
            "  inflating: /content/dataset/Testing/glioma_tumor/image(65).jpg  \n",
            "  inflating: /content/dataset/Testing/glioma_tumor/image(66).jpg  \n",
            "  inflating: /content/dataset/Testing/glioma_tumor/image(67).jpg  \n",
            "  inflating: /content/dataset/Testing/glioma_tumor/image(68).jpg  \n",
            "  inflating: /content/dataset/Testing/glioma_tumor/image(69).jpg  \n",
            "  inflating: /content/dataset/Testing/glioma_tumor/image(7).jpg  \n",
            "  inflating: /content/dataset/Testing/glioma_tumor/image(70).jpg  \n",
            "  inflating: /content/dataset/Testing/glioma_tumor/image(71).jpg  \n",
            "  inflating: /content/dataset/Testing/glioma_tumor/image(72).jpg  \n",
            "  inflating: /content/dataset/Testing/glioma_tumor/image(73).jpg  \n",
            "  inflating: /content/dataset/Testing/glioma_tumor/image(74).jpg  \n",
            "  inflating: /content/dataset/Testing/glioma_tumor/image(75).jpg  \n",
            "  inflating: /content/dataset/Testing/glioma_tumor/image(76).jpg  \n",
            "  inflating: /content/dataset/Testing/glioma_tumor/image(77).jpg  \n",
            "  inflating: /content/dataset/Testing/glioma_tumor/image(78).jpg  \n",
            "  inflating: /content/dataset/Testing/glioma_tumor/image(79).jpg  \n",
            "  inflating: /content/dataset/Testing/glioma_tumor/image(8).jpg  \n",
            "  inflating: /content/dataset/Testing/glioma_tumor/image(80).jpg  \n",
            "  inflating: /content/dataset/Testing/glioma_tumor/image(81).jpg  \n",
            "  inflating: /content/dataset/Testing/glioma_tumor/image(82).jpg  \n",
            "  inflating: /content/dataset/Testing/glioma_tumor/image(83).jpg  \n",
            "  inflating: /content/dataset/Testing/glioma_tumor/image(84).jpg  \n",
            "  inflating: /content/dataset/Testing/glioma_tumor/image(85).jpg  \n",
            "  inflating: /content/dataset/Testing/glioma_tumor/image(86).jpg  \n",
            "  inflating: /content/dataset/Testing/glioma_tumor/image(87).jpg  \n",
            "  inflating: /content/dataset/Testing/glioma_tumor/image(88).jpg  \n",
            "  inflating: /content/dataset/Testing/glioma_tumor/image(89).jpg  \n",
            "  inflating: /content/dataset/Testing/glioma_tumor/image(9).jpg  \n",
            "  inflating: /content/dataset/Testing/glioma_tumor/image(90).jpg  \n",
            "  inflating: /content/dataset/Testing/glioma_tumor/image(91).jpg  \n",
            "  inflating: /content/dataset/Testing/glioma_tumor/image(92).jpg  \n",
            "  inflating: /content/dataset/Testing/glioma_tumor/image(93).jpg  \n",
            "  inflating: /content/dataset/Testing/glioma_tumor/image(94).jpg  \n",
            "  inflating: /content/dataset/Testing/glioma_tumor/image(95).jpg  \n",
            "  inflating: /content/dataset/Testing/glioma_tumor/image(97).jpg  \n",
            "  inflating: /content/dataset/Testing/glioma_tumor/image(98).jpg  \n",
            "  inflating: /content/dataset/Testing/glioma_tumor/image(99).jpg  \n",
            "  inflating: /content/dataset/Testing/glioma_tumor/image.jpg  \n",
            "  inflating: /content/dataset/Testing/meningioma_tumor/image(1).jpg  \n",
            "  inflating: /content/dataset/Testing/meningioma_tumor/image(10).jpg  \n",
            "  inflating: /content/dataset/Testing/meningioma_tumor/image(100).jpg  \n",
            "  inflating: /content/dataset/Testing/meningioma_tumor/image(102).jpg  \n",
            "  inflating: /content/dataset/Testing/meningioma_tumor/image(106).jpg  \n",
            "  inflating: /content/dataset/Testing/meningioma_tumor/image(107).jpg  \n",
            "  inflating: /content/dataset/Testing/meningioma_tumor/image(109).jpg  \n",
            "  inflating: /content/dataset/Testing/meningioma_tumor/image(11).jpg  \n",
            "  inflating: /content/dataset/Testing/meningioma_tumor/image(112).jpg  \n",
            "  inflating: /content/dataset/Testing/meningioma_tumor/image(113).jpg  \n",
            "  inflating: /content/dataset/Testing/meningioma_tumor/image(118).jpg  \n",
            "  inflating: /content/dataset/Testing/meningioma_tumor/image(12).jpg  \n",
            "  inflating: /content/dataset/Testing/meningioma_tumor/image(120).jpg  \n",
            "  inflating: /content/dataset/Testing/meningioma_tumor/image(121).jpg  \n",
            "  inflating: /content/dataset/Testing/meningioma_tumor/image(123).jpg  \n",
            "  inflating: /content/dataset/Testing/meningioma_tumor/image(124).jpg  \n",
            "  inflating: /content/dataset/Testing/meningioma_tumor/image(125).jpg  \n",
            "  inflating: /content/dataset/Testing/meningioma_tumor/image(126).jpg  \n",
            "  inflating: /content/dataset/Testing/meningioma_tumor/image(127).jpg  \n",
            "  inflating: /content/dataset/Testing/meningioma_tumor/image(13).jpg  \n",
            "  inflating: /content/dataset/Testing/meningioma_tumor/image(14).jpg  \n",
            "  inflating: /content/dataset/Testing/meningioma_tumor/image(15).jpg  \n",
            "  inflating: /content/dataset/Testing/meningioma_tumor/image(16).jpg  \n",
            "  inflating: /content/dataset/Testing/meningioma_tumor/image(17).jpg  \n",
            "  inflating: /content/dataset/Testing/meningioma_tumor/image(18).jpg  \n",
            "  inflating: /content/dataset/Testing/meningioma_tumor/image(19).jpg  \n",
            "  inflating: /content/dataset/Testing/meningioma_tumor/image(2).jpg  \n",
            "  inflating: /content/dataset/Testing/meningioma_tumor/image(20).jpg  \n",
            "  inflating: /content/dataset/Testing/meningioma_tumor/image(21).jpg  \n",
            "  inflating: /content/dataset/Testing/meningioma_tumor/image(22).jpg  \n",
            "  inflating: /content/dataset/Testing/meningioma_tumor/image(23).jpg  \n",
            "  inflating: /content/dataset/Testing/meningioma_tumor/image(24).jpg  \n",
            "  inflating: /content/dataset/Testing/meningioma_tumor/image(25).jpg  \n",
            "  inflating: /content/dataset/Testing/meningioma_tumor/image(26).jpg  \n",
            "  inflating: /content/dataset/Testing/meningioma_tumor/image(27).jpg  \n",
            "  inflating: /content/dataset/Testing/meningioma_tumor/image(28).jpg  \n",
            "  inflating: /content/dataset/Testing/meningioma_tumor/image(29).jpg  \n",
            "  inflating: /content/dataset/Testing/meningioma_tumor/image(3).jpg  \n",
            "  inflating: /content/dataset/Testing/meningioma_tumor/image(30).jpg  \n",
            "  inflating: /content/dataset/Testing/meningioma_tumor/image(31).jpg  \n",
            "  inflating: /content/dataset/Testing/meningioma_tumor/image(32).jpg  \n",
            "  inflating: /content/dataset/Testing/meningioma_tumor/image(33).jpg  \n",
            "  inflating: /content/dataset/Testing/meningioma_tumor/image(34).jpg  \n",
            "  inflating: /content/dataset/Testing/meningioma_tumor/image(35).jpg  \n",
            "  inflating: /content/dataset/Testing/meningioma_tumor/image(36).jpg  \n",
            "  inflating: /content/dataset/Testing/meningioma_tumor/image(37).jpg  \n",
            "  inflating: /content/dataset/Testing/meningioma_tumor/image(38).jpg  \n",
            "  inflating: /content/dataset/Testing/meningioma_tumor/image(39).jpg  \n",
            "  inflating: /content/dataset/Testing/meningioma_tumor/image(4).jpg  \n",
            "  inflating: /content/dataset/Testing/meningioma_tumor/image(40).jpg  \n",
            "  inflating: /content/dataset/Testing/meningioma_tumor/image(41).jpg  \n",
            "  inflating: /content/dataset/Testing/meningioma_tumor/image(42).jpg  \n",
            "  inflating: /content/dataset/Testing/meningioma_tumor/image(43).jpg  \n",
            "  inflating: /content/dataset/Testing/meningioma_tumor/image(44).jpg  \n",
            "  inflating: /content/dataset/Testing/meningioma_tumor/image(45).jpg  \n",
            "  inflating: /content/dataset/Testing/meningioma_tumor/image(46).jpg  \n",
            "  inflating: /content/dataset/Testing/meningioma_tumor/image(47).jpg  \n",
            "  inflating: /content/dataset/Testing/meningioma_tumor/image(48).jpg  \n",
            "  inflating: /content/dataset/Testing/meningioma_tumor/image(49).jpg  \n",
            "  inflating: /content/dataset/Testing/meningioma_tumor/image(5).jpg  \n",
            "  inflating: /content/dataset/Testing/meningioma_tumor/image(50).jpg  \n",
            "  inflating: /content/dataset/Testing/meningioma_tumor/image(51).jpg  \n",
            "  inflating: /content/dataset/Testing/meningioma_tumor/image(52).jpg  \n",
            "  inflating: /content/dataset/Testing/meningioma_tumor/image(53).jpg  \n",
            "  inflating: /content/dataset/Testing/meningioma_tumor/image(54).jpg  \n",
            "  inflating: /content/dataset/Testing/meningioma_tumor/image(55).jpg  \n",
            "  inflating: /content/dataset/Testing/meningioma_tumor/image(56).jpg  \n",
            "  inflating: /content/dataset/Testing/meningioma_tumor/image(57).jpg  \n",
            "  inflating: /content/dataset/Testing/meningioma_tumor/image(58).jpg  \n",
            "  inflating: /content/dataset/Testing/meningioma_tumor/image(59).jpg  \n",
            "  inflating: /content/dataset/Testing/meningioma_tumor/image(6).jpg  \n",
            "  inflating: /content/dataset/Testing/meningioma_tumor/image(60).jpg  \n",
            "  inflating: /content/dataset/Testing/meningioma_tumor/image(61).jpg  \n",
            "  inflating: /content/dataset/Testing/meningioma_tumor/image(62).jpg  \n",
            "  inflating: /content/dataset/Testing/meningioma_tumor/image(63).jpg  \n",
            "  inflating: /content/dataset/Testing/meningioma_tumor/image(64).jpg  \n",
            "  inflating: /content/dataset/Testing/meningioma_tumor/image(65).jpg  \n",
            "  inflating: /content/dataset/Testing/meningioma_tumor/image(66).jpg  \n",
            "  inflating: /content/dataset/Testing/meningioma_tumor/image(67).jpg  \n",
            "  inflating: /content/dataset/Testing/meningioma_tumor/image(68).jpg  \n",
            "  inflating: /content/dataset/Testing/meningioma_tumor/image(69).jpg  \n",
            "  inflating: /content/dataset/Testing/meningioma_tumor/image(7).jpg  \n",
            "  inflating: /content/dataset/Testing/meningioma_tumor/image(70).jpg  \n",
            "  inflating: /content/dataset/Testing/meningioma_tumor/image(71).jpg  \n",
            "  inflating: /content/dataset/Testing/meningioma_tumor/image(72).jpg  \n",
            "  inflating: /content/dataset/Testing/meningioma_tumor/image(73).jpg  \n",
            "  inflating: /content/dataset/Testing/meningioma_tumor/image(74).jpg  \n",
            "  inflating: /content/dataset/Testing/meningioma_tumor/image(75).jpg  \n",
            "  inflating: /content/dataset/Testing/meningioma_tumor/image(76).jpg  \n",
            "  inflating: /content/dataset/Testing/meningioma_tumor/image(77).jpg  \n",
            "  inflating: /content/dataset/Testing/meningioma_tumor/image(78).jpg  \n",
            "  inflating: /content/dataset/Testing/meningioma_tumor/image(79).jpg  \n",
            "  inflating: /content/dataset/Testing/meningioma_tumor/image(8).jpg  \n",
            "  inflating: /content/dataset/Testing/meningioma_tumor/image(80).jpg  \n",
            "  inflating: /content/dataset/Testing/meningioma_tumor/image(81).jpg  \n",
            "  inflating: /content/dataset/Testing/meningioma_tumor/image(82).jpg  \n",
            "  inflating: /content/dataset/Testing/meningioma_tumor/image(83).jpg  \n",
            "  inflating: /content/dataset/Testing/meningioma_tumor/image(84).jpg  \n",
            "  inflating: /content/dataset/Testing/meningioma_tumor/image(85).jpg  \n",
            "  inflating: /content/dataset/Testing/meningioma_tumor/image(86).jpg  \n",
            "  inflating: /content/dataset/Testing/meningioma_tumor/image(87).jpg  \n",
            "  inflating: /content/dataset/Testing/meningioma_tumor/image(88).jpg  \n",
            "  inflating: /content/dataset/Testing/meningioma_tumor/image(89).jpg  \n",
            "  inflating: /content/dataset/Testing/meningioma_tumor/image(9).jpg  \n",
            "  inflating: /content/dataset/Testing/meningioma_tumor/image(90).jpg  \n",
            "  inflating: /content/dataset/Testing/meningioma_tumor/image(91).jpg  \n",
            "  inflating: /content/dataset/Testing/meningioma_tumor/image(92).jpg  \n",
            "  inflating: /content/dataset/Testing/meningioma_tumor/image(93).jpg  \n",
            "  inflating: /content/dataset/Testing/meningioma_tumor/image(94).jpg  \n",
            "  inflating: /content/dataset/Testing/meningioma_tumor/image(95).jpg  \n",
            "  inflating: /content/dataset/Testing/meningioma_tumor/image(96).jpg  \n",
            "  inflating: /content/dataset/Testing/meningioma_tumor/image(97).jpg  \n",
            "  inflating: /content/dataset/Testing/meningioma_tumor/image(98).jpg  \n",
            "  inflating: /content/dataset/Testing/meningioma_tumor/image(99).jpg  \n",
            "  inflating: /content/dataset/Testing/meningioma_tumor/image.jpg  \n",
            "  inflating: /content/dataset/Testing/no_tumor/image(1).jpg  \n",
            "  inflating: /content/dataset/Testing/no_tumor/image(10).jpg  \n",
            "  inflating: /content/dataset/Testing/no_tumor/image(100).jpg  \n",
            "  inflating: /content/dataset/Testing/no_tumor/image(101).jpg  \n",
            "  inflating: /content/dataset/Testing/no_tumor/image(102).jpg  \n",
            "  inflating: /content/dataset/Testing/no_tumor/image(103).jpg  \n",
            "  inflating: /content/dataset/Testing/no_tumor/image(104).jpg  \n",
            "  inflating: /content/dataset/Testing/no_tumor/image(11).jpg  \n",
            "  inflating: /content/dataset/Testing/no_tumor/image(12).jpg  \n",
            "  inflating: /content/dataset/Testing/no_tumor/image(13).jpg  \n",
            "  inflating: /content/dataset/Testing/no_tumor/image(14).jpg  \n",
            "  inflating: /content/dataset/Testing/no_tumor/image(15).jpg  \n",
            "  inflating: /content/dataset/Testing/no_tumor/image(16).jpg  \n",
            "  inflating: /content/dataset/Testing/no_tumor/image(17).jpg  \n",
            "  inflating: /content/dataset/Testing/no_tumor/image(18).jpg  \n",
            "  inflating: /content/dataset/Testing/no_tumor/image(19).jpg  \n",
            "  inflating: /content/dataset/Testing/no_tumor/image(2).jpg  \n",
            "  inflating: /content/dataset/Testing/no_tumor/image(20).jpg  \n",
            "  inflating: /content/dataset/Testing/no_tumor/image(21).jpg  \n",
            "  inflating: /content/dataset/Testing/no_tumor/image(22).jpg  \n",
            "  inflating: /content/dataset/Testing/no_tumor/image(23).jpg  \n",
            "  inflating: /content/dataset/Testing/no_tumor/image(24).jpg  \n",
            "  inflating: /content/dataset/Testing/no_tumor/image(25).jpg  \n",
            "  inflating: /content/dataset/Testing/no_tumor/image(26).jpg  \n",
            "  inflating: /content/dataset/Testing/no_tumor/image(27).jpg  \n",
            "  inflating: /content/dataset/Testing/no_tumor/image(28).jpg  \n",
            "  inflating: /content/dataset/Testing/no_tumor/image(29).jpg  \n",
            "  inflating: /content/dataset/Testing/no_tumor/image(3).jpg  \n",
            "  inflating: /content/dataset/Testing/no_tumor/image(30).jpg  \n",
            "  inflating: /content/dataset/Testing/no_tumor/image(31).jpg  \n",
            "  inflating: /content/dataset/Testing/no_tumor/image(32).jpg  \n",
            "  inflating: /content/dataset/Testing/no_tumor/image(33).jpg  \n",
            "  inflating: /content/dataset/Testing/no_tumor/image(34).jpg  \n",
            "  inflating: /content/dataset/Testing/no_tumor/image(35).jpg  \n",
            "  inflating: /content/dataset/Testing/no_tumor/image(36).jpg  \n",
            "  inflating: /content/dataset/Testing/no_tumor/image(37).jpg  \n",
            "  inflating: /content/dataset/Testing/no_tumor/image(38).jpg  \n",
            "  inflating: /content/dataset/Testing/no_tumor/image(39).jpg  \n",
            "  inflating: /content/dataset/Testing/no_tumor/image(4).jpg  \n",
            "  inflating: /content/dataset/Testing/no_tumor/image(40).jpg  \n",
            "  inflating: /content/dataset/Testing/no_tumor/image(41).jpg  \n",
            "  inflating: /content/dataset/Testing/no_tumor/image(42).jpg  \n",
            "  inflating: /content/dataset/Testing/no_tumor/image(43).jpg  \n",
            "  inflating: /content/dataset/Testing/no_tumor/image(44).jpg  \n",
            "  inflating: /content/dataset/Testing/no_tumor/image(45).jpg  \n",
            "  inflating: /content/dataset/Testing/no_tumor/image(46).jpg  \n",
            "  inflating: /content/dataset/Testing/no_tumor/image(47).jpg  \n",
            "  inflating: /content/dataset/Testing/no_tumor/image(48).jpg  \n",
            "  inflating: /content/dataset/Testing/no_tumor/image(49).jpg  \n",
            "  inflating: /content/dataset/Testing/no_tumor/image(5).jpg  \n",
            "  inflating: /content/dataset/Testing/no_tumor/image(50).jpg  \n",
            "  inflating: /content/dataset/Testing/no_tumor/image(51).jpg  \n",
            "  inflating: /content/dataset/Testing/no_tumor/image(52).jpg  \n",
            "  inflating: /content/dataset/Testing/no_tumor/image(53).jpg  \n",
            "  inflating: /content/dataset/Testing/no_tumor/image(54).jpg  \n",
            "  inflating: /content/dataset/Testing/no_tumor/image(55).jpg  \n",
            "  inflating: /content/dataset/Testing/no_tumor/image(56).jpg  \n",
            "  inflating: /content/dataset/Testing/no_tumor/image(57).jpg  \n",
            "  inflating: /content/dataset/Testing/no_tumor/image(58).jpg  \n",
            "  inflating: /content/dataset/Testing/no_tumor/image(59).jpg  \n",
            "  inflating: /content/dataset/Testing/no_tumor/image(6).jpg  \n",
            "  inflating: /content/dataset/Testing/no_tumor/image(60).jpg  \n",
            "  inflating: /content/dataset/Testing/no_tumor/image(61).jpg  \n",
            "  inflating: /content/dataset/Testing/no_tumor/image(62).jpg  \n",
            "  inflating: /content/dataset/Testing/no_tumor/image(63).jpg  \n",
            "  inflating: /content/dataset/Testing/no_tumor/image(64).jpg  \n",
            "  inflating: /content/dataset/Testing/no_tumor/image(65).jpg  \n",
            "  inflating: /content/dataset/Testing/no_tumor/image(66).jpg  \n",
            "  inflating: /content/dataset/Testing/no_tumor/image(67).jpg  \n",
            "  inflating: /content/dataset/Testing/no_tumor/image(68).jpg  \n",
            "  inflating: /content/dataset/Testing/no_tumor/image(69).jpg  \n",
            "  inflating: /content/dataset/Testing/no_tumor/image(7).jpg  \n",
            "  inflating: /content/dataset/Testing/no_tumor/image(70).jpg  \n",
            "  inflating: /content/dataset/Testing/no_tumor/image(71).jpg  \n",
            "  inflating: /content/dataset/Testing/no_tumor/image(72).jpg  \n",
            "  inflating: /content/dataset/Testing/no_tumor/image(73).jpg  \n",
            "  inflating: /content/dataset/Testing/no_tumor/image(74).jpg  \n",
            "  inflating: /content/dataset/Testing/no_tumor/image(75).jpg  \n",
            "  inflating: /content/dataset/Testing/no_tumor/image(76).jpg  \n",
            "  inflating: /content/dataset/Testing/no_tumor/image(77).jpg  \n",
            "  inflating: /content/dataset/Testing/no_tumor/image(78).jpg  \n",
            "  inflating: /content/dataset/Testing/no_tumor/image(79).jpg  \n",
            "  inflating: /content/dataset/Testing/no_tumor/image(8).jpg  \n",
            "  inflating: /content/dataset/Testing/no_tumor/image(80).jpg  \n",
            "  inflating: /content/dataset/Testing/no_tumor/image(81).jpg  \n",
            "  inflating: /content/dataset/Testing/no_tumor/image(82).jpg  \n",
            "  inflating: /content/dataset/Testing/no_tumor/image(83).jpg  \n",
            "  inflating: /content/dataset/Testing/no_tumor/image(84).jpg  \n",
            "  inflating: /content/dataset/Testing/no_tumor/image(85).jpg  \n",
            "  inflating: /content/dataset/Testing/no_tumor/image(86).jpg  \n",
            "  inflating: /content/dataset/Testing/no_tumor/image(87).jpg  \n",
            "  inflating: /content/dataset/Testing/no_tumor/image(88).jpg  \n",
            "  inflating: /content/dataset/Testing/no_tumor/image(89).jpg  \n",
            "  inflating: /content/dataset/Testing/no_tumor/image(9).jpg  \n",
            "  inflating: /content/dataset/Testing/no_tumor/image(90).jpg  \n",
            "  inflating: /content/dataset/Testing/no_tumor/image(91).jpg  \n",
            "  inflating: /content/dataset/Testing/no_tumor/image(92).jpg  \n",
            "  inflating: /content/dataset/Testing/no_tumor/image(93).jpg  \n",
            "  inflating: /content/dataset/Testing/no_tumor/image(94).jpg  \n",
            "  inflating: /content/dataset/Testing/no_tumor/image(95).jpg  \n",
            "  inflating: /content/dataset/Testing/no_tumor/image(96).jpg  \n",
            "  inflating: /content/dataset/Testing/no_tumor/image(97).jpg  \n",
            "  inflating: /content/dataset/Testing/no_tumor/image(98).jpg  \n",
            "  inflating: /content/dataset/Testing/no_tumor/image(99).jpg  \n",
            "  inflating: /content/dataset/Testing/no_tumor/image.jpg  \n",
            "  inflating: /content/dataset/Testing/pituitary_tumor/image(1).jpg  \n",
            "  inflating: /content/dataset/Testing/pituitary_tumor/image(10).jpg  \n",
            "  inflating: /content/dataset/Testing/pituitary_tumor/image(11).jpg  \n",
            "  inflating: /content/dataset/Testing/pituitary_tumor/image(13).jpg  \n",
            "  inflating: /content/dataset/Testing/pituitary_tumor/image(15).jpg  \n",
            "  inflating: /content/dataset/Testing/pituitary_tumor/image(18).jpg  \n",
            "  inflating: /content/dataset/Testing/pituitary_tumor/image(19).jpg  \n",
            "  inflating: /content/dataset/Testing/pituitary_tumor/image(2).jpg  \n",
            "  inflating: /content/dataset/Testing/pituitary_tumor/image(20).jpg  \n",
            "  inflating: /content/dataset/Testing/pituitary_tumor/image(21).jpg  \n",
            "  inflating: /content/dataset/Testing/pituitary_tumor/image(22).jpg  \n",
            "  inflating: /content/dataset/Testing/pituitary_tumor/image(23).jpg  \n",
            "  inflating: /content/dataset/Testing/pituitary_tumor/image(27).jpg  \n",
            "  inflating: /content/dataset/Testing/pituitary_tumor/image(28).jpg  \n",
            "  inflating: /content/dataset/Testing/pituitary_tumor/image(3).jpg  \n",
            "  inflating: /content/dataset/Testing/pituitary_tumor/image(30).jpg  \n",
            "  inflating: /content/dataset/Testing/pituitary_tumor/image(31).jpg  \n",
            "  inflating: /content/dataset/Testing/pituitary_tumor/image(34).jpg  \n",
            "  inflating: /content/dataset/Testing/pituitary_tumor/image(35).jpg  \n",
            "  inflating: /content/dataset/Testing/pituitary_tumor/image(36).jpg  \n",
            "  inflating: /content/dataset/Testing/pituitary_tumor/image(37).jpg  \n",
            "  inflating: /content/dataset/Testing/pituitary_tumor/image(38).jpg  \n",
            "  inflating: /content/dataset/Testing/pituitary_tumor/image(41).jpg  \n",
            "  inflating: /content/dataset/Testing/pituitary_tumor/image(42).jpg  \n",
            "  inflating: /content/dataset/Testing/pituitary_tumor/image(43).jpg  \n",
            "  inflating: /content/dataset/Testing/pituitary_tumor/image(44).jpg  \n",
            "  inflating: /content/dataset/Testing/pituitary_tumor/image(45).jpg  \n",
            "  inflating: /content/dataset/Testing/pituitary_tumor/image(46).jpg  \n",
            "  inflating: /content/dataset/Testing/pituitary_tumor/image(47).jpg  \n",
            "  inflating: /content/dataset/Testing/pituitary_tumor/image(48).jpg  \n",
            "  inflating: /content/dataset/Testing/pituitary_tumor/image(49).jpg  \n",
            "  inflating: /content/dataset/Testing/pituitary_tumor/image(5).jpg  \n",
            "  inflating: /content/dataset/Testing/pituitary_tumor/image(51).jpg  \n",
            "  inflating: /content/dataset/Testing/pituitary_tumor/image(52).jpg  \n",
            "  inflating: /content/dataset/Testing/pituitary_tumor/image(53).jpg  \n",
            "  inflating: /content/dataset/Testing/pituitary_tumor/image(54).jpg  \n",
            "  inflating: /content/dataset/Testing/pituitary_tumor/image(55).jpg  \n",
            "  inflating: /content/dataset/Testing/pituitary_tumor/image(56).jpg  \n",
            "  inflating: /content/dataset/Testing/pituitary_tumor/image(57).jpg  \n",
            "  inflating: /content/dataset/Testing/pituitary_tumor/image(6).jpg  \n",
            "  inflating: /content/dataset/Testing/pituitary_tumor/image(60).jpg  \n",
            "  inflating: /content/dataset/Testing/pituitary_tumor/image(61).jpg  \n",
            "  inflating: /content/dataset/Testing/pituitary_tumor/image(63).jpg  \n",
            "  inflating: /content/dataset/Testing/pituitary_tumor/image(64).jpg  \n",
            "  inflating: /content/dataset/Testing/pituitary_tumor/image(65).jpg  \n",
            "  inflating: /content/dataset/Testing/pituitary_tumor/image(66).jpg  \n",
            "  inflating: /content/dataset/Testing/pituitary_tumor/image(67).jpg  \n",
            "  inflating: /content/dataset/Testing/pituitary_tumor/image(68).jpg  \n",
            "  inflating: /content/dataset/Testing/pituitary_tumor/image(69).jpg  \n",
            "  inflating: /content/dataset/Testing/pituitary_tumor/image(7).jpg  \n",
            "  inflating: /content/dataset/Testing/pituitary_tumor/image(70).jpg  \n",
            "  inflating: /content/dataset/Testing/pituitary_tumor/image(73).jpg  \n",
            "  inflating: /content/dataset/Testing/pituitary_tumor/image(76).jpg  \n",
            "  inflating: /content/dataset/Testing/pituitary_tumor/image(77).jpg  \n",
            "  inflating: /content/dataset/Testing/pituitary_tumor/image(78).jpg  \n",
            "  inflating: /content/dataset/Testing/pituitary_tumor/image(79).jpg  \n",
            "  inflating: /content/dataset/Testing/pituitary_tumor/image(8).jpg  \n",
            "  inflating: /content/dataset/Testing/pituitary_tumor/image(81).jpg  \n",
            "  inflating: /content/dataset/Testing/pituitary_tumor/image(82).jpg  \n",
            "  inflating: /content/dataset/Testing/pituitary_tumor/image(85).jpg  \n",
            "  inflating: /content/dataset/Testing/pituitary_tumor/image(86).jpg  \n",
            "  inflating: /content/dataset/Testing/pituitary_tumor/image(87).jpg  \n",
            "  inflating: /content/dataset/Testing/pituitary_tumor/image(88).jpg  \n",
            "  inflating: /content/dataset/Testing/pituitary_tumor/image(89).jpg  \n",
            "  inflating: /content/dataset/Testing/pituitary_tumor/image(90).jpg  \n",
            "  inflating: /content/dataset/Testing/pituitary_tumor/image(91).jpg  \n",
            "  inflating: /content/dataset/Testing/pituitary_tumor/image(92).jpg  \n",
            "  inflating: /content/dataset/Testing/pituitary_tumor/image(93).jpg  \n",
            "  inflating: /content/dataset/Testing/pituitary_tumor/image(94).jpg  \n",
            "  inflating: /content/dataset/Testing/pituitary_tumor/image(95).jpg  \n",
            "  inflating: /content/dataset/Testing/pituitary_tumor/image(96).jpg  \n",
            "  inflating: /content/dataset/Testing/pituitary_tumor/image(97).jpg  \n",
            "  inflating: /content/dataset/Testing/pituitary_tumor/image(98).jpg  \n",
            "  inflating: /content/dataset/Testing/pituitary_tumor/image.jpg  \n",
            "  inflating: /content/dataset/Training/glioma_tumor/gg (1).jpg  \n",
            "  inflating: /content/dataset/Training/glioma_tumor/gg (10).jpg  \n",
            "  inflating: /content/dataset/Training/glioma_tumor/gg (100).jpg  \n",
            "  inflating: /content/dataset/Training/glioma_tumor/gg (101).jpg  \n",
            "  inflating: /content/dataset/Training/glioma_tumor/gg (102).jpg  \n",
            "  inflating: /content/dataset/Training/glioma_tumor/gg (103).jpg  \n",
            "  inflating: /content/dataset/Training/glioma_tumor/gg (104).jpg  \n",
            "  inflating: /content/dataset/Training/glioma_tumor/gg (105).jpg  \n",
            "  inflating: /content/dataset/Training/glioma_tumor/gg (106).jpg  \n",
            "  inflating: /content/dataset/Training/glioma_tumor/gg (107).jpg  \n",
            "  inflating: /content/dataset/Training/glioma_tumor/gg (108).jpg  \n",
            "  inflating: /content/dataset/Training/glioma_tumor/gg (109).jpg  \n",
            "  inflating: /content/dataset/Training/glioma_tumor/gg (11).jpg  \n",
            "  inflating: /content/dataset/Training/glioma_tumor/gg (110).jpg  \n",
            "  inflating: /content/dataset/Training/glioma_tumor/gg (111).jpg  \n",
            "  inflating: /content/dataset/Training/glioma_tumor/gg (112).jpg  \n",
            "  inflating: /content/dataset/Training/glioma_tumor/gg (113).jpg  \n",
            "  inflating: /content/dataset/Training/glioma_tumor/gg (114).jpg  \n",
            "  inflating: /content/dataset/Training/glioma_tumor/gg (115).jpg  \n",
            "  inflating: /content/dataset/Training/glioma_tumor/gg (116).jpg  \n",
            "  inflating: /content/dataset/Training/glioma_tumor/gg (117).jpg  \n",
            "  inflating: /content/dataset/Training/glioma_tumor/gg (118).jpg  \n",
            "  inflating: /content/dataset/Training/glioma_tumor/gg (119).jpg  \n",
            "  inflating: /content/dataset/Training/glioma_tumor/gg (12).jpg  \n",
            "  inflating: /content/dataset/Training/glioma_tumor/gg (120).jpg  \n",
            "  inflating: /content/dataset/Training/glioma_tumor/gg (121).jpg  \n",
            "  inflating: /content/dataset/Training/glioma_tumor/gg (122).jpg  \n",
            "  inflating: /content/dataset/Training/glioma_tumor/gg (123).jpg  \n",
            "  inflating: /content/dataset/Training/glioma_tumor/gg (124).jpg  \n",
            "  inflating: /content/dataset/Training/glioma_tumor/gg (125).jpg  \n",
            "  inflating: /content/dataset/Training/glioma_tumor/gg (126).jpg  \n",
            "  inflating: /content/dataset/Training/glioma_tumor/gg (127).jpg  \n",
            "  inflating: /content/dataset/Training/glioma_tumor/gg (128).jpg  \n",
            "  inflating: /content/dataset/Training/glioma_tumor/gg (129).jpg  \n",
            "  inflating: /content/dataset/Training/glioma_tumor/gg (13).jpg  \n",
            "  inflating: /content/dataset/Training/glioma_tumor/gg (130).jpg  \n",
            "  inflating: /content/dataset/Training/glioma_tumor/gg (131).jpg  \n",
            "  inflating: /content/dataset/Training/glioma_tumor/gg (132).jpg  \n",
            "  inflating: /content/dataset/Training/glioma_tumor/gg (133).jpg  \n",
            "  inflating: /content/dataset/Training/glioma_tumor/gg (134).jpg  \n",
            "  inflating: /content/dataset/Training/glioma_tumor/gg (135).jpg  \n",
            "  inflating: /content/dataset/Training/glioma_tumor/gg (136).jpg  \n",
            "  inflating: /content/dataset/Training/glioma_tumor/gg (137).jpg  \n",
            "  inflating: /content/dataset/Training/glioma_tumor/gg (138).jpg  \n",
            "  inflating: /content/dataset/Training/glioma_tumor/gg (139).jpg  \n",
            "  inflating: /content/dataset/Training/glioma_tumor/gg (14).jpg  \n",
            "  inflating: /content/dataset/Training/glioma_tumor/gg (140).jpg  \n",
            "  inflating: /content/dataset/Training/glioma_tumor/gg (141).jpg  \n",
            "  inflating: /content/dataset/Training/glioma_tumor/gg (142).jpg  \n",
            "  inflating: /content/dataset/Training/glioma_tumor/gg (143).jpg  \n",
            "  inflating: /content/dataset/Training/glioma_tumor/gg (144).jpg  \n",
            "  inflating: /content/dataset/Training/glioma_tumor/gg (145).jpg  \n",
            "  inflating: /content/dataset/Training/glioma_tumor/gg (146).jpg  \n",
            "  inflating: /content/dataset/Training/glioma_tumor/gg (147).jpg  \n",
            "  inflating: /content/dataset/Training/glioma_tumor/gg (148).jpg  \n",
            "  inflating: /content/dataset/Training/glioma_tumor/gg (149).jpg  \n",
            "  inflating: /content/dataset/Training/glioma_tumor/gg (15).jpg  \n",
            "  inflating: /content/dataset/Training/glioma_tumor/gg (150).jpg  \n",
            "  inflating: /content/dataset/Training/glioma_tumor/gg (151).jpg  \n",
            "  inflating: /content/dataset/Training/glioma_tumor/gg (152).jpg  \n",
            "  inflating: /content/dataset/Training/glioma_tumor/gg (153).jpg  \n",
            "  inflating: /content/dataset/Training/glioma_tumor/gg (154).jpg  \n",
            "  inflating: /content/dataset/Training/glioma_tumor/gg (155).jpg  \n",
            "  inflating: /content/dataset/Training/glioma_tumor/gg (156).jpg  \n",
            "  inflating: /content/dataset/Training/glioma_tumor/gg (157).jpg  \n",
            "  inflating: /content/dataset/Training/glioma_tumor/gg (158).jpg  \n",
            "  inflating: /content/dataset/Training/glioma_tumor/gg (159).jpg  \n",
            "  inflating: /content/dataset/Training/glioma_tumor/gg (16).jpg  \n",
            "  inflating: /content/dataset/Training/glioma_tumor/gg (160).jpg  \n",
            "  inflating: /content/dataset/Training/glioma_tumor/gg (161).jpg  \n",
            "  inflating: /content/dataset/Training/glioma_tumor/gg (162).jpg  \n",
            "  inflating: /content/dataset/Training/glioma_tumor/gg (163).jpg  \n",
            "  inflating: /content/dataset/Training/glioma_tumor/gg (164).jpg  \n",
            "  inflating: /content/dataset/Training/glioma_tumor/gg (165).jpg  \n",
            "  inflating: /content/dataset/Training/glioma_tumor/gg (166).jpg  \n",
            "  inflating: /content/dataset/Training/glioma_tumor/gg (167).jpg  \n",
            "  inflating: /content/dataset/Training/glioma_tumor/gg (168).jpg  \n",
            "  inflating: /content/dataset/Training/glioma_tumor/gg (169).jpg  \n",
            "  inflating: /content/dataset/Training/glioma_tumor/gg (17).jpg  \n",
            "  inflating: /content/dataset/Training/glioma_tumor/gg (170).jpg  \n",
            "  inflating: /content/dataset/Training/glioma_tumor/gg (171).jpg  \n",
            "  inflating: /content/dataset/Training/glioma_tumor/gg (172).jpg  \n",
            "  inflating: /content/dataset/Training/glioma_tumor/gg (173).jpg  \n",
            "  inflating: /content/dataset/Training/glioma_tumor/gg (174).jpg  \n",
            "  inflating: /content/dataset/Training/glioma_tumor/gg (175).jpg  \n",
            "  inflating: /content/dataset/Training/glioma_tumor/gg (176).jpg  \n",
            "  inflating: /content/dataset/Training/glioma_tumor/gg (177).jpg  \n",
            "  inflating: /content/dataset/Training/glioma_tumor/gg (178).jpg  \n",
            "  inflating: /content/dataset/Training/glioma_tumor/gg (179).jpg  \n",
            "  inflating: /content/dataset/Training/glioma_tumor/gg (18).jpg  \n",
            "  inflating: /content/dataset/Training/glioma_tumor/gg (180).jpg  \n",
            "  inflating: /content/dataset/Training/glioma_tumor/gg (181).jpg  \n",
            "  inflating: /content/dataset/Training/glioma_tumor/gg (182).jpg  \n",
            "  inflating: /content/dataset/Training/glioma_tumor/gg (183).jpg  \n",
            "  inflating: /content/dataset/Training/glioma_tumor/gg (184).jpg  \n",
            "  inflating: /content/dataset/Training/glioma_tumor/gg (185).jpg  \n",
            "  inflating: /content/dataset/Training/glioma_tumor/gg (186).jpg  \n",
            "  inflating: /content/dataset/Training/glioma_tumor/gg (187).jpg  \n",
            "  inflating: /content/dataset/Training/glioma_tumor/gg (188).jpg  \n",
            "  inflating: /content/dataset/Training/glioma_tumor/gg (189).jpg  \n",
            "  inflating: /content/dataset/Training/glioma_tumor/gg (19).jpg  \n",
            "  inflating: /content/dataset/Training/glioma_tumor/gg (190).jpg  \n",
            "  inflating: /content/dataset/Training/glioma_tumor/gg (191).jpg  \n",
            "  inflating: /content/dataset/Training/glioma_tumor/gg (192).jpg  \n",
            "  inflating: /content/dataset/Training/glioma_tumor/gg (193).jpg  \n",
            "  inflating: /content/dataset/Training/glioma_tumor/gg (194).jpg  \n",
            "  inflating: /content/dataset/Training/glioma_tumor/gg (195).jpg  \n",
            "  inflating: /content/dataset/Training/glioma_tumor/gg (196).jpg  \n",
            "  inflating: /content/dataset/Training/glioma_tumor/gg (197).jpg  \n",
            "  inflating: /content/dataset/Training/glioma_tumor/gg (198).jpg  \n",
            "  inflating: /content/dataset/Training/glioma_tumor/gg (199).jpg  \n",
            "  inflating: /content/dataset/Training/glioma_tumor/gg (2).jpg  \n",
            "  inflating: /content/dataset/Training/glioma_tumor/gg (20).jpg  \n",
            "  inflating: /content/dataset/Training/glioma_tumor/gg (200).jpg  \n",
            "  inflating: /content/dataset/Training/glioma_tumor/gg (201).jpg  \n",
            "  inflating: /content/dataset/Training/glioma_tumor/gg (202).jpg  \n",
            "  inflating: /content/dataset/Training/glioma_tumor/gg (203).jpg  \n",
            "  inflating: /content/dataset/Training/glioma_tumor/gg (204).jpg  \n",
            "  inflating: /content/dataset/Training/glioma_tumor/gg (205).jpg  \n",
            "  inflating: /content/dataset/Training/glioma_tumor/gg (206).jpg  \n",
            "  inflating: /content/dataset/Training/glioma_tumor/gg (207).jpg  \n",
            "  inflating: /content/dataset/Training/glioma_tumor/gg (208).jpg  \n",
            "  inflating: /content/dataset/Training/glioma_tumor/gg (209).jpg  \n",
            "  inflating: /content/dataset/Training/glioma_tumor/gg (21).jpg  \n",
            "  inflating: /content/dataset/Training/glioma_tumor/gg (210).jpg  \n",
            "  inflating: /content/dataset/Training/glioma_tumor/gg (211).jpg  \n",
            "  inflating: /content/dataset/Training/glioma_tumor/gg (212).jpg  \n",
            "  inflating: /content/dataset/Training/glioma_tumor/gg (213).jpg  \n",
            "  inflating: /content/dataset/Training/glioma_tumor/gg (214).jpg  \n",
            "  inflating: /content/dataset/Training/glioma_tumor/gg (215).jpg  \n",
            "  inflating: /content/dataset/Training/glioma_tumor/gg (216).jpg  \n",
            "  inflating: /content/dataset/Training/glioma_tumor/gg (217).jpg  \n",
            "  inflating: /content/dataset/Training/glioma_tumor/gg (218).jpg  \n",
            "  inflating: /content/dataset/Training/glioma_tumor/gg (219).jpg  \n",
            "  inflating: /content/dataset/Training/glioma_tumor/gg (22).jpg  \n",
            "  inflating: /content/dataset/Training/glioma_tumor/gg (220).jpg  \n",
            "  inflating: /content/dataset/Training/glioma_tumor/gg (221).jpg  \n",
            "  inflating: /content/dataset/Training/glioma_tumor/gg (222).jpg  \n",
            "  inflating: /content/dataset/Training/glioma_tumor/gg (223).jpg  \n",
            "  inflating: /content/dataset/Training/glioma_tumor/gg (224).jpg  \n",
            "  inflating: /content/dataset/Training/glioma_tumor/gg (225).jpg  \n",
            "  inflating: /content/dataset/Training/glioma_tumor/gg (226).jpg  \n",
            "  inflating: /content/dataset/Training/glioma_tumor/gg (227).jpg  \n",
            "  inflating: /content/dataset/Training/glioma_tumor/gg (228).jpg  \n",
            "  inflating: /content/dataset/Training/glioma_tumor/gg (229).jpg  \n",
            "  inflating: /content/dataset/Training/glioma_tumor/gg (23).jpg  \n",
            "  inflating: /content/dataset/Training/glioma_tumor/gg (230).jpg  \n",
            "  inflating: /content/dataset/Training/glioma_tumor/gg (231).jpg  \n",
            "  inflating: /content/dataset/Training/glioma_tumor/gg (232).jpg  \n",
            "  inflating: /content/dataset/Training/glioma_tumor/gg (233).jpg  \n",
            "  inflating: /content/dataset/Training/glioma_tumor/gg (234).jpg  \n",
            "  inflating: /content/dataset/Training/glioma_tumor/gg (235).jpg  \n",
            "  inflating: /content/dataset/Training/glioma_tumor/gg (236).jpg  \n",
            "  inflating: /content/dataset/Training/glioma_tumor/gg (237).jpg  \n",
            "  inflating: /content/dataset/Training/glioma_tumor/gg (238).jpg  \n",
            "  inflating: /content/dataset/Training/glioma_tumor/gg (239).jpg  \n",
            "  inflating: /content/dataset/Training/glioma_tumor/gg (24).jpg  \n",
            "  inflating: /content/dataset/Training/glioma_tumor/gg (240).jpg  \n",
            "  inflating: /content/dataset/Training/glioma_tumor/gg (241).jpg  \n",
            "  inflating: /content/dataset/Training/glioma_tumor/gg (242).jpg  \n",
            "  inflating: /content/dataset/Training/glioma_tumor/gg (243).jpg  \n",
            "  inflating: /content/dataset/Training/glioma_tumor/gg (244).jpg  \n",
            "  inflating: /content/dataset/Training/glioma_tumor/gg (245).jpg  \n",
            "  inflating: /content/dataset/Training/glioma_tumor/gg (246).jpg  \n",
            "  inflating: /content/dataset/Training/glioma_tumor/gg (247).jpg  \n",
            "  inflating: /content/dataset/Training/glioma_tumor/gg (248).jpg  \n",
            "  inflating: /content/dataset/Training/glioma_tumor/gg (249).jpg  \n",
            "  inflating: /content/dataset/Training/glioma_tumor/gg (25).jpg  \n",
            "  inflating: /content/dataset/Training/glioma_tumor/gg (250).jpg  \n",
            "  inflating: /content/dataset/Training/glioma_tumor/gg (251).jpg  \n",
            "  inflating: /content/dataset/Training/glioma_tumor/gg (252).jpg  \n",
            "  inflating: /content/dataset/Training/glioma_tumor/gg (253).jpg  \n",
            "  inflating: /content/dataset/Training/glioma_tumor/gg (254).jpg  \n",
            "  inflating: /content/dataset/Training/glioma_tumor/gg (255).jpg  \n",
            "  inflating: /content/dataset/Training/glioma_tumor/gg (256).jpg  \n",
            "  inflating: /content/dataset/Training/glioma_tumor/gg (257).jpg  \n",
            "  inflating: /content/dataset/Training/glioma_tumor/gg (258).jpg  \n",
            "  inflating: /content/dataset/Training/glioma_tumor/gg (259).jpg  \n",
            "  inflating: /content/dataset/Training/glioma_tumor/gg (26).jpg  \n",
            "  inflating: /content/dataset/Training/glioma_tumor/gg (260).jpg  \n",
            "  inflating: /content/dataset/Training/glioma_tumor/gg (261).jpg  \n",
            "  inflating: /content/dataset/Training/glioma_tumor/gg (262).jpg  \n",
            "  inflating: /content/dataset/Training/glioma_tumor/gg (263).jpg  \n",
            "  inflating: /content/dataset/Training/glioma_tumor/gg (264).jpg  \n",
            "  inflating: /content/dataset/Training/glioma_tumor/gg (265).jpg  \n",
            "  inflating: /content/dataset/Training/glioma_tumor/gg (266).jpg  \n",
            "  inflating: /content/dataset/Training/glioma_tumor/gg (267).jpg  \n",
            "  inflating: /content/dataset/Training/glioma_tumor/gg (268).jpg  \n",
            "  inflating: /content/dataset/Training/glioma_tumor/gg (269).jpg  \n",
            "  inflating: /content/dataset/Training/glioma_tumor/gg (27).jpg  \n",
            "  inflating: /content/dataset/Training/glioma_tumor/gg (270).jpg  \n",
            "  inflating: /content/dataset/Training/glioma_tumor/gg (271).jpg  \n",
            "  inflating: /content/dataset/Training/glioma_tumor/gg (272).jpg  \n",
            "  inflating: /content/dataset/Training/glioma_tumor/gg (273).jpg  \n",
            "  inflating: /content/dataset/Training/glioma_tumor/gg (274).jpg  \n",
            "  inflating: /content/dataset/Training/glioma_tumor/gg (275).jpg  \n",
            "  inflating: /content/dataset/Training/glioma_tumor/gg (276).jpg  \n",
            "  inflating: /content/dataset/Training/glioma_tumor/gg (277).jpg  \n",
            "  inflating: /content/dataset/Training/glioma_tumor/gg (278).jpg  \n",
            "  inflating: /content/dataset/Training/glioma_tumor/gg (279).jpg  \n",
            "  inflating: /content/dataset/Training/glioma_tumor/gg (28).jpg  \n",
            "  inflating: /content/dataset/Training/glioma_tumor/gg (280).jpg  \n",
            "  inflating: /content/dataset/Training/glioma_tumor/gg (281).jpg  \n",
            "  inflating: /content/dataset/Training/glioma_tumor/gg (282).jpg  \n",
            "  inflating: /content/dataset/Training/glioma_tumor/gg (283).jpg  \n",
            "  inflating: /content/dataset/Training/glioma_tumor/gg (284).jpg  \n",
            "  inflating: /content/dataset/Training/glioma_tumor/gg (285).jpg  \n",
            "  inflating: /content/dataset/Training/glioma_tumor/gg (286).jpg  \n",
            "  inflating: /content/dataset/Training/glioma_tumor/gg (287).jpg  \n",
            "  inflating: /content/dataset/Training/glioma_tumor/gg (288).jpg  \n",
            "  inflating: /content/dataset/Training/glioma_tumor/gg (289).jpg  \n",
            "  inflating: /content/dataset/Training/glioma_tumor/gg (29).jpg  \n",
            "  inflating: /content/dataset/Training/glioma_tumor/gg (290).jpg  \n",
            "  inflating: /content/dataset/Training/glioma_tumor/gg (291).jpg  \n",
            "  inflating: /content/dataset/Training/glioma_tumor/gg (292).jpg  \n",
            "  inflating: /content/dataset/Training/glioma_tumor/gg (293).jpg  \n",
            "  inflating: /content/dataset/Training/glioma_tumor/gg (294).jpg  \n",
            "  inflating: /content/dataset/Training/glioma_tumor/gg (295).jpg  \n",
            "  inflating: /content/dataset/Training/glioma_tumor/gg (296).jpg  \n",
            "  inflating: /content/dataset/Training/glioma_tumor/gg (297).jpg  \n",
            "  inflating: /content/dataset/Training/glioma_tumor/gg (298).jpg  \n",
            "  inflating: /content/dataset/Training/glioma_tumor/gg (299).jpg  \n",
            "  inflating: /content/dataset/Training/glioma_tumor/gg (3).jpg  \n",
            "  inflating: /content/dataset/Training/glioma_tumor/gg (30).jpg  \n",
            "  inflating: /content/dataset/Training/glioma_tumor/gg (300).jpg  \n",
            "  inflating: /content/dataset/Training/glioma_tumor/gg (301).jpg  \n",
            "  inflating: /content/dataset/Training/glioma_tumor/gg (302).jpg  \n",
            "  inflating: /content/dataset/Training/glioma_tumor/gg (303).jpg  \n",
            "  inflating: /content/dataset/Training/glioma_tumor/gg (304).jpg  \n",
            "  inflating: /content/dataset/Training/glioma_tumor/gg (305).jpg  \n",
            "  inflating: /content/dataset/Training/glioma_tumor/gg (306).jpg  \n",
            "  inflating: /content/dataset/Training/glioma_tumor/gg (307).jpg  \n",
            "  inflating: /content/dataset/Training/glioma_tumor/gg (308).jpg  \n",
            "  inflating: /content/dataset/Training/glioma_tumor/gg (309).jpg  \n",
            "  inflating: /content/dataset/Training/glioma_tumor/gg (31).jpg  \n",
            "  inflating: /content/dataset/Training/glioma_tumor/gg (310).jpg  \n",
            "  inflating: /content/dataset/Training/glioma_tumor/gg (311).jpg  \n",
            "  inflating: /content/dataset/Training/glioma_tumor/gg (312).jpg  \n",
            "  inflating: /content/dataset/Training/glioma_tumor/gg (313).jpg  \n",
            "  inflating: /content/dataset/Training/glioma_tumor/gg (314).jpg  \n",
            "  inflating: /content/dataset/Training/glioma_tumor/gg (315).jpg  \n",
            "  inflating: /content/dataset/Training/glioma_tumor/gg (316).jpg  \n",
            "  inflating: /content/dataset/Training/glioma_tumor/gg (317).jpg  \n",
            "  inflating: /content/dataset/Training/glioma_tumor/gg (318).jpg  \n",
            "  inflating: /content/dataset/Training/glioma_tumor/gg (319).jpg  \n",
            "  inflating: /content/dataset/Training/glioma_tumor/gg (32).jpg  \n",
            "  inflating: /content/dataset/Training/glioma_tumor/gg (320).jpg  \n",
            "  inflating: /content/dataset/Training/glioma_tumor/gg (321).jpg  \n",
            "  inflating: /content/dataset/Training/glioma_tumor/gg (322).jpg  \n",
            "  inflating: /content/dataset/Training/glioma_tumor/gg (323).jpg  \n",
            "  inflating: /content/dataset/Training/glioma_tumor/gg (324).jpg  \n",
            "  inflating: /content/dataset/Training/glioma_tumor/gg (325).jpg  \n",
            "  inflating: /content/dataset/Training/glioma_tumor/gg (326).jpg  \n",
            "  inflating: /content/dataset/Training/glioma_tumor/gg (327).jpg  \n",
            "  inflating: /content/dataset/Training/glioma_tumor/gg (328).jpg  \n",
            "  inflating: /content/dataset/Training/glioma_tumor/gg (329).jpg  \n",
            "  inflating: /content/dataset/Training/glioma_tumor/gg (33).jpg  \n",
            "  inflating: /content/dataset/Training/glioma_tumor/gg (330).jpg  \n",
            "  inflating: /content/dataset/Training/glioma_tumor/gg (331).jpg  \n",
            "  inflating: /content/dataset/Training/glioma_tumor/gg (332).jpg  \n",
            "  inflating: /content/dataset/Training/glioma_tumor/gg (333).jpg  \n",
            "  inflating: /content/dataset/Training/glioma_tumor/gg (334).jpg  \n",
            "  inflating: /content/dataset/Training/glioma_tumor/gg (335).jpg  \n",
            "  inflating: /content/dataset/Training/glioma_tumor/gg (336).jpg  \n",
            "  inflating: /content/dataset/Training/glioma_tumor/gg (337).jpg  \n",
            "  inflating: /content/dataset/Training/glioma_tumor/gg (338).jpg  \n",
            "  inflating: /content/dataset/Training/glioma_tumor/gg (339).jpg  \n",
            "  inflating: /content/dataset/Training/glioma_tumor/gg (34).jpg  \n",
            "  inflating: /content/dataset/Training/glioma_tumor/gg (340).jpg  \n",
            "  inflating: /content/dataset/Training/glioma_tumor/gg (341).jpg  \n",
            "  inflating: /content/dataset/Training/glioma_tumor/gg (342).jpg  \n",
            "  inflating: /content/dataset/Training/glioma_tumor/gg (343).jpg  \n",
            "  inflating: /content/dataset/Training/glioma_tumor/gg (344).jpg  \n",
            "  inflating: /content/dataset/Training/glioma_tumor/gg (345).jpg  \n",
            "  inflating: /content/dataset/Training/glioma_tumor/gg (346).jpg  \n",
            "  inflating: /content/dataset/Training/glioma_tumor/gg (347).jpg  \n",
            "  inflating: /content/dataset/Training/glioma_tumor/gg (348).jpg  \n",
            "  inflating: /content/dataset/Training/glioma_tumor/gg (349).jpg  \n",
            "  inflating: /content/dataset/Training/glioma_tumor/gg (35).jpg  \n",
            "  inflating: /content/dataset/Training/glioma_tumor/gg (350).jpg  \n",
            "  inflating: /content/dataset/Training/glioma_tumor/gg (351).jpg  \n",
            "  inflating: /content/dataset/Training/glioma_tumor/gg (352).jpg  \n",
            "  inflating: /content/dataset/Training/glioma_tumor/gg (353).jpg  \n",
            "  inflating: /content/dataset/Training/glioma_tumor/gg (354).jpg  \n",
            "  inflating: /content/dataset/Training/glioma_tumor/gg (355).jpg  \n",
            "  inflating: /content/dataset/Training/glioma_tumor/gg (356).jpg  \n",
            "  inflating: /content/dataset/Training/glioma_tumor/gg (357).jpg  \n",
            "  inflating: /content/dataset/Training/glioma_tumor/gg (358).jpg  \n",
            "  inflating: /content/dataset/Training/glioma_tumor/gg (359).jpg  \n",
            "  inflating: /content/dataset/Training/glioma_tumor/gg (36).jpg  \n",
            "  inflating: /content/dataset/Training/glioma_tumor/gg (360).jpg  \n",
            "  inflating: /content/dataset/Training/glioma_tumor/gg (361).jpg  \n",
            "  inflating: /content/dataset/Training/glioma_tumor/gg (362).jpg  \n",
            "  inflating: /content/dataset/Training/glioma_tumor/gg (363).jpg  \n",
            "  inflating: /content/dataset/Training/glioma_tumor/gg (364).jpg  \n",
            "  inflating: /content/dataset/Training/glioma_tumor/gg (365).jpg  \n",
            "  inflating: /content/dataset/Training/glioma_tumor/gg (366).jpg  \n",
            "  inflating: /content/dataset/Training/glioma_tumor/gg (367).jpg  \n",
            "  inflating: /content/dataset/Training/glioma_tumor/gg (368).jpg  \n",
            "  inflating: /content/dataset/Training/glioma_tumor/gg (369).jpg  \n",
            "  inflating: /content/dataset/Training/glioma_tumor/gg (37).jpg  \n",
            "  inflating: /content/dataset/Training/glioma_tumor/gg (370).jpg  \n",
            "  inflating: /content/dataset/Training/glioma_tumor/gg (371).jpg  \n",
            "  inflating: /content/dataset/Training/glioma_tumor/gg (372).jpg  \n",
            "  inflating: /content/dataset/Training/glioma_tumor/gg (373).jpg  \n",
            "  inflating: /content/dataset/Training/glioma_tumor/gg (374).jpg  \n",
            "  inflating: /content/dataset/Training/glioma_tumor/gg (375).jpg  \n",
            "  inflating: /content/dataset/Training/glioma_tumor/gg (376).jpg  \n",
            "  inflating: /content/dataset/Training/glioma_tumor/gg (377).jpg  \n",
            "  inflating: /content/dataset/Training/glioma_tumor/gg (378).jpg  \n",
            "  inflating: /content/dataset/Training/glioma_tumor/gg (379).jpg  \n",
            "  inflating: /content/dataset/Training/glioma_tumor/gg (38).jpg  \n",
            "  inflating: /content/dataset/Training/glioma_tumor/gg (380).jpg  \n",
            "  inflating: /content/dataset/Training/glioma_tumor/gg (381).jpg  \n",
            "  inflating: /content/dataset/Training/glioma_tumor/gg (382).jpg  \n",
            "  inflating: /content/dataset/Training/glioma_tumor/gg (383).jpg  \n",
            "  inflating: /content/dataset/Training/glioma_tumor/gg (384).jpg  \n",
            "  inflating: /content/dataset/Training/glioma_tumor/gg (385).jpg  \n",
            "  inflating: /content/dataset/Training/glioma_tumor/gg (386).jpg  \n",
            "  inflating: /content/dataset/Training/glioma_tumor/gg (387).jpg  \n",
            "  inflating: /content/dataset/Training/glioma_tumor/gg (388).jpg  \n",
            "  inflating: /content/dataset/Training/glioma_tumor/gg (389).jpg  \n",
            "  inflating: /content/dataset/Training/glioma_tumor/gg (39).jpg  \n",
            "  inflating: /content/dataset/Training/glioma_tumor/gg (390).jpg  \n",
            "  inflating: /content/dataset/Training/glioma_tumor/gg (391).jpg  \n",
            "  inflating: /content/dataset/Training/glioma_tumor/gg (392).jpg  \n",
            "  inflating: /content/dataset/Training/glioma_tumor/gg (393).jpg  \n",
            "  inflating: /content/dataset/Training/glioma_tumor/gg (394).jpg  \n",
            "  inflating: /content/dataset/Training/glioma_tumor/gg (395).jpg  \n",
            "  inflating: /content/dataset/Training/glioma_tumor/gg (396).jpg  \n",
            "  inflating: /content/dataset/Training/glioma_tumor/gg (397).jpg  \n",
            "  inflating: /content/dataset/Training/glioma_tumor/gg (398).jpg  \n",
            "  inflating: /content/dataset/Training/glioma_tumor/gg (399).jpg  \n",
            "  inflating: /content/dataset/Training/glioma_tumor/gg (4).jpg  \n",
            "  inflating: /content/dataset/Training/glioma_tumor/gg (40).jpg  \n",
            "  inflating: /content/dataset/Training/glioma_tumor/gg (400).jpg  \n",
            "  inflating: /content/dataset/Training/glioma_tumor/gg (401).jpg  \n",
            "  inflating: /content/dataset/Training/glioma_tumor/gg (402).jpg  \n",
            "  inflating: /content/dataset/Training/glioma_tumor/gg (403).jpg  \n",
            "  inflating: /content/dataset/Training/glioma_tumor/gg (404).jpg  \n",
            "  inflating: /content/dataset/Training/glioma_tumor/gg (405).jpg  \n",
            "  inflating: /content/dataset/Training/glioma_tumor/gg (406).jpg  \n",
            "  inflating: /content/dataset/Training/glioma_tumor/gg (407).jpg  \n",
            "  inflating: /content/dataset/Training/glioma_tumor/gg (408).jpg  \n",
            "  inflating: /content/dataset/Training/glioma_tumor/gg (409).jpg  \n",
            "  inflating: /content/dataset/Training/glioma_tumor/gg (41).jpg  \n",
            "  inflating: /content/dataset/Training/glioma_tumor/gg (410).jpg  \n",
            "  inflating: /content/dataset/Training/glioma_tumor/gg (411).jpg  \n",
            "  inflating: /content/dataset/Training/glioma_tumor/gg (412).jpg  \n",
            "  inflating: /content/dataset/Training/glioma_tumor/gg (413).jpg  \n",
            "  inflating: /content/dataset/Training/glioma_tumor/gg (414).jpg  \n",
            "  inflating: /content/dataset/Training/glioma_tumor/gg (415).jpg  \n",
            "  inflating: /content/dataset/Training/glioma_tumor/gg (416).jpg  \n",
            "  inflating: /content/dataset/Training/glioma_tumor/gg (417).jpg  \n",
            "  inflating: /content/dataset/Training/glioma_tumor/gg (418).jpg  \n",
            "  inflating: /content/dataset/Training/glioma_tumor/gg (419).jpg  \n",
            "  inflating: /content/dataset/Training/glioma_tumor/gg (42).jpg  \n",
            "  inflating: /content/dataset/Training/glioma_tumor/gg (420).jpg  \n",
            "  inflating: /content/dataset/Training/glioma_tumor/gg (421).jpg  \n",
            "  inflating: /content/dataset/Training/glioma_tumor/gg (422).jpg  \n",
            "  inflating: /content/dataset/Training/glioma_tumor/gg (423).jpg  \n",
            "  inflating: /content/dataset/Training/glioma_tumor/gg (424).jpg  \n",
            "  inflating: /content/dataset/Training/glioma_tumor/gg (425).jpg  \n",
            "  inflating: /content/dataset/Training/glioma_tumor/gg (426).jpg  \n",
            "  inflating: /content/dataset/Training/glioma_tumor/gg (427).jpg  \n",
            "  inflating: /content/dataset/Training/glioma_tumor/gg (428).jpg  \n",
            "  inflating: /content/dataset/Training/glioma_tumor/gg (429).jpg  \n",
            "  inflating: /content/dataset/Training/glioma_tumor/gg (43).jpg  \n",
            "  inflating: /content/dataset/Training/glioma_tumor/gg (430).jpg  \n",
            "  inflating: /content/dataset/Training/glioma_tumor/gg (431).jpg  \n",
            "  inflating: /content/dataset/Training/glioma_tumor/gg (432).jpg  \n",
            "  inflating: /content/dataset/Training/glioma_tumor/gg (433).jpg  \n",
            "  inflating: /content/dataset/Training/glioma_tumor/gg (434).jpg  \n",
            "  inflating: /content/dataset/Training/glioma_tumor/gg (435).jpg  \n",
            "  inflating: /content/dataset/Training/glioma_tumor/gg (436).jpg  \n",
            "  inflating: /content/dataset/Training/glioma_tumor/gg (437).jpg  \n",
            "  inflating: /content/dataset/Training/glioma_tumor/gg (438).jpg  \n",
            "  inflating: /content/dataset/Training/glioma_tumor/gg (439).jpg  \n",
            "  inflating: /content/dataset/Training/glioma_tumor/gg (44).jpg  \n",
            "  inflating: /content/dataset/Training/glioma_tumor/gg (440).jpg  \n",
            "  inflating: /content/dataset/Training/glioma_tumor/gg (441).jpg  \n",
            "  inflating: /content/dataset/Training/glioma_tumor/gg (442).jpg  \n",
            "  inflating: /content/dataset/Training/glioma_tumor/gg (443).jpg  \n",
            "  inflating: /content/dataset/Training/glioma_tumor/gg (444).jpg  \n",
            "  inflating: /content/dataset/Training/glioma_tumor/gg (445).jpg  \n",
            "  inflating: /content/dataset/Training/glioma_tumor/gg (446).jpg  \n",
            "  inflating: /content/dataset/Training/glioma_tumor/gg (447).jpg  \n",
            "  inflating: /content/dataset/Training/glioma_tumor/gg (448).jpg  \n",
            "  inflating: /content/dataset/Training/glioma_tumor/gg (449).jpg  \n",
            "  inflating: /content/dataset/Training/glioma_tumor/gg (45).jpg  \n",
            "  inflating: /content/dataset/Training/glioma_tumor/gg (450).jpg  \n",
            "  inflating: /content/dataset/Training/glioma_tumor/gg (451).jpg  \n",
            "  inflating: /content/dataset/Training/glioma_tumor/gg (452).jpg  \n",
            "  inflating: /content/dataset/Training/glioma_tumor/gg (453).jpg  \n",
            "  inflating: /content/dataset/Training/glioma_tumor/gg (454).jpg  \n",
            "  inflating: /content/dataset/Training/glioma_tumor/gg (455).jpg  \n",
            "  inflating: /content/dataset/Training/glioma_tumor/gg (456).jpg  \n",
            "  inflating: /content/dataset/Training/glioma_tumor/gg (457).jpg  \n",
            "  inflating: /content/dataset/Training/glioma_tumor/gg (458).jpg  \n",
            "  inflating: /content/dataset/Training/glioma_tumor/gg (459).jpg  \n",
            "  inflating: /content/dataset/Training/glioma_tumor/gg (46).jpg  \n",
            "  inflating: /content/dataset/Training/glioma_tumor/gg (460).jpg  \n",
            "  inflating: /content/dataset/Training/glioma_tumor/gg (461).jpg  \n",
            "  inflating: /content/dataset/Training/glioma_tumor/gg (462).jpg  \n",
            "  inflating: /content/dataset/Training/glioma_tumor/gg (463).jpg  \n",
            "  inflating: /content/dataset/Training/glioma_tumor/gg (464).jpg  \n",
            "  inflating: /content/dataset/Training/glioma_tumor/gg (465).jpg  \n",
            "  inflating: /content/dataset/Training/glioma_tumor/gg (466).jpg  \n",
            "  inflating: /content/dataset/Training/glioma_tumor/gg (467).jpg  \n",
            "  inflating: /content/dataset/Training/glioma_tumor/gg (468).jpg  \n",
            "  inflating: /content/dataset/Training/glioma_tumor/gg (469).jpg  \n",
            "  inflating: /content/dataset/Training/glioma_tumor/gg (47).jpg  \n",
            "  inflating: /content/dataset/Training/glioma_tumor/gg (470).jpg  \n",
            "  inflating: /content/dataset/Training/glioma_tumor/gg (471).jpg  \n",
            "  inflating: /content/dataset/Training/glioma_tumor/gg (472).jpg  \n",
            "  inflating: /content/dataset/Training/glioma_tumor/gg (473).jpg  \n",
            "  inflating: /content/dataset/Training/glioma_tumor/gg (474).jpg  \n",
            "  inflating: /content/dataset/Training/glioma_tumor/gg (475).jpg  \n",
            "  inflating: /content/dataset/Training/glioma_tumor/gg (476).jpg  \n",
            "  inflating: /content/dataset/Training/glioma_tumor/gg (477).jpg  \n",
            "  inflating: /content/dataset/Training/glioma_tumor/gg (478).jpg  \n",
            "  inflating: /content/dataset/Training/glioma_tumor/gg (479).jpg  \n",
            "  inflating: /content/dataset/Training/glioma_tumor/gg (48).jpg  \n",
            "  inflating: /content/dataset/Training/glioma_tumor/gg (480).jpg  \n",
            "  inflating: /content/dataset/Training/glioma_tumor/gg (481).jpg  \n",
            "  inflating: /content/dataset/Training/glioma_tumor/gg (482).jpg  \n",
            "  inflating: /content/dataset/Training/glioma_tumor/gg (483).jpg  \n",
            "  inflating: /content/dataset/Training/glioma_tumor/gg (484).jpg  \n",
            "  inflating: /content/dataset/Training/glioma_tumor/gg (485).jpg  \n",
            "  inflating: /content/dataset/Training/glioma_tumor/gg (486).jpg  \n",
            "  inflating: /content/dataset/Training/glioma_tumor/gg (487).jpg  \n",
            "  inflating: /content/dataset/Training/glioma_tumor/gg (488).jpg  \n",
            "  inflating: /content/dataset/Training/glioma_tumor/gg (489).jpg  \n",
            "  inflating: /content/dataset/Training/glioma_tumor/gg (49).jpg  \n",
            "  inflating: /content/dataset/Training/glioma_tumor/gg (490).jpg  \n",
            "  inflating: /content/dataset/Training/glioma_tumor/gg (491).jpg  \n",
            "  inflating: /content/dataset/Training/glioma_tumor/gg (492).jpg  \n",
            "  inflating: /content/dataset/Training/glioma_tumor/gg (493).jpg  \n",
            "  inflating: /content/dataset/Training/glioma_tumor/gg (494).jpg  \n",
            "  inflating: /content/dataset/Training/glioma_tumor/gg (495).jpg  \n",
            "  inflating: /content/dataset/Training/glioma_tumor/gg (496).jpg  \n",
            "  inflating: /content/dataset/Training/glioma_tumor/gg (497).jpg  \n",
            "  inflating: /content/dataset/Training/glioma_tumor/gg (498).jpg  \n",
            "  inflating: /content/dataset/Training/glioma_tumor/gg (499).jpg  \n",
            "  inflating: /content/dataset/Training/glioma_tumor/gg (5).jpg  \n",
            "  inflating: /content/dataset/Training/glioma_tumor/gg (50).jpg  \n",
            "  inflating: /content/dataset/Training/glioma_tumor/gg (500).jpg  \n",
            "  inflating: /content/dataset/Training/glioma_tumor/gg (501).jpg  \n",
            "  inflating: /content/dataset/Training/glioma_tumor/gg (502).jpg  \n",
            "  inflating: /content/dataset/Training/glioma_tumor/gg (503).jpg  \n",
            "  inflating: /content/dataset/Training/glioma_tumor/gg (504).jpg  \n",
            "  inflating: /content/dataset/Training/glioma_tumor/gg (505).jpg  \n",
            "  inflating: /content/dataset/Training/glioma_tumor/gg (506).jpg  \n",
            "  inflating: /content/dataset/Training/glioma_tumor/gg (507).jpg  \n",
            "  inflating: /content/dataset/Training/glioma_tumor/gg (508).jpg  \n",
            "  inflating: /content/dataset/Training/glioma_tumor/gg (509).jpg  \n",
            "  inflating: /content/dataset/Training/glioma_tumor/gg (51).jpg  \n",
            "  inflating: /content/dataset/Training/glioma_tumor/gg (510).jpg  \n",
            "  inflating: /content/dataset/Training/glioma_tumor/gg (511).jpg  \n",
            "  inflating: /content/dataset/Training/glioma_tumor/gg (512).jpg  \n",
            "  inflating: /content/dataset/Training/glioma_tumor/gg (513).jpg  \n",
            "  inflating: /content/dataset/Training/glioma_tumor/gg (514).jpg  \n",
            "  inflating: /content/dataset/Training/glioma_tumor/gg (515).jpg  \n",
            "  inflating: /content/dataset/Training/glioma_tumor/gg (516).jpg  \n",
            "  inflating: /content/dataset/Training/glioma_tumor/gg (517).jpg  \n",
            "  inflating: /content/dataset/Training/glioma_tumor/gg (518).jpg  \n",
            "  inflating: /content/dataset/Training/glioma_tumor/gg (519).jpg  \n",
            "  inflating: /content/dataset/Training/glioma_tumor/gg (52).jpg  \n",
            "  inflating: /content/dataset/Training/glioma_tumor/gg (520).jpg  \n",
            "  inflating: /content/dataset/Training/glioma_tumor/gg (521).jpg  \n",
            "  inflating: /content/dataset/Training/glioma_tumor/gg (522).jpg  \n",
            "  inflating: /content/dataset/Training/glioma_tumor/gg (523).jpg  \n",
            "  inflating: /content/dataset/Training/glioma_tumor/gg (524).jpg  \n",
            "  inflating: /content/dataset/Training/glioma_tumor/gg (525).jpg  \n",
            "  inflating: /content/dataset/Training/glioma_tumor/gg (526).jpg  \n",
            "  inflating: /content/dataset/Training/glioma_tumor/gg (527).jpg  \n",
            "  inflating: /content/dataset/Training/glioma_tumor/gg (528).jpg  \n",
            "  inflating: /content/dataset/Training/glioma_tumor/gg (529).jpg  \n",
            "  inflating: /content/dataset/Training/glioma_tumor/gg (53).jpg  \n",
            "  inflating: /content/dataset/Training/glioma_tumor/gg (530).jpg  \n",
            "  inflating: /content/dataset/Training/glioma_tumor/gg (531).jpg  \n",
            "  inflating: /content/dataset/Training/glioma_tumor/gg (532).jpg  \n",
            "  inflating: /content/dataset/Training/glioma_tumor/gg (533).jpg  \n",
            "  inflating: /content/dataset/Training/glioma_tumor/gg (534).jpg  \n",
            "  inflating: /content/dataset/Training/glioma_tumor/gg (535).jpg  \n",
            "  inflating: /content/dataset/Training/glioma_tumor/gg (536).jpg  \n",
            "  inflating: /content/dataset/Training/glioma_tumor/gg (537).jpg  \n",
            "  inflating: /content/dataset/Training/glioma_tumor/gg (538).jpg  \n",
            "  inflating: /content/dataset/Training/glioma_tumor/gg (539).jpg  \n",
            "  inflating: /content/dataset/Training/glioma_tumor/gg (54).jpg  \n",
            "  inflating: /content/dataset/Training/glioma_tumor/gg (540).jpg  \n",
            "  inflating: /content/dataset/Training/glioma_tumor/gg (541).jpg  \n",
            "  inflating: /content/dataset/Training/glioma_tumor/gg (542).jpg  \n",
            "  inflating: /content/dataset/Training/glioma_tumor/gg (543).jpg  \n",
            "  inflating: /content/dataset/Training/glioma_tumor/gg (544).jpg  \n",
            "  inflating: /content/dataset/Training/glioma_tumor/gg (545).jpg  \n",
            "  inflating: /content/dataset/Training/glioma_tumor/gg (546).jpg  \n",
            "  inflating: /content/dataset/Training/glioma_tumor/gg (547).jpg  \n",
            "  inflating: /content/dataset/Training/glioma_tumor/gg (548).jpg  \n",
            "  inflating: /content/dataset/Training/glioma_tumor/gg (549).jpg  \n",
            "  inflating: /content/dataset/Training/glioma_tumor/gg (55).jpg  \n",
            "  inflating: /content/dataset/Training/glioma_tumor/gg (550).jpg  \n",
            "  inflating: /content/dataset/Training/glioma_tumor/gg (551).jpg  \n",
            "  inflating: /content/dataset/Training/glioma_tumor/gg (552).jpg  \n",
            "  inflating: /content/dataset/Training/glioma_tumor/gg (553).jpg  \n",
            "  inflating: /content/dataset/Training/glioma_tumor/gg (554).jpg  \n",
            "  inflating: /content/dataset/Training/glioma_tumor/gg (555).jpg  \n",
            "  inflating: /content/dataset/Training/glioma_tumor/gg (556).jpg  \n",
            "  inflating: /content/dataset/Training/glioma_tumor/gg (557).jpg  \n",
            "  inflating: /content/dataset/Training/glioma_tumor/gg (558).jpg  \n",
            "  inflating: /content/dataset/Training/glioma_tumor/gg (559).jpg  \n",
            "  inflating: /content/dataset/Training/glioma_tumor/gg (56).jpg  \n",
            "  inflating: /content/dataset/Training/glioma_tumor/gg (560).jpg  \n",
            "  inflating: /content/dataset/Training/glioma_tumor/gg (561).jpg  \n",
            "  inflating: /content/dataset/Training/glioma_tumor/gg (562).jpg  \n",
            "  inflating: /content/dataset/Training/glioma_tumor/gg (563).jpg  \n",
            "  inflating: /content/dataset/Training/glioma_tumor/gg (564).jpg  \n",
            "  inflating: /content/dataset/Training/glioma_tumor/gg (565).jpg  \n",
            "  inflating: /content/dataset/Training/glioma_tumor/gg (566).jpg  \n",
            "  inflating: /content/dataset/Training/glioma_tumor/gg (567).jpg  \n",
            "  inflating: /content/dataset/Training/glioma_tumor/gg (568).jpg  \n",
            "  inflating: /content/dataset/Training/glioma_tumor/gg (569).jpg  \n",
            "  inflating: /content/dataset/Training/glioma_tumor/gg (57).jpg  \n",
            "  inflating: /content/dataset/Training/glioma_tumor/gg (570).jpg  \n",
            "  inflating: /content/dataset/Training/glioma_tumor/gg (571).jpg  \n",
            "  inflating: /content/dataset/Training/glioma_tumor/gg (572).jpg  \n",
            "  inflating: /content/dataset/Training/glioma_tumor/gg (573).jpg  \n",
            "  inflating: /content/dataset/Training/glioma_tumor/gg (574).jpg  \n",
            "  inflating: /content/dataset/Training/glioma_tumor/gg (575).jpg  \n",
            "  inflating: /content/dataset/Training/glioma_tumor/gg (576).jpg  \n",
            "  inflating: /content/dataset/Training/glioma_tumor/gg (577).jpg  \n",
            "  inflating: /content/dataset/Training/glioma_tumor/gg (578).jpg  \n",
            "  inflating: /content/dataset/Training/glioma_tumor/gg (579).jpg  \n",
            "  inflating: /content/dataset/Training/glioma_tumor/gg (58).jpg  \n",
            "  inflating: /content/dataset/Training/glioma_tumor/gg (580).jpg  \n",
            "  inflating: /content/dataset/Training/glioma_tumor/gg (581).jpg  \n",
            "  inflating: /content/dataset/Training/glioma_tumor/gg (582).jpg  \n",
            "  inflating: /content/dataset/Training/glioma_tumor/gg (583).jpg  \n",
            "  inflating: /content/dataset/Training/glioma_tumor/gg (584).jpg  \n",
            "  inflating: /content/dataset/Training/glioma_tumor/gg (585).jpg  \n",
            "  inflating: /content/dataset/Training/glioma_tumor/gg (586).jpg  \n",
            "  inflating: /content/dataset/Training/glioma_tumor/gg (587).jpg  \n",
            "  inflating: /content/dataset/Training/glioma_tumor/gg (588).jpg  \n",
            "  inflating: /content/dataset/Training/glioma_tumor/gg (589).jpg  \n",
            "  inflating: /content/dataset/Training/glioma_tumor/gg (59).jpg  \n",
            "  inflating: /content/dataset/Training/glioma_tumor/gg (590).jpg  \n",
            "  inflating: /content/dataset/Training/glioma_tumor/gg (591).jpg  \n",
            "  inflating: /content/dataset/Training/glioma_tumor/gg (592).jpg  \n",
            "  inflating: /content/dataset/Training/glioma_tumor/gg (593).jpg  \n",
            "  inflating: /content/dataset/Training/glioma_tumor/gg (594).jpg  \n",
            "  inflating: /content/dataset/Training/glioma_tumor/gg (595).jpg  \n",
            "  inflating: /content/dataset/Training/glioma_tumor/gg (596).jpg  \n",
            "  inflating: /content/dataset/Training/glioma_tumor/gg (597).jpg  \n",
            "  inflating: /content/dataset/Training/glioma_tumor/gg (598).jpg  \n",
            "  inflating: /content/dataset/Training/glioma_tumor/gg (599).jpg  \n",
            "  inflating: /content/dataset/Training/glioma_tumor/gg (6).jpg  \n",
            "  inflating: /content/dataset/Training/glioma_tumor/gg (60).jpg  \n",
            "  inflating: /content/dataset/Training/glioma_tumor/gg (600).jpg  \n",
            "  inflating: /content/dataset/Training/glioma_tumor/gg (601).jpg  \n",
            "  inflating: /content/dataset/Training/glioma_tumor/gg (602).jpg  \n",
            "  inflating: /content/dataset/Training/glioma_tumor/gg (603).jpg  \n",
            "  inflating: /content/dataset/Training/glioma_tumor/gg (604).jpg  \n",
            "  inflating: /content/dataset/Training/glioma_tumor/gg (605).jpg  \n",
            "  inflating: /content/dataset/Training/glioma_tumor/gg (606).jpg  \n",
            "  inflating: /content/dataset/Training/glioma_tumor/gg (607).jpg  \n",
            "  inflating: /content/dataset/Training/glioma_tumor/gg (608).jpg  \n",
            "  inflating: /content/dataset/Training/glioma_tumor/gg (609).jpg  \n",
            "  inflating: /content/dataset/Training/glioma_tumor/gg (61).jpg  \n",
            "  inflating: /content/dataset/Training/glioma_tumor/gg (610).jpg  \n",
            "  inflating: /content/dataset/Training/glioma_tumor/gg (611).jpg  \n",
            "  inflating: /content/dataset/Training/glioma_tumor/gg (612).jpg  \n",
            "  inflating: /content/dataset/Training/glioma_tumor/gg (613).jpg  \n",
            "  inflating: /content/dataset/Training/glioma_tumor/gg (614).jpg  \n",
            "  inflating: /content/dataset/Training/glioma_tumor/gg (615).jpg  \n",
            "  inflating: /content/dataset/Training/glioma_tumor/gg (616).jpg  \n",
            "  inflating: /content/dataset/Training/glioma_tumor/gg (617).jpg  \n",
            "  inflating: /content/dataset/Training/glioma_tumor/gg (618).jpg  \n",
            "  inflating: /content/dataset/Training/glioma_tumor/gg (619).jpg  \n",
            "  inflating: /content/dataset/Training/glioma_tumor/gg (62).jpg  \n",
            "  inflating: /content/dataset/Training/glioma_tumor/gg (620).jpg  \n",
            "  inflating: /content/dataset/Training/glioma_tumor/gg (621).jpg  \n",
            "  inflating: /content/dataset/Training/glioma_tumor/gg (622).jpg  \n",
            "  inflating: /content/dataset/Training/glioma_tumor/gg (623).jpg  \n",
            "  inflating: /content/dataset/Training/glioma_tumor/gg (624).jpg  \n",
            "  inflating: /content/dataset/Training/glioma_tumor/gg (625).jpg  \n",
            "  inflating: /content/dataset/Training/glioma_tumor/gg (626).jpg  \n",
            "  inflating: /content/dataset/Training/glioma_tumor/gg (627).jpg  \n",
            "  inflating: /content/dataset/Training/glioma_tumor/gg (628).jpg  \n",
            "  inflating: /content/dataset/Training/glioma_tumor/gg (629).jpg  \n",
            "  inflating: /content/dataset/Training/glioma_tumor/gg (63).jpg  \n",
            "  inflating: /content/dataset/Training/glioma_tumor/gg (630).jpg  \n",
            "  inflating: /content/dataset/Training/glioma_tumor/gg (631).jpg  \n",
            "  inflating: /content/dataset/Training/glioma_tumor/gg (632).jpg  \n",
            "  inflating: /content/dataset/Training/glioma_tumor/gg (633).jpg  \n",
            "  inflating: /content/dataset/Training/glioma_tumor/gg (634).jpg  \n",
            "  inflating: /content/dataset/Training/glioma_tumor/gg (635).jpg  \n",
            "  inflating: /content/dataset/Training/glioma_tumor/gg (636).jpg  \n",
            "  inflating: /content/dataset/Training/glioma_tumor/gg (637).jpg  \n",
            "  inflating: /content/dataset/Training/glioma_tumor/gg (638).jpg  \n",
            "  inflating: /content/dataset/Training/glioma_tumor/gg (639).jpg  \n",
            "  inflating: /content/dataset/Training/glioma_tumor/gg (64).jpg  \n",
            "  inflating: /content/dataset/Training/glioma_tumor/gg (640).jpg  \n",
            "  inflating: /content/dataset/Training/glioma_tumor/gg (641).jpg  \n",
            "  inflating: /content/dataset/Training/glioma_tumor/gg (642).jpg  \n",
            "  inflating: /content/dataset/Training/glioma_tumor/gg (643).jpg  \n",
            "  inflating: /content/dataset/Training/glioma_tumor/gg (644).jpg  \n",
            "  inflating: /content/dataset/Training/glioma_tumor/gg (645).jpg  \n",
            "  inflating: /content/dataset/Training/glioma_tumor/gg (646).jpg  \n",
            "  inflating: /content/dataset/Training/glioma_tumor/gg (647).jpg  \n",
            "  inflating: /content/dataset/Training/glioma_tumor/gg (648).jpg  \n",
            "  inflating: /content/dataset/Training/glioma_tumor/gg (649).jpg  \n",
            "  inflating: /content/dataset/Training/glioma_tumor/gg (65).jpg  \n",
            "  inflating: /content/dataset/Training/glioma_tumor/gg (650).jpg  \n",
            "  inflating: /content/dataset/Training/glioma_tumor/gg (651).jpg  \n",
            "  inflating: /content/dataset/Training/glioma_tumor/gg (652).jpg  \n",
            "  inflating: /content/dataset/Training/glioma_tumor/gg (653).jpg  \n",
            "  inflating: /content/dataset/Training/glioma_tumor/gg (654).jpg  \n",
            "  inflating: /content/dataset/Training/glioma_tumor/gg (655).jpg  \n",
            "  inflating: /content/dataset/Training/glioma_tumor/gg (656).jpg  \n",
            "  inflating: /content/dataset/Training/glioma_tumor/gg (657).jpg  \n",
            "  inflating: /content/dataset/Training/glioma_tumor/gg (658).jpg  \n",
            "  inflating: /content/dataset/Training/glioma_tumor/gg (659).jpg  \n",
            "  inflating: /content/dataset/Training/glioma_tumor/gg (66).jpg  \n",
            "  inflating: /content/dataset/Training/glioma_tumor/gg (660).jpg  \n",
            "  inflating: /content/dataset/Training/glioma_tumor/gg (661).jpg  \n",
            "  inflating: /content/dataset/Training/glioma_tumor/gg (662).jpg  \n",
            "  inflating: /content/dataset/Training/glioma_tumor/gg (663).jpg  \n",
            "  inflating: /content/dataset/Training/glioma_tumor/gg (664).jpg  \n",
            "  inflating: /content/dataset/Training/glioma_tumor/gg (665).jpg  \n",
            "  inflating: /content/dataset/Training/glioma_tumor/gg (666).jpg  \n",
            "  inflating: /content/dataset/Training/glioma_tumor/gg (667).jpg  \n",
            "  inflating: /content/dataset/Training/glioma_tumor/gg (668).jpg  \n",
            "  inflating: /content/dataset/Training/glioma_tumor/gg (669).jpg  \n",
            "  inflating: /content/dataset/Training/glioma_tumor/gg (67).jpg  \n",
            "  inflating: /content/dataset/Training/glioma_tumor/gg (670).jpg  \n",
            "  inflating: /content/dataset/Training/glioma_tumor/gg (671).jpg  \n",
            "  inflating: /content/dataset/Training/glioma_tumor/gg (672).jpg  \n",
            "  inflating: /content/dataset/Training/glioma_tumor/gg (673).jpg  \n",
            "  inflating: /content/dataset/Training/glioma_tumor/gg (674).jpg  \n",
            "  inflating: /content/dataset/Training/glioma_tumor/gg (675).jpg  \n",
            "  inflating: /content/dataset/Training/glioma_tumor/gg (676).jpg  \n",
            "  inflating: /content/dataset/Training/glioma_tumor/gg (677).jpg  \n",
            "  inflating: /content/dataset/Training/glioma_tumor/gg (678).jpg  \n",
            "  inflating: /content/dataset/Training/glioma_tumor/gg (679).jpg  \n",
            "  inflating: /content/dataset/Training/glioma_tumor/gg (68).jpg  \n",
            "  inflating: /content/dataset/Training/glioma_tumor/gg (680).jpg  \n",
            "  inflating: /content/dataset/Training/glioma_tumor/gg (681).jpg  \n",
            "  inflating: /content/dataset/Training/glioma_tumor/gg (682).jpg  \n",
            "  inflating: /content/dataset/Training/glioma_tumor/gg (683).jpg  \n",
            "  inflating: /content/dataset/Training/glioma_tumor/gg (684).jpg  \n",
            "  inflating: /content/dataset/Training/glioma_tumor/gg (685).jpg  \n",
            "  inflating: /content/dataset/Training/glioma_tumor/gg (686).jpg  \n",
            "  inflating: /content/dataset/Training/glioma_tumor/gg (687).jpg  \n",
            "  inflating: /content/dataset/Training/glioma_tumor/gg (688).jpg  \n",
            "  inflating: /content/dataset/Training/glioma_tumor/gg (689).jpg  \n",
            "  inflating: /content/dataset/Training/glioma_tumor/gg (69).jpg  \n",
            "  inflating: /content/dataset/Training/glioma_tumor/gg (690).jpg  \n",
            "  inflating: /content/dataset/Training/glioma_tumor/gg (691).jpg  \n",
            "  inflating: /content/dataset/Training/glioma_tumor/gg (692).jpg  \n",
            "  inflating: /content/dataset/Training/glioma_tumor/gg (693).jpg  \n",
            "  inflating: /content/dataset/Training/glioma_tumor/gg (694).jpg  \n",
            "  inflating: /content/dataset/Training/glioma_tumor/gg (695).jpg  \n",
            "  inflating: /content/dataset/Training/glioma_tumor/gg (696).jpg  \n",
            "  inflating: /content/dataset/Training/glioma_tumor/gg (697).jpg  \n",
            "  inflating: /content/dataset/Training/glioma_tumor/gg (698).jpg  \n",
            "  inflating: /content/dataset/Training/glioma_tumor/gg (699).jpg  \n",
            "  inflating: /content/dataset/Training/glioma_tumor/gg (7).jpg  \n",
            "  inflating: /content/dataset/Training/glioma_tumor/gg (70).jpg  \n",
            "  inflating: /content/dataset/Training/glioma_tumor/gg (700).jpg  \n",
            "  inflating: /content/dataset/Training/glioma_tumor/gg (701).jpg  \n",
            "  inflating: /content/dataset/Training/glioma_tumor/gg (702).jpg  \n",
            "  inflating: /content/dataset/Training/glioma_tumor/gg (703).jpg  \n",
            "  inflating: /content/dataset/Training/glioma_tumor/gg (704).jpg  \n",
            "  inflating: /content/dataset/Training/glioma_tumor/gg (705).jpg  \n",
            "  inflating: /content/dataset/Training/glioma_tumor/gg (706).jpg  \n",
            "  inflating: /content/dataset/Training/glioma_tumor/gg (707).jpg  \n",
            "  inflating: /content/dataset/Training/glioma_tumor/gg (708).jpg  \n",
            "  inflating: /content/dataset/Training/glioma_tumor/gg (709).jpg  \n",
            "  inflating: /content/dataset/Training/glioma_tumor/gg (71).jpg  \n",
            "  inflating: /content/dataset/Training/glioma_tumor/gg (710).jpg  \n",
            "  inflating: /content/dataset/Training/glioma_tumor/gg (711).jpg  \n",
            "  inflating: /content/dataset/Training/glioma_tumor/gg (712).jpg  \n",
            "  inflating: /content/dataset/Training/glioma_tumor/gg (713).jpg  \n",
            "  inflating: /content/dataset/Training/glioma_tumor/gg (714).jpg  \n",
            "  inflating: /content/dataset/Training/glioma_tumor/gg (715).jpg  \n",
            "  inflating: /content/dataset/Training/glioma_tumor/gg (716).jpg  \n",
            "  inflating: /content/dataset/Training/glioma_tumor/gg (717).jpg  \n",
            "  inflating: /content/dataset/Training/glioma_tumor/gg (718).jpg  \n",
            "  inflating: /content/dataset/Training/glioma_tumor/gg (719).jpg  \n",
            "  inflating: /content/dataset/Training/glioma_tumor/gg (72).jpg  \n",
            "  inflating: /content/dataset/Training/glioma_tumor/gg (720).jpg  \n",
            "  inflating: /content/dataset/Training/glioma_tumor/gg (721).jpg  \n",
            "  inflating: /content/dataset/Training/glioma_tumor/gg (722).jpg  \n",
            "  inflating: /content/dataset/Training/glioma_tumor/gg (723).jpg  \n",
            "  inflating: /content/dataset/Training/glioma_tumor/gg (724).jpg  \n",
            "  inflating: /content/dataset/Training/glioma_tumor/gg (725).jpg  \n",
            "  inflating: /content/dataset/Training/glioma_tumor/gg (726).jpg  \n",
            "  inflating: /content/dataset/Training/glioma_tumor/gg (727).jpg  \n",
            "  inflating: /content/dataset/Training/glioma_tumor/gg (728).jpg  \n",
            "  inflating: /content/dataset/Training/glioma_tumor/gg (729).jpg  \n",
            "  inflating: /content/dataset/Training/glioma_tumor/gg (73).jpg  \n",
            "  inflating: /content/dataset/Training/glioma_tumor/gg (730).jpg  \n",
            "  inflating: /content/dataset/Training/glioma_tumor/gg (731).jpg  \n",
            "  inflating: /content/dataset/Training/glioma_tumor/gg (732).jpg  \n",
            "  inflating: /content/dataset/Training/glioma_tumor/gg (733).jpg  \n",
            "  inflating: /content/dataset/Training/glioma_tumor/gg (734).jpg  \n",
            "  inflating: /content/dataset/Training/glioma_tumor/gg (735).jpg  \n",
            "  inflating: /content/dataset/Training/glioma_tumor/gg (736).jpg  \n",
            "  inflating: /content/dataset/Training/glioma_tumor/gg (737).jpg  \n",
            "  inflating: /content/dataset/Training/glioma_tumor/gg (738).jpg  \n",
            "  inflating: /content/dataset/Training/glioma_tumor/gg (739).jpg  \n",
            "  inflating: /content/dataset/Training/glioma_tumor/gg (74).jpg  \n",
            "  inflating: /content/dataset/Training/glioma_tumor/gg (740).jpg  \n",
            "  inflating: /content/dataset/Training/glioma_tumor/gg (741).jpg  \n",
            "  inflating: /content/dataset/Training/glioma_tumor/gg (742).jpg  \n",
            "  inflating: /content/dataset/Training/glioma_tumor/gg (743).jpg  \n",
            "  inflating: /content/dataset/Training/glioma_tumor/gg (744).jpg  \n",
            "  inflating: /content/dataset/Training/glioma_tumor/gg (745).jpg  \n",
            "  inflating: /content/dataset/Training/glioma_tumor/gg (746).jpg  \n",
            "  inflating: /content/dataset/Training/glioma_tumor/gg (747).jpg  \n",
            "  inflating: /content/dataset/Training/glioma_tumor/gg (748).jpg  \n",
            "  inflating: /content/dataset/Training/glioma_tumor/gg (749).jpg  \n",
            "  inflating: /content/dataset/Training/glioma_tumor/gg (75).jpg  \n",
            "  inflating: /content/dataset/Training/glioma_tumor/gg (750).jpg  \n",
            "  inflating: /content/dataset/Training/glioma_tumor/gg (751).jpg  \n",
            "  inflating: /content/dataset/Training/glioma_tumor/gg (752).jpg  \n",
            "  inflating: /content/dataset/Training/glioma_tumor/gg (753).jpg  \n",
            "  inflating: /content/dataset/Training/glioma_tumor/gg (754).jpg  \n",
            "  inflating: /content/dataset/Training/glioma_tumor/gg (755).jpg  \n",
            "  inflating: /content/dataset/Training/glioma_tumor/gg (756).jpg  \n",
            "  inflating: /content/dataset/Training/glioma_tumor/gg (757).jpg  \n",
            "  inflating: /content/dataset/Training/glioma_tumor/gg (758).jpg  \n",
            "  inflating: /content/dataset/Training/glioma_tumor/gg (759).jpg  \n",
            "  inflating: /content/dataset/Training/glioma_tumor/gg (76).jpg  \n",
            "  inflating: /content/dataset/Training/glioma_tumor/gg (760).jpg  \n",
            "  inflating: /content/dataset/Training/glioma_tumor/gg (761).jpg  \n",
            "  inflating: /content/dataset/Training/glioma_tumor/gg (762).jpg  \n",
            "  inflating: /content/dataset/Training/glioma_tumor/gg (763).jpg  \n",
            "  inflating: /content/dataset/Training/glioma_tumor/gg (764).jpg  \n",
            "  inflating: /content/dataset/Training/glioma_tumor/gg (765).jpg  \n",
            "  inflating: /content/dataset/Training/glioma_tumor/gg (766).jpg  \n",
            "  inflating: /content/dataset/Training/glioma_tumor/gg (767).jpg  \n",
            "  inflating: /content/dataset/Training/glioma_tumor/gg (768).jpg  \n",
            "  inflating: /content/dataset/Training/glioma_tumor/gg (769).jpg  \n",
            "  inflating: /content/dataset/Training/glioma_tumor/gg (77).jpg  \n",
            "  inflating: /content/dataset/Training/glioma_tumor/gg (770).jpg  \n",
            "  inflating: /content/dataset/Training/glioma_tumor/gg (771).jpg  \n",
            "  inflating: /content/dataset/Training/glioma_tumor/gg (772).jpg  \n",
            "  inflating: /content/dataset/Training/glioma_tumor/gg (773).jpg  \n",
            "  inflating: /content/dataset/Training/glioma_tumor/gg (774).jpg  \n",
            "  inflating: /content/dataset/Training/glioma_tumor/gg (775).jpg  \n",
            "  inflating: /content/dataset/Training/glioma_tumor/gg (776).jpg  \n",
            "  inflating: /content/dataset/Training/glioma_tumor/gg (777).jpg  \n",
            "  inflating: /content/dataset/Training/glioma_tumor/gg (778).jpg  \n",
            "  inflating: /content/dataset/Training/glioma_tumor/gg (779).jpg  \n",
            "  inflating: /content/dataset/Training/glioma_tumor/gg (78).jpg  \n",
            "  inflating: /content/dataset/Training/glioma_tumor/gg (780).jpg  \n",
            "  inflating: /content/dataset/Training/glioma_tumor/gg (781).jpg  \n",
            "  inflating: /content/dataset/Training/glioma_tumor/gg (782).jpg  \n",
            "  inflating: /content/dataset/Training/glioma_tumor/gg (783).jpg  \n",
            "  inflating: /content/dataset/Training/glioma_tumor/gg (784).jpg  \n",
            "  inflating: /content/dataset/Training/glioma_tumor/gg (785).jpg  \n",
            "  inflating: /content/dataset/Training/glioma_tumor/gg (786).jpg  \n",
            "  inflating: /content/dataset/Training/glioma_tumor/gg (787).jpg  \n",
            "  inflating: /content/dataset/Training/glioma_tumor/gg (788).jpg  \n",
            "  inflating: /content/dataset/Training/glioma_tumor/gg (789).jpg  \n",
            "  inflating: /content/dataset/Training/glioma_tumor/gg (79).jpg  \n",
            "  inflating: /content/dataset/Training/glioma_tumor/gg (790).jpg  \n",
            "  inflating: /content/dataset/Training/glioma_tumor/gg (791).jpg  \n",
            "  inflating: /content/dataset/Training/glioma_tumor/gg (792).jpg  \n",
            "  inflating: /content/dataset/Training/glioma_tumor/gg (793).jpg  \n",
            "  inflating: /content/dataset/Training/glioma_tumor/gg (794).jpg  \n",
            "  inflating: /content/dataset/Training/glioma_tumor/gg (795).jpg  \n",
            "  inflating: /content/dataset/Training/glioma_tumor/gg (796).jpg  \n",
            "  inflating: /content/dataset/Training/glioma_tumor/gg (797).jpg  \n",
            "  inflating: /content/dataset/Training/glioma_tumor/gg (798).jpg  \n",
            "  inflating: /content/dataset/Training/glioma_tumor/gg (799).jpg  \n",
            "  inflating: /content/dataset/Training/glioma_tumor/gg (8).jpg  \n",
            "  inflating: /content/dataset/Training/glioma_tumor/gg (80).jpg  \n",
            "  inflating: /content/dataset/Training/glioma_tumor/gg (800).jpg  \n",
            "  inflating: /content/dataset/Training/glioma_tumor/gg (801).jpg  \n",
            "  inflating: /content/dataset/Training/glioma_tumor/gg (802).jpg  \n",
            "  inflating: /content/dataset/Training/glioma_tumor/gg (803).jpg  \n",
            "  inflating: /content/dataset/Training/glioma_tumor/gg (804).jpg  \n",
            "  inflating: /content/dataset/Training/glioma_tumor/gg (805).jpg  \n",
            "  inflating: /content/dataset/Training/glioma_tumor/gg (806).jpg  \n",
            "  inflating: /content/dataset/Training/glioma_tumor/gg (807).jpg  \n",
            "  inflating: /content/dataset/Training/glioma_tumor/gg (808).jpg  \n",
            "  inflating: /content/dataset/Training/glioma_tumor/gg (809).jpg  \n",
            "  inflating: /content/dataset/Training/glioma_tumor/gg (81).jpg  \n",
            "  inflating: /content/dataset/Training/glioma_tumor/gg (810).jpg  \n",
            "  inflating: /content/dataset/Training/glioma_tumor/gg (811).jpg  \n",
            "  inflating: /content/dataset/Training/glioma_tumor/gg (812).jpg  \n",
            "  inflating: /content/dataset/Training/glioma_tumor/gg (813).jpg  \n",
            "  inflating: /content/dataset/Training/glioma_tumor/gg (814).jpg  \n",
            "  inflating: /content/dataset/Training/glioma_tumor/gg (815).jpg  \n",
            "  inflating: /content/dataset/Training/glioma_tumor/gg (816).jpg  \n",
            "  inflating: /content/dataset/Training/glioma_tumor/gg (817).jpg  \n",
            "  inflating: /content/dataset/Training/glioma_tumor/gg (818).jpg  \n",
            "  inflating: /content/dataset/Training/glioma_tumor/gg (819).jpg  \n",
            "  inflating: /content/dataset/Training/glioma_tumor/gg (82).jpg  \n",
            "  inflating: /content/dataset/Training/glioma_tumor/gg (820).jpg  \n",
            "  inflating: /content/dataset/Training/glioma_tumor/gg (821).jpg  \n",
            "  inflating: /content/dataset/Training/glioma_tumor/gg (822).jpg  \n",
            "  inflating: /content/dataset/Training/glioma_tumor/gg (823).jpg  \n",
            "  inflating: /content/dataset/Training/glioma_tumor/gg (824).jpg  \n",
            "  inflating: /content/dataset/Training/glioma_tumor/gg (825).jpg  \n",
            "  inflating: /content/dataset/Training/glioma_tumor/gg (826).jpg  \n",
            "  inflating: /content/dataset/Training/glioma_tumor/gg (83).jpg  \n",
            "  inflating: /content/dataset/Training/glioma_tumor/gg (84).jpg  \n",
            "  inflating: /content/dataset/Training/glioma_tumor/gg (85).jpg  \n",
            "  inflating: /content/dataset/Training/glioma_tumor/gg (86).jpg  \n",
            "  inflating: /content/dataset/Training/glioma_tumor/gg (87).jpg  \n",
            "  inflating: /content/dataset/Training/glioma_tumor/gg (88).jpg  \n",
            "  inflating: /content/dataset/Training/glioma_tumor/gg (89).jpg  \n",
            "  inflating: /content/dataset/Training/glioma_tumor/gg (9).jpg  \n",
            "  inflating: /content/dataset/Training/glioma_tumor/gg (90).jpg  \n",
            "  inflating: /content/dataset/Training/glioma_tumor/gg (91).jpg  \n",
            "  inflating: /content/dataset/Training/glioma_tumor/gg (92).jpg  \n",
            "  inflating: /content/dataset/Training/glioma_tumor/gg (93).jpg  \n",
            "  inflating: /content/dataset/Training/glioma_tumor/gg (94).jpg  \n",
            "  inflating: /content/dataset/Training/glioma_tumor/gg (95).jpg  \n",
            "  inflating: /content/dataset/Training/glioma_tumor/gg (96).jpg  \n",
            "  inflating: /content/dataset/Training/glioma_tumor/gg (97).jpg  \n",
            "  inflating: /content/dataset/Training/glioma_tumor/gg (98).jpg  \n",
            "  inflating: /content/dataset/Training/glioma_tumor/gg (99).jpg  \n",
            "  inflating: /content/dataset/Training/meningioma_tumor/m (10).jpg  \n",
            "  inflating: /content/dataset/Training/meningioma_tumor/m (100).jpg  \n",
            "  inflating: /content/dataset/Training/meningioma_tumor/m (101).jpg  \n",
            "  inflating: /content/dataset/Training/meningioma_tumor/m (102).jpg  \n",
            "  inflating: /content/dataset/Training/meningioma_tumor/m (103).jpg  \n",
            "  inflating: /content/dataset/Training/meningioma_tumor/m (104).jpg  \n",
            "  inflating: /content/dataset/Training/meningioma_tumor/m (105).jpg  \n",
            "  inflating: /content/dataset/Training/meningioma_tumor/m (106).jpg  \n",
            "  inflating: /content/dataset/Training/meningioma_tumor/m (107).jpg  \n",
            "  inflating: /content/dataset/Training/meningioma_tumor/m (108).jpg  \n",
            "  inflating: /content/dataset/Training/meningioma_tumor/m (109).jpg  \n",
            "  inflating: /content/dataset/Training/meningioma_tumor/m (11).jpg  \n",
            "  inflating: /content/dataset/Training/meningioma_tumor/m (110).jpg  \n",
            "  inflating: /content/dataset/Training/meningioma_tumor/m (111).jpg  \n",
            "  inflating: /content/dataset/Training/meningioma_tumor/m (112).jpg  \n",
            "  inflating: /content/dataset/Training/meningioma_tumor/m (113).jpg  \n",
            "  inflating: /content/dataset/Training/meningioma_tumor/m (114).jpg  \n",
            "  inflating: /content/dataset/Training/meningioma_tumor/m (115).jpg  \n",
            "  inflating: /content/dataset/Training/meningioma_tumor/m (116).jpg  \n",
            "  inflating: /content/dataset/Training/meningioma_tumor/m (117).jpg  \n",
            "  inflating: /content/dataset/Training/meningioma_tumor/m (118).jpg  \n",
            "  inflating: /content/dataset/Training/meningioma_tumor/m (119).jpg  \n",
            "  inflating: /content/dataset/Training/meningioma_tumor/m (12).jpg  \n",
            "  inflating: /content/dataset/Training/meningioma_tumor/m (120).jpg  \n",
            "  inflating: /content/dataset/Training/meningioma_tumor/m (121).jpg  \n",
            "  inflating: /content/dataset/Training/meningioma_tumor/m (122).jpg  \n",
            "  inflating: /content/dataset/Training/meningioma_tumor/m (123).jpg  \n",
            "  inflating: /content/dataset/Training/meningioma_tumor/m (124).jpg  \n",
            "  inflating: /content/dataset/Training/meningioma_tumor/m (125).jpg  \n",
            "  inflating: /content/dataset/Training/meningioma_tumor/m (126).jpg  \n",
            "  inflating: /content/dataset/Training/meningioma_tumor/m (127).jpg  \n",
            "  inflating: /content/dataset/Training/meningioma_tumor/m (128).jpg  \n",
            "  inflating: /content/dataset/Training/meningioma_tumor/m (129).jpg  \n",
            "  inflating: /content/dataset/Training/meningioma_tumor/m (13).jpg  \n",
            "  inflating: /content/dataset/Training/meningioma_tumor/m (130).jpg  \n",
            "  inflating: /content/dataset/Training/meningioma_tumor/m (131).jpg  \n",
            "  inflating: /content/dataset/Training/meningioma_tumor/m (132).jpg  \n",
            "  inflating: /content/dataset/Training/meningioma_tumor/m (133).jpg  \n",
            "  inflating: /content/dataset/Training/meningioma_tumor/m (134).jpg  \n",
            "  inflating: /content/dataset/Training/meningioma_tumor/m (135).jpg  \n",
            "  inflating: /content/dataset/Training/meningioma_tumor/m (136).jpg  \n",
            "  inflating: /content/dataset/Training/meningioma_tumor/m (137).jpg  \n",
            "  inflating: /content/dataset/Training/meningioma_tumor/m (138).jpg  \n",
            "  inflating: /content/dataset/Training/meningioma_tumor/m (139).jpg  \n",
            "  inflating: /content/dataset/Training/meningioma_tumor/m (14).jpg  \n",
            "  inflating: /content/dataset/Training/meningioma_tumor/m (140).jpg  \n",
            "  inflating: /content/dataset/Training/meningioma_tumor/m (141).jpg  \n",
            "  inflating: /content/dataset/Training/meningioma_tumor/m (142).jpg  \n",
            "  inflating: /content/dataset/Training/meningioma_tumor/m (143).jpg  \n",
            "  inflating: /content/dataset/Training/meningioma_tumor/m (144).jpg  \n",
            "  inflating: /content/dataset/Training/meningioma_tumor/m (145).jpg  \n",
            "  inflating: /content/dataset/Training/meningioma_tumor/m (146).jpg  \n",
            "  inflating: /content/dataset/Training/meningioma_tumor/m (147).jpg  \n",
            "  inflating: /content/dataset/Training/meningioma_tumor/m (148).jpg  \n",
            "  inflating: /content/dataset/Training/meningioma_tumor/m (149).jpg  \n",
            "  inflating: /content/dataset/Training/meningioma_tumor/m (15).jpg  \n",
            "  inflating: /content/dataset/Training/meningioma_tumor/m (150).jpg  \n",
            "  inflating: /content/dataset/Training/meningioma_tumor/m (151).jpg  \n",
            "  inflating: /content/dataset/Training/meningioma_tumor/m (152).jpg  \n",
            "  inflating: /content/dataset/Training/meningioma_tumor/m (153).jpg  \n",
            "  inflating: /content/dataset/Training/meningioma_tumor/m (154).jpg  \n",
            "  inflating: /content/dataset/Training/meningioma_tumor/m (155).jpg  \n",
            "  inflating: /content/dataset/Training/meningioma_tumor/m (156).jpg  \n",
            "  inflating: /content/dataset/Training/meningioma_tumor/m (157).jpg  \n",
            "  inflating: /content/dataset/Training/meningioma_tumor/m (158).jpg  \n",
            "  inflating: /content/dataset/Training/meningioma_tumor/m (159).jpg  \n",
            "  inflating: /content/dataset/Training/meningioma_tumor/m (16).jpg  \n",
            "  inflating: /content/dataset/Training/meningioma_tumor/m (160).jpg  \n",
            "  inflating: /content/dataset/Training/meningioma_tumor/m (161).jpg  \n",
            "  inflating: /content/dataset/Training/meningioma_tumor/m (162).jpg  \n",
            "  inflating: /content/dataset/Training/meningioma_tumor/m (163).jpg  \n",
            "  inflating: /content/dataset/Training/meningioma_tumor/m (164).jpg  \n",
            "  inflating: /content/dataset/Training/meningioma_tumor/m (165).jpg  \n",
            "  inflating: /content/dataset/Training/meningioma_tumor/m (166).jpg  \n",
            "  inflating: /content/dataset/Training/meningioma_tumor/m (167).jpg  \n",
            "  inflating: /content/dataset/Training/meningioma_tumor/m (168).jpg  \n",
            "  inflating: /content/dataset/Training/meningioma_tumor/m (169).jpg  \n",
            "  inflating: /content/dataset/Training/meningioma_tumor/m (17).jpg  \n",
            "  inflating: /content/dataset/Training/meningioma_tumor/m (170).jpg  \n",
            "  inflating: /content/dataset/Training/meningioma_tumor/m (171).jpg  \n",
            "  inflating: /content/dataset/Training/meningioma_tumor/m (172).jpg  \n",
            "  inflating: /content/dataset/Training/meningioma_tumor/m (173).jpg  \n",
            "  inflating: /content/dataset/Training/meningioma_tumor/m (174).jpg  \n",
            "  inflating: /content/dataset/Training/meningioma_tumor/m (175).jpg  \n",
            "  inflating: /content/dataset/Training/meningioma_tumor/m (176).jpg  \n",
            "  inflating: /content/dataset/Training/meningioma_tumor/m (177).jpg  \n",
            "  inflating: /content/dataset/Training/meningioma_tumor/m (178).jpg  \n",
            "  inflating: /content/dataset/Training/meningioma_tumor/m (179).jpg  \n",
            "  inflating: /content/dataset/Training/meningioma_tumor/m (18).jpg  \n",
            "  inflating: /content/dataset/Training/meningioma_tumor/m (180).jpg  \n",
            "  inflating: /content/dataset/Training/meningioma_tumor/m (181).jpg  \n",
            "  inflating: /content/dataset/Training/meningioma_tumor/m (182).jpg  \n",
            "  inflating: /content/dataset/Training/meningioma_tumor/m (183).jpg  \n",
            "  inflating: /content/dataset/Training/meningioma_tumor/m (184).jpg  \n",
            "  inflating: /content/dataset/Training/meningioma_tumor/m (185).jpg  \n",
            "  inflating: /content/dataset/Training/meningioma_tumor/m (186).jpg  \n",
            "  inflating: /content/dataset/Training/meningioma_tumor/m (187).jpg  \n",
            "  inflating: /content/dataset/Training/meningioma_tumor/m (188).jpg  \n",
            "  inflating: /content/dataset/Training/meningioma_tumor/m (189).jpg  \n",
            "  inflating: /content/dataset/Training/meningioma_tumor/m (19).jpg  \n",
            "  inflating: /content/dataset/Training/meningioma_tumor/m (190).jpg  \n",
            "  inflating: /content/dataset/Training/meningioma_tumor/m (191).jpg  \n",
            "  inflating: /content/dataset/Training/meningioma_tumor/m (192).jpg  \n",
            "  inflating: /content/dataset/Training/meningioma_tumor/m (193).jpg  \n",
            "  inflating: /content/dataset/Training/meningioma_tumor/m (194).jpg  \n",
            "  inflating: /content/dataset/Training/meningioma_tumor/m (195).jpg  \n",
            "  inflating: /content/dataset/Training/meningioma_tumor/m (196).jpg  \n",
            "  inflating: /content/dataset/Training/meningioma_tumor/m (197).jpg  \n",
            "  inflating: /content/dataset/Training/meningioma_tumor/m (198).jpg  \n",
            "  inflating: /content/dataset/Training/meningioma_tumor/m (199).jpg  \n",
            "  inflating: /content/dataset/Training/meningioma_tumor/m (2).jpg  \n",
            "  inflating: /content/dataset/Training/meningioma_tumor/m (20).jpg  \n",
            "  inflating: /content/dataset/Training/meningioma_tumor/m (200).jpg  \n",
            "  inflating: /content/dataset/Training/meningioma_tumor/m (201).jpg  \n",
            "  inflating: /content/dataset/Training/meningioma_tumor/m (21).jpg  \n",
            "  inflating: /content/dataset/Training/meningioma_tumor/m (22).jpg  \n",
            "  inflating: /content/dataset/Training/meningioma_tumor/m (23).jpg  \n",
            "  inflating: /content/dataset/Training/meningioma_tumor/m (24).jpg  \n",
            "  inflating: /content/dataset/Training/meningioma_tumor/m (25).jpg  \n",
            "  inflating: /content/dataset/Training/meningioma_tumor/m (26).jpg  \n",
            "  inflating: /content/dataset/Training/meningioma_tumor/m (27).jpg  \n",
            "  inflating: /content/dataset/Training/meningioma_tumor/m (28).jpg  \n",
            "  inflating: /content/dataset/Training/meningioma_tumor/m (29).jpg  \n",
            "  inflating: /content/dataset/Training/meningioma_tumor/m (3).jpg  \n",
            "  inflating: /content/dataset/Training/meningioma_tumor/m (30).jpg  \n",
            "  inflating: /content/dataset/Training/meningioma_tumor/m (31).jpg  \n",
            "  inflating: /content/dataset/Training/meningioma_tumor/m (32).jpg  \n",
            "  inflating: /content/dataset/Training/meningioma_tumor/m (33).jpg  \n",
            "  inflating: /content/dataset/Training/meningioma_tumor/m (34).jpg  \n",
            "  inflating: /content/dataset/Training/meningioma_tumor/m (35).jpg  \n",
            "  inflating: /content/dataset/Training/meningioma_tumor/m (36).jpg  \n",
            "  inflating: /content/dataset/Training/meningioma_tumor/m (37).jpg  \n",
            "  inflating: /content/dataset/Training/meningioma_tumor/m (38).jpg  \n",
            "  inflating: /content/dataset/Training/meningioma_tumor/m (39).jpg  \n",
            "  inflating: /content/dataset/Training/meningioma_tumor/m (4).jpg  \n",
            "  inflating: /content/dataset/Training/meningioma_tumor/m (40).jpg  \n",
            "  inflating: /content/dataset/Training/meningioma_tumor/m (41).jpg  \n",
            "  inflating: /content/dataset/Training/meningioma_tumor/m (42).jpg  \n",
            "  inflating: /content/dataset/Training/meningioma_tumor/m (43).jpg  \n",
            "  inflating: /content/dataset/Training/meningioma_tumor/m (44).jpg  \n",
            "  inflating: /content/dataset/Training/meningioma_tumor/m (45).jpg  \n",
            "  inflating: /content/dataset/Training/meningioma_tumor/m (46).jpg  \n",
            "  inflating: /content/dataset/Training/meningioma_tumor/m (47).jpg  \n",
            "  inflating: /content/dataset/Training/meningioma_tumor/m (48).jpg  \n",
            "  inflating: /content/dataset/Training/meningioma_tumor/m (49).jpg  \n",
            "  inflating: /content/dataset/Training/meningioma_tumor/m (5).jpg  \n",
            "  inflating: /content/dataset/Training/meningioma_tumor/m (50).jpg  \n",
            "  inflating: /content/dataset/Training/meningioma_tumor/m (51).jpg  \n",
            "  inflating: /content/dataset/Training/meningioma_tumor/m (52).jpg  \n",
            "  inflating: /content/dataset/Training/meningioma_tumor/m (53).jpg  \n",
            "  inflating: /content/dataset/Training/meningioma_tumor/m (54).jpg  \n",
            "  inflating: /content/dataset/Training/meningioma_tumor/m (55).jpg  \n",
            "  inflating: /content/dataset/Training/meningioma_tumor/m (56).jpg  \n",
            "  inflating: /content/dataset/Training/meningioma_tumor/m (57).jpg  \n",
            "  inflating: /content/dataset/Training/meningioma_tumor/m (58).jpg  \n",
            "  inflating: /content/dataset/Training/meningioma_tumor/m (59).jpg  \n",
            "  inflating: /content/dataset/Training/meningioma_tumor/m (6).jpg  \n",
            "  inflating: /content/dataset/Training/meningioma_tumor/m (60).jpg  \n",
            "  inflating: /content/dataset/Training/meningioma_tumor/m (61).jpg  \n",
            "  inflating: /content/dataset/Training/meningioma_tumor/m (62).jpg  \n",
            "  inflating: /content/dataset/Training/meningioma_tumor/m (63).jpg  \n",
            "  inflating: /content/dataset/Training/meningioma_tumor/m (64).jpg  \n",
            "  inflating: /content/dataset/Training/meningioma_tumor/m (65).jpg  \n",
            "  inflating: /content/dataset/Training/meningioma_tumor/m (66).jpg  \n",
            "  inflating: /content/dataset/Training/meningioma_tumor/m (67).jpg  \n",
            "  inflating: /content/dataset/Training/meningioma_tumor/m (68).jpg  \n",
            "  inflating: /content/dataset/Training/meningioma_tumor/m (69).jpg  \n",
            "  inflating: /content/dataset/Training/meningioma_tumor/m (7).jpg  \n",
            "  inflating: /content/dataset/Training/meningioma_tumor/m (70).jpg  \n",
            "  inflating: /content/dataset/Training/meningioma_tumor/m (71).jpg  \n",
            "  inflating: /content/dataset/Training/meningioma_tumor/m (72).jpg  \n",
            "  inflating: /content/dataset/Training/meningioma_tumor/m (73).jpg  \n",
            "  inflating: /content/dataset/Training/meningioma_tumor/m (74).jpg  \n",
            "  inflating: /content/dataset/Training/meningioma_tumor/m (75).jpg  \n",
            "  inflating: /content/dataset/Training/meningioma_tumor/m (76).jpg  \n",
            "  inflating: /content/dataset/Training/meningioma_tumor/m (77).jpg  \n",
            "  inflating: /content/dataset/Training/meningioma_tumor/m (78).jpg  \n",
            "  inflating: /content/dataset/Training/meningioma_tumor/m (79).jpg  \n",
            "  inflating: /content/dataset/Training/meningioma_tumor/m (8).jpg  \n",
            "  inflating: /content/dataset/Training/meningioma_tumor/m (80).jpg  \n",
            "  inflating: /content/dataset/Training/meningioma_tumor/m (81).jpg  \n",
            "  inflating: /content/dataset/Training/meningioma_tumor/m (82).jpg  \n",
            "  inflating: /content/dataset/Training/meningioma_tumor/m (83).jpg  \n",
            "  inflating: /content/dataset/Training/meningioma_tumor/m (84).jpg  \n",
            "  inflating: /content/dataset/Training/meningioma_tumor/m (85).jpg  \n",
            "  inflating: /content/dataset/Training/meningioma_tumor/m (86).jpg  \n",
            "  inflating: /content/dataset/Training/meningioma_tumor/m (87).jpg  \n",
            "  inflating: /content/dataset/Training/meningioma_tumor/m (88).jpg  \n",
            "  inflating: /content/dataset/Training/meningioma_tumor/m (89).jpg  \n",
            "  inflating: /content/dataset/Training/meningioma_tumor/m (9).jpg  \n",
            "  inflating: /content/dataset/Training/meningioma_tumor/m (90).jpg  \n",
            "  inflating: /content/dataset/Training/meningioma_tumor/m (91).jpg  \n",
            "  inflating: /content/dataset/Training/meningioma_tumor/m (92).jpg  \n",
            "  inflating: /content/dataset/Training/meningioma_tumor/m (93).jpg  \n",
            "  inflating: /content/dataset/Training/meningioma_tumor/m (94).jpg  \n",
            "  inflating: /content/dataset/Training/meningioma_tumor/m (95).jpg  \n",
            "  inflating: /content/dataset/Training/meningioma_tumor/m (96).jpg  \n",
            "  inflating: /content/dataset/Training/meningioma_tumor/m (97).jpg  \n",
            "  inflating: /content/dataset/Training/meningioma_tumor/m (98).jpg  \n",
            "  inflating: /content/dataset/Training/meningioma_tumor/m (99).jpg  \n",
            "  inflating: /content/dataset/Training/meningioma_tumor/m1(10).jpg  \n",
            "  inflating: /content/dataset/Training/meningioma_tumor/m1(100).jpg  \n",
            "  inflating: /content/dataset/Training/meningioma_tumor/m1(101).jpg  \n",
            "  inflating: /content/dataset/Training/meningioma_tumor/m1(102).jpg  \n",
            "  inflating: /content/dataset/Training/meningioma_tumor/m1(103).jpg  \n",
            "  inflating: /content/dataset/Training/meningioma_tumor/m1(104).jpg  \n",
            "  inflating: /content/dataset/Training/meningioma_tumor/m1(105).jpg  \n",
            "  inflating: /content/dataset/Training/meningioma_tumor/m1(106).jpg  \n",
            "  inflating: /content/dataset/Training/meningioma_tumor/m1(107).jpg  \n",
            "  inflating: /content/dataset/Training/meningioma_tumor/m1(108).jpg  \n",
            "  inflating: /content/dataset/Training/meningioma_tumor/m1(109).jpg  \n",
            "  inflating: /content/dataset/Training/meningioma_tumor/m1(11).jpg  \n",
            "  inflating: /content/dataset/Training/meningioma_tumor/m1(110).jpg  \n",
            "  inflating: /content/dataset/Training/meningioma_tumor/m1(111).jpg  \n",
            "  inflating: /content/dataset/Training/meningioma_tumor/m1(112).jpg  \n",
            "  inflating: /content/dataset/Training/meningioma_tumor/m1(113).jpg  \n",
            "  inflating: /content/dataset/Training/meningioma_tumor/m1(114).jpg  \n",
            "  inflating: /content/dataset/Training/meningioma_tumor/m1(116).jpg  \n",
            "  inflating: /content/dataset/Training/meningioma_tumor/m1(117).jpg  \n",
            "  inflating: /content/dataset/Training/meningioma_tumor/m1(118).jpg  \n",
            "  inflating: /content/dataset/Training/meningioma_tumor/m1(119).jpg  \n",
            "  inflating: /content/dataset/Training/meningioma_tumor/m1(12).jpg  \n",
            "  inflating: /content/dataset/Training/meningioma_tumor/m1(120).jpg  \n",
            "  inflating: /content/dataset/Training/meningioma_tumor/m1(121).jpg  \n",
            "  inflating: /content/dataset/Training/meningioma_tumor/m1(122).jpg  \n",
            "  inflating: /content/dataset/Training/meningioma_tumor/m1(123).jpg  \n",
            "  inflating: /content/dataset/Training/meningioma_tumor/m1(124).jpg  \n",
            "  inflating: /content/dataset/Training/meningioma_tumor/m1(125).jpg  \n",
            "  inflating: /content/dataset/Training/meningioma_tumor/m1(126).jpg  \n",
            "  inflating: /content/dataset/Training/meningioma_tumor/m1(127).jpg  \n",
            "  inflating: /content/dataset/Training/meningioma_tumor/m1(128).jpg  \n",
            "  inflating: /content/dataset/Training/meningioma_tumor/m1(129).jpg  \n",
            "  inflating: /content/dataset/Training/meningioma_tumor/m1(13).jpg  \n",
            "  inflating: /content/dataset/Training/meningioma_tumor/m1(130).jpg  \n",
            "  inflating: /content/dataset/Training/meningioma_tumor/m1(131).jpg  \n",
            "  inflating: /content/dataset/Training/meningioma_tumor/m1(132).jpg  \n",
            "  inflating: /content/dataset/Training/meningioma_tumor/m1(133).jpg  \n",
            "  inflating: /content/dataset/Training/meningioma_tumor/m1(134).jpg  \n",
            "  inflating: /content/dataset/Training/meningioma_tumor/m1(135).jpg  \n",
            "  inflating: /content/dataset/Training/meningioma_tumor/m1(136).jpg  \n",
            "  inflating: /content/dataset/Training/meningioma_tumor/m1(137).jpg  \n",
            "  inflating: /content/dataset/Training/meningioma_tumor/m1(138).jpg  \n",
            "  inflating: /content/dataset/Training/meningioma_tumor/m1(139).jpg  \n",
            "  inflating: /content/dataset/Training/meningioma_tumor/m1(14).jpg  \n",
            "  inflating: /content/dataset/Training/meningioma_tumor/m1(140).jpg  \n",
            "  inflating: /content/dataset/Training/meningioma_tumor/m1(141).jpg  \n",
            "  inflating: /content/dataset/Training/meningioma_tumor/m1(142).jpg  \n",
            "  inflating: /content/dataset/Training/meningioma_tumor/m1(143).jpg  \n",
            "  inflating: /content/dataset/Training/meningioma_tumor/m1(144).jpg  \n",
            "  inflating: /content/dataset/Training/meningioma_tumor/m1(145).jpg  \n",
            "  inflating: /content/dataset/Training/meningioma_tumor/m1(146).jpg  \n",
            "  inflating: /content/dataset/Training/meningioma_tumor/m1(147).jpg  \n",
            "  inflating: /content/dataset/Training/meningioma_tumor/m1(148).jpg  \n",
            "  inflating: /content/dataset/Training/meningioma_tumor/m1(149).jpg  \n",
            "  inflating: /content/dataset/Training/meningioma_tumor/m1(15).jpg  \n",
            "  inflating: /content/dataset/Training/meningioma_tumor/m1(150).jpg  \n",
            "  inflating: /content/dataset/Training/meningioma_tumor/m1(151).jpg  \n",
            "  inflating: /content/dataset/Training/meningioma_tumor/m1(152).jpg  \n",
            "  inflating: /content/dataset/Training/meningioma_tumor/m1(153).jpg  \n",
            "  inflating: /content/dataset/Training/meningioma_tumor/m1(154).jpg  \n",
            "  inflating: /content/dataset/Training/meningioma_tumor/m1(155).jpg  \n",
            "  inflating: /content/dataset/Training/meningioma_tumor/m1(156).jpg  \n",
            "  inflating: /content/dataset/Training/meningioma_tumor/m1(157).jpg  \n",
            "  inflating: /content/dataset/Training/meningioma_tumor/m1(158).jpg  \n",
            "  inflating: /content/dataset/Training/meningioma_tumor/m1(159).jpg  \n",
            "  inflating: /content/dataset/Training/meningioma_tumor/m1(16).jpg  \n",
            "  inflating: /content/dataset/Training/meningioma_tumor/m1(160).jpg  \n",
            "  inflating: /content/dataset/Training/meningioma_tumor/m1(161).jpg  \n",
            "  inflating: /content/dataset/Training/meningioma_tumor/m1(162).jpg  \n",
            "  inflating: /content/dataset/Training/meningioma_tumor/m1(163).jpg  \n",
            "  inflating: /content/dataset/Training/meningioma_tumor/m1(165).jpg  \n",
            "  inflating: /content/dataset/Training/meningioma_tumor/m1(166).jpg  \n",
            "  inflating: /content/dataset/Training/meningioma_tumor/m1(167).jpg  \n",
            "  inflating: /content/dataset/Training/meningioma_tumor/m1(168).jpg  \n",
            "  inflating: /content/dataset/Training/meningioma_tumor/m1(169).jpg  \n",
            "  inflating: /content/dataset/Training/meningioma_tumor/m1(17).jpg  \n",
            "  inflating: /content/dataset/Training/meningioma_tumor/m1(170).jpg  \n",
            "  inflating: /content/dataset/Training/meningioma_tumor/m1(171).jpg  \n",
            "  inflating: /content/dataset/Training/meningioma_tumor/m1(172).jpg  \n",
            "  inflating: /content/dataset/Training/meningioma_tumor/m1(173).jpg  \n",
            "  inflating: /content/dataset/Training/meningioma_tumor/m1(174).jpg  \n",
            "  inflating: /content/dataset/Training/meningioma_tumor/m1(175).jpg  \n",
            "  inflating: /content/dataset/Training/meningioma_tumor/m1(176).jpg  \n",
            "  inflating: /content/dataset/Training/meningioma_tumor/m1(177).jpg  \n",
            "  inflating: /content/dataset/Training/meningioma_tumor/m1(178).jpg  \n",
            "  inflating: /content/dataset/Training/meningioma_tumor/m1(179).jpg  \n",
            "  inflating: /content/dataset/Training/meningioma_tumor/m1(18).jpg  \n",
            "  inflating: /content/dataset/Training/meningioma_tumor/m1(180).jpg  \n",
            "  inflating: /content/dataset/Training/meningioma_tumor/m1(181).jpg  \n",
            "  inflating: /content/dataset/Training/meningioma_tumor/m1(182).jpg  \n",
            "  inflating: /content/dataset/Training/meningioma_tumor/m1(183).jpg  \n",
            "  inflating: /content/dataset/Training/meningioma_tumor/m1(184).jpg  \n",
            "  inflating: /content/dataset/Training/meningioma_tumor/m1(185).jpg  \n",
            "  inflating: /content/dataset/Training/meningioma_tumor/m1(186).jpg  \n",
            "  inflating: /content/dataset/Training/meningioma_tumor/m1(187).jpg  \n",
            "  inflating: /content/dataset/Training/meningioma_tumor/m1(188).jpg  \n",
            "  inflating: /content/dataset/Training/meningioma_tumor/m1(189).jpg  \n",
            "  inflating: /content/dataset/Training/meningioma_tumor/m1(19).jpg  \n",
            "  inflating: /content/dataset/Training/meningioma_tumor/m1(190).jpg  \n",
            "  inflating: /content/dataset/Training/meningioma_tumor/m1(191).jpg  \n",
            "  inflating: /content/dataset/Training/meningioma_tumor/m1(192).jpg  \n",
            "  inflating: /content/dataset/Training/meningioma_tumor/m1(193).jpg  \n",
            "  inflating: /content/dataset/Training/meningioma_tumor/m1(194).jpg  \n",
            "  inflating: /content/dataset/Training/meningioma_tumor/m1(195).jpg  \n",
            "  inflating: /content/dataset/Training/meningioma_tumor/m1(196).jpg  \n",
            "  inflating: /content/dataset/Training/meningioma_tumor/m1(197).jpg  \n",
            "  inflating: /content/dataset/Training/meningioma_tumor/m1(198).jpg  \n",
            "  inflating: /content/dataset/Training/meningioma_tumor/m1(199).jpg  \n",
            "  inflating: /content/dataset/Training/meningioma_tumor/m1(2).jpg  \n",
            "  inflating: /content/dataset/Training/meningioma_tumor/m1(20).jpg  \n",
            "  inflating: /content/dataset/Training/meningioma_tumor/m1(200).jpg  \n",
            "  inflating: /content/dataset/Training/meningioma_tumor/m1(201).jpg  \n",
            "  inflating: /content/dataset/Training/meningioma_tumor/m1(202).jpg  \n",
            "  inflating: /content/dataset/Training/meningioma_tumor/m1(21).jpg  \n",
            "  inflating: /content/dataset/Training/meningioma_tumor/m1(22).jpg  \n",
            "  inflating: /content/dataset/Training/meningioma_tumor/m1(23).jpg  \n",
            "  inflating: /content/dataset/Training/meningioma_tumor/m1(24).jpg  \n",
            "  inflating: /content/dataset/Training/meningioma_tumor/m1(25).jpg  \n",
            "  inflating: /content/dataset/Training/meningioma_tumor/m1(26).jpg  \n",
            "  inflating: /content/dataset/Training/meningioma_tumor/m1(27).jpg  \n",
            "  inflating: /content/dataset/Training/meningioma_tumor/m1(28).jpg  \n",
            "  inflating: /content/dataset/Training/meningioma_tumor/m1(29).jpg  \n",
            "  inflating: /content/dataset/Training/meningioma_tumor/m1(3).jpg  \n",
            "  inflating: /content/dataset/Training/meningioma_tumor/m1(30).jpg  \n",
            "  inflating: /content/dataset/Training/meningioma_tumor/m1(31).jpg  \n",
            "  inflating: /content/dataset/Training/meningioma_tumor/m1(32).jpg  \n",
            "  inflating: /content/dataset/Training/meningioma_tumor/m1(33).jpg  \n",
            "  inflating: /content/dataset/Training/meningioma_tumor/m1(34).jpg  \n",
            "  inflating: /content/dataset/Training/meningioma_tumor/m1(35).jpg  \n",
            "  inflating: /content/dataset/Training/meningioma_tumor/m1(36).jpg  \n",
            "  inflating: /content/dataset/Training/meningioma_tumor/m1(37).jpg  \n",
            "  inflating: /content/dataset/Training/meningioma_tumor/m1(38).jpg  \n",
            "  inflating: /content/dataset/Training/meningioma_tumor/m1(39).jpg  \n",
            "  inflating: /content/dataset/Training/meningioma_tumor/m1(4).jpg  \n",
            "  inflating: /content/dataset/Training/meningioma_tumor/m1(40).jpg  \n",
            "  inflating: /content/dataset/Training/meningioma_tumor/m1(41).jpg  \n",
            "  inflating: /content/dataset/Training/meningioma_tumor/m1(42).jpg  \n",
            "  inflating: /content/dataset/Training/meningioma_tumor/m1(43).jpg  \n",
            "  inflating: /content/dataset/Training/meningioma_tumor/m1(44).jpg  \n",
            "  inflating: /content/dataset/Training/meningioma_tumor/m1(45).jpg  \n",
            "  inflating: /content/dataset/Training/meningioma_tumor/m1(46).jpg  \n",
            "  inflating: /content/dataset/Training/meningioma_tumor/m1(47).jpg  \n",
            "  inflating: /content/dataset/Training/meningioma_tumor/m1(48).jpg  \n",
            "  inflating: /content/dataset/Training/meningioma_tumor/m1(49).jpg  \n",
            "  inflating: /content/dataset/Training/meningioma_tumor/m1(5).jpg  \n",
            "  inflating: /content/dataset/Training/meningioma_tumor/m1(50).jpg  \n",
            "  inflating: /content/dataset/Training/meningioma_tumor/m1(51).jpg  \n",
            "  inflating: /content/dataset/Training/meningioma_tumor/m1(52).jpg  \n",
            "  inflating: /content/dataset/Training/meningioma_tumor/m1(53).jpg  \n",
            "  inflating: /content/dataset/Training/meningioma_tumor/m1(54).jpg  \n",
            "  inflating: /content/dataset/Training/meningioma_tumor/m1(55).jpg  \n",
            "  inflating: /content/dataset/Training/meningioma_tumor/m1(56).jpg  \n",
            "  inflating: /content/dataset/Training/meningioma_tumor/m1(57).jpg  \n",
            "  inflating: /content/dataset/Training/meningioma_tumor/m1(58).jpg  \n",
            "  inflating: /content/dataset/Training/meningioma_tumor/m1(59).jpg  \n",
            "  inflating: /content/dataset/Training/meningioma_tumor/m1(6).jpg  \n",
            "  inflating: /content/dataset/Training/meningioma_tumor/m1(60).jpg  \n",
            "  inflating: /content/dataset/Training/meningioma_tumor/m1(61).jpg  \n",
            "  inflating: /content/dataset/Training/meningioma_tumor/m1(62).jpg  \n",
            "  inflating: /content/dataset/Training/meningioma_tumor/m1(63).jpg  \n",
            "  inflating: /content/dataset/Training/meningioma_tumor/m1(64).jpg  \n",
            "  inflating: /content/dataset/Training/meningioma_tumor/m1(65).jpg  \n",
            "  inflating: /content/dataset/Training/meningioma_tumor/m1(66).jpg  \n",
            "  inflating: /content/dataset/Training/meningioma_tumor/m1(67).jpg  \n",
            "  inflating: /content/dataset/Training/meningioma_tumor/m1(68).jpg  \n",
            "  inflating: /content/dataset/Training/meningioma_tumor/m1(69).jpg  \n",
            "  inflating: /content/dataset/Training/meningioma_tumor/m1(7).jpg  \n",
            "  inflating: /content/dataset/Training/meningioma_tumor/m1(70).jpg  \n",
            "  inflating: /content/dataset/Training/meningioma_tumor/m1(71).jpg  \n",
            "  inflating: /content/dataset/Training/meningioma_tumor/m1(72).jpg  \n",
            "  inflating: /content/dataset/Training/meningioma_tumor/m1(73).jpg  \n",
            "  inflating: /content/dataset/Training/meningioma_tumor/m1(74).jpg  \n",
            "  inflating: /content/dataset/Training/meningioma_tumor/m1(75).jpg  \n",
            "  inflating: /content/dataset/Training/meningioma_tumor/m1(76).jpg  \n",
            "  inflating: /content/dataset/Training/meningioma_tumor/m1(77).jpg  \n",
            "  inflating: /content/dataset/Training/meningioma_tumor/m1(78).jpg  \n",
            "  inflating: /content/dataset/Training/meningioma_tumor/m1(79).jpg  \n",
            "  inflating: /content/dataset/Training/meningioma_tumor/m1(8).jpg  \n",
            "  inflating: /content/dataset/Training/meningioma_tumor/m1(80).jpg  \n",
            "  inflating: /content/dataset/Training/meningioma_tumor/m1(81).jpg  \n",
            "  inflating: /content/dataset/Training/meningioma_tumor/m1(82).jpg  \n",
            "  inflating: /content/dataset/Training/meningioma_tumor/m1(83).jpg  \n",
            "  inflating: /content/dataset/Training/meningioma_tumor/m1(84).jpg  \n",
            "  inflating: /content/dataset/Training/meningioma_tumor/m1(85).jpg  \n",
            "  inflating: /content/dataset/Training/meningioma_tumor/m1(86).jpg  \n",
            "  inflating: /content/dataset/Training/meningioma_tumor/m1(87).jpg  \n",
            "  inflating: /content/dataset/Training/meningioma_tumor/m1(88).jpg  \n",
            "  inflating: /content/dataset/Training/meningioma_tumor/m1(89).jpg  \n",
            "  inflating: /content/dataset/Training/meningioma_tumor/m1(9).jpg  \n",
            "  inflating: /content/dataset/Training/meningioma_tumor/m1(90).jpg  \n",
            "  inflating: /content/dataset/Training/meningioma_tumor/m1(91).jpg  \n",
            "  inflating: /content/dataset/Training/meningioma_tumor/m1(92).jpg  \n",
            "  inflating: /content/dataset/Training/meningioma_tumor/m1(93).jpg  \n",
            "  inflating: /content/dataset/Training/meningioma_tumor/m1(94).jpg  \n",
            "  inflating: /content/dataset/Training/meningioma_tumor/m1(95).jpg  \n",
            "  inflating: /content/dataset/Training/meningioma_tumor/m1(96).jpg  \n",
            "  inflating: /content/dataset/Training/meningioma_tumor/m1(97).jpg  \n",
            "  inflating: /content/dataset/Training/meningioma_tumor/m1(98).jpg  \n",
            "  inflating: /content/dataset/Training/meningioma_tumor/m1(99).jpg  \n",
            "  inflating: /content/dataset/Training/meningioma_tumor/m2 (1).jpg  \n",
            "  inflating: /content/dataset/Training/meningioma_tumor/m2 (10).jpg  \n",
            "  inflating: /content/dataset/Training/meningioma_tumor/m2 (100).jpg  \n",
            "  inflating: /content/dataset/Training/meningioma_tumor/m2 (101).jpg  \n",
            "  inflating: /content/dataset/Training/meningioma_tumor/m2 (102).jpg  \n",
            "  inflating: /content/dataset/Training/meningioma_tumor/m2 (103).jpg  \n",
            "  inflating: /content/dataset/Training/meningioma_tumor/m2 (104).jpg  \n",
            "  inflating: /content/dataset/Training/meningioma_tumor/m2 (105).jpg  \n",
            "  inflating: /content/dataset/Training/meningioma_tumor/m2 (106).jpg  \n",
            "  inflating: /content/dataset/Training/meningioma_tumor/m2 (107).jpg  \n",
            "  inflating: /content/dataset/Training/meningioma_tumor/m2 (108).jpg  \n",
            "  inflating: /content/dataset/Training/meningioma_tumor/m2 (109).jpg  \n",
            "  inflating: /content/dataset/Training/meningioma_tumor/m2 (11).jpg  \n",
            "  inflating: /content/dataset/Training/meningioma_tumor/m2 (110).jpg  \n",
            "  inflating: /content/dataset/Training/meningioma_tumor/m2 (111).jpg  \n",
            "  inflating: /content/dataset/Training/meningioma_tumor/m2 (112).jpg  \n",
            "  inflating: /content/dataset/Training/meningioma_tumor/m2 (113).jpg  \n",
            "  inflating: /content/dataset/Training/meningioma_tumor/m2 (114).jpg  \n",
            "  inflating: /content/dataset/Training/meningioma_tumor/m2 (115).jpg  \n",
            "  inflating: /content/dataset/Training/meningioma_tumor/m2 (116).jpg  \n",
            "  inflating: /content/dataset/Training/meningioma_tumor/m2 (117).jpg  \n",
            "  inflating: /content/dataset/Training/meningioma_tumor/m2 (118).jpg  \n",
            "  inflating: /content/dataset/Training/meningioma_tumor/m2 (119).jpg  \n",
            "  inflating: /content/dataset/Training/meningioma_tumor/m2 (12).jpg  \n",
            "  inflating: /content/dataset/Training/meningioma_tumor/m2 (120).jpg  \n",
            "  inflating: /content/dataset/Training/meningioma_tumor/m2 (121).jpg  \n",
            "  inflating: /content/dataset/Training/meningioma_tumor/m2 (122).jpg  \n",
            "  inflating: /content/dataset/Training/meningioma_tumor/m2 (123).jpg  \n",
            "  inflating: /content/dataset/Training/meningioma_tumor/m2 (124).jpg  \n",
            "  inflating: /content/dataset/Training/meningioma_tumor/m2 (125).jpg  \n",
            "  inflating: /content/dataset/Training/meningioma_tumor/m2 (126).jpg  \n",
            "  inflating: /content/dataset/Training/meningioma_tumor/m2 (127).jpg  \n",
            "  inflating: /content/dataset/Training/meningioma_tumor/m2 (128).jpg  \n",
            "  inflating: /content/dataset/Training/meningioma_tumor/m2 (129).jpg  \n",
            "  inflating: /content/dataset/Training/meningioma_tumor/m2 (13).jpg  \n",
            "  inflating: /content/dataset/Training/meningioma_tumor/m2 (130).jpg  \n",
            "  inflating: /content/dataset/Training/meningioma_tumor/m2 (131).jpg  \n",
            "  inflating: /content/dataset/Training/meningioma_tumor/m2 (132).jpg  \n",
            "  inflating: /content/dataset/Training/meningioma_tumor/m2 (133).jpg  \n",
            "  inflating: /content/dataset/Training/meningioma_tumor/m2 (134).jpg  \n",
            "  inflating: /content/dataset/Training/meningioma_tumor/m2 (135).jpg  \n",
            "  inflating: /content/dataset/Training/meningioma_tumor/m2 (136).jpg  \n",
            "  inflating: /content/dataset/Training/meningioma_tumor/m2 (137).jpg  \n",
            "  inflating: /content/dataset/Training/meningioma_tumor/m2 (138).jpg  \n",
            "  inflating: /content/dataset/Training/meningioma_tumor/m2 (139).jpg  \n",
            "  inflating: /content/dataset/Training/meningioma_tumor/m2 (14).jpg  \n",
            "  inflating: /content/dataset/Training/meningioma_tumor/m2 (140).jpg  \n",
            "  inflating: /content/dataset/Training/meningioma_tumor/m2 (141).jpg  \n",
            "  inflating: /content/dataset/Training/meningioma_tumor/m2 (142).jpg  \n",
            "  inflating: /content/dataset/Training/meningioma_tumor/m2 (143).jpg  \n",
            "  inflating: /content/dataset/Training/meningioma_tumor/m2 (144).jpg  \n",
            "  inflating: /content/dataset/Training/meningioma_tumor/m2 (145).jpg  \n",
            "  inflating: /content/dataset/Training/meningioma_tumor/m2 (146).jpg  \n",
            "  inflating: /content/dataset/Training/meningioma_tumor/m2 (147).jpg  \n",
            "  inflating: /content/dataset/Training/meningioma_tumor/m2 (148).jpg  \n",
            "  inflating: /content/dataset/Training/meningioma_tumor/m2 (149).jpg  \n",
            "  inflating: /content/dataset/Training/meningioma_tumor/m2 (15).jpg  \n",
            "  inflating: /content/dataset/Training/meningioma_tumor/m2 (150).jpg  \n",
            "  inflating: /content/dataset/Training/meningioma_tumor/m2 (151).jpg  \n",
            "  inflating: /content/dataset/Training/meningioma_tumor/m2 (152).jpg  \n",
            "  inflating: /content/dataset/Training/meningioma_tumor/m2 (153).jpg  \n",
            "  inflating: /content/dataset/Training/meningioma_tumor/m2 (154).jpg  \n",
            "  inflating: /content/dataset/Training/meningioma_tumor/m2 (155).jpg  \n",
            "  inflating: /content/dataset/Training/meningioma_tumor/m2 (156).jpg  \n",
            "  inflating: /content/dataset/Training/meningioma_tumor/m2 (157).jpg  \n",
            "  inflating: /content/dataset/Training/meningioma_tumor/m2 (158).jpg  \n",
            "  inflating: /content/dataset/Training/meningioma_tumor/m2 (159).jpg  \n",
            "  inflating: /content/dataset/Training/meningioma_tumor/m2 (16).jpg  \n",
            "  inflating: /content/dataset/Training/meningioma_tumor/m2 (160).jpg  \n",
            "  inflating: /content/dataset/Training/meningioma_tumor/m2 (161).jpg  \n",
            "  inflating: /content/dataset/Training/meningioma_tumor/m2 (162).jpg  \n",
            "  inflating: /content/dataset/Training/meningioma_tumor/m2 (163).jpg  \n",
            "  inflating: /content/dataset/Training/meningioma_tumor/m2 (164).jpg  \n",
            "  inflating: /content/dataset/Training/meningioma_tumor/m2 (165).jpg  \n",
            "  inflating: /content/dataset/Training/meningioma_tumor/m2 (166).jpg  \n",
            "  inflating: /content/dataset/Training/meningioma_tumor/m2 (167).jpg  \n",
            "  inflating: /content/dataset/Training/meningioma_tumor/m2 (168).jpg  \n",
            "  inflating: /content/dataset/Training/meningioma_tumor/m2 (169).jpg  \n",
            "  inflating: /content/dataset/Training/meningioma_tumor/m2 (17).jpg  \n",
            "  inflating: /content/dataset/Training/meningioma_tumor/m2 (170).jpg  \n",
            "  inflating: /content/dataset/Training/meningioma_tumor/m2 (171).jpg  \n",
            "  inflating: /content/dataset/Training/meningioma_tumor/m2 (172).jpg  \n",
            "  inflating: /content/dataset/Training/meningioma_tumor/m2 (173).jpg  \n",
            "  inflating: /content/dataset/Training/meningioma_tumor/m2 (174).jpg  \n",
            "  inflating: /content/dataset/Training/meningioma_tumor/m2 (175).jpg  \n",
            "  inflating: /content/dataset/Training/meningioma_tumor/m2 (176).jpg  \n",
            "  inflating: /content/dataset/Training/meningioma_tumor/m2 (177).jpg  \n",
            "  inflating: /content/dataset/Training/meningioma_tumor/m2 (18).jpg  \n",
            "  inflating: /content/dataset/Training/meningioma_tumor/m2 (19).jpg  \n",
            "  inflating: /content/dataset/Training/meningioma_tumor/m2 (2).jpg  \n",
            "  inflating: /content/dataset/Training/meningioma_tumor/m2 (20).jpg  \n",
            "  inflating: /content/dataset/Training/meningioma_tumor/m2 (21).jpg  \n",
            "  inflating: /content/dataset/Training/meningioma_tumor/m2 (22).jpg  \n",
            "  inflating: /content/dataset/Training/meningioma_tumor/m2 (23).jpg  \n",
            "  inflating: /content/dataset/Training/meningioma_tumor/m2 (24).jpg  \n",
            "  inflating: /content/dataset/Training/meningioma_tumor/m2 (25).jpg  \n",
            "  inflating: /content/dataset/Training/meningioma_tumor/m2 (26).jpg  \n",
            "  inflating: /content/dataset/Training/meningioma_tumor/m2 (27).jpg  \n",
            "  inflating: /content/dataset/Training/meningioma_tumor/m2 (28).jpg  \n",
            "  inflating: /content/dataset/Training/meningioma_tumor/m2 (29).jpg  \n",
            "  inflating: /content/dataset/Training/meningioma_tumor/m2 (3).jpg  \n",
            "  inflating: /content/dataset/Training/meningioma_tumor/m2 (30).jpg  \n",
            "  inflating: /content/dataset/Training/meningioma_tumor/m2 (31).jpg  \n",
            "  inflating: /content/dataset/Training/meningioma_tumor/m2 (32).jpg  \n",
            "  inflating: /content/dataset/Training/meningioma_tumor/m2 (33).jpg  \n",
            "  inflating: /content/dataset/Training/meningioma_tumor/m2 (34).jpg  \n",
            "  inflating: /content/dataset/Training/meningioma_tumor/m2 (35).jpg  \n",
            "  inflating: /content/dataset/Training/meningioma_tumor/m2 (36).jpg  \n",
            "  inflating: /content/dataset/Training/meningioma_tumor/m2 (37).jpg  \n",
            "  inflating: /content/dataset/Training/meningioma_tumor/m2 (38).jpg  \n",
            "  inflating: /content/dataset/Training/meningioma_tumor/m2 (39).jpg  \n",
            "  inflating: /content/dataset/Training/meningioma_tumor/m2 (4).jpg  \n",
            "  inflating: /content/dataset/Training/meningioma_tumor/m2 (40).jpg  \n",
            "  inflating: /content/dataset/Training/meningioma_tumor/m2 (41).jpg  \n",
            "  inflating: /content/dataset/Training/meningioma_tumor/m2 (42).jpg  \n",
            "  inflating: /content/dataset/Training/meningioma_tumor/m2 (43).jpg  \n",
            "  inflating: /content/dataset/Training/meningioma_tumor/m2 (44).jpg  \n",
            "  inflating: /content/dataset/Training/meningioma_tumor/m2 (45).jpg  \n",
            "  inflating: /content/dataset/Training/meningioma_tumor/m2 (46).jpg  \n",
            "  inflating: /content/dataset/Training/meningioma_tumor/m2 (47).jpg  \n",
            "  inflating: /content/dataset/Training/meningioma_tumor/m2 (48).jpg  \n",
            "  inflating: /content/dataset/Training/meningioma_tumor/m2 (49).jpg  \n",
            "  inflating: /content/dataset/Training/meningioma_tumor/m2 (5).jpg  \n",
            "  inflating: /content/dataset/Training/meningioma_tumor/m2 (50).jpg  \n",
            "  inflating: /content/dataset/Training/meningioma_tumor/m2 (51).jpg  \n",
            "  inflating: /content/dataset/Training/meningioma_tumor/m2 (52).jpg  \n",
            "  inflating: /content/dataset/Training/meningioma_tumor/m2 (53).jpg  \n",
            "  inflating: /content/dataset/Training/meningioma_tumor/m2 (54).jpg  \n",
            "  inflating: /content/dataset/Training/meningioma_tumor/m2 (55).jpg  \n",
            "  inflating: /content/dataset/Training/meningioma_tumor/m2 (56).jpg  \n",
            "  inflating: /content/dataset/Training/meningioma_tumor/m2 (57).jpg  \n",
            "  inflating: /content/dataset/Training/meningioma_tumor/m2 (58).jpg  \n",
            "  inflating: /content/dataset/Training/meningioma_tumor/m2 (59).jpg  \n",
            "  inflating: /content/dataset/Training/meningioma_tumor/m2 (6).jpg  \n",
            "  inflating: /content/dataset/Training/meningioma_tumor/m2 (60).jpg  \n",
            "  inflating: /content/dataset/Training/meningioma_tumor/m2 (61).jpg  \n",
            "  inflating: /content/dataset/Training/meningioma_tumor/m2 (62).jpg  \n",
            "  inflating: /content/dataset/Training/meningioma_tumor/m2 (63).jpg  \n",
            "  inflating: /content/dataset/Training/meningioma_tumor/m2 (64).jpg  \n",
            "  inflating: /content/dataset/Training/meningioma_tumor/m2 (65).jpg  \n",
            "  inflating: /content/dataset/Training/meningioma_tumor/m2 (66).jpg  \n",
            "  inflating: /content/dataset/Training/meningioma_tumor/m2 (67).jpg  \n",
            "  inflating: /content/dataset/Training/meningioma_tumor/m2 (68).jpg  \n",
            "  inflating: /content/dataset/Training/meningioma_tumor/m2 (69).jpg  \n",
            "  inflating: /content/dataset/Training/meningioma_tumor/m2 (7).jpg  \n",
            "  inflating: /content/dataset/Training/meningioma_tumor/m2 (70).jpg  \n",
            "  inflating: /content/dataset/Training/meningioma_tumor/m2 (71).jpg  \n",
            "  inflating: /content/dataset/Training/meningioma_tumor/m2 (72).jpg  \n",
            "  inflating: /content/dataset/Training/meningioma_tumor/m2 (73).jpg  \n",
            "  inflating: /content/dataset/Training/meningioma_tumor/m2 (74).jpg  \n",
            "  inflating: /content/dataset/Training/meningioma_tumor/m2 (75).jpg  \n",
            "  inflating: /content/dataset/Training/meningioma_tumor/m2 (76).jpg  \n",
            "  inflating: /content/dataset/Training/meningioma_tumor/m2 (77).jpg  \n",
            "  inflating: /content/dataset/Training/meningioma_tumor/m2 (78).jpg  \n",
            "  inflating: /content/dataset/Training/meningioma_tumor/m2 (79).jpg  \n",
            "  inflating: /content/dataset/Training/meningioma_tumor/m2 (8).jpg  \n",
            "  inflating: /content/dataset/Training/meningioma_tumor/m2 (80).jpg  \n",
            "  inflating: /content/dataset/Training/meningioma_tumor/m2 (81).jpg  \n",
            "  inflating: /content/dataset/Training/meningioma_tumor/m2 (82).jpg  \n",
            "  inflating: /content/dataset/Training/meningioma_tumor/m2 (83).jpg  \n",
            "  inflating: /content/dataset/Training/meningioma_tumor/m2 (84).jpg  \n",
            "  inflating: /content/dataset/Training/meningioma_tumor/m2 (85).jpg  \n",
            "  inflating: /content/dataset/Training/meningioma_tumor/m2 (86).jpg  \n",
            "  inflating: /content/dataset/Training/meningioma_tumor/m2 (87).jpg  \n",
            "  inflating: /content/dataset/Training/meningioma_tumor/m2 (88).jpg  \n",
            "  inflating: /content/dataset/Training/meningioma_tumor/m2 (89).jpg  \n",
            "  inflating: /content/dataset/Training/meningioma_tumor/m2 (9).jpg  \n",
            "  inflating: /content/dataset/Training/meningioma_tumor/m2 (90).jpg  \n",
            "  inflating: /content/dataset/Training/meningioma_tumor/m2 (91).jpg  \n",
            "  inflating: /content/dataset/Training/meningioma_tumor/m2 (92).jpg  \n",
            "  inflating: /content/dataset/Training/meningioma_tumor/m2 (93).jpg  \n",
            "  inflating: /content/dataset/Training/meningioma_tumor/m2 (94).jpg  \n",
            "  inflating: /content/dataset/Training/meningioma_tumor/m2 (95).jpg  \n",
            "  inflating: /content/dataset/Training/meningioma_tumor/m2 (96).jpg  \n",
            "  inflating: /content/dataset/Training/meningioma_tumor/m2 (97).jpg  \n",
            "  inflating: /content/dataset/Training/meningioma_tumor/m2 (98).jpg  \n",
            "  inflating: /content/dataset/Training/meningioma_tumor/m2 (99).jpg  \n",
            "  inflating: /content/dataset/Training/meningioma_tumor/m3 (1).jpg  \n",
            "  inflating: /content/dataset/Training/meningioma_tumor/m3 (10).jpg  \n",
            "  inflating: /content/dataset/Training/meningioma_tumor/m3 (100).jpg  \n",
            "  inflating: /content/dataset/Training/meningioma_tumor/m3 (101).jpg  \n",
            "  inflating: /content/dataset/Training/meningioma_tumor/m3 (102).jpg  \n",
            "  inflating: /content/dataset/Training/meningioma_tumor/m3 (103).jpg  \n",
            "  inflating: /content/dataset/Training/meningioma_tumor/m3 (104).jpg  \n",
            "  inflating: /content/dataset/Training/meningioma_tumor/m3 (105).jpg  \n",
            "  inflating: /content/dataset/Training/meningioma_tumor/m3 (106).jpg  \n",
            "  inflating: /content/dataset/Training/meningioma_tumor/m3 (107).jpg  \n",
            "  inflating: /content/dataset/Training/meningioma_tumor/m3 (108).jpg  \n",
            "  inflating: /content/dataset/Training/meningioma_tumor/m3 (109).jpg  \n",
            "  inflating: /content/dataset/Training/meningioma_tumor/m3 (11).jpg  \n",
            "  inflating: /content/dataset/Training/meningioma_tumor/m3 (110).jpg  \n",
            "  inflating: /content/dataset/Training/meningioma_tumor/m3 (111).jpg  \n",
            "  inflating: /content/dataset/Training/meningioma_tumor/m3 (112).jpg  \n",
            "  inflating: /content/dataset/Training/meningioma_tumor/m3 (113).jpg  \n",
            "  inflating: /content/dataset/Training/meningioma_tumor/m3 (114).jpg  \n",
            "  inflating: /content/dataset/Training/meningioma_tumor/m3 (115).jpg  \n",
            "  inflating: /content/dataset/Training/meningioma_tumor/m3 (116).jpg  \n",
            "  inflating: /content/dataset/Training/meningioma_tumor/m3 (117).jpg  \n",
            "  inflating: /content/dataset/Training/meningioma_tumor/m3 (118).jpg  \n",
            "  inflating: /content/dataset/Training/meningioma_tumor/m3 (119).jpg  \n",
            "  inflating: /content/dataset/Training/meningioma_tumor/m3 (12).jpg  \n",
            "  inflating: /content/dataset/Training/meningioma_tumor/m3 (120).jpg  \n",
            "  inflating: /content/dataset/Training/meningioma_tumor/m3 (121).jpg  \n",
            "  inflating: /content/dataset/Training/meningioma_tumor/m3 (122).jpg  \n",
            "  inflating: /content/dataset/Training/meningioma_tumor/m3 (123).jpg  \n",
            "  inflating: /content/dataset/Training/meningioma_tumor/m3 (124).jpg  \n",
            "  inflating: /content/dataset/Training/meningioma_tumor/m3 (125).jpg  \n",
            "  inflating: /content/dataset/Training/meningioma_tumor/m3 (126).jpg  \n",
            "  inflating: /content/dataset/Training/meningioma_tumor/m3 (127).jpg  \n",
            "  inflating: /content/dataset/Training/meningioma_tumor/m3 (128).jpg  \n",
            "  inflating: /content/dataset/Training/meningioma_tumor/m3 (129).jpg  \n",
            "  inflating: /content/dataset/Training/meningioma_tumor/m3 (13).jpg  \n",
            "  inflating: /content/dataset/Training/meningioma_tumor/m3 (130).jpg  \n",
            "  inflating: /content/dataset/Training/meningioma_tumor/m3 (131).jpg  \n",
            "  inflating: /content/dataset/Training/meningioma_tumor/m3 (132).jpg  \n",
            "  inflating: /content/dataset/Training/meningioma_tumor/m3 (133).jpg  \n",
            "  inflating: /content/dataset/Training/meningioma_tumor/m3 (134).jpg  \n",
            "  inflating: /content/dataset/Training/meningioma_tumor/m3 (135).jpg  \n",
            "  inflating: /content/dataset/Training/meningioma_tumor/m3 (136).jpg  \n",
            "  inflating: /content/dataset/Training/meningioma_tumor/m3 (137).jpg  \n",
            "  inflating: /content/dataset/Training/meningioma_tumor/m3 (138).jpg  \n",
            "  inflating: /content/dataset/Training/meningioma_tumor/m3 (139).jpg  \n",
            "  inflating: /content/dataset/Training/meningioma_tumor/m3 (14).jpg  \n",
            "  inflating: /content/dataset/Training/meningioma_tumor/m3 (140).jpg  \n",
            "  inflating: /content/dataset/Training/meningioma_tumor/m3 (141).jpg  \n",
            "  inflating: /content/dataset/Training/meningioma_tumor/m3 (142).jpg  \n",
            "  inflating: /content/dataset/Training/meningioma_tumor/m3 (143).jpg  \n",
            "  inflating: /content/dataset/Training/meningioma_tumor/m3 (145).jpg  \n",
            "  inflating: /content/dataset/Training/meningioma_tumor/m3 (146).jpg  \n",
            "  inflating: /content/dataset/Training/meningioma_tumor/m3 (147).jpg  \n",
            "  inflating: /content/dataset/Training/meningioma_tumor/m3 (148).jpg  \n",
            "  inflating: /content/dataset/Training/meningioma_tumor/m3 (149).jpg  \n",
            "  inflating: /content/dataset/Training/meningioma_tumor/m3 (15).jpg  \n",
            "  inflating: /content/dataset/Training/meningioma_tumor/m3 (150).jpg  \n",
            "  inflating: /content/dataset/Training/meningioma_tumor/m3 (151).jpg  \n",
            "  inflating: /content/dataset/Training/meningioma_tumor/m3 (152).jpg  \n",
            "  inflating: /content/dataset/Training/meningioma_tumor/m3 (153).jpg  \n",
            "  inflating: /content/dataset/Training/meningioma_tumor/m3 (154).jpg  \n",
            "  inflating: /content/dataset/Training/meningioma_tumor/m3 (155).jpg  \n",
            "  inflating: /content/dataset/Training/meningioma_tumor/m3 (156).jpg  \n",
            "  inflating: /content/dataset/Training/meningioma_tumor/m3 (157).jpg  \n",
            "  inflating: /content/dataset/Training/meningioma_tumor/m3 (158).jpg  \n",
            "  inflating: /content/dataset/Training/meningioma_tumor/m3 (159).jpg  \n",
            "  inflating: /content/dataset/Training/meningioma_tumor/m3 (16).jpg  \n",
            "  inflating: /content/dataset/Training/meningioma_tumor/m3 (160).jpg  \n",
            "  inflating: /content/dataset/Training/meningioma_tumor/m3 (161).jpg  \n",
            "  inflating: /content/dataset/Training/meningioma_tumor/m3 (162).jpg  \n",
            "  inflating: /content/dataset/Training/meningioma_tumor/m3 (163).jpg  \n",
            "  inflating: /content/dataset/Training/meningioma_tumor/m3 (164).jpg  \n",
            "  inflating: /content/dataset/Training/meningioma_tumor/m3 (165).jpg  \n",
            "  inflating: /content/dataset/Training/meningioma_tumor/m3 (166).jpg  \n",
            "  inflating: /content/dataset/Training/meningioma_tumor/m3 (167).jpg  \n",
            "  inflating: /content/dataset/Training/meningioma_tumor/m3 (168).jpg  \n",
            "  inflating: /content/dataset/Training/meningioma_tumor/m3 (169).jpg  \n",
            "  inflating: /content/dataset/Training/meningioma_tumor/m3 (17).jpg  \n",
            "  inflating: /content/dataset/Training/meningioma_tumor/m3 (170).jpg  \n",
            "  inflating: /content/dataset/Training/meningioma_tumor/m3 (171).jpg  \n",
            "  inflating: /content/dataset/Training/meningioma_tumor/m3 (172).jpg  \n",
            "  inflating: /content/dataset/Training/meningioma_tumor/m3 (173).jpg  \n",
            "  inflating: /content/dataset/Training/meningioma_tumor/m3 (174).jpg  \n",
            "  inflating: /content/dataset/Training/meningioma_tumor/m3 (175).jpg  \n",
            "  inflating: /content/dataset/Training/meningioma_tumor/m3 (176).jpg  \n",
            "  inflating: /content/dataset/Training/meningioma_tumor/m3 (177).jpg  \n",
            "  inflating: /content/dataset/Training/meningioma_tumor/m3 (178).jpg  \n",
            "  inflating: /content/dataset/Training/meningioma_tumor/m3 (179).jpg  \n",
            "  inflating: /content/dataset/Training/meningioma_tumor/m3 (18).jpg  \n",
            "  inflating: /content/dataset/Training/meningioma_tumor/m3 (180).jpg  \n",
            "  inflating: /content/dataset/Training/meningioma_tumor/m3 (181).jpg  \n",
            "  inflating: /content/dataset/Training/meningioma_tumor/m3 (182).jpg  \n",
            "  inflating: /content/dataset/Training/meningioma_tumor/m3 (183).jpg  \n",
            "  inflating: /content/dataset/Training/meningioma_tumor/m3 (184).jpg  \n",
            "  inflating: /content/dataset/Training/meningioma_tumor/m3 (185).jpg  \n",
            "  inflating: /content/dataset/Training/meningioma_tumor/m3 (186).jpg  \n",
            "  inflating: /content/dataset/Training/meningioma_tumor/m3 (187).jpg  \n",
            "  inflating: /content/dataset/Training/meningioma_tumor/m3 (188).jpg  \n",
            "  inflating: /content/dataset/Training/meningioma_tumor/m3 (189).jpg  \n",
            "  inflating: /content/dataset/Training/meningioma_tumor/m3 (19).jpg  \n",
            "  inflating: /content/dataset/Training/meningioma_tumor/m3 (190).jpg  \n",
            "  inflating: /content/dataset/Training/meningioma_tumor/m3 (191).jpg  \n",
            "  inflating: /content/dataset/Training/meningioma_tumor/m3 (192).jpg  \n",
            "  inflating: /content/dataset/Training/meningioma_tumor/m3 (193).jpg  \n",
            "  inflating: /content/dataset/Training/meningioma_tumor/m3 (194).jpg  \n",
            "  inflating: /content/dataset/Training/meningioma_tumor/m3 (195).jpg  \n",
            "  inflating: /content/dataset/Training/meningioma_tumor/m3 (196).jpg  \n",
            "  inflating: /content/dataset/Training/meningioma_tumor/m3 (197).jpg  \n",
            "  inflating: /content/dataset/Training/meningioma_tumor/m3 (198).jpg  \n",
            "  inflating: /content/dataset/Training/meningioma_tumor/m3 (199).jpg  \n",
            "  inflating: /content/dataset/Training/meningioma_tumor/m3 (2).jpg  \n",
            "  inflating: /content/dataset/Training/meningioma_tumor/m3 (20).jpg  \n",
            "  inflating: /content/dataset/Training/meningioma_tumor/m3 (200).jpg  \n",
            "  inflating: /content/dataset/Training/meningioma_tumor/m3 (201).jpg  \n",
            "  inflating: /content/dataset/Training/meningioma_tumor/m3 (202).jpg  \n",
            "  inflating: /content/dataset/Training/meningioma_tumor/m3 (203).jpg  \n",
            "  inflating: /content/dataset/Training/meningioma_tumor/m3 (204).jpg  \n",
            "  inflating: /content/dataset/Training/meningioma_tumor/m3 (205).jpg  \n",
            "  inflating: /content/dataset/Training/meningioma_tumor/m3 (206).jpg  \n",
            "  inflating: /content/dataset/Training/meningioma_tumor/m3 (207).jpg  \n",
            "  inflating: /content/dataset/Training/meningioma_tumor/m3 (208).jpg  \n",
            "  inflating: /content/dataset/Training/meningioma_tumor/m3 (209).jpg  \n",
            "  inflating: /content/dataset/Training/meningioma_tumor/m3 (21).jpg  \n",
            "  inflating: /content/dataset/Training/meningioma_tumor/m3 (210).jpg  \n",
            "  inflating: /content/dataset/Training/meningioma_tumor/m3 (211).jpg  \n",
            "  inflating: /content/dataset/Training/meningioma_tumor/m3 (212).jpg  \n",
            "  inflating: /content/dataset/Training/meningioma_tumor/m3 (213).jpg  \n",
            "  inflating: /content/dataset/Training/meningioma_tumor/m3 (214).jpg  \n",
            "  inflating: /content/dataset/Training/meningioma_tumor/m3 (215).jpg  \n",
            "  inflating: /content/dataset/Training/meningioma_tumor/m3 (216).jpg  \n",
            "  inflating: /content/dataset/Training/meningioma_tumor/m3 (217).jpg  \n",
            "  inflating: /content/dataset/Training/meningioma_tumor/m3 (218).jpg  \n",
            "  inflating: /content/dataset/Training/meningioma_tumor/m3 (219).jpg  \n",
            "  inflating: /content/dataset/Training/meningioma_tumor/m3 (22).jpg  \n",
            "  inflating: /content/dataset/Training/meningioma_tumor/m3 (220).jpg  \n",
            "  inflating: /content/dataset/Training/meningioma_tumor/m3 (221).jpg  \n",
            "  inflating: /content/dataset/Training/meningioma_tumor/m3 (222).jpg  \n",
            "  inflating: /content/dataset/Training/meningioma_tumor/m3 (223).jpg  \n",
            "  inflating: /content/dataset/Training/meningioma_tumor/m3 (224).jpg  \n",
            "  inflating: /content/dataset/Training/meningioma_tumor/m3 (225).jpg  \n",
            "  inflating: /content/dataset/Training/meningioma_tumor/m3 (226).jpg  \n",
            "  inflating: /content/dataset/Training/meningioma_tumor/m3 (227).jpg  \n",
            "  inflating: /content/dataset/Training/meningioma_tumor/m3 (228).jpg  \n",
            "  inflating: /content/dataset/Training/meningioma_tumor/m3 (229).jpg  \n",
            "  inflating: /content/dataset/Training/meningioma_tumor/m3 (23).jpg  \n",
            "  inflating: /content/dataset/Training/meningioma_tumor/m3 (230).jpg  \n",
            "  inflating: /content/dataset/Training/meningioma_tumor/m3 (231).jpg  \n",
            "  inflating: /content/dataset/Training/meningioma_tumor/m3 (232).jpg  \n",
            "  inflating: /content/dataset/Training/meningioma_tumor/m3 (233).jpg  \n",
            "  inflating: /content/dataset/Training/meningioma_tumor/m3 (234).jpg  \n",
            "  inflating: /content/dataset/Training/meningioma_tumor/m3 (235).jpg  \n",
            "  inflating: /content/dataset/Training/meningioma_tumor/m3 (236).jpg  \n",
            "  inflating: /content/dataset/Training/meningioma_tumor/m3 (237).jpg  \n",
            "  inflating: /content/dataset/Training/meningioma_tumor/m3 (238).jpg  \n",
            "  inflating: /content/dataset/Training/meningioma_tumor/m3 (239).jpg  \n",
            "  inflating: /content/dataset/Training/meningioma_tumor/m3 (24).jpg  \n",
            "  inflating: /content/dataset/Training/meningioma_tumor/m3 (240).jpg  \n",
            "  inflating: /content/dataset/Training/meningioma_tumor/m3 (241).jpg  \n",
            "  inflating: /content/dataset/Training/meningioma_tumor/m3 (242).jpg  \n",
            "  inflating: /content/dataset/Training/meningioma_tumor/m3 (243).jpg  \n",
            "  inflating: /content/dataset/Training/meningioma_tumor/m3 (244).jpg  \n",
            "  inflating: /content/dataset/Training/meningioma_tumor/m3 (245).jpg  \n",
            "  inflating: /content/dataset/Training/meningioma_tumor/m3 (246).jpg  \n",
            "  inflating: /content/dataset/Training/meningioma_tumor/m3 (247).jpg  \n",
            "  inflating: /content/dataset/Training/meningioma_tumor/m3 (25).jpg  \n",
            "  inflating: /content/dataset/Training/meningioma_tumor/m3 (26).jpg  \n",
            "  inflating: /content/dataset/Training/meningioma_tumor/m3 (27).jpg  \n",
            "  inflating: /content/dataset/Training/meningioma_tumor/m3 (28).jpg  \n",
            "  inflating: /content/dataset/Training/meningioma_tumor/m3 (29).jpg  \n",
            "  inflating: /content/dataset/Training/meningioma_tumor/m3 (3).jpg  \n",
            "  inflating: /content/dataset/Training/meningioma_tumor/m3 (30).jpg  \n",
            "  inflating: /content/dataset/Training/meningioma_tumor/m3 (31).jpg  \n",
            "  inflating: /content/dataset/Training/meningioma_tumor/m3 (32).jpg  \n",
            "  inflating: /content/dataset/Training/meningioma_tumor/m3 (33).jpg  \n",
            "  inflating: /content/dataset/Training/meningioma_tumor/m3 (34).jpg  \n",
            "  inflating: /content/dataset/Training/meningioma_tumor/m3 (35).jpg  \n",
            "  inflating: /content/dataset/Training/meningioma_tumor/m3 (36).jpg  \n",
            "  inflating: /content/dataset/Training/meningioma_tumor/m3 (37).jpg  \n",
            "  inflating: /content/dataset/Training/meningioma_tumor/m3 (38).jpg  \n",
            "  inflating: /content/dataset/Training/meningioma_tumor/m3 (39).jpg  \n",
            "  inflating: /content/dataset/Training/meningioma_tumor/m3 (4).jpg  \n",
            "  inflating: /content/dataset/Training/meningioma_tumor/m3 (40).jpg  \n",
            "  inflating: /content/dataset/Training/meningioma_tumor/m3 (41).jpg  \n",
            "  inflating: /content/dataset/Training/meningioma_tumor/m3 (42).jpg  \n",
            "  inflating: /content/dataset/Training/meningioma_tumor/m3 (43).jpg  \n",
            "  inflating: /content/dataset/Training/meningioma_tumor/m3 (44).jpg  \n",
            "  inflating: /content/dataset/Training/meningioma_tumor/m3 (45).jpg  \n",
            "  inflating: /content/dataset/Training/meningioma_tumor/m3 (46).jpg  \n",
            "  inflating: /content/dataset/Training/meningioma_tumor/m3 (47).jpg  \n",
            "  inflating: /content/dataset/Training/meningioma_tumor/m3 (48).jpg  \n",
            "  inflating: /content/dataset/Training/meningioma_tumor/m3 (49).jpg  \n",
            "  inflating: /content/dataset/Training/meningioma_tumor/m3 (5).jpg  \n",
            "  inflating: /content/dataset/Training/meningioma_tumor/m3 (50).jpg  \n",
            "  inflating: /content/dataset/Training/meningioma_tumor/m3 (51).jpg  \n",
            "  inflating: /content/dataset/Training/meningioma_tumor/m3 (52).jpg  \n",
            "  inflating: /content/dataset/Training/meningioma_tumor/m3 (53).jpg  \n",
            "  inflating: /content/dataset/Training/meningioma_tumor/m3 (54).jpg  \n",
            "  inflating: /content/dataset/Training/meningioma_tumor/m3 (55).jpg  \n",
            "  inflating: /content/dataset/Training/meningioma_tumor/m3 (56).jpg  \n",
            "  inflating: /content/dataset/Training/meningioma_tumor/m3 (57).jpg  \n",
            "  inflating: /content/dataset/Training/meningioma_tumor/m3 (58).jpg  \n",
            "  inflating: /content/dataset/Training/meningioma_tumor/m3 (59).jpg  \n",
            "  inflating: /content/dataset/Training/meningioma_tumor/m3 (6).jpg  \n",
            "  inflating: /content/dataset/Training/meningioma_tumor/m3 (60).jpg  \n",
            "  inflating: /content/dataset/Training/meningioma_tumor/m3 (61).jpg  \n",
            "  inflating: /content/dataset/Training/meningioma_tumor/m3 (62).jpg  \n",
            "  inflating: /content/dataset/Training/meningioma_tumor/m3 (63).jpg  \n",
            "  inflating: /content/dataset/Training/meningioma_tumor/m3 (64).jpg  \n",
            "  inflating: /content/dataset/Training/meningioma_tumor/m3 (65).jpg  \n",
            "  inflating: /content/dataset/Training/meningioma_tumor/m3 (66).jpg  \n",
            "  inflating: /content/dataset/Training/meningioma_tumor/m3 (67).jpg  \n",
            "  inflating: /content/dataset/Training/meningioma_tumor/m3 (68).jpg  \n",
            "  inflating: /content/dataset/Training/meningioma_tumor/m3 (69).jpg  \n",
            "  inflating: /content/dataset/Training/meningioma_tumor/m3 (7).jpg  \n",
            "  inflating: /content/dataset/Training/meningioma_tumor/m3 (70).jpg  \n",
            "  inflating: /content/dataset/Training/meningioma_tumor/m3 (71).jpg  \n",
            "  inflating: /content/dataset/Training/meningioma_tumor/m3 (72).jpg  \n",
            "  inflating: /content/dataset/Training/meningioma_tumor/m3 (73).jpg  \n",
            "  inflating: /content/dataset/Training/meningioma_tumor/m3 (74).jpg  \n",
            "  inflating: /content/dataset/Training/meningioma_tumor/m3 (75).jpg  \n",
            "  inflating: /content/dataset/Training/meningioma_tumor/m3 (76).jpg  \n",
            "  inflating: /content/dataset/Training/meningioma_tumor/m3 (77).jpg  \n",
            "  inflating: /content/dataset/Training/meningioma_tumor/m3 (78).jpg  \n",
            "  inflating: /content/dataset/Training/meningioma_tumor/m3 (79).jpg  \n",
            "  inflating: /content/dataset/Training/meningioma_tumor/m3 (8).jpg  \n",
            "  inflating: /content/dataset/Training/meningioma_tumor/m3 (80).jpg  \n",
            "  inflating: /content/dataset/Training/meningioma_tumor/m3 (81).jpg  \n",
            "  inflating: /content/dataset/Training/meningioma_tumor/m3 (82).jpg  \n",
            "  inflating: /content/dataset/Training/meningioma_tumor/m3 (83).jpg  \n",
            "  inflating: /content/dataset/Training/meningioma_tumor/m3 (84).jpg  \n",
            "  inflating: /content/dataset/Training/meningioma_tumor/m3 (85).jpg  \n",
            "  inflating: /content/dataset/Training/meningioma_tumor/m3 (86).jpg  \n",
            "  inflating: /content/dataset/Training/meningioma_tumor/m3 (87).jpg  \n",
            "  inflating: /content/dataset/Training/meningioma_tumor/m3 (88).jpg  \n",
            "  inflating: /content/dataset/Training/meningioma_tumor/m3 (89).jpg  \n",
            "  inflating: /content/dataset/Training/meningioma_tumor/m3 (9).jpg  \n",
            "  inflating: /content/dataset/Training/meningioma_tumor/m3 (90).jpg  \n",
            "  inflating: /content/dataset/Training/meningioma_tumor/m3 (91).jpg  \n",
            "  inflating: /content/dataset/Training/meningioma_tumor/m3 (92).jpg  \n",
            "  inflating: /content/dataset/Training/meningioma_tumor/m3 (93).jpg  \n",
            "  inflating: /content/dataset/Training/meningioma_tumor/m3 (94).jpg  \n",
            "  inflating: /content/dataset/Training/meningioma_tumor/m3 (95).jpg  \n",
            "  inflating: /content/dataset/Training/meningioma_tumor/m3 (96).jpg  \n",
            "  inflating: /content/dataset/Training/meningioma_tumor/m3 (97).jpg  \n",
            "  inflating: /content/dataset/Training/meningioma_tumor/m3 (98).jpg  \n",
            "  inflating: /content/dataset/Training/meningioma_tumor/m3 (99).jpg  \n",
            "  inflating: /content/dataset/Training/no_tumor/1.jpg  \n",
            "  inflating: /content/dataset/Training/no_tumor/2.jpg  \n",
            "  inflating: /content/dataset/Training/no_tumor/3.jpg  \n",
            "  inflating: /content/dataset/Training/no_tumor/4.jpg  \n",
            "  inflating: /content/dataset/Training/no_tumor/5.jpg  \n",
            "  inflating: /content/dataset/Training/no_tumor/6.jpg  \n",
            "  inflating: /content/dataset/Training/no_tumor/7.jpg  \n",
            "  inflating: /content/dataset/Training/no_tumor/8.jpg  \n",
            "  inflating: /content/dataset/Training/no_tumor/image (10).jpg  \n",
            "  inflating: /content/dataset/Training/no_tumor/image (11).jpg  \n",
            "  inflating: /content/dataset/Training/no_tumor/image (12).jpg  \n",
            "  inflating: /content/dataset/Training/no_tumor/image (13).jpg  \n",
            "  inflating: /content/dataset/Training/no_tumor/image (14).jpg  \n",
            "  inflating: /content/dataset/Training/no_tumor/image (15).jpg  \n",
            "  inflating: /content/dataset/Training/no_tumor/image (16).jpg  \n",
            "  inflating: /content/dataset/Training/no_tumor/image (17).jpg  \n",
            "  inflating: /content/dataset/Training/no_tumor/image (18).jpg  \n",
            "  inflating: /content/dataset/Training/no_tumor/image (19).jpg  \n",
            "  inflating: /content/dataset/Training/no_tumor/image (20).jpg  \n",
            "  inflating: /content/dataset/Training/no_tumor/image (21).jpg  \n",
            "  inflating: /content/dataset/Training/no_tumor/image (22).jpg  \n",
            "  inflating: /content/dataset/Training/no_tumor/image (23).jpg  \n",
            "  inflating: /content/dataset/Training/no_tumor/image (24).jpg  \n",
            "  inflating: /content/dataset/Training/no_tumor/image (25).jpg  \n",
            "  inflating: /content/dataset/Training/no_tumor/image (26).jpg  \n",
            "  inflating: /content/dataset/Training/no_tumor/image (27).jpg  \n",
            "  inflating: /content/dataset/Training/no_tumor/image (28).jpg  \n",
            "  inflating: /content/dataset/Training/no_tumor/image (29).jpg  \n",
            "  inflating: /content/dataset/Training/no_tumor/image (30).jpg  \n",
            "  inflating: /content/dataset/Training/no_tumor/image (31).jpg  \n",
            "  inflating: /content/dataset/Training/no_tumor/image (32).jpg  \n",
            "  inflating: /content/dataset/Training/no_tumor/image (33).jpg  \n",
            "  inflating: /content/dataset/Training/no_tumor/image (34).jpg  \n",
            "  inflating: /content/dataset/Training/no_tumor/image (35).jpg  \n",
            "  inflating: /content/dataset/Training/no_tumor/image (36).jpg  \n",
            "  inflating: /content/dataset/Training/no_tumor/image (37).jpg  \n",
            "  inflating: /content/dataset/Training/no_tumor/image (38).jpg  \n",
            "  inflating: /content/dataset/Training/no_tumor/image (39).jpg  \n",
            "  inflating: /content/dataset/Training/no_tumor/image (4).jpg  \n",
            "  inflating: /content/dataset/Training/no_tumor/image (40).jpg  \n",
            "  inflating: /content/dataset/Training/no_tumor/image (41).jpg  \n",
            "  inflating: /content/dataset/Training/no_tumor/image (42).jpg  \n",
            "  inflating: /content/dataset/Training/no_tumor/image (43).jpg  \n",
            "  inflating: /content/dataset/Training/no_tumor/image (44).jpg  \n",
            "  inflating: /content/dataset/Training/no_tumor/image (45).jpg  \n",
            "  inflating: /content/dataset/Training/no_tumor/image (46).jpg  \n",
            "  inflating: /content/dataset/Training/no_tumor/image (47).jpg  \n",
            "  inflating: /content/dataset/Training/no_tumor/image (48).jpg  \n",
            "  inflating: /content/dataset/Training/no_tumor/image (49).jpg  \n",
            "  inflating: /content/dataset/Training/no_tumor/image (5).jpg  \n",
            "  inflating: /content/dataset/Training/no_tumor/image (50).jpg  \n",
            "  inflating: /content/dataset/Training/no_tumor/image (51).jpg  \n",
            "  inflating: /content/dataset/Training/no_tumor/image (52).jpg  \n",
            "  inflating: /content/dataset/Training/no_tumor/image (53).jpg  \n",
            "  inflating: /content/dataset/Training/no_tumor/image (54).jpg  \n",
            "  inflating: /content/dataset/Training/no_tumor/image (55).jpg  \n",
            "  inflating: /content/dataset/Training/no_tumor/image (56).jpg  \n",
            "  inflating: /content/dataset/Training/no_tumor/image (57).jpg  \n",
            "  inflating: /content/dataset/Training/no_tumor/image (58).jpg  \n",
            "  inflating: /content/dataset/Training/no_tumor/image (59).jpg  \n",
            "  inflating: /content/dataset/Training/no_tumor/image (6).jpg  \n",
            "  inflating: /content/dataset/Training/no_tumor/image (60).jpg  \n",
            "  inflating: /content/dataset/Training/no_tumor/image (61).jpg  \n",
            "  inflating: /content/dataset/Training/no_tumor/image (62).jpg  \n",
            "  inflating: /content/dataset/Training/no_tumor/image (63).jpg  \n",
            "  inflating: /content/dataset/Training/no_tumor/image (64).jpg  \n",
            "  inflating: /content/dataset/Training/no_tumor/image (7).jpg  \n",
            "  inflating: /content/dataset/Training/no_tumor/image (8).jpg  \n",
            "  inflating: /content/dataset/Training/no_tumor/image (9).jpg  \n",
            "  inflating: /content/dataset/Training/no_tumor/image(1).jpg  \n",
            "  inflating: /content/dataset/Training/no_tumor/image(10).jpg  \n",
            "  inflating: /content/dataset/Training/no_tumor/image(100).jpg  \n",
            "  inflating: /content/dataset/Training/no_tumor/image(101).jpg  \n",
            "  inflating: /content/dataset/Training/no_tumor/image(102).jpg  \n",
            "  inflating: /content/dataset/Training/no_tumor/image(103).jpg  \n",
            "  inflating: /content/dataset/Training/no_tumor/image(104).jpg  \n",
            "  inflating: /content/dataset/Training/no_tumor/image(105).jpg  \n",
            "  inflating: /content/dataset/Training/no_tumor/image(106).jpg  \n",
            "  inflating: /content/dataset/Training/no_tumor/image(107).jpg  \n",
            "  inflating: /content/dataset/Training/no_tumor/image(108).jpg  \n",
            "  inflating: /content/dataset/Training/no_tumor/image(11).jpg  \n",
            "  inflating: /content/dataset/Training/no_tumor/image(110).jpg  \n",
            "  inflating: /content/dataset/Training/no_tumor/image(111).jpg  \n",
            "  inflating: /content/dataset/Training/no_tumor/image(112).jpg  \n",
            "  inflating: /content/dataset/Training/no_tumor/image(113).jpg  \n",
            "  inflating: /content/dataset/Training/no_tumor/image(114).jpg  \n",
            "  inflating: /content/dataset/Training/no_tumor/image(115).jpg  \n",
            "  inflating: /content/dataset/Training/no_tumor/image(116).jpg  \n",
            "  inflating: /content/dataset/Training/no_tumor/image(117).jpg  \n",
            "  inflating: /content/dataset/Training/no_tumor/image(118).jpg  \n",
            "  inflating: /content/dataset/Training/no_tumor/image(119).jpg  \n",
            "  inflating: /content/dataset/Training/no_tumor/image(12).jpg  \n",
            "  inflating: /content/dataset/Training/no_tumor/image(120).jpg  \n",
            "  inflating: /content/dataset/Training/no_tumor/image(121).jpg  \n",
            "  inflating: /content/dataset/Training/no_tumor/image(122).jpg  \n",
            "  inflating: /content/dataset/Training/no_tumor/image(123).jpg  \n",
            "  inflating: /content/dataset/Training/no_tumor/image(124).jpg  \n",
            "  inflating: /content/dataset/Training/no_tumor/image(125).jpg  \n",
            "  inflating: /content/dataset/Training/no_tumor/image(126).jpg  \n",
            "  inflating: /content/dataset/Training/no_tumor/image(127).jpg  \n",
            "  inflating: /content/dataset/Training/no_tumor/image(128).jpg  \n",
            "  inflating: /content/dataset/Training/no_tumor/image(129).jpg  \n",
            "  inflating: /content/dataset/Training/no_tumor/image(13).jpg  \n",
            "  inflating: /content/dataset/Training/no_tumor/image(130).jpg  \n",
            "  inflating: /content/dataset/Training/no_tumor/image(131).jpg  \n",
            "  inflating: /content/dataset/Training/no_tumor/image(132).jpg  \n",
            "  inflating: /content/dataset/Training/no_tumor/image(133).jpg  \n",
            "  inflating: /content/dataset/Training/no_tumor/image(134).jpg  \n",
            "  inflating: /content/dataset/Training/no_tumor/image(135).jpg  \n",
            "  inflating: /content/dataset/Training/no_tumor/image(136).jpg  \n",
            "  inflating: /content/dataset/Training/no_tumor/image(137).jpg  \n",
            "  inflating: /content/dataset/Training/no_tumor/image(138).jpg  \n",
            "  inflating: /content/dataset/Training/no_tumor/image(139).jpg  \n",
            "  inflating: /content/dataset/Training/no_tumor/image(14).jpg  \n",
            "  inflating: /content/dataset/Training/no_tumor/image(140).jpg  \n",
            "  inflating: /content/dataset/Training/no_tumor/image(141).jpg  \n",
            "  inflating: /content/dataset/Training/no_tumor/image(142).jpg  \n",
            "  inflating: /content/dataset/Training/no_tumor/image(143).jpg  \n",
            "  inflating: /content/dataset/Training/no_tumor/image(144).jpg  \n",
            "  inflating: /content/dataset/Training/no_tumor/image(145).jpg  \n",
            "  inflating: /content/dataset/Training/no_tumor/image(146).jpg  \n",
            "  inflating: /content/dataset/Training/no_tumor/image(147).jpg  \n",
            "  inflating: /content/dataset/Training/no_tumor/image(148).jpg  \n",
            "  inflating: /content/dataset/Training/no_tumor/image(149).jpg  \n",
            "  inflating: /content/dataset/Training/no_tumor/image(15).jpg  \n",
            "  inflating: /content/dataset/Training/no_tumor/image(150).jpg  \n",
            "  inflating: /content/dataset/Training/no_tumor/image(151).jpg  \n",
            "  inflating: /content/dataset/Training/no_tumor/image(152).jpg  \n",
            "  inflating: /content/dataset/Training/no_tumor/image(153).jpg  \n",
            "  inflating: /content/dataset/Training/no_tumor/image(154).jpg  \n",
            "  inflating: /content/dataset/Training/no_tumor/image(155).jpg  \n",
            "  inflating: /content/dataset/Training/no_tumor/image(156).jpg  \n",
            "  inflating: /content/dataset/Training/no_tumor/image(157).jpg  \n",
            "  inflating: /content/dataset/Training/no_tumor/image(158).jpg  \n",
            "  inflating: /content/dataset/Training/no_tumor/image(159).jpg  \n",
            "  inflating: /content/dataset/Training/no_tumor/image(16).jpg  \n",
            "  inflating: /content/dataset/Training/no_tumor/image(160).jpg  \n",
            "  inflating: /content/dataset/Training/no_tumor/image(161).jpg  \n",
            "  inflating: /content/dataset/Training/no_tumor/image(162).jpg  \n",
            "  inflating: /content/dataset/Training/no_tumor/image(163).jpg  \n",
            "  inflating: /content/dataset/Training/no_tumor/image(164).jpg  \n",
            "  inflating: /content/dataset/Training/no_tumor/image(165).jpg  \n",
            "  inflating: /content/dataset/Training/no_tumor/image(166).jpg  \n",
            "  inflating: /content/dataset/Training/no_tumor/image(167).jpg  \n",
            "  inflating: /content/dataset/Training/no_tumor/image(168).jpg  \n",
            "  inflating: /content/dataset/Training/no_tumor/image(169).jpg  \n",
            "  inflating: /content/dataset/Training/no_tumor/image(17).jpg  \n",
            "  inflating: /content/dataset/Training/no_tumor/image(170).jpg  \n",
            "  inflating: /content/dataset/Training/no_tumor/image(171).jpg  \n",
            "  inflating: /content/dataset/Training/no_tumor/image(172).jpg  \n",
            "  inflating: /content/dataset/Training/no_tumor/image(173).jpg  \n",
            "  inflating: /content/dataset/Training/no_tumor/image(174).jpg  \n",
            "  inflating: /content/dataset/Training/no_tumor/image(175).jpg  \n",
            "  inflating: /content/dataset/Training/no_tumor/image(176).jpg  \n",
            "  inflating: /content/dataset/Training/no_tumor/image(177).jpg  \n",
            "  inflating: /content/dataset/Training/no_tumor/image(178).jpg  \n",
            "  inflating: /content/dataset/Training/no_tumor/image(179).jpg  \n",
            "  inflating: /content/dataset/Training/no_tumor/image(18).jpg  \n",
            "  inflating: /content/dataset/Training/no_tumor/image(180).jpg  \n",
            "  inflating: /content/dataset/Training/no_tumor/image(181).jpg  \n",
            "  inflating: /content/dataset/Training/no_tumor/image(182).jpg  \n",
            "  inflating: /content/dataset/Training/no_tumor/image(183).jpg  \n",
            "  inflating: /content/dataset/Training/no_tumor/image(184).jpg  \n",
            "  inflating: /content/dataset/Training/no_tumor/image(185).jpg  \n",
            "  inflating: /content/dataset/Training/no_tumor/image(186).jpg  \n",
            "  inflating: /content/dataset/Training/no_tumor/image(187).jpg  \n",
            "  inflating: /content/dataset/Training/no_tumor/image(188).jpg  \n",
            "  inflating: /content/dataset/Training/no_tumor/image(189).jpg  \n",
            "  inflating: /content/dataset/Training/no_tumor/image(19).jpg  \n",
            "  inflating: /content/dataset/Training/no_tumor/image(190).jpg  \n",
            "  inflating: /content/dataset/Training/no_tumor/image(191).jpg  \n",
            "  inflating: /content/dataset/Training/no_tumor/image(192).jpg  \n",
            "  inflating: /content/dataset/Training/no_tumor/image(193).jpg  \n",
            "  inflating: /content/dataset/Training/no_tumor/image(194).jpg  \n",
            "  inflating: /content/dataset/Training/no_tumor/image(195).jpg  \n",
            "  inflating: /content/dataset/Training/no_tumor/image(196).jpg  \n",
            "  inflating: /content/dataset/Training/no_tumor/image(197).jpg  \n",
            "  inflating: /content/dataset/Training/no_tumor/image(198).jpg  \n",
            "  inflating: /content/dataset/Training/no_tumor/image(199).jpg  \n",
            "  inflating: /content/dataset/Training/no_tumor/image(2).jpg  \n",
            "  inflating: /content/dataset/Training/no_tumor/image(20).jpg  \n",
            "  inflating: /content/dataset/Training/no_tumor/image(200).jpg  \n",
            "  inflating: /content/dataset/Training/no_tumor/image(201).jpg  \n",
            "  inflating: /content/dataset/Training/no_tumor/image(202).jpg  \n",
            "  inflating: /content/dataset/Training/no_tumor/image(203).jpg  \n",
            "  inflating: /content/dataset/Training/no_tumor/image(204).jpg  \n",
            "  inflating: /content/dataset/Training/no_tumor/image(205).jpg  \n",
            "  inflating: /content/dataset/Training/no_tumor/image(206).jpg  \n",
            "  inflating: /content/dataset/Training/no_tumor/image(207).jpg  \n",
            "  inflating: /content/dataset/Training/no_tumor/image(208).jpg  \n",
            "  inflating: /content/dataset/Training/no_tumor/image(209).jpg  \n",
            "  inflating: /content/dataset/Training/no_tumor/image(21).jpg  \n",
            "  inflating: /content/dataset/Training/no_tumor/image(210).jpg  \n",
            "  inflating: /content/dataset/Training/no_tumor/image(211).jpg  \n",
            "  inflating: /content/dataset/Training/no_tumor/image(212).jpg  \n",
            "  inflating: /content/dataset/Training/no_tumor/image(213).jpg  \n",
            "  inflating: /content/dataset/Training/no_tumor/image(214).jpg  \n",
            "  inflating: /content/dataset/Training/no_tumor/image(215).jpg  \n",
            "  inflating: /content/dataset/Training/no_tumor/image(216).jpg  \n",
            "  inflating: /content/dataset/Training/no_tumor/image(217).jpg  \n",
            "  inflating: /content/dataset/Training/no_tumor/image(218).jpg  \n",
            "  inflating: /content/dataset/Training/no_tumor/image(219).jpg  \n",
            "  inflating: /content/dataset/Training/no_tumor/image(22).jpg  \n",
            "  inflating: /content/dataset/Training/no_tumor/image(220).jpg  \n",
            "  inflating: /content/dataset/Training/no_tumor/image(221).jpg  \n",
            "  inflating: /content/dataset/Training/no_tumor/image(222).jpg  \n",
            "  inflating: /content/dataset/Training/no_tumor/image(223).jpg  \n",
            "  inflating: /content/dataset/Training/no_tumor/image(224).jpg  \n",
            "  inflating: /content/dataset/Training/no_tumor/image(225).jpg  \n",
            "  inflating: /content/dataset/Training/no_tumor/image(226).jpg  \n",
            "  inflating: /content/dataset/Training/no_tumor/image(227).jpg  \n",
            "  inflating: /content/dataset/Training/no_tumor/image(228).jpg  \n",
            "  inflating: /content/dataset/Training/no_tumor/image(229).jpg  \n",
            "  inflating: /content/dataset/Training/no_tumor/image(23).jpg  \n",
            "  inflating: /content/dataset/Training/no_tumor/image(230).jpg  \n",
            "  inflating: /content/dataset/Training/no_tumor/image(231).jpg  \n",
            "  inflating: /content/dataset/Training/no_tumor/image(232).jpg  \n",
            "  inflating: /content/dataset/Training/no_tumor/image(233).jpg  \n",
            "  inflating: /content/dataset/Training/no_tumor/image(234).jpg  \n",
            "  inflating: /content/dataset/Training/no_tumor/image(235).jpg  \n",
            "  inflating: /content/dataset/Training/no_tumor/image(236).jpg  \n",
            "  inflating: /content/dataset/Training/no_tumor/image(237).jpg  \n",
            "  inflating: /content/dataset/Training/no_tumor/image(238).jpg  \n",
            "  inflating: /content/dataset/Training/no_tumor/image(239).jpg  \n",
            "  inflating: /content/dataset/Training/no_tumor/image(24).jpg  \n",
            "  inflating: /content/dataset/Training/no_tumor/image(240).jpg  \n",
            "  inflating: /content/dataset/Training/no_tumor/image(241).jpg  \n",
            "  inflating: /content/dataset/Training/no_tumor/image(242).jpg  \n",
            "  inflating: /content/dataset/Training/no_tumor/image(243).jpg  \n",
            "  inflating: /content/dataset/Training/no_tumor/image(244).jpg  \n",
            "  inflating: /content/dataset/Training/no_tumor/image(245).jpg  \n",
            "  inflating: /content/dataset/Training/no_tumor/image(246).jpg  \n",
            "  inflating: /content/dataset/Training/no_tumor/image(247).jpg  \n",
            "  inflating: /content/dataset/Training/no_tumor/image(248).jpg  \n",
            "  inflating: /content/dataset/Training/no_tumor/image(249).jpg  \n",
            "  inflating: /content/dataset/Training/no_tumor/image(25).jpg  \n",
            "  inflating: /content/dataset/Training/no_tumor/image(250).jpg  \n",
            "  inflating: /content/dataset/Training/no_tumor/image(251).jpg  \n",
            "  inflating: /content/dataset/Training/no_tumor/image(252).jpg  \n",
            "  inflating: /content/dataset/Training/no_tumor/image(253).jpg  \n",
            "  inflating: /content/dataset/Training/no_tumor/image(254).jpg  \n",
            "  inflating: /content/dataset/Training/no_tumor/image(255).jpg  \n",
            "  inflating: /content/dataset/Training/no_tumor/image(256).jpg  \n",
            "  inflating: /content/dataset/Training/no_tumor/image(257).jpg  \n",
            "  inflating: /content/dataset/Training/no_tumor/image(258).jpg  \n",
            "  inflating: /content/dataset/Training/no_tumor/image(259).jpg  \n",
            "  inflating: /content/dataset/Training/no_tumor/image(26).jpg  \n",
            "  inflating: /content/dataset/Training/no_tumor/image(260).jpg  \n",
            "  inflating: /content/dataset/Training/no_tumor/image(261).jpg  \n",
            "  inflating: /content/dataset/Training/no_tumor/image(262).jpg  \n",
            "  inflating: /content/dataset/Training/no_tumor/image(263).jpg  \n",
            "  inflating: /content/dataset/Training/no_tumor/image(264).jpg  \n",
            "  inflating: /content/dataset/Training/no_tumor/image(265).jpg  \n",
            "  inflating: /content/dataset/Training/no_tumor/image(266).jpg  \n",
            "  inflating: /content/dataset/Training/no_tumor/image(267).jpg  \n",
            "  inflating: /content/dataset/Training/no_tumor/image(268).jpg  \n",
            "  inflating: /content/dataset/Training/no_tumor/image(269).jpg  \n",
            "  inflating: /content/dataset/Training/no_tumor/image(27).jpg  \n",
            "  inflating: /content/dataset/Training/no_tumor/image(270).jpg  \n",
            "  inflating: /content/dataset/Training/no_tumor/image(271).jpg  \n",
            "  inflating: /content/dataset/Training/no_tumor/image(272).jpg  \n",
            "  inflating: /content/dataset/Training/no_tumor/image(273).jpg  \n",
            "  inflating: /content/dataset/Training/no_tumor/image(274).jpg  \n",
            "  inflating: /content/dataset/Training/no_tumor/image(275).jpg  \n",
            "  inflating: /content/dataset/Training/no_tumor/image(276).jpg  \n",
            "  inflating: /content/dataset/Training/no_tumor/image(277).jpg  \n",
            "  inflating: /content/dataset/Training/no_tumor/image(278).jpg  \n",
            "  inflating: /content/dataset/Training/no_tumor/image(279).jpg  \n",
            "  inflating: /content/dataset/Training/no_tumor/image(28).jpg  \n",
            "  inflating: /content/dataset/Training/no_tumor/image(280).jpg  \n",
            "  inflating: /content/dataset/Training/no_tumor/image(281).jpg  \n",
            "  inflating: /content/dataset/Training/no_tumor/image(282).jpg  \n",
            "  inflating: /content/dataset/Training/no_tumor/image(283).jpg  \n",
            "  inflating: /content/dataset/Training/no_tumor/image(284).jpg  \n",
            "  inflating: /content/dataset/Training/no_tumor/image(285).jpg  \n",
            "  inflating: /content/dataset/Training/no_tumor/image(286).jpg  \n",
            "  inflating: /content/dataset/Training/no_tumor/image(287).jpg  \n",
            "  inflating: /content/dataset/Training/no_tumor/image(288).jpg  \n",
            "  inflating: /content/dataset/Training/no_tumor/image(289).jpg  \n",
            "  inflating: /content/dataset/Training/no_tumor/image(29).jpg  \n",
            "  inflating: /content/dataset/Training/no_tumor/image(290).jpg  \n",
            "  inflating: /content/dataset/Training/no_tumor/image(291).jpg  \n",
            "  inflating: /content/dataset/Training/no_tumor/image(292).jpg  \n",
            "  inflating: /content/dataset/Training/no_tumor/image(293).jpg  \n",
            "  inflating: /content/dataset/Training/no_tumor/image(294).jpg  \n",
            "  inflating: /content/dataset/Training/no_tumor/image(295).jpg  \n",
            "  inflating: /content/dataset/Training/no_tumor/image(296).jpg  \n",
            "  inflating: /content/dataset/Training/no_tumor/image(297).jpg  \n",
            "  inflating: /content/dataset/Training/no_tumor/image(298).jpg  \n",
            "  inflating: /content/dataset/Training/no_tumor/image(299).jpg  \n",
            "  inflating: /content/dataset/Training/no_tumor/image(3).jpg  \n",
            "  inflating: /content/dataset/Training/no_tumor/image(30).jpg  \n",
            "  inflating: /content/dataset/Training/no_tumor/image(300).jpg  \n",
            "  inflating: /content/dataset/Training/no_tumor/image(301).jpg  \n",
            "  inflating: /content/dataset/Training/no_tumor/image(302).jpg  \n",
            "  inflating: /content/dataset/Training/no_tumor/image(303).jpg  \n",
            "  inflating: /content/dataset/Training/no_tumor/image(304).jpg  \n",
            "  inflating: /content/dataset/Training/no_tumor/image(305).jpg  \n",
            "  inflating: /content/dataset/Training/no_tumor/image(306).jpg  \n",
            "  inflating: /content/dataset/Training/no_tumor/image(307).jpg  \n",
            "  inflating: /content/dataset/Training/no_tumor/image(308).jpg  \n",
            "  inflating: /content/dataset/Training/no_tumor/image(309).jpg  \n",
            "  inflating: /content/dataset/Training/no_tumor/image(31).jpg  \n",
            "  inflating: /content/dataset/Training/no_tumor/image(310).jpg  \n",
            "  inflating: /content/dataset/Training/no_tumor/image(311).jpg  \n",
            "  inflating: /content/dataset/Training/no_tumor/image(312).jpg  \n",
            "  inflating: /content/dataset/Training/no_tumor/image(313).jpg  \n",
            "  inflating: /content/dataset/Training/no_tumor/image(314).jpg  \n",
            "  inflating: /content/dataset/Training/no_tumor/image(315).jpg  \n",
            "  inflating: /content/dataset/Training/no_tumor/image(316).jpg  \n",
            "  inflating: /content/dataset/Training/no_tumor/image(317).jpg  \n",
            "  inflating: /content/dataset/Training/no_tumor/image(318).jpg  \n",
            "  inflating: /content/dataset/Training/no_tumor/image(319).jpg  \n",
            "  inflating: /content/dataset/Training/no_tumor/image(32).jpg  \n",
            "  inflating: /content/dataset/Training/no_tumor/image(320).jpg  \n",
            "  inflating: /content/dataset/Training/no_tumor/image(321).jpg  \n",
            "  inflating: /content/dataset/Training/no_tumor/image(322).jpg  \n",
            "  inflating: /content/dataset/Training/no_tumor/image(323).jpg  \n",
            "  inflating: /content/dataset/Training/no_tumor/image(324).jpg  \n",
            "  inflating: /content/dataset/Training/no_tumor/image(325).jpg  \n",
            "  inflating: /content/dataset/Training/no_tumor/image(326).jpg  \n",
            "  inflating: /content/dataset/Training/no_tumor/image(327).jpg  \n",
            "  inflating: /content/dataset/Training/no_tumor/image(33).jpg  \n",
            "  inflating: /content/dataset/Training/no_tumor/image(34).jpg  \n",
            "  inflating: /content/dataset/Training/no_tumor/image(35).jpg  \n",
            "  inflating: /content/dataset/Training/no_tumor/image(36).jpg  \n",
            "  inflating: /content/dataset/Training/no_tumor/image(37).jpg  \n",
            "  inflating: /content/dataset/Training/no_tumor/image(38).jpg  \n",
            "  inflating: /content/dataset/Training/no_tumor/image(39).jpg  \n",
            "  inflating: /content/dataset/Training/no_tumor/image(4).jpg  \n",
            "  inflating: /content/dataset/Training/no_tumor/image(40).jpg  \n",
            "  inflating: /content/dataset/Training/no_tumor/image(41).jpg  \n",
            "  inflating: /content/dataset/Training/no_tumor/image(42).jpg  \n",
            "  inflating: /content/dataset/Training/no_tumor/image(43).jpg  \n",
            "  inflating: /content/dataset/Training/no_tumor/image(44).jpg  \n",
            "  inflating: /content/dataset/Training/no_tumor/image(45).jpg  \n",
            "  inflating: /content/dataset/Training/no_tumor/image(46).jpg  \n",
            "  inflating: /content/dataset/Training/no_tumor/image(47).jpg  \n",
            "  inflating: /content/dataset/Training/no_tumor/image(48).jpg  \n",
            "  inflating: /content/dataset/Training/no_tumor/image(49).jpg  \n",
            "  inflating: /content/dataset/Training/no_tumor/image(5).jpg  \n",
            "  inflating: /content/dataset/Training/no_tumor/image(50).jpg  \n",
            "  inflating: /content/dataset/Training/no_tumor/image(51).jpg  \n",
            "  inflating: /content/dataset/Training/no_tumor/image(52).jpg  \n",
            "  inflating: /content/dataset/Training/no_tumor/image(53).jpg  \n",
            "  inflating: /content/dataset/Training/no_tumor/image(54).jpg  \n",
            "  inflating: /content/dataset/Training/no_tumor/image(55).jpg  \n",
            "  inflating: /content/dataset/Training/no_tumor/image(56).jpg  \n",
            "  inflating: /content/dataset/Training/no_tumor/image(57).jpg  \n",
            "  inflating: /content/dataset/Training/no_tumor/image(58).jpg  \n",
            "  inflating: /content/dataset/Training/no_tumor/image(59).jpg  \n",
            "  inflating: /content/dataset/Training/no_tumor/image(6).jpg  \n",
            "  inflating: /content/dataset/Training/no_tumor/image(60).jpg  \n",
            "  inflating: /content/dataset/Training/no_tumor/image(61).jpg  \n",
            "  inflating: /content/dataset/Training/no_tumor/image(62).jpg  \n",
            "  inflating: /content/dataset/Training/no_tumor/image(63).jpg  \n",
            "  inflating: /content/dataset/Training/no_tumor/image(64).jpg  \n",
            "  inflating: /content/dataset/Training/no_tumor/image(65).jpg  \n",
            "  inflating: /content/dataset/Training/no_tumor/image(66).jpg  \n",
            "  inflating: /content/dataset/Training/no_tumor/image(67).jpg  \n",
            "  inflating: /content/dataset/Training/no_tumor/image(68).jpg  \n",
            "  inflating: /content/dataset/Training/no_tumor/image(69).jpg  \n",
            "  inflating: /content/dataset/Training/no_tumor/image(7).jpg  \n",
            "  inflating: /content/dataset/Training/no_tumor/image(70).jpg  \n",
            "  inflating: /content/dataset/Training/no_tumor/image(71).jpg  \n",
            "  inflating: /content/dataset/Training/no_tumor/image(72).jpg  \n",
            "  inflating: /content/dataset/Training/no_tumor/image(73).jpg  \n",
            "  inflating: /content/dataset/Training/no_tumor/image(74).jpg  \n",
            "  inflating: /content/dataset/Training/no_tumor/image(75).jpg  \n",
            "  inflating: /content/dataset/Training/no_tumor/image(76).jpg  \n",
            "  inflating: /content/dataset/Training/no_tumor/image(77).jpg  \n",
            "  inflating: /content/dataset/Training/no_tumor/image(78).jpg  \n",
            "  inflating: /content/dataset/Training/no_tumor/image(79).jpg  \n",
            "  inflating: /content/dataset/Training/no_tumor/image(8).jpg  \n",
            "  inflating: /content/dataset/Training/no_tumor/image(80).jpg  \n",
            "  inflating: /content/dataset/Training/no_tumor/image(81).jpg  \n",
            "  inflating: /content/dataset/Training/no_tumor/image(82).jpg  \n",
            "  inflating: /content/dataset/Training/no_tumor/image(83).jpg  \n",
            "  inflating: /content/dataset/Training/no_tumor/image(84).jpg  \n",
            "  inflating: /content/dataset/Training/no_tumor/image(85).jpg  \n",
            "  inflating: /content/dataset/Training/no_tumor/image(86).jpg  \n",
            "  inflating: /content/dataset/Training/no_tumor/image(87).jpg  \n",
            "  inflating: /content/dataset/Training/no_tumor/image(88).jpg  \n",
            "  inflating: /content/dataset/Training/no_tumor/image(89).jpg  \n",
            "  inflating: /content/dataset/Training/no_tumor/image(9).jpg  \n",
            "  inflating: /content/dataset/Training/no_tumor/image(90).jpg  \n",
            "  inflating: /content/dataset/Training/no_tumor/image(91).jpg  \n",
            "  inflating: /content/dataset/Training/no_tumor/image(92).jpg  \n",
            "  inflating: /content/dataset/Training/no_tumor/image(93).jpg  \n",
            "  inflating: /content/dataset/Training/no_tumor/image(94).jpg  \n",
            "  inflating: /content/dataset/Training/no_tumor/image(95).jpg  \n",
            "  inflating: /content/dataset/Training/no_tumor/image(96).jpg  \n",
            "  inflating: /content/dataset/Training/no_tumor/image(98).jpg  \n",
            "  inflating: /content/dataset/Training/no_tumor/image(99).jpg  \n",
            "  inflating: /content/dataset/Training/no_tumor/image.jpg  \n",
            "  inflating: /content/dataset/Training/pituitary_tumor/p (1).jpg  \n",
            "  inflating: /content/dataset/Training/pituitary_tumor/p (10).jpg  \n",
            "  inflating: /content/dataset/Training/pituitary_tumor/p (100).jpg  \n",
            "  inflating: /content/dataset/Training/pituitary_tumor/p (101).jpg  \n",
            "  inflating: /content/dataset/Training/pituitary_tumor/p (102).jpg  \n",
            "  inflating: /content/dataset/Training/pituitary_tumor/p (103).jpg  \n",
            "  inflating: /content/dataset/Training/pituitary_tumor/p (104).jpg  \n",
            "  inflating: /content/dataset/Training/pituitary_tumor/p (105).jpg  \n",
            "  inflating: /content/dataset/Training/pituitary_tumor/p (106).jpg  \n",
            "  inflating: /content/dataset/Training/pituitary_tumor/p (107).jpg  \n",
            "  inflating: /content/dataset/Training/pituitary_tumor/p (108).jpg  \n",
            "  inflating: /content/dataset/Training/pituitary_tumor/p (109).jpg  \n",
            "  inflating: /content/dataset/Training/pituitary_tumor/p (11).jpg  \n",
            "  inflating: /content/dataset/Training/pituitary_tumor/p (110).jpg  \n",
            "  inflating: /content/dataset/Training/pituitary_tumor/p (111).jpg  \n",
            "  inflating: /content/dataset/Training/pituitary_tumor/p (112).jpg  \n",
            "  inflating: /content/dataset/Training/pituitary_tumor/p (113).jpg  \n",
            "  inflating: /content/dataset/Training/pituitary_tumor/p (114).jpg  \n",
            "  inflating: /content/dataset/Training/pituitary_tumor/p (115).jpg  \n",
            "  inflating: /content/dataset/Training/pituitary_tumor/p (116).jpg  \n",
            "  inflating: /content/dataset/Training/pituitary_tumor/p (117).jpg  \n",
            "  inflating: /content/dataset/Training/pituitary_tumor/p (118).jpg  \n",
            "  inflating: /content/dataset/Training/pituitary_tumor/p (119).jpg  \n",
            "  inflating: /content/dataset/Training/pituitary_tumor/p (12).jpg  \n",
            "  inflating: /content/dataset/Training/pituitary_tumor/p (120).jpg  \n",
            "  inflating: /content/dataset/Training/pituitary_tumor/p (121).jpg  \n",
            "  inflating: /content/dataset/Training/pituitary_tumor/p (122).jpg  \n",
            "  inflating: /content/dataset/Training/pituitary_tumor/p (123).jpg  \n",
            "  inflating: /content/dataset/Training/pituitary_tumor/p (124).jpg  \n",
            "  inflating: /content/dataset/Training/pituitary_tumor/p (125).jpg  \n",
            "  inflating: /content/dataset/Training/pituitary_tumor/p (126).jpg  \n",
            "  inflating: /content/dataset/Training/pituitary_tumor/p (127).jpg  \n",
            "  inflating: /content/dataset/Training/pituitary_tumor/p (128).jpg  \n",
            "  inflating: /content/dataset/Training/pituitary_tumor/p (129).jpg  \n",
            "  inflating: /content/dataset/Training/pituitary_tumor/p (13).jpg  \n",
            "  inflating: /content/dataset/Training/pituitary_tumor/p (130).jpg  \n",
            "  inflating: /content/dataset/Training/pituitary_tumor/p (131).jpg  \n",
            "  inflating: /content/dataset/Training/pituitary_tumor/p (132).jpg  \n",
            "  inflating: /content/dataset/Training/pituitary_tumor/p (133).jpg  \n",
            "  inflating: /content/dataset/Training/pituitary_tumor/p (134).jpg  \n",
            "  inflating: /content/dataset/Training/pituitary_tumor/p (135).jpg  \n",
            "  inflating: /content/dataset/Training/pituitary_tumor/p (136).jpg  \n",
            "  inflating: /content/dataset/Training/pituitary_tumor/p (137).jpg  \n",
            "  inflating: /content/dataset/Training/pituitary_tumor/p (138).jpg  \n",
            "  inflating: /content/dataset/Training/pituitary_tumor/p (139).jpg  \n",
            "  inflating: /content/dataset/Training/pituitary_tumor/p (14).jpg  \n",
            "  inflating: /content/dataset/Training/pituitary_tumor/p (140).jpg  \n",
            "  inflating: /content/dataset/Training/pituitary_tumor/p (141).jpg  \n",
            "  inflating: /content/dataset/Training/pituitary_tumor/p (142).jpg  \n",
            "  inflating: /content/dataset/Training/pituitary_tumor/p (143).jpg  \n",
            "  inflating: /content/dataset/Training/pituitary_tumor/p (144).jpg  \n",
            "  inflating: /content/dataset/Training/pituitary_tumor/p (145).jpg  \n",
            "  inflating: /content/dataset/Training/pituitary_tumor/p (146).jpg  \n",
            "  inflating: /content/dataset/Training/pituitary_tumor/p (147).jpg  \n",
            "  inflating: /content/dataset/Training/pituitary_tumor/p (148).jpg  \n",
            "  inflating: /content/dataset/Training/pituitary_tumor/p (149).jpg  \n",
            "  inflating: /content/dataset/Training/pituitary_tumor/p (15).jpg  \n",
            "  inflating: /content/dataset/Training/pituitary_tumor/p (150).jpg  \n",
            "  inflating: /content/dataset/Training/pituitary_tumor/p (151).jpg  \n",
            "  inflating: /content/dataset/Training/pituitary_tumor/p (152).jpg  \n",
            "  inflating: /content/dataset/Training/pituitary_tumor/p (153).jpg  \n",
            "  inflating: /content/dataset/Training/pituitary_tumor/p (154).jpg  \n",
            "  inflating: /content/dataset/Training/pituitary_tumor/p (155).jpg  \n",
            "  inflating: /content/dataset/Training/pituitary_tumor/p (156).jpg  \n",
            "  inflating: /content/dataset/Training/pituitary_tumor/p (157).jpg  \n",
            "  inflating: /content/dataset/Training/pituitary_tumor/p (158).jpg  \n",
            "  inflating: /content/dataset/Training/pituitary_tumor/p (159).jpg  \n",
            "  inflating: /content/dataset/Training/pituitary_tumor/p (16).jpg  \n",
            "  inflating: /content/dataset/Training/pituitary_tumor/p (160).jpg  \n",
            "  inflating: /content/dataset/Training/pituitary_tumor/p (161).jpg  \n",
            "  inflating: /content/dataset/Training/pituitary_tumor/p (162).jpg  \n",
            "  inflating: /content/dataset/Training/pituitary_tumor/p (163).jpg  \n",
            "  inflating: /content/dataset/Training/pituitary_tumor/p (164).jpg  \n",
            "  inflating: /content/dataset/Training/pituitary_tumor/p (165).jpg  \n",
            "  inflating: /content/dataset/Training/pituitary_tumor/p (166).jpg  \n",
            "  inflating: /content/dataset/Training/pituitary_tumor/p (167).jpg  \n",
            "  inflating: /content/dataset/Training/pituitary_tumor/p (168).jpg  \n",
            "  inflating: /content/dataset/Training/pituitary_tumor/p (169).jpg  \n",
            "  inflating: /content/dataset/Training/pituitary_tumor/p (17).jpg  \n",
            "  inflating: /content/dataset/Training/pituitary_tumor/p (170).jpg  \n",
            "  inflating: /content/dataset/Training/pituitary_tumor/p (171).jpg  \n",
            "  inflating: /content/dataset/Training/pituitary_tumor/p (172).jpg  \n",
            "  inflating: /content/dataset/Training/pituitary_tumor/p (173).jpg  \n",
            "  inflating: /content/dataset/Training/pituitary_tumor/p (174).jpg  \n",
            "  inflating: /content/dataset/Training/pituitary_tumor/p (175).jpg  \n",
            "  inflating: /content/dataset/Training/pituitary_tumor/p (176).jpg  \n",
            "  inflating: /content/dataset/Training/pituitary_tumor/p (177).jpg  \n",
            "  inflating: /content/dataset/Training/pituitary_tumor/p (178).jpg  \n",
            "  inflating: /content/dataset/Training/pituitary_tumor/p (179).jpg  \n",
            "  inflating: /content/dataset/Training/pituitary_tumor/p (18).jpg  \n",
            "  inflating: /content/dataset/Training/pituitary_tumor/p (180).jpg  \n",
            "  inflating: /content/dataset/Training/pituitary_tumor/p (181).jpg  \n",
            "  inflating: /content/dataset/Training/pituitary_tumor/p (182).jpg  \n",
            "  inflating: /content/dataset/Training/pituitary_tumor/p (183).jpg  \n",
            "  inflating: /content/dataset/Training/pituitary_tumor/p (184).jpg  \n",
            "  inflating: /content/dataset/Training/pituitary_tumor/p (185).jpg  \n",
            "  inflating: /content/dataset/Training/pituitary_tumor/p (186).jpg  \n",
            "  inflating: /content/dataset/Training/pituitary_tumor/p (187).jpg  \n",
            "  inflating: /content/dataset/Training/pituitary_tumor/p (188).jpg  \n",
            "  inflating: /content/dataset/Training/pituitary_tumor/p (189).jpg  \n",
            "  inflating: /content/dataset/Training/pituitary_tumor/p (19).jpg  \n",
            "  inflating: /content/dataset/Training/pituitary_tumor/p (190).jpg  \n",
            "  inflating: /content/dataset/Training/pituitary_tumor/p (191).jpg  \n",
            "  inflating: /content/dataset/Training/pituitary_tumor/p (192).jpg  \n",
            "  inflating: /content/dataset/Training/pituitary_tumor/p (193).jpg  \n",
            "  inflating: /content/dataset/Training/pituitary_tumor/p (194).jpg  \n",
            "  inflating: /content/dataset/Training/pituitary_tumor/p (195).jpg  \n",
            "  inflating: /content/dataset/Training/pituitary_tumor/p (196).jpg  \n",
            "  inflating: /content/dataset/Training/pituitary_tumor/p (197).jpg  \n",
            "  inflating: /content/dataset/Training/pituitary_tumor/p (198).jpg  \n",
            "  inflating: /content/dataset/Training/pituitary_tumor/p (199).jpg  \n",
            "  inflating: /content/dataset/Training/pituitary_tumor/p (2).jpg  \n",
            "  inflating: /content/dataset/Training/pituitary_tumor/p (20).jpg  \n",
            "  inflating: /content/dataset/Training/pituitary_tumor/p (200).jpg  \n",
            "  inflating: /content/dataset/Training/pituitary_tumor/p (201).jpg  \n",
            "  inflating: /content/dataset/Training/pituitary_tumor/p (202).jpg  \n",
            "  inflating: /content/dataset/Training/pituitary_tumor/p (203).jpg  \n",
            "  inflating: /content/dataset/Training/pituitary_tumor/p (204).jpg  \n",
            "  inflating: /content/dataset/Training/pituitary_tumor/p (205).jpg  \n",
            "  inflating: /content/dataset/Training/pituitary_tumor/p (206).jpg  \n",
            "  inflating: /content/dataset/Training/pituitary_tumor/p (207).jpg  \n",
            "  inflating: /content/dataset/Training/pituitary_tumor/p (208).jpg  \n",
            "  inflating: /content/dataset/Training/pituitary_tumor/p (209).jpg  \n",
            "  inflating: /content/dataset/Training/pituitary_tumor/p (21).jpg  \n",
            "  inflating: /content/dataset/Training/pituitary_tumor/p (210).jpg  \n",
            "  inflating: /content/dataset/Training/pituitary_tumor/p (211).jpg  \n",
            "  inflating: /content/dataset/Training/pituitary_tumor/p (212).jpg  \n",
            "  inflating: /content/dataset/Training/pituitary_tumor/p (213).jpg  \n",
            "  inflating: /content/dataset/Training/pituitary_tumor/p (214).jpg  \n",
            "  inflating: /content/dataset/Training/pituitary_tumor/p (215).jpg  \n",
            "  inflating: /content/dataset/Training/pituitary_tumor/p (216).jpg  \n",
            "  inflating: /content/dataset/Training/pituitary_tumor/p (217).jpg  \n",
            "  inflating: /content/dataset/Training/pituitary_tumor/p (218).jpg  \n",
            "  inflating: /content/dataset/Training/pituitary_tumor/p (219).jpg  \n",
            "  inflating: /content/dataset/Training/pituitary_tumor/p (22).jpg  \n",
            "  inflating: /content/dataset/Training/pituitary_tumor/p (220).jpg  \n",
            "  inflating: /content/dataset/Training/pituitary_tumor/p (221).jpg  \n",
            "  inflating: /content/dataset/Training/pituitary_tumor/p (222).jpg  \n",
            "  inflating: /content/dataset/Training/pituitary_tumor/p (223).jpg  \n",
            "  inflating: /content/dataset/Training/pituitary_tumor/p (224).jpg  \n",
            "  inflating: /content/dataset/Training/pituitary_tumor/p (225).jpg  \n",
            "  inflating: /content/dataset/Training/pituitary_tumor/p (226).jpg  \n",
            "  inflating: /content/dataset/Training/pituitary_tumor/p (227).jpg  \n",
            "  inflating: /content/dataset/Training/pituitary_tumor/p (228).jpg  \n",
            "  inflating: /content/dataset/Training/pituitary_tumor/p (229).jpg  \n",
            "  inflating: /content/dataset/Training/pituitary_tumor/p (23).jpg  \n",
            "  inflating: /content/dataset/Training/pituitary_tumor/p (230).jpg  \n",
            "  inflating: /content/dataset/Training/pituitary_tumor/p (231).jpg  \n",
            "  inflating: /content/dataset/Training/pituitary_tumor/p (232).jpg  \n",
            "  inflating: /content/dataset/Training/pituitary_tumor/p (233).jpg  \n",
            "  inflating: /content/dataset/Training/pituitary_tumor/p (234).jpg  \n",
            "  inflating: /content/dataset/Training/pituitary_tumor/p (235).jpg  \n",
            "  inflating: /content/dataset/Training/pituitary_tumor/p (236).jpg  \n",
            "  inflating: /content/dataset/Training/pituitary_tumor/p (237).jpg  \n",
            "  inflating: /content/dataset/Training/pituitary_tumor/p (238).jpg  \n",
            "  inflating: /content/dataset/Training/pituitary_tumor/p (239).jpg  \n",
            "  inflating: /content/dataset/Training/pituitary_tumor/p (24).jpg  \n",
            "  inflating: /content/dataset/Training/pituitary_tumor/p (240).jpg  \n",
            "  inflating: /content/dataset/Training/pituitary_tumor/p (241).jpg  \n",
            "  inflating: /content/dataset/Training/pituitary_tumor/p (242).jpg  \n",
            "  inflating: /content/dataset/Training/pituitary_tumor/p (243).jpg  \n",
            "  inflating: /content/dataset/Training/pituitary_tumor/p (244).jpg  \n",
            "  inflating: /content/dataset/Training/pituitary_tumor/p (245).jpg  \n",
            "  inflating: /content/dataset/Training/pituitary_tumor/p (246).jpg  \n",
            "  inflating: /content/dataset/Training/pituitary_tumor/p (247).jpg  \n",
            "  inflating: /content/dataset/Training/pituitary_tumor/p (248).jpg  \n",
            "  inflating: /content/dataset/Training/pituitary_tumor/p (249).jpg  \n",
            "  inflating: /content/dataset/Training/pituitary_tumor/p (25).jpg  \n",
            "  inflating: /content/dataset/Training/pituitary_tumor/p (250).jpg  \n",
            "  inflating: /content/dataset/Training/pituitary_tumor/p (251).jpg  \n",
            "  inflating: /content/dataset/Training/pituitary_tumor/p (252).jpg  \n",
            "  inflating: /content/dataset/Training/pituitary_tumor/p (253).jpg  \n",
            "  inflating: /content/dataset/Training/pituitary_tumor/p (254).jpg  \n",
            "  inflating: /content/dataset/Training/pituitary_tumor/p (255).jpg  \n",
            "  inflating: /content/dataset/Training/pituitary_tumor/p (256).jpg  \n",
            "  inflating: /content/dataset/Training/pituitary_tumor/p (257).jpg  \n",
            "  inflating: /content/dataset/Training/pituitary_tumor/p (258).jpg  \n",
            "  inflating: /content/dataset/Training/pituitary_tumor/p (259).jpg  \n",
            "  inflating: /content/dataset/Training/pituitary_tumor/p (26).jpg  \n",
            "  inflating: /content/dataset/Training/pituitary_tumor/p (260).jpg  \n",
            "  inflating: /content/dataset/Training/pituitary_tumor/p (261).jpg  \n",
            "  inflating: /content/dataset/Training/pituitary_tumor/p (262).jpg  \n",
            "  inflating: /content/dataset/Training/pituitary_tumor/p (263).jpg  \n",
            "  inflating: /content/dataset/Training/pituitary_tumor/p (264).jpg  \n",
            "  inflating: /content/dataset/Training/pituitary_tumor/p (265).jpg  \n",
            "  inflating: /content/dataset/Training/pituitary_tumor/p (266).jpg  \n",
            "  inflating: /content/dataset/Training/pituitary_tumor/p (267).jpg  \n",
            "  inflating: /content/dataset/Training/pituitary_tumor/p (268).jpg  \n",
            "  inflating: /content/dataset/Training/pituitary_tumor/p (269).jpg  \n",
            "  inflating: /content/dataset/Training/pituitary_tumor/p (27).jpg  \n",
            "  inflating: /content/dataset/Training/pituitary_tumor/p (270).jpg  \n",
            "  inflating: /content/dataset/Training/pituitary_tumor/p (271).jpg  \n",
            "  inflating: /content/dataset/Training/pituitary_tumor/p (272).jpg  \n",
            "  inflating: /content/dataset/Training/pituitary_tumor/p (273).jpg  \n",
            "  inflating: /content/dataset/Training/pituitary_tumor/p (274).jpg  \n",
            "  inflating: /content/dataset/Training/pituitary_tumor/p (275).jpg  \n",
            "  inflating: /content/dataset/Training/pituitary_tumor/p (276).jpg  \n",
            "  inflating: /content/dataset/Training/pituitary_tumor/p (277).jpg  \n",
            "  inflating: /content/dataset/Training/pituitary_tumor/p (278).jpg  \n",
            "  inflating: /content/dataset/Training/pituitary_tumor/p (279).jpg  \n",
            "  inflating: /content/dataset/Training/pituitary_tumor/p (28).jpg  \n",
            "  inflating: /content/dataset/Training/pituitary_tumor/p (280).jpg  \n",
            "  inflating: /content/dataset/Training/pituitary_tumor/p (281).jpg  \n",
            "  inflating: /content/dataset/Training/pituitary_tumor/p (282).jpg  \n",
            "  inflating: /content/dataset/Training/pituitary_tumor/p (283).jpg  \n",
            "  inflating: /content/dataset/Training/pituitary_tumor/p (284).jpg  \n",
            "  inflating: /content/dataset/Training/pituitary_tumor/p (285).jpg  \n",
            "  inflating: /content/dataset/Training/pituitary_tumor/p (286).jpg  \n",
            "  inflating: /content/dataset/Training/pituitary_tumor/p (287).jpg  \n",
            "  inflating: /content/dataset/Training/pituitary_tumor/p (288).jpg  \n",
            "  inflating: /content/dataset/Training/pituitary_tumor/p (289).jpg  \n",
            "  inflating: /content/dataset/Training/pituitary_tumor/p (29).jpg  \n",
            "  inflating: /content/dataset/Training/pituitary_tumor/p (290).jpg  \n",
            "  inflating: /content/dataset/Training/pituitary_tumor/p (291).jpg  \n",
            "  inflating: /content/dataset/Training/pituitary_tumor/p (292).jpg  \n",
            "  inflating: /content/dataset/Training/pituitary_tumor/p (293).jpg  \n",
            "  inflating: /content/dataset/Training/pituitary_tumor/p (294).jpg  \n",
            "  inflating: /content/dataset/Training/pituitary_tumor/p (295).jpg  \n",
            "  inflating: /content/dataset/Training/pituitary_tumor/p (296).jpg  \n",
            "  inflating: /content/dataset/Training/pituitary_tumor/p (297).jpg  \n",
            "  inflating: /content/dataset/Training/pituitary_tumor/p (298).jpg  \n",
            "  inflating: /content/dataset/Training/pituitary_tumor/p (299).jpg  \n",
            "  inflating: /content/dataset/Training/pituitary_tumor/p (3).jpg  \n",
            "  inflating: /content/dataset/Training/pituitary_tumor/p (30).jpg  \n",
            "  inflating: /content/dataset/Training/pituitary_tumor/p (300).jpg  \n",
            "  inflating: /content/dataset/Training/pituitary_tumor/p (301).jpg  \n",
            "  inflating: /content/dataset/Training/pituitary_tumor/p (302).jpg  \n",
            "  inflating: /content/dataset/Training/pituitary_tumor/p (303).jpg  \n",
            "  inflating: /content/dataset/Training/pituitary_tumor/p (304).jpg  \n",
            "  inflating: /content/dataset/Training/pituitary_tumor/p (305).jpg  \n",
            "  inflating: /content/dataset/Training/pituitary_tumor/p (306).jpg  \n",
            "  inflating: /content/dataset/Training/pituitary_tumor/p (307).jpg  \n",
            "  inflating: /content/dataset/Training/pituitary_tumor/p (308).jpg  \n",
            "  inflating: /content/dataset/Training/pituitary_tumor/p (309).jpg  \n",
            "  inflating: /content/dataset/Training/pituitary_tumor/p (31).jpg  \n",
            "  inflating: /content/dataset/Training/pituitary_tumor/p (310).jpg  \n",
            "  inflating: /content/dataset/Training/pituitary_tumor/p (311).jpg  \n",
            "  inflating: /content/dataset/Training/pituitary_tumor/p (312).jpg  \n",
            "  inflating: /content/dataset/Training/pituitary_tumor/p (313).jpg  \n",
            "  inflating: /content/dataset/Training/pituitary_tumor/p (314).jpg  \n",
            "  inflating: /content/dataset/Training/pituitary_tumor/p (315).jpg  \n",
            "  inflating: /content/dataset/Training/pituitary_tumor/p (316).jpg  \n",
            "  inflating: /content/dataset/Training/pituitary_tumor/p (317).jpg  \n",
            "  inflating: /content/dataset/Training/pituitary_tumor/p (318).jpg  \n",
            "  inflating: /content/dataset/Training/pituitary_tumor/p (319).jpg  \n",
            "  inflating: /content/dataset/Training/pituitary_tumor/p (32).jpg  \n",
            "  inflating: /content/dataset/Training/pituitary_tumor/p (320).jpg  \n",
            "  inflating: /content/dataset/Training/pituitary_tumor/p (321).jpg  \n",
            "  inflating: /content/dataset/Training/pituitary_tumor/p (322).jpg  \n",
            "  inflating: /content/dataset/Training/pituitary_tumor/p (323).jpg  \n",
            "  inflating: /content/dataset/Training/pituitary_tumor/p (324).jpg  \n",
            "  inflating: /content/dataset/Training/pituitary_tumor/p (325).jpg  \n",
            "  inflating: /content/dataset/Training/pituitary_tumor/p (326).jpg  \n",
            "  inflating: /content/dataset/Training/pituitary_tumor/p (327).jpg  \n",
            "  inflating: /content/dataset/Training/pituitary_tumor/p (328).jpg  \n",
            "  inflating: /content/dataset/Training/pituitary_tumor/p (329).jpg  \n",
            "  inflating: /content/dataset/Training/pituitary_tumor/p (33).jpg  \n",
            "  inflating: /content/dataset/Training/pituitary_tumor/p (330).jpg  \n",
            "  inflating: /content/dataset/Training/pituitary_tumor/p (331).jpg  \n",
            "  inflating: /content/dataset/Training/pituitary_tumor/p (332).jpg  \n",
            "  inflating: /content/dataset/Training/pituitary_tumor/p (333).jpg  \n",
            "  inflating: /content/dataset/Training/pituitary_tumor/p (334).jpg  \n",
            "  inflating: /content/dataset/Training/pituitary_tumor/p (335).jpg  \n",
            "  inflating: /content/dataset/Training/pituitary_tumor/p (336).jpg  \n",
            "  inflating: /content/dataset/Training/pituitary_tumor/p (337).jpg  \n",
            "  inflating: /content/dataset/Training/pituitary_tumor/p (338).jpg  \n",
            "  inflating: /content/dataset/Training/pituitary_tumor/p (339).jpg  \n",
            "  inflating: /content/dataset/Training/pituitary_tumor/p (34).jpg  \n",
            "  inflating: /content/dataset/Training/pituitary_tumor/p (340).jpg  \n",
            "  inflating: /content/dataset/Training/pituitary_tumor/p (341).jpg  \n",
            "  inflating: /content/dataset/Training/pituitary_tumor/p (342).jpg  \n",
            "  inflating: /content/dataset/Training/pituitary_tumor/p (343).jpg  \n",
            "  inflating: /content/dataset/Training/pituitary_tumor/p (344).jpg  \n",
            "  inflating: /content/dataset/Training/pituitary_tumor/p (345).jpg  \n",
            "  inflating: /content/dataset/Training/pituitary_tumor/p (346).jpg  \n",
            "  inflating: /content/dataset/Training/pituitary_tumor/p (347).jpg  \n",
            "  inflating: /content/dataset/Training/pituitary_tumor/p (348).jpg  \n",
            "  inflating: /content/dataset/Training/pituitary_tumor/p (349).jpg  \n",
            "  inflating: /content/dataset/Training/pituitary_tumor/p (35).jpg  \n",
            "  inflating: /content/dataset/Training/pituitary_tumor/p (350).jpg  \n",
            "  inflating: /content/dataset/Training/pituitary_tumor/p (351).jpg  \n",
            "  inflating: /content/dataset/Training/pituitary_tumor/p (352).jpg  \n",
            "  inflating: /content/dataset/Training/pituitary_tumor/p (353).jpg  \n",
            "  inflating: /content/dataset/Training/pituitary_tumor/p (354).jpg  \n",
            "  inflating: /content/dataset/Training/pituitary_tumor/p (355).jpg  \n",
            "  inflating: /content/dataset/Training/pituitary_tumor/p (356).jpg  \n",
            "  inflating: /content/dataset/Training/pituitary_tumor/p (357).jpg  \n",
            "  inflating: /content/dataset/Training/pituitary_tumor/p (358).jpg  \n",
            "  inflating: /content/dataset/Training/pituitary_tumor/p (359).jpg  \n",
            "  inflating: /content/dataset/Training/pituitary_tumor/p (36).jpg  \n",
            "  inflating: /content/dataset/Training/pituitary_tumor/p (360).jpg  \n",
            "  inflating: /content/dataset/Training/pituitary_tumor/p (361).jpg  \n",
            "  inflating: /content/dataset/Training/pituitary_tumor/p (362).jpg  \n",
            "  inflating: /content/dataset/Training/pituitary_tumor/p (363).jpg  \n",
            "  inflating: /content/dataset/Training/pituitary_tumor/p (364).jpg  \n",
            "  inflating: /content/dataset/Training/pituitary_tumor/p (365).jpg  \n",
            "  inflating: /content/dataset/Training/pituitary_tumor/p (366).jpg  \n",
            "  inflating: /content/dataset/Training/pituitary_tumor/p (367).jpg  \n",
            "  inflating: /content/dataset/Training/pituitary_tumor/p (368).jpg  \n",
            "  inflating: /content/dataset/Training/pituitary_tumor/p (369).jpg  \n",
            "  inflating: /content/dataset/Training/pituitary_tumor/p (37).jpg  \n",
            "  inflating: /content/dataset/Training/pituitary_tumor/p (370).jpg  \n",
            "  inflating: /content/dataset/Training/pituitary_tumor/p (371).jpg  \n",
            "  inflating: /content/dataset/Training/pituitary_tumor/p (372).jpg  \n",
            "  inflating: /content/dataset/Training/pituitary_tumor/p (373).jpg  \n",
            "  inflating: /content/dataset/Training/pituitary_tumor/p (374).jpg  \n",
            "  inflating: /content/dataset/Training/pituitary_tumor/p (375).jpg  \n",
            "  inflating: /content/dataset/Training/pituitary_tumor/p (376).jpg  \n",
            "  inflating: /content/dataset/Training/pituitary_tumor/p (377).jpg  \n",
            "  inflating: /content/dataset/Training/pituitary_tumor/p (378).jpg  \n",
            "  inflating: /content/dataset/Training/pituitary_tumor/p (379).jpg  \n",
            "  inflating: /content/dataset/Training/pituitary_tumor/p (38).jpg  \n",
            "  inflating: /content/dataset/Training/pituitary_tumor/p (380).jpg  \n",
            "  inflating: /content/dataset/Training/pituitary_tumor/p (381).jpg  \n",
            "  inflating: /content/dataset/Training/pituitary_tumor/p (382).jpg  \n",
            "  inflating: /content/dataset/Training/pituitary_tumor/p (383).jpg  \n",
            "  inflating: /content/dataset/Training/pituitary_tumor/p (384).jpg  \n",
            "  inflating: /content/dataset/Training/pituitary_tumor/p (385).jpg  \n",
            "  inflating: /content/dataset/Training/pituitary_tumor/p (386).jpg  \n",
            "  inflating: /content/dataset/Training/pituitary_tumor/p (387).jpg  \n",
            "  inflating: /content/dataset/Training/pituitary_tumor/p (388).jpg  \n",
            "  inflating: /content/dataset/Training/pituitary_tumor/p (389).jpg  \n",
            "  inflating: /content/dataset/Training/pituitary_tumor/p (39).jpg  \n",
            "  inflating: /content/dataset/Training/pituitary_tumor/p (390).jpg  \n",
            "  inflating: /content/dataset/Training/pituitary_tumor/p (391).jpg  \n",
            "  inflating: /content/dataset/Training/pituitary_tumor/p (392).jpg  \n",
            "  inflating: /content/dataset/Training/pituitary_tumor/p (393).jpg  \n",
            "  inflating: /content/dataset/Training/pituitary_tumor/p (394).jpg  \n",
            "  inflating: /content/dataset/Training/pituitary_tumor/p (395).jpg  \n",
            "  inflating: /content/dataset/Training/pituitary_tumor/p (396).jpg  \n",
            "  inflating: /content/dataset/Training/pituitary_tumor/p (397).jpg  \n",
            "  inflating: /content/dataset/Training/pituitary_tumor/p (398).jpg  \n",
            "  inflating: /content/dataset/Training/pituitary_tumor/p (399).jpg  \n",
            "  inflating: /content/dataset/Training/pituitary_tumor/p (4).jpg  \n",
            "  inflating: /content/dataset/Training/pituitary_tumor/p (40).jpg  \n",
            "  inflating: /content/dataset/Training/pituitary_tumor/p (400).jpg  \n",
            "  inflating: /content/dataset/Training/pituitary_tumor/p (401).jpg  \n",
            "  inflating: /content/dataset/Training/pituitary_tumor/p (402).jpg  \n",
            "  inflating: /content/dataset/Training/pituitary_tumor/p (403).jpg  \n",
            "  inflating: /content/dataset/Training/pituitary_tumor/p (404).jpg  \n",
            "  inflating: /content/dataset/Training/pituitary_tumor/p (405).jpg  \n",
            "  inflating: /content/dataset/Training/pituitary_tumor/p (406).jpg  \n",
            "  inflating: /content/dataset/Training/pituitary_tumor/p (407).jpg  \n",
            "  inflating: /content/dataset/Training/pituitary_tumor/p (408).jpg  \n",
            "  inflating: /content/dataset/Training/pituitary_tumor/p (409).jpg  \n",
            "  inflating: /content/dataset/Training/pituitary_tumor/p (41).jpg  \n",
            "  inflating: /content/dataset/Training/pituitary_tumor/p (410).jpg  \n",
            "  inflating: /content/dataset/Training/pituitary_tumor/p (411).jpg  \n",
            "  inflating: /content/dataset/Training/pituitary_tumor/p (412).jpg  \n",
            "  inflating: /content/dataset/Training/pituitary_tumor/p (413).jpg  \n",
            "  inflating: /content/dataset/Training/pituitary_tumor/p (414).jpg  \n",
            "  inflating: /content/dataset/Training/pituitary_tumor/p (415).jpg  \n",
            "  inflating: /content/dataset/Training/pituitary_tumor/p (416).jpg  \n",
            "  inflating: /content/dataset/Training/pituitary_tumor/p (417).jpg  \n",
            "  inflating: /content/dataset/Training/pituitary_tumor/p (418).jpg  \n",
            "  inflating: /content/dataset/Training/pituitary_tumor/p (419).jpg  \n",
            "  inflating: /content/dataset/Training/pituitary_tumor/p (42).jpg  \n",
            "  inflating: /content/dataset/Training/pituitary_tumor/p (420).jpg  \n",
            "  inflating: /content/dataset/Training/pituitary_tumor/p (421).jpg  \n",
            "  inflating: /content/dataset/Training/pituitary_tumor/p (422).jpg  \n",
            "  inflating: /content/dataset/Training/pituitary_tumor/p (423).jpg  \n",
            "  inflating: /content/dataset/Training/pituitary_tumor/p (424).jpg  \n",
            "  inflating: /content/dataset/Training/pituitary_tumor/p (425).jpg  \n",
            "  inflating: /content/dataset/Training/pituitary_tumor/p (426).jpg  \n",
            "  inflating: /content/dataset/Training/pituitary_tumor/p (427).jpg  \n",
            "  inflating: /content/dataset/Training/pituitary_tumor/p (428).jpg  \n",
            "  inflating: /content/dataset/Training/pituitary_tumor/p (429).jpg  \n",
            "  inflating: /content/dataset/Training/pituitary_tumor/p (43).jpg  \n",
            "  inflating: /content/dataset/Training/pituitary_tumor/p (430).jpg  \n",
            "  inflating: /content/dataset/Training/pituitary_tumor/p (431).jpg  \n",
            "  inflating: /content/dataset/Training/pituitary_tumor/p (432).jpg  \n",
            "  inflating: /content/dataset/Training/pituitary_tumor/p (433).jpg  \n",
            "  inflating: /content/dataset/Training/pituitary_tumor/p (434).jpg  \n",
            "  inflating: /content/dataset/Training/pituitary_tumor/p (435).jpg  \n",
            "  inflating: /content/dataset/Training/pituitary_tumor/p (436).jpg  \n",
            "  inflating: /content/dataset/Training/pituitary_tumor/p (437).jpg  \n",
            "  inflating: /content/dataset/Training/pituitary_tumor/p (438).jpg  \n",
            "  inflating: /content/dataset/Training/pituitary_tumor/p (439).jpg  \n",
            "  inflating: /content/dataset/Training/pituitary_tumor/p (44).jpg  \n",
            "  inflating: /content/dataset/Training/pituitary_tumor/p (440).jpg  \n",
            "  inflating: /content/dataset/Training/pituitary_tumor/p (441).jpg  \n",
            "  inflating: /content/dataset/Training/pituitary_tumor/p (442).jpg  \n",
            "  inflating: /content/dataset/Training/pituitary_tumor/p (443).jpg  \n",
            "  inflating: /content/dataset/Training/pituitary_tumor/p (444).jpg  \n",
            "  inflating: /content/dataset/Training/pituitary_tumor/p (445).jpg  \n",
            "  inflating: /content/dataset/Training/pituitary_tumor/p (446).jpg  \n",
            "  inflating: /content/dataset/Training/pituitary_tumor/p (447).jpg  \n",
            "  inflating: /content/dataset/Training/pituitary_tumor/p (448).jpg  \n",
            "  inflating: /content/dataset/Training/pituitary_tumor/p (449).jpg  \n",
            "  inflating: /content/dataset/Training/pituitary_tumor/p (45).jpg  \n",
            "  inflating: /content/dataset/Training/pituitary_tumor/p (450).jpg  \n",
            "  inflating: /content/dataset/Training/pituitary_tumor/p (451).jpg  \n",
            "  inflating: /content/dataset/Training/pituitary_tumor/p (452).jpg  \n",
            "  inflating: /content/dataset/Training/pituitary_tumor/p (453).jpg  \n",
            "  inflating: /content/dataset/Training/pituitary_tumor/p (454).jpg  \n",
            "  inflating: /content/dataset/Training/pituitary_tumor/p (455).jpg  \n",
            "  inflating: /content/dataset/Training/pituitary_tumor/p (456).jpg  \n",
            "  inflating: /content/dataset/Training/pituitary_tumor/p (457).jpg  \n",
            "  inflating: /content/dataset/Training/pituitary_tumor/p (458).jpg  \n",
            "  inflating: /content/dataset/Training/pituitary_tumor/p (459).jpg  \n",
            "  inflating: /content/dataset/Training/pituitary_tumor/p (46).jpg  \n",
            "  inflating: /content/dataset/Training/pituitary_tumor/p (460).jpg  \n",
            "  inflating: /content/dataset/Training/pituitary_tumor/p (461).jpg  \n",
            "  inflating: /content/dataset/Training/pituitary_tumor/p (462).jpg  \n",
            "  inflating: /content/dataset/Training/pituitary_tumor/p (463).jpg  \n",
            "  inflating: /content/dataset/Training/pituitary_tumor/p (464).jpg  \n",
            "  inflating: /content/dataset/Training/pituitary_tumor/p (465).jpg  \n",
            "  inflating: /content/dataset/Training/pituitary_tumor/p (466).jpg  \n",
            "  inflating: /content/dataset/Training/pituitary_tumor/p (467).jpg  \n",
            "  inflating: /content/dataset/Training/pituitary_tumor/p (468).jpg  \n",
            "  inflating: /content/dataset/Training/pituitary_tumor/p (469).jpg  \n",
            "  inflating: /content/dataset/Training/pituitary_tumor/p (47).jpg  \n",
            "  inflating: /content/dataset/Training/pituitary_tumor/p (470).jpg  \n",
            "  inflating: /content/dataset/Training/pituitary_tumor/p (471).jpg  \n",
            "  inflating: /content/dataset/Training/pituitary_tumor/p (472).jpg  \n",
            "  inflating: /content/dataset/Training/pituitary_tumor/p (473).jpg  \n",
            "  inflating: /content/dataset/Training/pituitary_tumor/p (474).jpg  \n",
            "  inflating: /content/dataset/Training/pituitary_tumor/p (475).jpg  \n",
            "  inflating: /content/dataset/Training/pituitary_tumor/p (476).jpg  \n",
            "  inflating: /content/dataset/Training/pituitary_tumor/p (477).jpg  \n",
            "  inflating: /content/dataset/Training/pituitary_tumor/p (478).jpg  \n",
            "  inflating: /content/dataset/Training/pituitary_tumor/p (479).jpg  \n",
            "  inflating: /content/dataset/Training/pituitary_tumor/p (48).jpg  \n",
            "  inflating: /content/dataset/Training/pituitary_tumor/p (480).jpg  \n",
            "  inflating: /content/dataset/Training/pituitary_tumor/p (481).jpg  \n",
            "  inflating: /content/dataset/Training/pituitary_tumor/p (482).jpg  \n",
            "  inflating: /content/dataset/Training/pituitary_tumor/p (483).jpg  \n",
            "  inflating: /content/dataset/Training/pituitary_tumor/p (484).jpg  \n",
            "  inflating: /content/dataset/Training/pituitary_tumor/p (485).jpg  \n",
            "  inflating: /content/dataset/Training/pituitary_tumor/p (486).jpg  \n",
            "  inflating: /content/dataset/Training/pituitary_tumor/p (487).jpg  \n",
            "  inflating: /content/dataset/Training/pituitary_tumor/p (488).jpg  \n",
            "  inflating: /content/dataset/Training/pituitary_tumor/p (489).jpg  \n",
            "  inflating: /content/dataset/Training/pituitary_tumor/p (49).jpg  \n",
            "  inflating: /content/dataset/Training/pituitary_tumor/p (490).jpg  \n",
            "  inflating: /content/dataset/Training/pituitary_tumor/p (491).jpg  \n",
            "  inflating: /content/dataset/Training/pituitary_tumor/p (492).jpg  \n",
            "  inflating: /content/dataset/Training/pituitary_tumor/p (493).jpg  \n",
            "  inflating: /content/dataset/Training/pituitary_tumor/p (494).jpg  \n",
            "  inflating: /content/dataset/Training/pituitary_tumor/p (495).jpg  \n",
            "  inflating: /content/dataset/Training/pituitary_tumor/p (496).jpg  \n",
            "  inflating: /content/dataset/Training/pituitary_tumor/p (497).jpg  \n",
            "  inflating: /content/dataset/Training/pituitary_tumor/p (498).jpg  \n",
            "  inflating: /content/dataset/Training/pituitary_tumor/p (499).jpg  \n",
            "  inflating: /content/dataset/Training/pituitary_tumor/p (5).jpg  \n",
            "  inflating: /content/dataset/Training/pituitary_tumor/p (50).jpg  \n",
            "  inflating: /content/dataset/Training/pituitary_tumor/p (500).jpg  \n",
            "  inflating: /content/dataset/Training/pituitary_tumor/p (501).jpg  \n",
            "  inflating: /content/dataset/Training/pituitary_tumor/p (502).jpg  \n",
            "  inflating: /content/dataset/Training/pituitary_tumor/p (503).jpg  \n",
            "  inflating: /content/dataset/Training/pituitary_tumor/p (504).jpg  \n",
            "  inflating: /content/dataset/Training/pituitary_tumor/p (505).jpg  \n",
            "  inflating: /content/dataset/Training/pituitary_tumor/p (506).jpg  \n",
            "  inflating: /content/dataset/Training/pituitary_tumor/p (507).jpg  \n",
            "  inflating: /content/dataset/Training/pituitary_tumor/p (508).jpg  \n",
            "  inflating: /content/dataset/Training/pituitary_tumor/p (509).jpg  \n",
            "  inflating: /content/dataset/Training/pituitary_tumor/p (51).jpg  \n",
            "  inflating: /content/dataset/Training/pituitary_tumor/p (510).jpg  \n",
            "  inflating: /content/dataset/Training/pituitary_tumor/p (511).jpg  \n",
            "  inflating: /content/dataset/Training/pituitary_tumor/p (512).jpg  \n",
            "  inflating: /content/dataset/Training/pituitary_tumor/p (513).jpg  \n",
            "  inflating: /content/dataset/Training/pituitary_tumor/p (514).jpg  \n",
            "  inflating: /content/dataset/Training/pituitary_tumor/p (515).jpg  \n",
            "  inflating: /content/dataset/Training/pituitary_tumor/p (516).jpg  \n",
            "  inflating: /content/dataset/Training/pituitary_tumor/p (517).jpg  \n",
            "  inflating: /content/dataset/Training/pituitary_tumor/p (518).jpg  \n",
            "  inflating: /content/dataset/Training/pituitary_tumor/p (519).jpg  \n",
            "  inflating: /content/dataset/Training/pituitary_tumor/p (52).jpg  \n",
            "  inflating: /content/dataset/Training/pituitary_tumor/p (520).jpg  \n",
            "  inflating: /content/dataset/Training/pituitary_tumor/p (521).jpg  \n",
            "  inflating: /content/dataset/Training/pituitary_tumor/p (522).jpg  \n",
            "  inflating: /content/dataset/Training/pituitary_tumor/p (523).jpg  \n",
            "  inflating: /content/dataset/Training/pituitary_tumor/p (524).jpg  \n",
            "  inflating: /content/dataset/Training/pituitary_tumor/p (525).jpg  \n",
            "  inflating: /content/dataset/Training/pituitary_tumor/p (526).jpg  \n",
            "  inflating: /content/dataset/Training/pituitary_tumor/p (527).jpg  \n",
            "  inflating: /content/dataset/Training/pituitary_tumor/p (528).jpg  \n",
            "  inflating: /content/dataset/Training/pituitary_tumor/p (529).jpg  \n",
            "  inflating: /content/dataset/Training/pituitary_tumor/p (53).jpg  \n",
            "  inflating: /content/dataset/Training/pituitary_tumor/p (530).jpg  \n",
            "  inflating: /content/dataset/Training/pituitary_tumor/p (531).jpg  \n",
            "  inflating: /content/dataset/Training/pituitary_tumor/p (532).jpg  \n",
            "  inflating: /content/dataset/Training/pituitary_tumor/p (533).jpg  \n",
            "  inflating: /content/dataset/Training/pituitary_tumor/p (534).jpg  \n",
            "  inflating: /content/dataset/Training/pituitary_tumor/p (535).jpg  \n",
            "  inflating: /content/dataset/Training/pituitary_tumor/p (536).jpg  \n",
            "  inflating: /content/dataset/Training/pituitary_tumor/p (537).jpg  \n",
            "  inflating: /content/dataset/Training/pituitary_tumor/p (538).jpg  \n",
            "  inflating: /content/dataset/Training/pituitary_tumor/p (539).jpg  \n",
            "  inflating: /content/dataset/Training/pituitary_tumor/p (54).jpg  \n",
            "  inflating: /content/dataset/Training/pituitary_tumor/p (540).jpg  \n",
            "  inflating: /content/dataset/Training/pituitary_tumor/p (541).jpg  \n",
            "  inflating: /content/dataset/Training/pituitary_tumor/p (542).jpg  \n",
            "  inflating: /content/dataset/Training/pituitary_tumor/p (543).jpg  \n",
            "  inflating: /content/dataset/Training/pituitary_tumor/p (544).jpg  \n",
            "  inflating: /content/dataset/Training/pituitary_tumor/p (545).jpg  \n",
            "  inflating: /content/dataset/Training/pituitary_tumor/p (546).jpg  \n",
            "  inflating: /content/dataset/Training/pituitary_tumor/p (547).jpg  \n",
            "  inflating: /content/dataset/Training/pituitary_tumor/p (548).jpg  \n",
            "  inflating: /content/dataset/Training/pituitary_tumor/p (549).jpg  \n",
            "  inflating: /content/dataset/Training/pituitary_tumor/p (55).jpg  \n",
            "  inflating: /content/dataset/Training/pituitary_tumor/p (550).jpg  \n",
            "  inflating: /content/dataset/Training/pituitary_tumor/p (551).jpg  \n",
            "  inflating: /content/dataset/Training/pituitary_tumor/p (552).jpg  \n",
            "  inflating: /content/dataset/Training/pituitary_tumor/p (553).jpg  \n",
            "  inflating: /content/dataset/Training/pituitary_tumor/p (554).jpg  \n",
            "  inflating: /content/dataset/Training/pituitary_tumor/p (555).jpg  \n",
            "  inflating: /content/dataset/Training/pituitary_tumor/p (556).jpg  \n",
            "  inflating: /content/dataset/Training/pituitary_tumor/p (557).jpg  \n",
            "  inflating: /content/dataset/Training/pituitary_tumor/p (558).jpg  \n",
            "  inflating: /content/dataset/Training/pituitary_tumor/p (559).jpg  \n",
            "  inflating: /content/dataset/Training/pituitary_tumor/p (56).jpg  \n",
            "  inflating: /content/dataset/Training/pituitary_tumor/p (560).jpg  \n",
            "  inflating: /content/dataset/Training/pituitary_tumor/p (561).jpg  \n",
            "  inflating: /content/dataset/Training/pituitary_tumor/p (562).jpg  \n",
            "  inflating: /content/dataset/Training/pituitary_tumor/p (563).jpg  \n",
            "  inflating: /content/dataset/Training/pituitary_tumor/p (564).jpg  \n",
            "  inflating: /content/dataset/Training/pituitary_tumor/p (565).jpg  \n",
            "  inflating: /content/dataset/Training/pituitary_tumor/p (566).jpg  \n",
            "  inflating: /content/dataset/Training/pituitary_tumor/p (567).jpg  \n",
            "  inflating: /content/dataset/Training/pituitary_tumor/p (568).jpg  \n",
            "  inflating: /content/dataset/Training/pituitary_tumor/p (569).jpg  \n",
            "  inflating: /content/dataset/Training/pituitary_tumor/p (57).jpg  \n",
            "  inflating: /content/dataset/Training/pituitary_tumor/p (570).jpg  \n",
            "  inflating: /content/dataset/Training/pituitary_tumor/p (571).jpg  \n",
            "  inflating: /content/dataset/Training/pituitary_tumor/p (572).jpg  \n",
            "  inflating: /content/dataset/Training/pituitary_tumor/p (573).jpg  \n",
            "  inflating: /content/dataset/Training/pituitary_tumor/p (574).jpg  \n",
            "  inflating: /content/dataset/Training/pituitary_tumor/p (575).jpg  \n",
            "  inflating: /content/dataset/Training/pituitary_tumor/p (576).jpg  \n",
            "  inflating: /content/dataset/Training/pituitary_tumor/p (577).jpg  \n",
            "  inflating: /content/dataset/Training/pituitary_tumor/p (578).jpg  \n",
            "  inflating: /content/dataset/Training/pituitary_tumor/p (579).jpg  \n",
            "  inflating: /content/dataset/Training/pituitary_tumor/p (58).jpg  \n",
            "  inflating: /content/dataset/Training/pituitary_tumor/p (580).jpg  \n",
            "  inflating: /content/dataset/Training/pituitary_tumor/p (581).jpg  \n",
            "  inflating: /content/dataset/Training/pituitary_tumor/p (582).jpg  \n",
            "  inflating: /content/dataset/Training/pituitary_tumor/p (583).jpg  \n",
            "  inflating: /content/dataset/Training/pituitary_tumor/p (584).jpg  \n",
            "  inflating: /content/dataset/Training/pituitary_tumor/p (585).jpg  \n",
            "  inflating: /content/dataset/Training/pituitary_tumor/p (586).jpg  \n",
            "  inflating: /content/dataset/Training/pituitary_tumor/p (587).jpg  \n",
            "  inflating: /content/dataset/Training/pituitary_tumor/p (588).jpg  \n",
            "  inflating: /content/dataset/Training/pituitary_tumor/p (589).jpg  \n",
            "  inflating: /content/dataset/Training/pituitary_tumor/p (59).jpg  \n",
            "  inflating: /content/dataset/Training/pituitary_tumor/p (590).jpg  \n",
            "  inflating: /content/dataset/Training/pituitary_tumor/p (591).jpg  \n",
            "  inflating: /content/dataset/Training/pituitary_tumor/p (592).jpg  \n",
            "  inflating: /content/dataset/Training/pituitary_tumor/p (593).jpg  \n",
            "  inflating: /content/dataset/Training/pituitary_tumor/p (594).jpg  \n",
            "  inflating: /content/dataset/Training/pituitary_tumor/p (595).jpg  \n",
            "  inflating: /content/dataset/Training/pituitary_tumor/p (596).jpg  \n",
            "  inflating: /content/dataset/Training/pituitary_tumor/p (597).jpg  \n",
            "  inflating: /content/dataset/Training/pituitary_tumor/p (598).jpg  \n",
            "  inflating: /content/dataset/Training/pituitary_tumor/p (599).jpg  \n",
            "  inflating: /content/dataset/Training/pituitary_tumor/p (6).jpg  \n",
            "  inflating: /content/dataset/Training/pituitary_tumor/p (60).jpg  \n",
            "  inflating: /content/dataset/Training/pituitary_tumor/p (600).jpg  \n",
            "  inflating: /content/dataset/Training/pituitary_tumor/p (601).jpg  \n",
            "  inflating: /content/dataset/Training/pituitary_tumor/p (602).jpg  \n",
            "  inflating: /content/dataset/Training/pituitary_tumor/p (603).jpg  \n",
            "  inflating: /content/dataset/Training/pituitary_tumor/p (604).jpg  \n",
            "  inflating: /content/dataset/Training/pituitary_tumor/p (605).jpg  \n",
            "  inflating: /content/dataset/Training/pituitary_tumor/p (606).jpg  \n",
            "  inflating: /content/dataset/Training/pituitary_tumor/p (607).jpg  \n",
            "  inflating: /content/dataset/Training/pituitary_tumor/p (608).jpg  \n",
            "  inflating: /content/dataset/Training/pituitary_tumor/p (609).jpg  \n",
            "  inflating: /content/dataset/Training/pituitary_tumor/p (61).jpg  \n",
            "  inflating: /content/dataset/Training/pituitary_tumor/p (610).jpg  \n",
            "  inflating: /content/dataset/Training/pituitary_tumor/p (611).jpg  \n",
            "  inflating: /content/dataset/Training/pituitary_tumor/p (612).jpg  \n",
            "  inflating: /content/dataset/Training/pituitary_tumor/p (613).jpg  \n",
            "  inflating: /content/dataset/Training/pituitary_tumor/p (614).jpg  \n",
            "  inflating: /content/dataset/Training/pituitary_tumor/p (615).jpg  \n",
            "  inflating: /content/dataset/Training/pituitary_tumor/p (616).jpg  \n",
            "  inflating: /content/dataset/Training/pituitary_tumor/p (617).jpg  \n",
            "  inflating: /content/dataset/Training/pituitary_tumor/p (618).jpg  \n",
            "  inflating: /content/dataset/Training/pituitary_tumor/p (619).jpg  \n",
            "  inflating: /content/dataset/Training/pituitary_tumor/p (62).jpg  \n",
            "  inflating: /content/dataset/Training/pituitary_tumor/p (620).jpg  \n",
            "  inflating: /content/dataset/Training/pituitary_tumor/p (621).jpg  \n",
            "  inflating: /content/dataset/Training/pituitary_tumor/p (622).jpg  \n",
            "  inflating: /content/dataset/Training/pituitary_tumor/p (623).jpg  \n",
            "  inflating: /content/dataset/Training/pituitary_tumor/p (624).jpg  \n",
            "  inflating: /content/dataset/Training/pituitary_tumor/p (625).jpg  \n",
            "  inflating: /content/dataset/Training/pituitary_tumor/p (626).jpg  \n",
            "  inflating: /content/dataset/Training/pituitary_tumor/p (627).jpg  \n",
            "  inflating: /content/dataset/Training/pituitary_tumor/p (628).jpg  \n",
            "  inflating: /content/dataset/Training/pituitary_tumor/p (629).jpg  \n",
            "  inflating: /content/dataset/Training/pituitary_tumor/p (63).jpg  \n",
            "  inflating: /content/dataset/Training/pituitary_tumor/p (630).jpg  \n",
            "  inflating: /content/dataset/Training/pituitary_tumor/p (631).jpg  \n",
            "  inflating: /content/dataset/Training/pituitary_tumor/p (632).jpg  \n",
            "  inflating: /content/dataset/Training/pituitary_tumor/p (633).jpg  \n",
            "  inflating: /content/dataset/Training/pituitary_tumor/p (634).jpg  \n",
            "  inflating: /content/dataset/Training/pituitary_tumor/p (635).jpg  \n",
            "  inflating: /content/dataset/Training/pituitary_tumor/p (636).jpg  \n",
            "  inflating: /content/dataset/Training/pituitary_tumor/p (637).jpg  \n",
            "  inflating: /content/dataset/Training/pituitary_tumor/p (638).jpg  \n",
            "  inflating: /content/dataset/Training/pituitary_tumor/p (639).jpg  \n",
            "  inflating: /content/dataset/Training/pituitary_tumor/p (64).jpg  \n",
            "  inflating: /content/dataset/Training/pituitary_tumor/p (640).jpg  \n",
            "  inflating: /content/dataset/Training/pituitary_tumor/p (641).jpg  \n",
            "  inflating: /content/dataset/Training/pituitary_tumor/p (642).jpg  \n",
            "  inflating: /content/dataset/Training/pituitary_tumor/p (643).jpg  \n",
            "  inflating: /content/dataset/Training/pituitary_tumor/p (644).jpg  \n",
            "  inflating: /content/dataset/Training/pituitary_tumor/p (645).jpg  \n",
            "  inflating: /content/dataset/Training/pituitary_tumor/p (646).jpg  \n",
            "  inflating: /content/dataset/Training/pituitary_tumor/p (647).jpg  \n",
            "  inflating: /content/dataset/Training/pituitary_tumor/p (648).jpg  \n",
            "  inflating: /content/dataset/Training/pituitary_tumor/p (649).jpg  \n",
            "  inflating: /content/dataset/Training/pituitary_tumor/p (65).jpg  \n",
            "  inflating: /content/dataset/Training/pituitary_tumor/p (650).jpg  \n",
            "  inflating: /content/dataset/Training/pituitary_tumor/p (651).jpg  \n",
            "  inflating: /content/dataset/Training/pituitary_tumor/p (652).jpg  \n",
            "  inflating: /content/dataset/Training/pituitary_tumor/p (653).jpg  \n",
            "  inflating: /content/dataset/Training/pituitary_tumor/p (654).jpg  \n",
            "  inflating: /content/dataset/Training/pituitary_tumor/p (655).jpg  \n",
            "  inflating: /content/dataset/Training/pituitary_tumor/p (656).jpg  \n",
            "  inflating: /content/dataset/Training/pituitary_tumor/p (657).jpg  \n",
            "  inflating: /content/dataset/Training/pituitary_tumor/p (658).jpg  \n",
            "  inflating: /content/dataset/Training/pituitary_tumor/p (659).jpg  \n",
            "  inflating: /content/dataset/Training/pituitary_tumor/p (66).jpg  \n",
            "  inflating: /content/dataset/Training/pituitary_tumor/p (660).jpg  \n",
            "  inflating: /content/dataset/Training/pituitary_tumor/p (661).jpg  \n",
            "  inflating: /content/dataset/Training/pituitary_tumor/p (662).jpg  \n",
            "  inflating: /content/dataset/Training/pituitary_tumor/p (663).jpg  \n",
            "  inflating: /content/dataset/Training/pituitary_tumor/p (664).jpg  \n",
            "  inflating: /content/dataset/Training/pituitary_tumor/p (665).jpg  \n",
            "  inflating: /content/dataset/Training/pituitary_tumor/p (666).jpg  \n",
            "  inflating: /content/dataset/Training/pituitary_tumor/p (667).jpg  \n",
            "  inflating: /content/dataset/Training/pituitary_tumor/p (668).jpg  \n",
            "  inflating: /content/dataset/Training/pituitary_tumor/p (669).jpg  \n",
            "  inflating: /content/dataset/Training/pituitary_tumor/p (67).jpg  \n",
            "  inflating: /content/dataset/Training/pituitary_tumor/p (670).jpg  \n",
            "  inflating: /content/dataset/Training/pituitary_tumor/p (671).jpg  \n",
            "  inflating: /content/dataset/Training/pituitary_tumor/p (672).jpg  \n",
            "  inflating: /content/dataset/Training/pituitary_tumor/p (673).jpg  \n",
            "  inflating: /content/dataset/Training/pituitary_tumor/p (674).jpg  \n",
            "  inflating: /content/dataset/Training/pituitary_tumor/p (675).jpg  \n",
            "  inflating: /content/dataset/Training/pituitary_tumor/p (676).jpg  \n",
            "  inflating: /content/dataset/Training/pituitary_tumor/p (677).jpg  \n",
            "  inflating: /content/dataset/Training/pituitary_tumor/p (678).jpg  \n",
            "  inflating: /content/dataset/Training/pituitary_tumor/p (679).jpg  \n",
            "  inflating: /content/dataset/Training/pituitary_tumor/p (68).jpg  \n",
            "  inflating: /content/dataset/Training/pituitary_tumor/p (680).jpg  \n",
            "  inflating: /content/dataset/Training/pituitary_tumor/p (681).jpg  \n",
            "  inflating: /content/dataset/Training/pituitary_tumor/p (682).jpg  \n",
            "  inflating: /content/dataset/Training/pituitary_tumor/p (683).jpg  \n",
            "  inflating: /content/dataset/Training/pituitary_tumor/p (684).jpg  \n",
            "  inflating: /content/dataset/Training/pituitary_tumor/p (685).jpg  \n",
            "  inflating: /content/dataset/Training/pituitary_tumor/p (686).jpg  \n",
            "  inflating: /content/dataset/Training/pituitary_tumor/p (687).jpg  \n",
            "  inflating: /content/dataset/Training/pituitary_tumor/p (688).jpg  \n",
            "  inflating: /content/dataset/Training/pituitary_tumor/p (689).jpg  \n",
            "  inflating: /content/dataset/Training/pituitary_tumor/p (69).jpg  \n",
            "  inflating: /content/dataset/Training/pituitary_tumor/p (690).jpg  \n",
            "  inflating: /content/dataset/Training/pituitary_tumor/p (691).jpg  \n",
            "  inflating: /content/dataset/Training/pituitary_tumor/p (692).jpg  \n",
            "  inflating: /content/dataset/Training/pituitary_tumor/p (693).jpg  \n",
            "  inflating: /content/dataset/Training/pituitary_tumor/p (694).jpg  \n",
            "  inflating: /content/dataset/Training/pituitary_tumor/p (695).jpg  \n",
            "  inflating: /content/dataset/Training/pituitary_tumor/p (696).jpg  \n",
            "  inflating: /content/dataset/Training/pituitary_tumor/p (697).jpg  \n",
            "  inflating: /content/dataset/Training/pituitary_tumor/p (698).jpg  \n",
            "  inflating: /content/dataset/Training/pituitary_tumor/p (699).jpg  \n",
            "  inflating: /content/dataset/Training/pituitary_tumor/p (7).jpg  \n",
            "  inflating: /content/dataset/Training/pituitary_tumor/p (70).jpg  \n",
            "  inflating: /content/dataset/Training/pituitary_tumor/p (700).jpg  \n",
            "  inflating: /content/dataset/Training/pituitary_tumor/p (701).jpg  \n",
            "  inflating: /content/dataset/Training/pituitary_tumor/p (702).jpg  \n",
            "  inflating: /content/dataset/Training/pituitary_tumor/p (703).jpg  \n",
            "  inflating: /content/dataset/Training/pituitary_tumor/p (704).jpg  \n",
            "  inflating: /content/dataset/Training/pituitary_tumor/p (705).jpg  \n",
            "  inflating: /content/dataset/Training/pituitary_tumor/p (706).jpg  \n",
            "  inflating: /content/dataset/Training/pituitary_tumor/p (707).jpg  \n",
            "  inflating: /content/dataset/Training/pituitary_tumor/p (708).jpg  \n",
            "  inflating: /content/dataset/Training/pituitary_tumor/p (709).jpg  \n",
            "  inflating: /content/dataset/Training/pituitary_tumor/p (71).jpg  \n",
            "  inflating: /content/dataset/Training/pituitary_tumor/p (710).jpg  \n",
            "  inflating: /content/dataset/Training/pituitary_tumor/p (711).jpg  \n",
            "  inflating: /content/dataset/Training/pituitary_tumor/p (712).jpg  \n",
            "  inflating: /content/dataset/Training/pituitary_tumor/p (713).jpg  \n",
            "  inflating: /content/dataset/Training/pituitary_tumor/p (714).jpg  \n",
            "  inflating: /content/dataset/Training/pituitary_tumor/p (715).jpg  \n",
            "  inflating: /content/dataset/Training/pituitary_tumor/p (716).jpg  \n",
            "  inflating: /content/dataset/Training/pituitary_tumor/p (717).jpg  \n",
            "  inflating: /content/dataset/Training/pituitary_tumor/p (718).jpg  \n",
            "  inflating: /content/dataset/Training/pituitary_tumor/p (719).jpg  \n",
            "  inflating: /content/dataset/Training/pituitary_tumor/p (72).jpg  \n",
            "  inflating: /content/dataset/Training/pituitary_tumor/p (720).jpg  \n",
            "  inflating: /content/dataset/Training/pituitary_tumor/p (721).jpg  \n",
            "  inflating: /content/dataset/Training/pituitary_tumor/p (722).jpg  \n",
            "  inflating: /content/dataset/Training/pituitary_tumor/p (723).jpg  \n",
            "  inflating: /content/dataset/Training/pituitary_tumor/p (724).jpg  \n",
            "  inflating: /content/dataset/Training/pituitary_tumor/p (725).jpg  \n",
            "  inflating: /content/dataset/Training/pituitary_tumor/p (726).jpg  \n",
            "  inflating: /content/dataset/Training/pituitary_tumor/p (727).jpg  \n",
            "  inflating: /content/dataset/Training/pituitary_tumor/p (728).jpg  \n",
            "  inflating: /content/dataset/Training/pituitary_tumor/p (729).jpg  \n",
            "  inflating: /content/dataset/Training/pituitary_tumor/p (73).jpg  \n",
            "  inflating: /content/dataset/Training/pituitary_tumor/p (730).jpg  \n",
            "  inflating: /content/dataset/Training/pituitary_tumor/p (731).jpg  \n",
            "  inflating: /content/dataset/Training/pituitary_tumor/p (732).jpg  \n",
            "  inflating: /content/dataset/Training/pituitary_tumor/p (733).jpg  \n",
            "  inflating: /content/dataset/Training/pituitary_tumor/p (734).jpg  \n",
            "  inflating: /content/dataset/Training/pituitary_tumor/p (735).jpg  \n",
            "  inflating: /content/dataset/Training/pituitary_tumor/p (736).jpg  \n",
            "  inflating: /content/dataset/Training/pituitary_tumor/p (737).jpg  \n",
            "  inflating: /content/dataset/Training/pituitary_tumor/p (738).jpg  \n",
            "  inflating: /content/dataset/Training/pituitary_tumor/p (739).jpg  \n",
            "  inflating: /content/dataset/Training/pituitary_tumor/p (74).jpg  \n",
            "  inflating: /content/dataset/Training/pituitary_tumor/p (740).jpg  \n",
            "  inflating: /content/dataset/Training/pituitary_tumor/p (741).jpg  \n",
            "  inflating: /content/dataset/Training/pituitary_tumor/p (742).jpg  \n",
            "  inflating: /content/dataset/Training/pituitary_tumor/p (743).jpg  \n",
            "  inflating: /content/dataset/Training/pituitary_tumor/p (744).jpg  \n",
            "  inflating: /content/dataset/Training/pituitary_tumor/p (745).jpg  \n",
            "  inflating: /content/dataset/Training/pituitary_tumor/p (746).jpg  \n",
            "  inflating: /content/dataset/Training/pituitary_tumor/p (747).jpg  \n",
            "  inflating: /content/dataset/Training/pituitary_tumor/p (748).jpg  \n",
            "  inflating: /content/dataset/Training/pituitary_tumor/p (749).jpg  \n",
            "  inflating: /content/dataset/Training/pituitary_tumor/p (75).jpg  \n",
            "  inflating: /content/dataset/Training/pituitary_tumor/p (750).jpg  \n",
            "  inflating: /content/dataset/Training/pituitary_tumor/p (751).jpg  \n",
            "  inflating: /content/dataset/Training/pituitary_tumor/p (752).jpg  \n",
            "  inflating: /content/dataset/Training/pituitary_tumor/p (753).jpg  \n",
            "  inflating: /content/dataset/Training/pituitary_tumor/p (754).jpg  \n",
            "  inflating: /content/dataset/Training/pituitary_tumor/p (755).jpg  \n",
            "  inflating: /content/dataset/Training/pituitary_tumor/p (756).jpg  \n",
            "  inflating: /content/dataset/Training/pituitary_tumor/p (757).jpg  \n",
            "  inflating: /content/dataset/Training/pituitary_tumor/p (758).jpg  \n",
            "  inflating: /content/dataset/Training/pituitary_tumor/p (759).jpg  \n",
            "  inflating: /content/dataset/Training/pituitary_tumor/p (76).jpg  \n",
            "  inflating: /content/dataset/Training/pituitary_tumor/p (760).jpg  \n",
            "  inflating: /content/dataset/Training/pituitary_tumor/p (761).jpg  \n",
            "  inflating: /content/dataset/Training/pituitary_tumor/p (762).jpg  \n",
            "  inflating: /content/dataset/Training/pituitary_tumor/p (763).jpg  \n",
            "  inflating: /content/dataset/Training/pituitary_tumor/p (764).jpg  \n",
            "  inflating: /content/dataset/Training/pituitary_tumor/p (765).jpg  \n",
            "  inflating: /content/dataset/Training/pituitary_tumor/p (766).jpg  \n",
            "  inflating: /content/dataset/Training/pituitary_tumor/p (767).jpg  \n",
            "  inflating: /content/dataset/Training/pituitary_tumor/p (768).jpg  \n",
            "  inflating: /content/dataset/Training/pituitary_tumor/p (769).jpg  \n",
            "  inflating: /content/dataset/Training/pituitary_tumor/p (77).jpg  \n",
            "  inflating: /content/dataset/Training/pituitary_tumor/p (770).jpg  \n",
            "  inflating: /content/dataset/Training/pituitary_tumor/p (771).jpg  \n",
            "  inflating: /content/dataset/Training/pituitary_tumor/p (772).jpg  \n",
            "  inflating: /content/dataset/Training/pituitary_tumor/p (773).jpg  \n",
            "  inflating: /content/dataset/Training/pituitary_tumor/p (774).jpg  \n",
            "  inflating: /content/dataset/Training/pituitary_tumor/p (775).jpg  \n",
            "  inflating: /content/dataset/Training/pituitary_tumor/p (776).jpg  \n",
            "  inflating: /content/dataset/Training/pituitary_tumor/p (777).jpg  \n",
            "  inflating: /content/dataset/Training/pituitary_tumor/p (778).jpg  \n",
            "  inflating: /content/dataset/Training/pituitary_tumor/p (779).jpg  \n",
            "  inflating: /content/dataset/Training/pituitary_tumor/p (78).jpg  \n",
            "  inflating: /content/dataset/Training/pituitary_tumor/p (780).jpg  \n",
            "  inflating: /content/dataset/Training/pituitary_tumor/p (781).jpg  \n",
            "  inflating: /content/dataset/Training/pituitary_tumor/p (782).jpg  \n",
            "  inflating: /content/dataset/Training/pituitary_tumor/p (783).jpg  \n",
            "  inflating: /content/dataset/Training/pituitary_tumor/p (784).jpg  \n",
            "  inflating: /content/dataset/Training/pituitary_tumor/p (785).jpg  \n",
            "  inflating: /content/dataset/Training/pituitary_tumor/p (786).jpg  \n",
            "  inflating: /content/dataset/Training/pituitary_tumor/p (787).jpg  \n",
            "  inflating: /content/dataset/Training/pituitary_tumor/p (788).jpg  \n",
            "  inflating: /content/dataset/Training/pituitary_tumor/p (789).jpg  \n",
            "  inflating: /content/dataset/Training/pituitary_tumor/p (79).jpg  \n",
            "  inflating: /content/dataset/Training/pituitary_tumor/p (790).jpg  \n",
            "  inflating: /content/dataset/Training/pituitary_tumor/p (791).jpg  \n",
            "  inflating: /content/dataset/Training/pituitary_tumor/p (792).jpg  \n",
            "  inflating: /content/dataset/Training/pituitary_tumor/p (793).jpg  \n",
            "  inflating: /content/dataset/Training/pituitary_tumor/p (794).jpg  \n",
            "  inflating: /content/dataset/Training/pituitary_tumor/p (795).jpg  \n",
            "  inflating: /content/dataset/Training/pituitary_tumor/p (796).jpg  \n",
            "  inflating: /content/dataset/Training/pituitary_tumor/p (797).jpg  \n",
            "  inflating: /content/dataset/Training/pituitary_tumor/p (798).jpg  \n",
            "  inflating: /content/dataset/Training/pituitary_tumor/p (799).jpg  \n",
            "  inflating: /content/dataset/Training/pituitary_tumor/p (8).jpg  \n",
            "  inflating: /content/dataset/Training/pituitary_tumor/p (80).jpg  \n",
            "  inflating: /content/dataset/Training/pituitary_tumor/p (800).jpg  \n",
            "  inflating: /content/dataset/Training/pituitary_tumor/p (801).jpg  \n",
            "  inflating: /content/dataset/Training/pituitary_tumor/p (802).jpg  \n",
            "  inflating: /content/dataset/Training/pituitary_tumor/p (803).jpg  \n",
            "  inflating: /content/dataset/Training/pituitary_tumor/p (804).jpg  \n",
            "  inflating: /content/dataset/Training/pituitary_tumor/p (805).jpg  \n",
            "  inflating: /content/dataset/Training/pituitary_tumor/p (806).jpg  \n",
            "  inflating: /content/dataset/Training/pituitary_tumor/p (807).jpg  \n",
            "  inflating: /content/dataset/Training/pituitary_tumor/p (808).jpg  \n",
            "  inflating: /content/dataset/Training/pituitary_tumor/p (809).jpg  \n",
            "  inflating: /content/dataset/Training/pituitary_tumor/p (81).jpg  \n",
            "  inflating: /content/dataset/Training/pituitary_tumor/p (810).jpg  \n",
            "  inflating: /content/dataset/Training/pituitary_tumor/p (811).jpg  \n",
            "  inflating: /content/dataset/Training/pituitary_tumor/p (812).jpg  \n",
            "  inflating: /content/dataset/Training/pituitary_tumor/p (813).jpg  \n",
            "  inflating: /content/dataset/Training/pituitary_tumor/p (814).jpg  \n",
            "  inflating: /content/dataset/Training/pituitary_tumor/p (815).jpg  \n",
            "  inflating: /content/dataset/Training/pituitary_tumor/p (816).jpg  \n",
            "  inflating: /content/dataset/Training/pituitary_tumor/p (817).jpg  \n",
            "  inflating: /content/dataset/Training/pituitary_tumor/p (818).jpg  \n",
            "  inflating: /content/dataset/Training/pituitary_tumor/p (819).jpg  \n",
            "  inflating: /content/dataset/Training/pituitary_tumor/p (82).jpg  \n",
            "  inflating: /content/dataset/Training/pituitary_tumor/p (820).jpg  \n",
            "  inflating: /content/dataset/Training/pituitary_tumor/p (821).jpg  \n",
            "  inflating: /content/dataset/Training/pituitary_tumor/p (822).jpg  \n",
            "  inflating: /content/dataset/Training/pituitary_tumor/p (823).jpg  \n",
            "  inflating: /content/dataset/Training/pituitary_tumor/p (824).jpg  \n",
            "  inflating: /content/dataset/Training/pituitary_tumor/p (825).jpg  \n",
            "  inflating: /content/dataset/Training/pituitary_tumor/p (826).jpg  \n",
            "  inflating: /content/dataset/Training/pituitary_tumor/p (827).jpg  \n",
            "  inflating: /content/dataset/Training/pituitary_tumor/p (83).jpg  \n",
            "  inflating: /content/dataset/Training/pituitary_tumor/p (84).jpg  \n",
            "  inflating: /content/dataset/Training/pituitary_tumor/p (85).jpg  \n",
            "  inflating: /content/dataset/Training/pituitary_tumor/p (86).jpg  \n",
            "  inflating: /content/dataset/Training/pituitary_tumor/p (87).jpg  \n",
            "  inflating: /content/dataset/Training/pituitary_tumor/p (88).jpg  \n",
            "  inflating: /content/dataset/Training/pituitary_tumor/p (89).jpg  \n",
            "  inflating: /content/dataset/Training/pituitary_tumor/p (9).jpg  \n",
            "  inflating: /content/dataset/Training/pituitary_tumor/p (90).jpg  \n",
            "  inflating: /content/dataset/Training/pituitary_tumor/p (91).jpg  \n",
            "  inflating: /content/dataset/Training/pituitary_tumor/p (92).jpg  \n",
            "  inflating: /content/dataset/Training/pituitary_tumor/p (93).jpg  \n",
            "  inflating: /content/dataset/Training/pituitary_tumor/p (94).jpg  \n",
            "  inflating: /content/dataset/Training/pituitary_tumor/p (95).jpg  \n",
            "  inflating: /content/dataset/Training/pituitary_tumor/p (96).jpg  \n",
            "  inflating: /content/dataset/Training/pituitary_tumor/p (97).jpg  \n",
            "  inflating: /content/dataset/Training/pituitary_tumor/p (98).jpg  \n",
            "  inflating: /content/dataset/Training/pituitary_tumor/p (99).jpg  \n"
          ]
        }
      ]
    },
    {
      "cell_type": "code",
      "source": [
        "#create labels\n",
        "classes=[]\n",
        "filename='../content/dataset'\n",
        "for sub_folder in os.listdir(os.path.join(filename,'Training')):\n",
        "    classes.append(sub_folder)\n",
        "print(classes)"
      ],
      "metadata": {
        "colab": {
          "base_uri": "https://localhost:8080/"
        },
        "id": "wgF_KnQVkYWV",
        "outputId": "2e0961b8-cec4-4c2d-ab2a-73f20e3c17d0"
      },
      "execution_count": 4,
      "outputs": [
        {
          "output_type": "stream",
          "name": "stdout",
          "text": [
            "['pituitary_tumor', 'glioma_tumor', 'no_tumor', 'meningioma_tumor']\n"
          ]
        }
      ]
    },
    {
      "cell_type": "code",
      "source": [
        "X_train = []\n",
        "y_train = []\n",
        "image_size = 224\n",
        "for i in classes:\n",
        "    path_train = os.path.join(filename,'Training',i)\n",
        "    for j in tqdm(os.listdir(path_train)): #Instantly make your loops show a smart progress meter \n",
        "        img = cv2.imread(os.path.join(path_train,j))\n",
        "        img = cv2.resize(img,(image_size, image_size))\n",
        "        X_train.append(img)\n",
        "        y_train.append(i)\n",
        "    path_test = os.path.join(filename,'Testing',i)\n",
        "    for j in tqdm(os.listdir(path_test)):\n",
        "        img = cv2.imread(os.path.join(path_test,j))\n",
        "        img = cv2.resize(img,(image_size,image_size))\n",
        "        X_train.append(img)\n",
        "        y_train.append(i)\n",
        "        \n",
        "X_train = np.array(X_train)\n",
        "y_train = np.array(y_train)  "
      ],
      "metadata": {
        "colab": {
          "base_uri": "https://localhost:8080/"
        },
        "id": "Nlj9-_TVkcGu",
        "outputId": "15409ed0-be8f-4da3-d2fe-89231396fade"
      },
      "execution_count": 5,
      "outputs": [
        {
          "output_type": "stream",
          "name": "stderr",
          "text": [
            "100%|██████████| 827/827 [00:02<00:00, 287.81it/s]\n",
            "100%|██████████| 74/74 [00:00<00:00, 154.55it/s]\n",
            "100%|██████████| 826/826 [00:02<00:00, 311.53it/s]\n",
            "100%|██████████| 100/100 [00:00<00:00, 370.67it/s]\n",
            "100%|██████████| 395/395 [00:00<00:00, 420.25it/s]\n",
            "100%|██████████| 105/105 [00:00<00:00, 895.72it/s]\n",
            "100%|██████████| 822/822 [00:02<00:00, 333.90it/s]\n",
            "100%|██████████| 115/115 [00:00<00:00, 480.53it/s]\n"
          ]
        }
      ]
    },
    {
      "cell_type": "code",
      "source": [
        "#data augmentation\n",
        "X_train, y_train = shuffle(X_train,y_train, random_state=101)\n",
        "datagen = ImageDataGenerator(\n",
        "    rotation_range=7, #rotate images\n",
        "    width_shift_range=0.05,\n",
        "    height_shift_range=0.05, #shift image in horizontal and vertical\n",
        "    zoom_range=0.15) #zoom images\n",
        "    # horizontal_flip=True) \n",
        "\n",
        "datagen.fit(X_train)\n",
        "X_train.shape\n",
        "lb = LabelEncoder()\n",
        "\n",
        "#train and test splitting \n",
        "X_train,X_test,y_train,y_test = train_test_split(X_train,y_train, test_size=0.10,random_state=101,stratify=y_train)\n",
        "\n",
        "labels_train=lb.fit(y_train)\n",
        "y_train=lb.transform(y_train)\n",
        "y_test=lb.transform(y_test)"
      ],
      "metadata": {
        "id": "PH5Xm-zVkeBO"
      },
      "execution_count": 6,
      "outputs": []
    },
    {
      "cell_type": "code",
      "source": [
        "len(X_train)"
      ],
      "metadata": {
        "colab": {
          "base_uri": "https://localhost:8080/"
        },
        "id": "nuoZGNpnBlyS",
        "outputId": "4938da74-324f-4278-88db-83da991529e1"
      },
      "execution_count": 7,
      "outputs": [
        {
          "output_type": "execute_result",
          "data": {
            "text/plain": [
              "2937"
            ]
          },
          "metadata": {},
          "execution_count": 7
        }
      ]
    },
    {
      "cell_type": "code",
      "source": [
        "len(X_test)"
      ],
      "metadata": {
        "colab": {
          "base_uri": "https://localhost:8080/"
        },
        "id": "L5l4fJXPUXUb",
        "outputId": "641cdaa4-855f-4b63-a5ce-80f4f641d180"
      },
      "execution_count": 8,
      "outputs": [
        {
          "output_type": "execute_result",
          "data": {
            "text/plain": [
              "327"
            ]
          },
          "metadata": {},
          "execution_count": 8
        }
      ]
    },
    {
      "cell_type": "markdown",
      "source": [
        "##Resnet50"
      ],
      "metadata": {
        "id": "IJAI2ntn-Zux"
      }
    },
    {
      "cell_type": "code",
      "source": [
        "model_resnet = Sequential(ResNet50(include_top=False, weights='imagenet', input_shape=(image_size, image_size, 3)))\n",
        "model_resnet.add(Flatten())\n",
        "tf.keras.applications.trainable = False\n",
        "model_resnet.add(Dense(256, activation='relu'))\n",
        "model_resnet.add(Dropout(0.5))\n",
        "model_resnet.add(Dense(4, activation='softmax'))"
      ],
      "metadata": {
        "id": "AjVFmOgK-cuc"
      },
      "execution_count": null,
      "outputs": []
    },
    {
      "cell_type": "code",
      "source": [
        "model_resnet.summary()"
      ],
      "metadata": {
        "colab": {
          "base_uri": "https://localhost:8080/"
        },
        "id": "2uyufxpJ-nPA",
        "outputId": "f1bf7f9e-b05e-4209-c0db-17fb2ef3bd82"
      },
      "execution_count": null,
      "outputs": [
        {
          "output_type": "stream",
          "name": "stdout",
          "text": [
            "Model: \"sequential_3\"\n",
            "_________________________________________________________________\n",
            " Layer (type)                Output Shape              Param #   \n",
            "=================================================================\n",
            " resnet50 (Functional)       (None, 7, 7, 2048)        23587712  \n",
            "                                                                 \n",
            " flatten_3 (Flatten)         (None, 100352)            0         \n",
            "                                                                 \n",
            " dense_6 (Dense)             (None, 256)               25690368  \n",
            "                                                                 \n",
            " dropout_5 (Dropout)         (None, 256)               0         \n",
            "                                                                 \n",
            " dense_7 (Dense)             (None, 4)                 1028      \n",
            "                                                                 \n",
            "=================================================================\n",
            "Total params: 49,279,108\n",
            "Trainable params: 49,225,988\n",
            "Non-trainable params: 53,120\n",
            "_________________________________________________________________\n"
          ]
        }
      ]
    },
    {
      "cell_type": "code",
      "source": [
        "opt = Adam(learning_rate=0.000016, beta_1=0.92, beta_2=0.9994, epsilon=1e-08)\n",
        "model_resnet.compile(optimizer=opt,\n",
        "              loss='sparse_categorical_crossentropy',\n",
        "              metrics=['accuracy'])"
      ],
      "metadata": {
        "id": "fIGhEJkP-xJi"
      },
      "execution_count": null,
      "outputs": []
    },
    {
      "cell_type": "code",
      "source": [
        "historyresnet=model_resnet.fit(X_train ,y_train,\n",
        "                         validation_data = (X_test,y_test),\n",
        "                         epochs=30,\n",
        "                         batch_size=16)"
      ],
      "metadata": {
        "colab": {
          "base_uri": "https://localhost:8080/"
        },
        "id": "Nm1pJKms--lF",
        "outputId": "168b1aad-24f2-4f5e-82db-297b2e3594a8"
      },
      "execution_count": null,
      "outputs": [
        {
          "output_type": "stream",
          "name": "stdout",
          "text": [
            "Epoch 1/30\n",
            "184/184 [==============================] - 40s 185ms/step - loss: 0.7965 - accuracy: 0.7429 - val_loss: 0.6459 - val_accuracy: 0.7492\n",
            "Epoch 2/30\n",
            "184/184 [==============================] - 34s 184ms/step - loss: 0.1889 - accuracy: 0.9333 - val_loss: 0.6091 - val_accuracy: 0.7706\n",
            "Epoch 3/30\n",
            "184/184 [==============================] - 34s 182ms/step - loss: 0.0784 - accuracy: 0.9748 - val_loss: 0.2943 - val_accuracy: 0.8991\n",
            "Epoch 4/30\n",
            "184/184 [==============================] - 34s 182ms/step - loss: 0.0573 - accuracy: 0.9809 - val_loss: 0.2070 - val_accuracy: 0.9083\n",
            "Epoch 5/30\n",
            "184/184 [==============================] - 34s 183ms/step - loss: 0.0482 - accuracy: 0.9854 - val_loss: 0.1201 - val_accuracy: 0.9694\n",
            "Epoch 6/30\n",
            "184/184 [==============================] - 36s 195ms/step - loss: 0.0228 - accuracy: 0.9942 - val_loss: 0.1158 - val_accuracy: 0.9633\n",
            "Epoch 7/30\n",
            "184/184 [==============================] - 34s 184ms/step - loss: 0.0227 - accuracy: 0.9932 - val_loss: 0.1419 - val_accuracy: 0.9602\n",
            "Epoch 8/30\n",
            "184/184 [==============================] - 34s 183ms/step - loss: 0.0135 - accuracy: 0.9959 - val_loss: 0.1352 - val_accuracy: 0.9633\n",
            "Epoch 9/30\n",
            "184/184 [==============================] - 34s 183ms/step - loss: 0.0246 - accuracy: 0.9939 - val_loss: 0.1251 - val_accuracy: 0.9633\n",
            "Epoch 10/30\n",
            "184/184 [==============================] - 34s 183ms/step - loss: 0.0162 - accuracy: 0.9952 - val_loss: 0.1424 - val_accuracy: 0.9602\n",
            "Epoch 11/30\n",
            "184/184 [==============================] - 34s 182ms/step - loss: 0.0190 - accuracy: 0.9946 - val_loss: 0.1095 - val_accuracy: 0.9755\n",
            "Epoch 12/30\n",
            "184/184 [==============================] - 34s 184ms/step - loss: 0.0100 - accuracy: 0.9959 - val_loss: 0.1404 - val_accuracy: 0.9541\n",
            "Epoch 13/30\n",
            "184/184 [==============================] - 33s 182ms/step - loss: 0.0081 - accuracy: 0.9973 - val_loss: 0.2278 - val_accuracy: 0.9541\n",
            "Epoch 14/30\n",
            "184/184 [==============================] - 34s 182ms/step - loss: 0.0176 - accuracy: 0.9956 - val_loss: 0.1641 - val_accuracy: 0.9633\n",
            "Epoch 15/30\n",
            "184/184 [==============================] - 34s 182ms/step - loss: 0.0110 - accuracy: 0.9969 - val_loss: 0.1913 - val_accuracy: 0.9511\n",
            "Epoch 16/30\n",
            "184/184 [==============================] - 34s 183ms/step - loss: 0.0049 - accuracy: 0.9990 - val_loss: 0.1092 - val_accuracy: 0.9755\n",
            "Epoch 17/30\n",
            "184/184 [==============================] - 33s 182ms/step - loss: 0.0129 - accuracy: 0.9959 - val_loss: 0.1122 - val_accuracy: 0.9664\n",
            "Epoch 18/30\n",
            "184/184 [==============================] - 34s 182ms/step - loss: 0.0220 - accuracy: 0.9939 - val_loss: 0.2323 - val_accuracy: 0.9572\n",
            "Epoch 19/30\n",
            "184/184 [==============================] - 34s 182ms/step - loss: 0.0116 - accuracy: 0.9949 - val_loss: 0.1480 - val_accuracy: 0.9694\n",
            "Epoch 20/30\n",
            "184/184 [==============================] - 34s 182ms/step - loss: 0.0094 - accuracy: 0.9959 - val_loss: 0.1228 - val_accuracy: 0.9755\n",
            "Epoch 21/30\n",
            "184/184 [==============================] - 34s 183ms/step - loss: 0.0343 - accuracy: 0.9884 - val_loss: 0.2011 - val_accuracy: 0.9541\n",
            "Epoch 22/30\n",
            "184/184 [==============================] - 33s 182ms/step - loss: 0.0456 - accuracy: 0.9864 - val_loss: 0.1298 - val_accuracy: 0.9572\n",
            "Epoch 23/30\n",
            "184/184 [==============================] - 33s 182ms/step - loss: 0.0319 - accuracy: 0.9915 - val_loss: 0.1626 - val_accuracy: 0.9633\n",
            "Epoch 24/30\n",
            "184/184 [==============================] - 34s 184ms/step - loss: 0.0159 - accuracy: 0.9949 - val_loss: 0.1443 - val_accuracy: 0.9725\n",
            "Epoch 25/30\n",
            "184/184 [==============================] - 34s 183ms/step - loss: 0.0090 - accuracy: 0.9966 - val_loss: 0.1881 - val_accuracy: 0.9725\n",
            "Epoch 26/30\n",
            "184/184 [==============================] - 34s 183ms/step - loss: 0.0080 - accuracy: 0.9976 - val_loss: 0.1555 - val_accuracy: 0.9755\n",
            "Epoch 27/30\n",
            "184/184 [==============================] - 34s 183ms/step - loss: 0.0074 - accuracy: 0.9990 - val_loss: 0.1481 - val_accuracy: 0.9633\n",
            "Epoch 28/30\n",
            "184/184 [==============================] - 34s 183ms/step - loss: 0.0292 - accuracy: 0.9946 - val_loss: 0.2115 - val_accuracy: 0.9725\n",
            "Epoch 29/30\n",
            "184/184 [==============================] - 34s 183ms/step - loss: 0.0147 - accuracy: 0.9956 - val_loss: 0.1959 - val_accuracy: 0.9725\n",
            "Epoch 30/30\n",
            "184/184 [==============================] - 34s 182ms/step - loss: 0.0172 - accuracy: 0.9959 - val_loss: 0.1385 - val_accuracy: 0.9755\n"
          ]
        }
      ]
    },
    {
      "cell_type": "code",
      "source": [
        "model_resnet.evaluate(X_test, y_test)"
      ],
      "metadata": {
        "colab": {
          "base_uri": "https://localhost:8080/"
        },
        "id": "3QWjxC9K_Ynw",
        "outputId": "75bfd09b-a619-4182-e2de-797842a8e6b0"
      },
      "execution_count": null,
      "outputs": [
        {
          "output_type": "stream",
          "name": "stdout",
          "text": [
            "11/11 [==============================] - 1s 90ms/step - loss: 0.1385 - accuracy: 0.9755\n"
          ]
        },
        {
          "output_type": "execute_result",
          "data": {
            "text/plain": [
              "[0.13846324384212494, 0.9755351543426514]"
            ]
          },
          "metadata": {},
          "execution_count": 39
        }
      ]
    },
    {
      "cell_type": "code",
      "source": [
        "plt.figure(figsize = (10, 5))\n",
        "plt.plot(historyresnet.history[\"accuracy\"], label = \"accuracy\")\n",
        "plt.plot(historyresnet.history[\"val_accuracy\"], label = \"val_accuracy\")\n",
        "plt.title(\"Training Accuracy and Validation Accuracy on COVID-19 Dataset\")\n",
        "plt.xlabel(\"Epoch\")\n",
        "plt.ylabel(\"Training/Validation Accuracy\")\n",
        "plt.legend(loc = \"upper left\")"
      ],
      "metadata": {
        "colab": {
          "base_uri": "https://localhost:8080/",
          "height": 367
        },
        "id": "TQ9kFaP3_eHo",
        "outputId": "49b04c78-d4e6-4835-c5ff-58b2189cc737"
      },
      "execution_count": null,
      "outputs": [
        {
          "output_type": "execute_result",
          "data": {
            "text/plain": [
              "<matplotlib.legend.Legend at 0x7fe26e7afb50>"
            ]
          },
          "metadata": {},
          "execution_count": 40
        },
        {
          "output_type": "display_data",
          "data": {
            "text/plain": [
              "<Figure size 720x360 with 1 Axes>"
            ],
            "image/png": "[encoded data removed]"
          },
          "metadata": {
            "needs_background": "light"
          }
        }
      ]
    },
    {
      "cell_type": "code",
      "source": [
        "plt.figure(figsize = (10, 5))\n",
        "plt.plot(historyresnet.history[\"loss\"], label = \"loss\")\n",
        "plt.plot(historyresnet.history[\"val_loss\"], label = \"val_loss\")\n",
        "plt.title(\"Training Loss and Validation Loss on COVID-19 Dataset\")\n",
        "plt.xlabel(\"Epoch\")\n",
        "plt.ylabel(\"Training/Validation Loss\")\n",
        "plt.legend()"
      ],
      "metadata": {
        "colab": {
          "base_uri": "https://localhost:8080/",
          "height": 367
        },
        "id": "l0_WWJU__nf5",
        "outputId": "9640b37d-11d0-4899-9fad-54521c5d7093"
      },
      "execution_count": null,
      "outputs": [
        {
          "output_type": "execute_result",
          "data": {
            "text/plain": [
              "<matplotlib.legend.Legend at 0x7fe428a00c90>"
            ]
          },
          "metadata": {},
          "execution_count": 41
        },
        {
          "output_type": "display_data",
          "data": {
            "text/plain": [
              "<Figure size 720x360 with 1 Axes>"
            ],
            "image/png": "[encoded data removed]"
          },
          "metadata": {
            "needs_background": "light"
          }
        }
      ]
    },
    {
      "cell_type": "code",
      "source": [
        "pred=np.argmax(model_resnet.predict(X_test),axis=1)\n",
        "print(classification_report(y_test,pred,target_names=classes,digits=4))"
      ],
      "metadata": {
        "colab": {
          "base_uri": "https://localhost:8080/"
        },
        "id": "4lZIDZLVDINu",
        "outputId": "56e3c365-581e-44d1-d46c-3fc7897734cb"
      },
      "execution_count": null,
      "outputs": [
        {
          "output_type": "stream",
          "name": "stdout",
          "text": [
            "                  precision    recall  f1-score   support\n",
            "\n",
            " pituitary_tumor     0.9783    0.9677    0.9730        93\n",
            "        no_tumor     0.9783    0.9574    0.9677        94\n",
            "meningioma_tumor     0.9608    0.9800    0.9703        50\n",
            "    glioma_tumor     0.9783    1.0000    0.9890        90\n",
            "\n",
            "        accuracy                         0.9755       327\n",
            "       macro avg     0.9739    0.9763    0.9750       327\n",
            "    weighted avg     0.9756    0.9755    0.9755       327\n",
            "\n"
          ]
        }
      ]
    },
    {
      "cell_type": "markdown",
      "source": [
        "##Resnet50+BiLSTM"
      ],
      "metadata": {
        "id": "po-L6xCWk5ej"
      }
    },
    {
      "cell_type": "code",
      "source": [
        "model_resnetbilstm = Sequential(ResNet50(include_top=False, weights='imagenet', input_shape=(image_size, image_size, 3)))\n",
        "model_resnetbilstm.add(TimeDistributed(Flatten()))\n",
        "tf.keras.applications.trainable = False\n",
        "model_resnetbilstm.add(Bidirectional(LSTM(units=128, return_sequences=True)))\n",
        "model_resnetbilstm.add(Dropout(0.5))\n",
        "model_resnetbilstm.add(Bidirectional(LSTM(units=128, return_sequences=False)))\n",
        "model_resnetbilstm.add(Dropout(0.5))\n",
        "model_resnetbilstm.add(Dense(256, activation='relu'))\n",
        "model_resnetbilstm.add(Dense(4, activation='softmax'))"
      ],
      "metadata": {
        "id": "8KG237Tak-Au",
        "colab": {
          "base_uri": "https://localhost:8080/"
        },
        "outputId": "3d85b2a6-170a-4960-a50d-441b72afacb1"
      },
      "execution_count": null,
      "outputs": [
        {
          "output_type": "stream",
          "name": "stdout",
          "text": [
            "Downloading data from https://storage.googleapis.com/tensorflow/keras-applications/resnet/resnet50_weights_tf_dim_ordering_tf_kernels_notop.h5\n",
            "94773248/94765736 [==============================] - 1s 0us/step\n",
            "94781440/94765736 [==============================] - 1s 0us/step\n"
          ]
        }
      ]
    },
    {
      "cell_type": "code",
      "source": [
        "model_resnetbilstm.summary()"
      ],
      "metadata": {
        "colab": {
          "base_uri": "https://localhost:8080/"
        },
        "id": "QFkm2rMclGMt",
        "outputId": "c6a50b41-00a9-4bf4-d282-59fe087fd66d"
      },
      "execution_count": null,
      "outputs": [
        {
          "output_type": "stream",
          "name": "stdout",
          "text": [
            "Model: \"sequential_2\"\n",
            "_________________________________________________________________\n",
            " Layer (type)                Output Shape              Param #   \n",
            "=================================================================\n",
            " resnet50 (Functional)       (None, 7, 7, 2048)        23587712  \n",
            "                                                                 \n",
            " time_distributed_1 (TimeDis  (None, 7, 14336)         0         \n",
            " tributed)                                                       \n",
            "                                                                 \n",
            " bidirectional_2 (Bidirectio  (None, 7, 256)           14812160  \n",
            " nal)                                                            \n",
            "                                                                 \n",
            " dropout_3 (Dropout)         (None, 7, 256)            0         \n",
            "                                                                 \n",
            " bidirectional_3 (Bidirectio  (None, 256)              394240    \n",
            " nal)                                                            \n",
            "                                                                 \n",
            " dropout_4 (Dropout)         (None, 256)               0         \n",
            "                                                                 \n",
            " dense_4 (Dense)             (None, 256)               65792     \n",
            "                                                                 \n",
            " dense_5 (Dense)             (None, 4)                 1028      \n",
            "                                                                 \n",
            "=================================================================\n",
            "Total params: 38,860,932\n",
            "Trainable params: 38,807,812\n",
            "Non-trainable params: 53,120\n",
            "_________________________________________________________________\n"
          ]
        }
      ]
    },
    {
      "cell_type": "code",
      "source": [
        "opt = Adam(learning_rate=0.000016, beta_1=0.92, beta_2=0.9994, epsilon=1e-08)\n",
        "model_resnetbilstm.compile(optimizer=opt,\n",
        "              loss='sparse_categorical_crossentropy',\n",
        "              metrics=['accuracy'])"
      ],
      "metadata": {
        "id": "SRwPwpwtlJ3V"
      },
      "execution_count": null,
      "outputs": []
    },
    {
      "cell_type": "code",
      "source": [
        "history=model_resnetbilstm.fit(X_train ,y_train,\n",
        "                               validation_data = (X_test,y_test),\n",
        "                               epochs=30,\n",
        "                               batch_size=16)\n",
        "                               "
      ],
      "metadata": {
        "colab": {
          "base_uri": "https://localhost:8080/"
        },
        "id": "oATU2-1llM2H",
        "outputId": "7b4f8f40-a7ee-4104-d6b6-58aa4de15692"
      },
      "execution_count": null,
      "outputs": [
        {
          "output_type": "stream",
          "name": "stdout",
          "text": [
            "Epoch 1/30\n",
            "184/184 [==============================] - 51s 208ms/step - loss: 1.0413 - accuracy: 0.6299 - val_loss: 0.8976 - val_accuracy: 0.6422\n",
            "Epoch 2/30\n",
            "184/184 [==============================] - 34s 187ms/step - loss: 0.4742 - accuracy: 0.8737 - val_loss: 0.7355 - val_accuracy: 0.6972\n",
            "Epoch 3/30\n",
            "184/184 [==============================] - 35s 191ms/step - loss: 0.2224 - accuracy: 0.9472 - val_loss: 0.5125 - val_accuracy: 0.8043\n",
            "Epoch 4/30\n",
            "184/184 [==============================] - 35s 190ms/step - loss: 0.1071 - accuracy: 0.9768 - val_loss: 0.1846 - val_accuracy: 0.9419\n",
            "Epoch 5/30\n",
            "184/184 [==============================] - 35s 191ms/step - loss: 0.0553 - accuracy: 0.9894 - val_loss: 0.1079 - val_accuracy: 0.9633\n",
            "Epoch 6/30\n",
            "184/184 [==============================] - 35s 190ms/step - loss: 0.0345 - accuracy: 0.9942 - val_loss: 0.1215 - val_accuracy: 0.9664\n",
            "Epoch 7/30\n",
            "184/184 [==============================] - 35s 190ms/step - loss: 0.0241 - accuracy: 0.9966 - val_loss: 0.1275 - val_accuracy: 0.9511\n",
            "Epoch 8/30\n",
            "184/184 [==============================] - 35s 190ms/step - loss: 0.0146 - accuracy: 0.9983 - val_loss: 0.1114 - val_accuracy: 0.9664\n",
            "Epoch 9/30\n",
            "184/184 [==============================] - 35s 191ms/step - loss: 0.0163 - accuracy: 0.9969 - val_loss: 0.1418 - val_accuracy: 0.9602\n",
            "Epoch 10/30\n",
            "184/184 [==============================] - 35s 190ms/step - loss: 0.0198 - accuracy: 0.9966 - val_loss: 0.1686 - val_accuracy: 0.9572\n",
            "Epoch 11/30\n",
            "184/184 [==============================] - 35s 190ms/step - loss: 0.0167 - accuracy: 0.9959 - val_loss: 0.1329 - val_accuracy: 0.9602\n",
            "Epoch 12/30\n",
            "184/184 [==============================] - 35s 190ms/step - loss: 0.0105 - accuracy: 0.9980 - val_loss: 0.1029 - val_accuracy: 0.9725\n",
            "Epoch 13/30\n",
            "184/184 [==============================] - 35s 191ms/step - loss: 0.0065 - accuracy: 0.9986 - val_loss: 0.0962 - val_accuracy: 0.9725\n",
            "Epoch 14/30\n",
            "184/184 [==============================] - 35s 190ms/step - loss: 0.0103 - accuracy: 0.9980 - val_loss: 0.1889 - val_accuracy: 0.9572\n",
            "Epoch 15/30\n",
            "184/184 [==============================] - 35s 190ms/step - loss: 0.0142 - accuracy: 0.9949 - val_loss: 0.1020 - val_accuracy: 0.9664\n",
            "Epoch 16/30\n",
            "184/184 [==============================] - 35s 191ms/step - loss: 0.0156 - accuracy: 0.9966 - val_loss: 0.1242 - val_accuracy: 0.9602\n",
            "Epoch 17/30\n",
            "184/184 [==============================] - 35s 190ms/step - loss: 0.0102 - accuracy: 0.9980 - val_loss: 0.0816 - val_accuracy: 0.9755\n",
            "Epoch 18/30\n",
            "184/184 [==============================] - 35s 190ms/step - loss: 0.0040 - accuracy: 0.9986 - val_loss: 0.1010 - val_accuracy: 0.9664\n",
            "Epoch 19/30\n",
            "184/184 [==============================] - 35s 190ms/step - loss: 0.0032 - accuracy: 0.9990 - val_loss: 0.1126 - val_accuracy: 0.9664\n",
            "Epoch 20/30\n",
            "184/184 [==============================] - 37s 199ms/step - loss: 0.0062 - accuracy: 0.9990 - val_loss: 0.1159 - val_accuracy: 0.9664\n",
            "Epoch 21/30\n",
            "184/184 [==============================] - 36s 195ms/step - loss: 0.0057 - accuracy: 0.9983 - val_loss: 0.1463 - val_accuracy: 0.9602\n",
            "Epoch 22/30\n",
            "184/184 [==============================] - 35s 190ms/step - loss: 0.0092 - accuracy: 0.9976 - val_loss: 0.1059 - val_accuracy: 0.9694\n",
            "Epoch 23/30\n",
            "184/184 [==============================] - 35s 191ms/step - loss: 0.0072 - accuracy: 0.9980 - val_loss: 0.1194 - val_accuracy: 0.9664\n",
            "Epoch 24/30\n",
            "184/184 [==============================] - 35s 190ms/step - loss: 0.0086 - accuracy: 0.9976 - val_loss: 0.1792 - val_accuracy: 0.9358\n",
            "Epoch 25/30\n",
            "184/184 [==============================] - 35s 190ms/step - loss: 0.0034 - accuracy: 0.9993 - val_loss: 0.1352 - val_accuracy: 0.9633\n",
            "Epoch 26/30\n",
            "184/184 [==============================] - 35s 189ms/step - loss: 0.0021 - accuracy: 0.9997 - val_loss: 0.1412 - val_accuracy: 0.9694\n",
            "Epoch 27/30\n",
            "184/184 [==============================] - 35s 190ms/step - loss: 0.0015 - accuracy: 0.9997 - val_loss: 0.1419 - val_accuracy: 0.9725\n",
            "Epoch 28/30\n",
            "184/184 [==============================] - 35s 189ms/step - loss: 0.0031 - accuracy: 0.9986 - val_loss: 0.1111 - val_accuracy: 0.9755\n",
            "Epoch 29/30\n",
            "184/184 [==============================] - 35s 189ms/step - loss: 0.0156 - accuracy: 0.9956 - val_loss: 0.1827 - val_accuracy: 0.9480\n",
            "Epoch 30/30\n",
            "184/184 [==============================] - 35s 189ms/step - loss: 0.0123 - accuracy: 0.9949 - val_loss: 0.1502 - val_accuracy: 0.9664\n"
          ]
        }
      ]
    },
    {
      "cell_type": "code",
      "source": [
        "loss1, accuracy1 = model_resnetbilstm.evaluate(X_test, y_test)"
      ],
      "metadata": {
        "colab": {
          "base_uri": "https://localhost:8080/"
        },
        "id": "YfTwhRlumNKU",
        "outputId": "4239bf78-e141-4619-9dfe-1d90344e89fc"
      },
      "execution_count": null,
      "outputs": [
        {
          "output_type": "stream",
          "name": "stdout",
          "text": [
            "11/11 [==============================] - 2s 91ms/step - loss: 0.1502 - accuracy: 0.9664\n"
          ]
        }
      ]
    },
    {
      "cell_type": "code",
      "source": [
        "print(f'accuracy : {round(accuracy1*100,3)} \\n loss : {round(loss1,3)}')"
      ],
      "metadata": {
        "colab": {
          "base_uri": "https://localhost:8080/"
        },
        "id": "890Tjw8x2pS8",
        "outputId": "444014f1-a3e0-4abf-9d58-aa08ca0c45f1"
      },
      "execution_count": null,
      "outputs": [
        {
          "output_type": "stream",
          "name": "stdout",
          "text": [
            "accuracy : 96.636 \n",
            " loss : 0.15\n"
          ]
        }
      ]
    },
    {
      "cell_type": "markdown",
      "source": [
        "<h2> Plot Accuracy dan Loss"
      ],
      "metadata": {
        "id": "o7z9JUE5mClg"
      }
    },
    {
      "cell_type": "code",
      "source": [
        "plt.figure(figsize = (10, 5))\n",
        "plt.plot(history.history[\"accuracy\"], label = \"accuracy\")\n",
        "plt.plot(history.history[\"val_accuracy\"], label = \"val_accuracy\")\n",
        "plt.title(\"Training Accuracy and Validation Accuracy on COVID-19 Dataset\")\n",
        "plt.xlabel(\"Epoch\")\n",
        "plt.ylabel(\"Training/Validation Accuracy\")\n",
        "plt.legend(loc = \"upper left\")"
      ],
      "metadata": {
        "colab": {
          "base_uri": "https://localhost:8080/",
          "height": 367
        },
        "id": "a_2rfOHZmQdU",
        "outputId": "8bf88882-3270-4b38-8a5a-225d13da95d0"
      },
      "execution_count": null,
      "outputs": [
        {
          "output_type": "execute_result",
          "data": {
            "text/plain": [
              "<matplotlib.legend.Legend at 0x7fe428850590>"
            ]
          },
          "metadata": {},
          "execution_count": 31
        },
        {
          "output_type": "display_data",
          "data": {
            "text/plain": [
              "<Figure size 720x360 with 1 Axes>"
            ],
            "image/png": "[encoded data removed]"
          },
          "metadata": {
            "needs_background": "light"
          }
        }
      ]
    },
    {
      "cell_type": "code",
      "source": [
        "plt.figure(figsize = (10, 5))\n",
        "plt.plot(history.history[\"loss\"], label = \"loss\")\n",
        "plt.plot(history.history[\"val_loss\"], label = \"val_loss\")\n",
        "plt.title(\"Training Loss and Validation Loss on COVID-19 Dataset\")\n",
        "plt.xlabel(\"Epoch\")\n",
        "plt.ylabel(\"Training/Validation Loss\")\n",
        "plt.legend()"
      ],
      "metadata": {
        "colab": {
          "base_uri": "https://localhost:8080/",
          "height": 367
        },
        "id": "KdoTaxiGmBdN",
        "outputId": "4ad2dd96-756c-47a1-8c19-374056e22111"
      },
      "execution_count": null,
      "outputs": [
        {
          "output_type": "execute_result",
          "data": {
            "text/plain": [
              "<matplotlib.legend.Legend at 0x7fe428fa6350>"
            ]
          },
          "metadata": {},
          "execution_count": 32
        },
        {
          "output_type": "display_data",
          "data": {
            "text/plain": [
              "<Figure size 720x360 with 1 Axes>"
            ],
            "image/png": "[encoded data removed]"
          },
          "metadata": {
            "needs_background": "light"
          }
        }
      ]
    },
    {
      "cell_type": "markdown",
      "source": [
        "<h2> Save Model Resnet+BiLSTM"
      ],
      "metadata": {
        "id": "qDOYiUGpqiOa"
      }
    },
    {
      "cell_type": "code",
      "source": [
        "model_resnetbilstm.save('/content/drive/MyDrive/Dataset/model_tumor_otak/model_resnet+bilstm_skripsi.h5')"
      ],
      "metadata": {
        "id": "N7_gOU9bqh1j"
      },
      "execution_count": null,
      "outputs": []
    },
    {
      "cell_type": "code",
      "source": [
        "pred=np.argmax(model_resnetbilstm.predict(X_test),axis=1)\n",
        "print(classification_report(y_test,pred,target_names=classes, digits=4))"
      ],
      "metadata": {
        "colab": {
          "base_uri": "https://localhost:8080/"
        },
        "id": "XzaIBtAF1-Zo",
        "outputId": "55e43f48-9aa6-4b59-f678-1c6e6757ac82"
      },
      "execution_count": null,
      "outputs": [
        {
          "output_type": "stream",
          "name": "stdout",
          "text": [
            "                  precision    recall  f1-score   support\n",
            "\n",
            " pituitary_tumor     0.9889    0.9570    0.9727        93\n",
            "        no_tumor     0.9479    0.9681    0.9579        94\n",
            "meningioma_tumor     0.9583    0.9200    0.9388        50\n",
            "    glioma_tumor     0.9677    1.0000    0.9836        90\n",
            "\n",
            "        accuracy                         0.9664       327\n",
            "       macro avg     0.9657    0.9613    0.9632       327\n",
            "    weighted avg     0.9666    0.9664    0.9663       327\n",
            "\n"
          ]
        }
      ]
    },
    {
      "cell_type": "markdown",
      "source": [
        "##VGG19"
      ],
      "metadata": {
        "id": "uRwN9d99EfmO"
      }
    },
    {
      "cell_type": "code",
      "source": [
        "model_vgg19 = Sequential(VGG19(include_top=False, weights='imagenet', input_shape=(image_size, image_size, 3)))\n",
        "model_vgg19.add(Flatten())\n",
        "tf.keras.applications.trainable = False\n",
        "model_vgg19.add(Dense(256, activation='relu'))\n",
        "model_vgg19.add(Dropout(0.5))\n",
        "model_vgg19.add(Dense(4, activation='softmax'))"
      ],
      "metadata": {
        "id": "_N8fWthHEi1K"
      },
      "execution_count": null,
      "outputs": []
    },
    {
      "cell_type": "code",
      "source": [
        "model_vgg19.summary()"
      ],
      "metadata": {
        "colab": {
          "base_uri": "https://localhost:8080/"
        },
        "id": "nUVqYagXE0aC",
        "outputId": "b240809e-e92e-4a7c-87d3-6f13d485d76c"
      },
      "execution_count": null,
      "outputs": [
        {
          "output_type": "stream",
          "name": "stdout",
          "text": [
            "Model: \"sequential_1\"\n",
            "_________________________________________________________________\n",
            " Layer (type)                Output Shape              Param #   \n",
            "=================================================================\n",
            " vgg19 (Functional)          (None, 7, 7, 512)         20024384  \n",
            "                                                                 \n",
            " flatten_1 (Flatten)         (None, 25088)             0         \n",
            "                                                                 \n",
            " dense_2 (Dense)             (None, 256)               6422784   \n",
            "                                                                 \n",
            " dropout_2 (Dropout)         (None, 256)               0         \n",
            "                                                                 \n",
            " dense_3 (Dense)             (None, 4)                 1028      \n",
            "                                                                 \n",
            "=================================================================\n",
            "Total params: 26,448,196\n",
            "Trainable params: 26,448,196\n",
            "Non-trainable params: 0\n",
            "_________________________________________________________________\n"
          ]
        }
      ]
    },
    {
      "cell_type": "code",
      "source": [
        "opt = Adam(learning_rate=0.000016, beta_1=0.92, beta_2=0.9994, epsilon=1e-08)\n",
        "model_vgg19.compile(optimizer=opt,\n",
        "              loss='sparse_categorical_crossentropy',\n",
        "              metrics=['accuracy'])"
      ],
      "metadata": {
        "id": "6FAULt8wE3aS"
      },
      "execution_count": null,
      "outputs": []
    },
    {
      "cell_type": "code",
      "source": [
        "historyvgg=model_vgg19.fit(X_train ,y_train,\n",
        "                               validation_data = (X_test,y_test),\n",
        "                               epochs=30,\n",
        "                               batch_size=16)"
      ],
      "metadata": {
        "colab": {
          "base_uri": "https://localhost:8080/"
        },
        "id": "ZyOqDm7JE8tJ",
        "outputId": "493d604b-898d-4b39-d25c-178cfffe0037"
      },
      "execution_count": null,
      "outputs": [
        {
          "output_type": "stream",
          "name": "stdout",
          "text": [
            "Epoch 1/30\n",
            "184/184 [==============================] - 52s 272ms/step - loss: 1.3670 - accuracy: 0.5672 - val_loss: 0.5167 - val_accuracy: 0.8012\n",
            "Epoch 2/30\n",
            "184/184 [==============================] - 50s 274ms/step - loss: 0.5221 - accuracy: 0.8090 - val_loss: 0.3115 - val_accuracy: 0.8930\n",
            "Epoch 3/30\n",
            "184/184 [==============================] - 50s 274ms/step - loss: 0.2964 - accuracy: 0.8897 - val_loss: 0.2829 - val_accuracy: 0.8991\n",
            "Epoch 4/30\n",
            "184/184 [==============================] - 50s 274ms/step - loss: 0.1972 - accuracy: 0.9288 - val_loss: 0.1548 - val_accuracy: 0.9450\n",
            "Epoch 5/30\n",
            "184/184 [==============================] - 50s 274ms/step - loss: 0.1386 - accuracy: 0.9530 - val_loss: 0.2096 - val_accuracy: 0.9144\n",
            "Epoch 6/30\n",
            "184/184 [==============================] - 50s 274ms/step - loss: 0.0982 - accuracy: 0.9646 - val_loss: 0.1038 - val_accuracy: 0.9633\n",
            "Epoch 7/30\n",
            "184/184 [==============================] - 50s 274ms/step - loss: 0.0561 - accuracy: 0.9806 - val_loss: 0.1184 - val_accuracy: 0.9541\n",
            "Epoch 8/30\n",
            "184/184 [==============================] - 51s 278ms/step - loss: 0.0805 - accuracy: 0.9734 - val_loss: 0.1136 - val_accuracy: 0.9572\n",
            "Epoch 9/30\n",
            "184/184 [==============================] - 50s 274ms/step - loss: 0.0781 - accuracy: 0.9711 - val_loss: 0.1041 - val_accuracy: 0.9694\n",
            "Epoch 10/30\n",
            "184/184 [==============================] - 50s 274ms/step - loss: 0.0360 - accuracy: 0.9915 - val_loss: 0.0507 - val_accuracy: 0.9847\n",
            "Epoch 11/30\n",
            "184/184 [==============================] - 51s 275ms/step - loss: 0.0214 - accuracy: 0.9939 - val_loss: 0.0897 - val_accuracy: 0.9725\n",
            "Epoch 12/30\n",
            "184/184 [==============================] - 50s 274ms/step - loss: 0.0181 - accuracy: 0.9952 - val_loss: 0.0752 - val_accuracy: 0.9755\n",
            "Epoch 13/30\n",
            "184/184 [==============================] - 50s 274ms/step - loss: 0.0273 - accuracy: 0.9922 - val_loss: 0.1131 - val_accuracy: 0.9602\n",
            "Epoch 14/30\n",
            "184/184 [==============================] - 51s 279ms/step - loss: 0.0331 - accuracy: 0.9894 - val_loss: 0.1000 - val_accuracy: 0.9694\n",
            "Epoch 15/30\n",
            "184/184 [==============================] - 50s 274ms/step - loss: 0.0332 - accuracy: 0.9898 - val_loss: 0.4367 - val_accuracy: 0.8960\n",
            "Epoch 16/30\n",
            "184/184 [==============================] - 50s 274ms/step - loss: 0.0509 - accuracy: 0.9854 - val_loss: 0.0698 - val_accuracy: 0.9755\n",
            "Epoch 17/30\n",
            "184/184 [==============================] - 50s 274ms/step - loss: 0.0351 - accuracy: 0.9881 - val_loss: 0.1334 - val_accuracy: 0.9694\n",
            "Epoch 18/30\n",
            "184/184 [==============================] - 50s 274ms/step - loss: 0.0451 - accuracy: 0.9826 - val_loss: 0.0565 - val_accuracy: 0.9755\n",
            "Epoch 19/30\n",
            "184/184 [==============================] - 51s 277ms/step - loss: 0.0208 - accuracy: 0.9922 - val_loss: 0.0869 - val_accuracy: 0.9786\n",
            "Epoch 20/30\n",
            "184/184 [==============================] - 50s 273ms/step - loss: 0.0127 - accuracy: 0.9935 - val_loss: 0.1342 - val_accuracy: 0.9633\n",
            "Epoch 21/30\n",
            "184/184 [==============================] - 50s 272ms/step - loss: 0.0610 - accuracy: 0.9806 - val_loss: 0.0729 - val_accuracy: 0.9817\n",
            "Epoch 22/30\n",
            "184/184 [==============================] - 50s 273ms/step - loss: 0.0124 - accuracy: 0.9959 - val_loss: 0.0351 - val_accuracy: 0.9878\n",
            "Epoch 23/30\n",
            "184/184 [==============================] - 50s 272ms/step - loss: 0.0172 - accuracy: 0.9932 - val_loss: 0.1527 - val_accuracy: 0.9541\n",
            "Epoch 24/30\n",
            "184/184 [==============================] - 50s 274ms/step - loss: 0.0234 - accuracy: 0.9922 - val_loss: 0.0766 - val_accuracy: 0.9755\n",
            "Epoch 25/30\n",
            "184/184 [==============================] - 50s 274ms/step - loss: 0.0295 - accuracy: 0.9888 - val_loss: 0.1598 - val_accuracy: 0.9694\n",
            "Epoch 26/30\n",
            "184/184 [==============================] - 50s 274ms/step - loss: 0.0384 - accuracy: 0.9871 - val_loss: 0.0775 - val_accuracy: 0.9755\n",
            "Epoch 27/30\n",
            "184/184 [==============================] - 50s 274ms/step - loss: 0.0070 - accuracy: 0.9980 - val_loss: 0.1695 - val_accuracy: 0.9602\n",
            "Epoch 28/30\n",
            "184/184 [==============================] - 50s 274ms/step - loss: 0.0065 - accuracy: 0.9986 - val_loss: 0.0723 - val_accuracy: 0.9755\n",
            "Epoch 29/30\n",
            "184/184 [==============================] - 50s 274ms/step - loss: 0.0034 - accuracy: 0.9990 - val_loss: 0.0865 - val_accuracy: 0.9817\n",
            "Epoch 30/30\n",
            "184/184 [==============================] - 50s 274ms/step - loss: 0.0038 - accuracy: 0.9980 - val_loss: 0.0916 - val_accuracy: 0.9725\n"
          ]
        }
      ]
    },
    {
      "cell_type": "code",
      "source": [
        "model_vgg19.evaluate(X_test, y_test)"
      ],
      "metadata": {
        "colab": {
          "base_uri": "https://localhost:8080/"
        },
        "id": "9St7TSp1FF1N",
        "outputId": "73b902a5-fe93-4e1e-ecf7-4bca136b893d"
      },
      "execution_count": null,
      "outputs": [
        {
          "output_type": "stream",
          "name": "stdout",
          "text": [
            "11/11 [==============================] - 2s 165ms/step - loss: 0.0916 - accuracy: 0.9725\n"
          ]
        },
        {
          "output_type": "execute_result",
          "data": {
            "text/plain": [
              "[0.09156610071659088, 0.9724770784378052]"
            ]
          },
          "metadata": {},
          "execution_count": 20
        }
      ]
    },
    {
      "cell_type": "code",
      "source": [
        "plt.figure(figsize = (10, 5))\n",
        "plt.plot(historyvgg.history[\"accuracy\"], label = \"accuracy\")\n",
        "plt.plot(historyvgg.history[\"val_accuracy\"], label = \"val_accuracy\")\n",
        "plt.title(\"Training Accuracy and Validation Accuracy on COVID-19 Dataset\")\n",
        "plt.xlabel(\"Epoch\")\n",
        "plt.ylabel(\"Training/Validation Accuracy\")\n",
        "plt.legend(loc = \"upper left\")"
      ],
      "metadata": {
        "colab": {
          "base_uri": "https://localhost:8080/",
          "height": 367
        },
        "id": "wbE8SQelFKMO",
        "outputId": "bbb6901e-6d46-47c6-b591-ff9d15923a82"
      },
      "execution_count": null,
      "outputs": [
        {
          "output_type": "execute_result",
          "data": {
            "text/plain": [
              "<matplotlib.legend.Legend at 0x7fe53bb62190>"
            ]
          },
          "metadata": {},
          "execution_count": 21
        },
        {
          "output_type": "display_data",
          "data": {
            "text/plain": [
              "<Figure size 720x360 with 1 Axes>"
            ],
            "image/png": "[encoded data removed]"
          },
          "metadata": {
            "needs_background": "light"
          }
        }
      ]
    },
    {
      "cell_type": "code",
      "source": [
        "plt.figure(figsize = (10, 5))\n",
        "plt.plot(historyvgg.history[\"loss\"], label = \"loss\")\n",
        "plt.plot(historyvgg.history[\"val_loss\"], label = \"val_loss\")\n",
        "plt.title(\"Training Loss and Validation Loss on COVID-19 Dataset\")\n",
        "plt.xlabel(\"Epoch\")\n",
        "plt.ylabel(\"Training/Validation Loss\")\n",
        "plt.legend()"
      ],
      "metadata": {
        "colab": {
          "base_uri": "https://localhost:8080/",
          "height": 367
        },
        "id": "D-90OIfuFTJV",
        "outputId": "17e4cfaf-b59c-4255-c2cc-2e7e7928863a"
      },
      "execution_count": null,
      "outputs": [
        {
          "output_type": "execute_result",
          "data": {
            "text/plain": [
              "<matplotlib.legend.Legend at 0x7fe5420cdfd0>"
            ]
          },
          "metadata": {},
          "execution_count": 22
        },
        {
          "output_type": "display_data",
          "data": {
            "text/plain": [
              "<Figure size 720x360 with 1 Axes>"
            ],
            "image/png": "[encoded data removed]"
          },
          "metadata": {
            "needs_background": "light"
          }
        }
      ]
    },
    {
      "cell_type": "code",
      "source": [
        "pred2=np.argmax(model_vgg19.predict(X_test),axis=1)\n",
        "print(classification_report(y_test,pred2,target_names=classes,digits=4))"
      ],
      "metadata": {
        "colab": {
          "base_uri": "https://localhost:8080/"
        },
        "id": "YxfbH5s3FZD_",
        "outputId": "3a799e78-680b-4246-b4c4-b253aac264bb"
      },
      "execution_count": null,
      "outputs": [
        {
          "output_type": "stream",
          "name": "stdout",
          "text": [
            "                  precision    recall  f1-score   support\n",
            "\n",
            " pituitary_tumor     0.9889    0.9570    0.9727        93\n",
            "        no_tumor     0.9583    0.9787    0.9684        94\n",
            "meningioma_tumor     1.0000    0.9400    0.9691        50\n",
            "    glioma_tumor     0.9574    1.0000    0.9783        90\n",
            "\n",
            "        accuracy                         0.9725       327\n",
            "       macro avg     0.9762    0.9689    0.9721       327\n",
            "    weighted avg     0.9732    0.9725    0.9724       327\n",
            "\n"
          ]
        }
      ]
    },
    {
      "cell_type": "markdown",
      "source": [
        "##VGG19+BiLSTM baru"
      ],
      "metadata": {
        "id": "l_aJGsptlwuS"
      }
    },
    {
      "cell_type": "code",
      "source": [
        "model_vgg19bilstm = Sequential(VGG19(include_top=False, weights='imagenet', input_shape=(image_size, image_size, 3)))\n",
        "model_vgg19bilstm.add(TimeDistributed(Flatten()))\n",
        "model_vgg19bilstm.add(Bidirectional(LSTM(units=128, return_sequences=True)))\n",
        "model_vgg19bilstm.add(Dropout(0.5))\n",
        "model_vgg19bilstm.add(Bidirectional(LSTM(units=128, return_sequences=False)))\n",
        "model_vgg19bilstm.add(Dropout(0.5))\n",
        "model_vgg19bilstm.add(Dense(256, activation='relu'))\n",
        "model_vgg19bilstm.add(Dense(4, activation='softmax'))\n",
        "tf.keras.applications.trainable = False"
      ],
      "metadata": {
        "colab": {
          "base_uri": "https://localhost:8080/"
        },
        "id": "EuGiKDrslwui",
        "outputId": "7c3229f6-a12d-4267-cea5-ab53744e8fa9"
      },
      "execution_count": 7,
      "outputs": [
        {
          "output_type": "stream",
          "name": "stdout",
          "text": [
            "Downloading data from https://storage.googleapis.com/tensorflow/keras-applications/vgg19/vgg19_weights_tf_dim_ordering_tf_kernels_notop.h5\n",
            "80142336/80134624 [==============================] - 1s 0us/step\n",
            "80150528/80134624 [==============================] - 1s 0us/step\n"
          ]
        }
      ]
    },
    {
      "cell_type": "code",
      "source": [
        "model_vgg19bilstm.summary()"
      ],
      "metadata": {
        "colab": {
          "base_uri": "https://localhost:8080/"
        },
        "outputId": "6279c61b-6f38-426d-991e-605f13b12077",
        "id": "LO_mICBwlwui"
      },
      "execution_count": 8,
      "outputs": [
        {
          "output_type": "stream",
          "name": "stdout",
          "text": [
            "Model: \"sequential\"\n",
            "_________________________________________________________________\n",
            " Layer (type)                Output Shape              Param #   \n",
            "=================================================================\n",
            " vgg19 (Functional)          (None, 7, 7, 512)         20024384  \n",
            "                                                                 \n",
            " time_distributed (TimeDistr  (None, 7, 3584)          0         \n",
            " ibuted)                                                         \n",
            "                                                                 \n",
            " bidirectional (Bidirectiona  (None, 7, 256)           3802112   \n",
            " l)                                                              \n",
            "                                                                 \n",
            " dropout (Dropout)           (None, 7, 256)            0         \n",
            "                                                                 \n",
            " bidirectional_1 (Bidirectio  (None, 256)              394240    \n",
            " nal)                                                            \n",
            "                                                                 \n",
            " dropout_1 (Dropout)         (None, 256)               0         \n",
            "                                                                 \n",
            " dense (Dense)               (None, 256)               65792     \n",
            "                                                                 \n",
            " dense_1 (Dense)             (None, 4)                 1028      \n",
            "                                                                 \n",
            "=================================================================\n",
            "Total params: 24,287,556\n",
            "Trainable params: 24,287,556\n",
            "Non-trainable params: 0\n",
            "_________________________________________________________________\n"
          ]
        }
      ]
    },
    {
      "cell_type": "code",
      "source": [
        "opt = Adam(learning_rate=0.000016, beta_1=0.92, beta_2=0.9994, epsilon=1e-08)\n",
        "model_vgg19bilstm.compile(optimizer=opt,\n",
        "              loss='sparse_categorical_crossentropy',\n",
        "              metrics=['accuracy'])"
      ],
      "metadata": {
        "id": "RyKTBpR9lwuj"
      },
      "execution_count": 9,
      "outputs": []
    },
    {
      "cell_type": "code",
      "source": [
        "history2=model_vgg19bilstm.fit(X_train ,y_train,\n",
        "                               validation_data = (X_test,y_test),\n",
        "                               epochs=30,\n",
        "                               batch_size=16)"
      ],
      "metadata": {
        "colab": {
          "base_uri": "https://localhost:8080/"
        },
        "outputId": "d8ae8dfd-9f1a-45e7-a408-1405cb4b2a8b",
        "id": "6PVbzgZulwuj"
      },
      "execution_count": 10,
      "outputs": [
        {
          "output_type": "stream",
          "name": "stdout",
          "text": [
            "Epoch 1/30\n",
            "184/184 [==============================] - 76s 292ms/step - loss: 1.2367 - accuracy: 0.4610 - val_loss: 1.0227 - val_accuracy: 0.6055\n",
            "Epoch 2/30\n",
            "184/184 [==============================] - 50s 272ms/step - loss: 0.9340 - accuracy: 0.6316 - val_loss: 0.6631 - val_accuracy: 0.7951\n",
            "Epoch 3/30\n",
            "184/184 [==============================] - 51s 276ms/step - loss: 0.6584 - accuracy: 0.7695 - val_loss: 0.4668 - val_accuracy: 0.8471\n",
            "Epoch 4/30\n",
            "184/184 [==============================] - 51s 280ms/step - loss: 0.4810 - accuracy: 0.8372 - val_loss: 0.3228 - val_accuracy: 0.8777\n",
            "Epoch 5/30\n",
            "184/184 [==============================] - 52s 282ms/step - loss: 0.3383 - accuracy: 0.9016 - val_loss: 0.1920 - val_accuracy: 0.9388\n",
            "Epoch 6/30\n",
            "184/184 [==============================] - 52s 284ms/step - loss: 0.2250 - accuracy: 0.9391 - val_loss: 0.1751 - val_accuracy: 0.9327\n",
            "Epoch 7/30\n",
            "184/184 [==============================] - 52s 285ms/step - loss: 0.1588 - accuracy: 0.9568 - val_loss: 0.1464 - val_accuracy: 0.9633\n",
            "Epoch 8/30\n",
            "184/184 [==============================] - 52s 285ms/step - loss: 0.0873 - accuracy: 0.9779 - val_loss: 0.1041 - val_accuracy: 0.9755\n",
            "Epoch 9/30\n",
            "184/184 [==============================] - 53s 286ms/step - loss: 0.0713 - accuracy: 0.9823 - val_loss: 0.0799 - val_accuracy: 0.9755\n",
            "Epoch 10/30\n",
            "184/184 [==============================] - 53s 286ms/step - loss: 0.0474 - accuracy: 0.9898 - val_loss: 0.0758 - val_accuracy: 0.9755\n",
            "Epoch 11/30\n",
            "184/184 [==============================] - 53s 286ms/step - loss: 0.0299 - accuracy: 0.9946 - val_loss: 0.0745 - val_accuracy: 0.9725\n",
            "Epoch 12/30\n",
            "184/184 [==============================] - 53s 286ms/step - loss: 0.0175 - accuracy: 0.9973 - val_loss: 0.0902 - val_accuracy: 0.9725\n",
            "Epoch 13/30\n",
            "184/184 [==============================] - 53s 286ms/step - loss: 0.0123 - accuracy: 0.9990 - val_loss: 0.0636 - val_accuracy: 0.9817\n",
            "Epoch 14/30\n",
            "184/184 [==============================] - 53s 286ms/step - loss: 0.0155 - accuracy: 0.9963 - val_loss: 0.0634 - val_accuracy: 0.9847\n",
            "Epoch 15/30\n",
            "184/184 [==============================] - 53s 286ms/step - loss: 0.0379 - accuracy: 0.9877 - val_loss: 0.1242 - val_accuracy: 0.9664\n",
            "Epoch 16/30\n",
            "184/184 [==============================] - 53s 286ms/step - loss: 0.0417 - accuracy: 0.9877 - val_loss: 0.1030 - val_accuracy: 0.9755\n",
            "Epoch 17/30\n",
            "184/184 [==============================] - 53s 286ms/step - loss: 0.0254 - accuracy: 0.9939 - val_loss: 0.1075 - val_accuracy: 0.9664\n",
            "Epoch 18/30\n",
            "184/184 [==============================] - 53s 286ms/step - loss: 0.0768 - accuracy: 0.9806 - val_loss: 0.0887 - val_accuracy: 0.9786\n",
            "Epoch 19/30\n",
            "184/184 [==============================] - 53s 286ms/step - loss: 0.0092 - accuracy: 0.9983 - val_loss: 0.0790 - val_accuracy: 0.9755\n",
            "Epoch 20/30\n",
            "184/184 [==============================] - 53s 286ms/step - loss: 0.0077 - accuracy: 0.9990 - val_loss: 0.0616 - val_accuracy: 0.9817\n",
            "Epoch 21/30\n",
            "184/184 [==============================] - 53s 286ms/step - loss: 0.0063 - accuracy: 0.9986 - val_loss: 0.0627 - val_accuracy: 0.9786\n",
            "Epoch 22/30\n",
            "184/184 [==============================] - 53s 286ms/step - loss: 0.0033 - accuracy: 0.9993 - val_loss: 0.0955 - val_accuracy: 0.9725\n",
            "Epoch 23/30\n",
            "184/184 [==============================] - 53s 286ms/step - loss: 0.0048 - accuracy: 0.9990 - val_loss: 0.0621 - val_accuracy: 0.9786\n",
            "Epoch 24/30\n",
            "184/184 [==============================] - 53s 286ms/step - loss: 0.0030 - accuracy: 0.9990 - val_loss: 0.0701 - val_accuracy: 0.9786\n",
            "Epoch 25/30\n",
            "184/184 [==============================] - 53s 286ms/step - loss: 0.0035 - accuracy: 0.9990 - val_loss: 0.0737 - val_accuracy: 0.9786\n",
            "Epoch 26/30\n",
            "184/184 [==============================] - 53s 286ms/step - loss: 0.0040 - accuracy: 0.9990 - val_loss: 0.0850 - val_accuracy: 0.9755\n",
            "Epoch 27/30\n",
            "184/184 [==============================] - 53s 289ms/step - loss: 0.0031 - accuracy: 0.9993 - val_loss: 0.0653 - val_accuracy: 0.9817\n",
            "Epoch 28/30\n",
            "184/184 [==============================] - 52s 285ms/step - loss: 0.0027 - accuracy: 0.9993 - val_loss: 0.0677 - val_accuracy: 0.9817\n",
            "Epoch 29/30\n",
            "184/184 [==============================] - 52s 285ms/step - loss: 0.0031 - accuracy: 0.9990 - val_loss: 0.0586 - val_accuracy: 0.9847\n",
            "Epoch 30/30\n",
            "184/184 [==============================] - 53s 285ms/step - loss: 0.0036 - accuracy: 0.9993 - val_loss: 0.0854 - val_accuracy: 0.9786\n"
          ]
        }
      ]
    },
    {
      "cell_type": "code",
      "source": [
        "model_vgg19bilstm.evaluate(X_test, y_test)"
      ],
      "metadata": {
        "colab": {
          "base_uri": "https://localhost:8080/"
        },
        "outputId": "47688a8e-524b-4e12-e16b-f5258db322f1",
        "id": "NzRNohjClwuj"
      },
      "execution_count": 15,
      "outputs": [
        {
          "output_type": "stream",
          "name": "stdout",
          "text": [
            "11/11 [==============================] - 2s 162ms/step - loss: 0.0854 - accuracy: 0.9786\n"
          ]
        },
        {
          "output_type": "execute_result",
          "data": {
            "text/plain": [
              "[0.08543296158313751, 0.9785932898521423]"
            ]
          },
          "metadata": {},
          "execution_count": 15
        }
      ]
    },
    {
      "cell_type": "markdown",
      "source": [
        "<h2>Plot Accuracy dan Loss"
      ],
      "metadata": {
        "id": "TQxvhJh7lwuk"
      }
    },
    {
      "cell_type": "code",
      "source": [
        "plt.figure(figsize = (10, 5))\n",
        "plt.plot(history2.history[\"accuracy\"], label = \"accuracy\")\n",
        "plt.plot(history2.history[\"val_accuracy\"], label = \"val_accuracy\")\n",
        "plt.title(\"Training Accuracy and Validation Accuracy on COVID-19 Dataset\")\n",
        "plt.xlabel(\"Epoch\")\n",
        "plt.ylabel(\"Training/Validation Accuracy\")\n",
        "plt.legend(loc = \"upper left\")"
      ],
      "metadata": {
        "colab": {
          "base_uri": "https://localhost:8080/",
          "height": 367
        },
        "outputId": "c8615003-6d59-482f-e2fc-d7dde8a16b64",
        "id": "uB-uo1oolwuk"
      },
      "execution_count": 12,
      "outputs": [
        {
          "output_type": "execute_result",
          "data": {
            "text/plain": [
              "<matplotlib.legend.Legend at 0x7fd0077a6610>"
            ]
          },
          "metadata": {},
          "execution_count": 12
        },
        {
          "output_type": "display_data",
          "data": {
            "text/plain": [
              "<Figure size 720x360 with 1 Axes>"
            ],
            "image/png": "[encoded data removed]"
          },
          "metadata": {
            "needs_background": "light"
          }
        }
      ]
    },
    {
      "cell_type": "code",
      "source": [
        "plt.figure(figsize = (10, 5))\n",
        "plt.plot(history2.history[\"loss\"], label = \"loss\")\n",
        "plt.plot(history2.history[\"val_loss\"], label = \"val_loss\")\n",
        "plt.title(\"Training Loss and Validation Loss on COVID-19 Dataset\")\n",
        "plt.xlabel(\"Epoch\")\n",
        "plt.ylabel(\"Training/Validation Loss\")\n",
        "plt.legend()"
      ],
      "metadata": {
        "colab": {
          "base_uri": "https://localhost:8080/",
          "height": 367
        },
        "outputId": "399e2712-465c-435c-d0e4-bf53928397b0",
        "id": "h2M5WD3llwuk"
      },
      "execution_count": 13,
      "outputs": [
        {
          "output_type": "execute_result",
          "data": {
            "text/plain": [
              "<matplotlib.legend.Legend at 0x7fcfcf7a6050>"
            ]
          },
          "metadata": {},
          "execution_count": 13
        },
        {
          "output_type": "display_data",
          "data": {
            "text/plain": [
              "<Figure size 720x360 with 1 Axes>"
            ],
            "image/png": "[encoded data removed]"
          },
          "metadata": {
            "needs_background": "light"
          }
        }
      ]
    },
    {
      "cell_type": "markdown",
      "source": [
        "<h2>Save Model VGG19+BiLSTM"
      ],
      "metadata": {
        "id": "jOdzeQvRlwul"
      }
    },
    {
      "cell_type": "code",
      "source": [
        "model_vgg19bilstm.save('/content/drive/MyDrive/Dataset/model_tumor_otak/model_vgg19+bilstm_skripsi_baru.h5')"
      ],
      "metadata": {
        "id": "O_YROAVolwul"
      },
      "execution_count": 16,
      "outputs": []
    },
    {
      "cell_type": "code",
      "source": [
        "model_vgg19bilstm.save('/content/drive/MyDrive/Dataset/model_tumor_otak/model_vgg19+bilstm_percobaan1.h5')"
      ],
      "metadata": {
        "id": "XcoGKWfFlwul"
      },
      "execution_count": null,
      "outputs": []
    },
    {
      "cell_type": "code",
      "source": [
        "pred2=np.argmax(model_vgg19bilstm.predict(X_test),axis=1)\n",
        "print(classification_report(y_test,pred2,target_names=classes,digits=2+2))"
      ],
      "metadata": {
        "colab": {
          "base_uri": "https://localhost:8080/"
        },
        "outputId": "d8905cc5-d157-4dc9-c292-158d121fd6e2",
        "id": "rVWVLtZ1lwul"
      },
      "execution_count": 14,
      "outputs": [
        {
          "output_type": "stream",
          "name": "stdout",
          "text": [
            "                  precision    recall  f1-score   support\n",
            "\n",
            " pituitary_tumor     1.0000    0.9570    0.9780        93\n",
            "    glioma_tumor     0.9490    0.9894    0.9688        94\n",
            "        no_tumor     0.9804    1.0000    0.9901        50\n",
            "meningioma_tumor     0.9888    0.9778    0.9832        90\n",
            "\n",
            "        accuracy                         0.9786       327\n",
            "       macro avg     0.9795    0.9810    0.9800       327\n",
            "    weighted avg     0.9792    0.9786    0.9786       327\n",
            "\n"
          ]
        }
      ]
    },
    {
      "cell_type": "code",
      "source": [
        "from sklearn.metrics import confusion_matrix\n",
        "\n",
        "confusion_matrix(y_test, pred2)"
      ],
      "metadata": {
        "colab": {
          "base_uri": "https://localhost:8080/"
        },
        "outputId": "e8328b19-3b7e-41b7-d1ed-1c874eb75e9a",
        "id": "BOEkqceclwum"
      },
      "execution_count": null,
      "outputs": [
        {
          "output_type": "execute_result",
          "data": {
            "text/plain": [
              "array([[172,   9,   3,   1],\n",
              "       [  3, 178,   1,   6],\n",
              "       [  1,   2,  95,   2],\n",
              "       [  0,   0,   0, 180]])"
            ]
          },
          "metadata": {},
          "execution_count": 17
        }
      ]
    },
    {
      "cell_type": "markdown",
      "source": [
        "##Xception"
      ],
      "metadata": {
        "id": "qNWgUYONKNqt"
      }
    },
    {
      "cell_type": "code",
      "source": [
        "model_xception = Sequential(Xception(include_top=False, weights='imagenet', input_shape=(image_size, image_size, 3)))\n",
        "model_xception.add(Flatten())\n",
        "tf.keras.applications.trainable = False\n",
        "model_xception.add(Dense(256, activation='relu'))\n",
        "model_xception.add(Dropout(0.5))\n",
        "model_xception.add(Dense(4, activation='softmax'))"
      ],
      "metadata": {
        "id": "7V5XYQuXKNq3",
        "colab": {
          "base_uri": "https://localhost:8080/"
        },
        "outputId": "85cbda0b-7cea-4480-900c-c7a58b48b7d3"
      },
      "execution_count": null,
      "outputs": [
        {
          "output_type": "stream",
          "name": "stdout",
          "text": [
            "Downloading data from https://storage.googleapis.com/tensorflow/keras-applications/xception/xception_weights_tf_dim_ordering_tf_kernels_notop.h5\n",
            "83689472/83683744 [==============================] - 0s 0us/step\n",
            "83697664/83683744 [==============================] - 0s 0us/step\n"
          ]
        }
      ]
    },
    {
      "cell_type": "code",
      "source": [
        "model_xception.summary()"
      ],
      "metadata": {
        "colab": {
          "base_uri": "https://localhost:8080/"
        },
        "outputId": "48819dc9-9542-4465-d7e9-c5bf89c539ab",
        "id": "Urljtq_sKNq4"
      },
      "execution_count": null,
      "outputs": [
        {
          "output_type": "stream",
          "name": "stdout",
          "text": [
            "Model: \"sequential_4\"\n",
            "_________________________________________________________________\n",
            " Layer (type)                Output Shape              Param #   \n",
            "=================================================================\n",
            " xception (Functional)       (None, 7, 7, 2048)        20861480  \n",
            "                                                                 \n",
            " flatten_4 (Flatten)         (None, 100352)            0         \n",
            "                                                                 \n",
            " dense_8 (Dense)             (None, 256)               25690368  \n",
            "                                                                 \n",
            " dropout_6 (Dropout)         (None, 256)               0         \n",
            "                                                                 \n",
            " dense_9 (Dense)             (None, 4)                 1028      \n",
            "                                                                 \n",
            "=================================================================\n",
            "Total params: 46,552,876\n",
            "Trainable params: 46,498,348\n",
            "Non-trainable params: 54,528\n",
            "_________________________________________________________________\n"
          ]
        }
      ]
    },
    {
      "cell_type": "code",
      "source": [
        "opt = Adam(learning_rate=0.000016, beta_1=0.92, beta_2=0.9994, epsilon=1e-08)\n",
        "model_xception.compile(optimizer=opt,\n",
        "              loss='sparse_categorical_crossentropy',\n",
        "              metrics=['accuracy'])"
      ],
      "metadata": {
        "id": "2G9IYd1bKNq4"
      },
      "execution_count": null,
      "outputs": []
    },
    {
      "cell_type": "code",
      "source": [
        "history_xception=model_xception.fit(X_train ,y_train,\n",
        "                               validation_data = (X_test,y_test),\n",
        "                               epochs=30,\n",
        "                               batch_size=16)"
      ],
      "metadata": {
        "colab": {
          "base_uri": "https://localhost:8080/"
        },
        "outputId": "4a7a1452-ff39-499f-bc69-71cc266c4ded",
        "id": "_nDpKwPbKNq5"
      },
      "execution_count": null,
      "outputs": [
        {
          "output_type": "stream",
          "name": "stdout",
          "text": [
            "Epoch 1/30\n",
            "184/184 [==============================] - 67s 329ms/step - loss: 0.7473 - accuracy: 0.7045 - val_loss: 0.4333 - val_accuracy: 0.8318\n",
            "Epoch 2/30\n",
            "184/184 [==============================] - 57s 308ms/step - loss: 0.2852 - accuracy: 0.8975 - val_loss: 0.2125 - val_accuracy: 0.9235\n",
            "Epoch 3/30\n",
            "184/184 [==============================] - 57s 310ms/step - loss: 0.1187 - accuracy: 0.9612 - val_loss: 0.1529 - val_accuracy: 0.9419\n",
            "Epoch 4/30\n",
            "184/184 [==============================] - 57s 308ms/step - loss: 0.0651 - accuracy: 0.9803 - val_loss: 0.1998 - val_accuracy: 0.9327\n",
            "Epoch 5/30\n",
            "184/184 [==============================] - 57s 310ms/step - loss: 0.0372 - accuracy: 0.9877 - val_loss: 0.1957 - val_accuracy: 0.9297\n",
            "Epoch 6/30\n",
            "184/184 [==============================] - 57s 309ms/step - loss: 0.0245 - accuracy: 0.9939 - val_loss: 0.1389 - val_accuracy: 0.9511\n",
            "Epoch 7/30\n",
            "184/184 [==============================] - 57s 309ms/step - loss: 0.0159 - accuracy: 0.9963 - val_loss: 0.1585 - val_accuracy: 0.9572\n",
            "Epoch 8/30\n",
            "184/184 [==============================] - 57s 309ms/step - loss: 0.0105 - accuracy: 0.9976 - val_loss: 0.1621 - val_accuracy: 0.9511\n",
            "Epoch 9/30\n",
            "184/184 [==============================] - 57s 310ms/step - loss: 0.0149 - accuracy: 0.9963 - val_loss: 0.1460 - val_accuracy: 0.9572\n",
            "Epoch 10/30\n",
            "184/184 [==============================] - 57s 309ms/step - loss: 0.0084 - accuracy: 0.9983 - val_loss: 0.1436 - val_accuracy: 0.9602\n",
            "Epoch 11/30\n",
            "184/184 [==============================] - 57s 308ms/step - loss: 0.0069 - accuracy: 0.9986 - val_loss: 0.2475 - val_accuracy: 0.9572\n",
            "Epoch 12/30\n",
            "184/184 [==============================] - 57s 309ms/step - loss: 0.0136 - accuracy: 0.9956 - val_loss: 0.2313 - val_accuracy: 0.9541\n",
            "Epoch 13/30\n",
            "184/184 [==============================] - 57s 308ms/step - loss: 0.0117 - accuracy: 0.9969 - val_loss: 0.1621 - val_accuracy: 0.9541\n",
            "Epoch 14/30\n",
            "184/184 [==============================] - 57s 309ms/step - loss: 0.0200 - accuracy: 0.9911 - val_loss: 0.1605 - val_accuracy: 0.9541\n",
            "Epoch 15/30\n",
            "184/184 [==============================] - 57s 309ms/step - loss: 0.0118 - accuracy: 0.9963 - val_loss: 0.1456 - val_accuracy: 0.9633\n",
            "Epoch 16/30\n",
            "184/184 [==============================] - 57s 309ms/step - loss: 0.0106 - accuracy: 0.9956 - val_loss: 0.1825 - val_accuracy: 0.9572\n",
            "Epoch 17/30\n",
            "184/184 [==============================] - 57s 309ms/step - loss: 0.0135 - accuracy: 0.9952 - val_loss: 0.1866 - val_accuracy: 0.9602\n",
            "Epoch 18/30\n",
            "184/184 [==============================] - 58s 316ms/step - loss: 0.0031 - accuracy: 0.9993 - val_loss: 0.1976 - val_accuracy: 0.9572\n",
            "Epoch 19/30\n",
            "184/184 [==============================] - 57s 309ms/step - loss: 0.0045 - accuracy: 0.9980 - val_loss: 0.1573 - val_accuracy: 0.9602\n",
            "Epoch 20/30\n",
            "184/184 [==============================] - 57s 310ms/step - loss: 0.0059 - accuracy: 0.9986 - val_loss: 0.1307 - val_accuracy: 0.9633\n",
            "Epoch 21/30\n",
            "184/184 [==============================] - 57s 308ms/step - loss: 0.0033 - accuracy: 0.9986 - val_loss: 0.1909 - val_accuracy: 0.9541\n",
            "Epoch 22/30\n",
            "184/184 [==============================] - 57s 308ms/step - loss: 0.0075 - accuracy: 0.9976 - val_loss: 0.2144 - val_accuracy: 0.9511\n",
            "Epoch 23/30\n",
            "184/184 [==============================] - 57s 308ms/step - loss: 0.0037 - accuracy: 0.9986 - val_loss: 0.2486 - val_accuracy: 0.9633\n",
            "Epoch 24/30\n",
            "184/184 [==============================] - 57s 308ms/step - loss: 0.0119 - accuracy: 0.9963 - val_loss: 0.1924 - val_accuracy: 0.9633\n",
            "Epoch 25/30\n",
            "184/184 [==============================] - 57s 308ms/step - loss: 0.0020 - accuracy: 0.9993 - val_loss: 0.2313 - val_accuracy: 0.9572\n",
            "Epoch 26/30\n",
            "184/184 [==============================] - 56s 307ms/step - loss: 0.0044 - accuracy: 0.9980 - val_loss: 0.1957 - val_accuracy: 0.9694\n",
            "Epoch 27/30\n",
            "184/184 [==============================] - 57s 309ms/step - loss: 0.0095 - accuracy: 0.9963 - val_loss: 0.2115 - val_accuracy: 0.9602\n",
            "Epoch 28/30\n",
            "184/184 [==============================] - 57s 309ms/step - loss: 0.0074 - accuracy: 0.9986 - val_loss: 0.2648 - val_accuracy: 0.9541\n",
            "Epoch 29/30\n",
            "184/184 [==============================] - 57s 308ms/step - loss: 0.0197 - accuracy: 0.9935 - val_loss: 0.2332 - val_accuracy: 0.9602\n",
            "Epoch 30/30\n",
            "184/184 [==============================] - 57s 310ms/step - loss: 0.0052 - accuracy: 0.9980 - val_loss: 0.2326 - val_accuracy: 0.9664\n"
          ]
        }
      ]
    },
    {
      "cell_type": "code",
      "source": [
        "model_xception.evaluate(X_test, y_test)"
      ],
      "metadata": {
        "colab": {
          "base_uri": "https://localhost:8080/"
        },
        "outputId": "25b091ab-cbce-4dc9-8d43-fadfaa65fe0b",
        "id": "RE3E1VAUKNq5"
      },
      "execution_count": null,
      "outputs": [
        {
          "output_type": "stream",
          "name": "stdout",
          "text": [
            "11/11 [==============================] - 2s 115ms/step - loss: 0.2326 - accuracy: 0.9664\n"
          ]
        },
        {
          "output_type": "execute_result",
          "data": {
            "text/plain": [
              "[0.23258566856384277, 0.966360867023468]"
            ]
          },
          "metadata": {},
          "execution_count": 48
        }
      ]
    },
    {
      "cell_type": "markdown",
      "source": [
        "<h2>Plot Accuracy dan Loss"
      ],
      "metadata": {
        "id": "z4mk_ngMKNq5"
      }
    },
    {
      "cell_type": "code",
      "source": [
        "plt.figure(figsize = (10, 5))\n",
        "plt.plot(history_xception.history[\"accuracy\"], label = \"accuracy\")\n",
        "plt.plot(history_xception.history[\"val_accuracy\"], label = \"val_accuracy\")\n",
        "plt.title(\"Training Accuracy and Validation Accuracy on COVID-19 Dataset\")\n",
        "plt.xlabel(\"Epoch\")\n",
        "plt.ylabel(\"Training/Validation Accuracy\")\n",
        "plt.legend(loc = \"upper left\")"
      ],
      "metadata": {
        "colab": {
          "base_uri": "https://localhost:8080/",
          "height": 367
        },
        "outputId": "a1054b2b-6e54-4ca9-9006-8b4fb4c2cd6e",
        "id": "dIS8tPVTKNq5"
      },
      "execution_count": null,
      "outputs": [
        {
          "output_type": "execute_result",
          "data": {
            "text/plain": [
              "<matplotlib.legend.Legend at 0x7fe26bd61850>"
            ]
          },
          "metadata": {},
          "execution_count": 49
        },
        {
          "output_type": "display_data",
          "data": {
            "text/plain": [
              "<Figure size 720x360 with 1 Axes>"
            ],
            "image/png": "[encoded data removed]"
          },
          "metadata": {
            "needs_background": "light"
          }
        }
      ]
    },
    {
      "cell_type": "code",
      "source": [
        "plt.figure(figsize = (10, 5))\n",
        "plt.plot(history_xception.history[\"loss\"], label = \"loss\")\n",
        "plt.plot(history_xception.history[\"val_loss\"], label = \"val_loss\")\n",
        "plt.title(\"Training Loss and Validation Loss on COVID-19 Dataset\")\n",
        "plt.xlabel(\"Epoch\")\n",
        "plt.ylabel(\"Training/Validation Loss\")\n",
        "plt.legend()"
      ],
      "metadata": {
        "colab": {
          "base_uri": "https://localhost:8080/",
          "height": 367
        },
        "outputId": "313ef4dc-c133-4133-cf44-4277c2ba86f8",
        "id": "1TgVlETvKNq6"
      },
      "execution_count": null,
      "outputs": [
        {
          "output_type": "execute_result",
          "data": {
            "text/plain": [
              "<matplotlib.legend.Legend at 0x7fe26bd27550>"
            ]
          },
          "metadata": {},
          "execution_count": 50
        },
        {
          "output_type": "display_data",
          "data": {
            "text/plain": [
              "<Figure size 720x360 with 1 Axes>"
            ],
            "image/png": "[encoded data removed]"
          },
          "metadata": {
            "needs_background": "light"
          }
        }
      ]
    },
    {
      "cell_type": "code",
      "source": [
        "pred2=np.argmax(model_xception.predict(X_test),axis=1)\n",
        "print(classification_report(y_test,pred2,target_names=classes, digits=4))"
      ],
      "metadata": {
        "colab": {
          "base_uri": "https://localhost:8080/"
        },
        "outputId": "4aab852f-209d-4b1c-8de2-e3ebafcc0f31",
        "id": "dVpsn_AFKNq6"
      },
      "execution_count": null,
      "outputs": [
        {
          "output_type": "stream",
          "name": "stdout",
          "text": [
            "                  precision    recall  f1-score   support\n",
            "\n",
            " pituitary_tumor     0.9778    0.9462    0.9617        93\n",
            "        no_tumor     0.9681    0.9681    0.9681        94\n",
            "meningioma_tumor     0.9792    0.9400    0.9592        50\n",
            "    glioma_tumor     0.9474    1.0000    0.9730        90\n",
            "\n",
            "        accuracy                         0.9664       327\n",
            "       macro avg     0.9681    0.9636    0.9655       327\n",
            "    weighted avg     0.9668    0.9664    0.9663       327\n",
            "\n"
          ]
        }
      ]
    },
    {
      "cell_type": "markdown",
      "source": [
        "##Xception+BiLSTM"
      ],
      "metadata": {
        "id": "cFWU4geq3A--"
      }
    },
    {
      "cell_type": "code",
      "source": [
        "model_xceptionbilstm = Sequential(Xception(include_top=False, weights='imagenet', input_shape=(image_size, image_size, 3)))\n",
        "model_xceptionbilstm.add(TimeDistributed(Flatten()))\n",
        "model_xceptionbilstm.add(Bidirectional(LSTM(units=128, return_sequences=True)))\n",
        "model_xceptionbilstm.add(Dropout(0.5))\n",
        "model_xceptionbilstm.add(Bidirectional(LSTM(units=128, return_sequences=False)))\n",
        "model_xceptionbilstm.add(Dropout(0.5))\n",
        "model_xceptionbilstm.add(Dense(256, activation='relu'))\n",
        "model_xceptionbilstm.add(Dense(4, activation='softmax'))\n",
        "tf.keras.applications.trainable = False"
      ],
      "metadata": {
        "id": "4KwYruEV3A-_"
      },
      "execution_count": null,
      "outputs": []
    },
    {
      "cell_type": "code",
      "source": [
        "model_xceptionbilstm.summary()"
      ],
      "metadata": {
        "colab": {
          "base_uri": "https://localhost:8080/"
        },
        "outputId": "ee28503d-bded-4e4d-8555-eb3a781435cb",
        "id": "LtGLcwar3A_A"
      },
      "execution_count": null,
      "outputs": [
        {
          "output_type": "stream",
          "name": "stdout",
          "text": [
            "Model: \"sequential_6\"\n",
            "_________________________________________________________________\n",
            " Layer (type)                Output Shape              Param #   \n",
            "=================================================================\n",
            " xception (Functional)       (None, 7, 7, 2048)        20861480  \n",
            "                                                                 \n",
            " time_distributed_3 (TimeDis  (None, 7, 14336)         0         \n",
            " tributed)                                                       \n",
            "                                                                 \n",
            " bidirectional_6 (Bidirectio  (None, 7, 256)           14812160  \n",
            " nal)                                                            \n",
            "                                                                 \n",
            " dropout_9 (Dropout)         (None, 7, 256)            0         \n",
            "                                                                 \n",
            " bidirectional_7 (Bidirectio  (None, 256)              394240    \n",
            " nal)                                                            \n",
            "                                                                 \n",
            " dropout_10 (Dropout)        (None, 256)               0         \n",
            "                                                                 \n",
            " dense_12 (Dense)            (None, 256)               65792     \n",
            "                                                                 \n",
            " dense_13 (Dense)            (None, 4)                 1028      \n",
            "                                                                 \n",
            "=================================================================\n",
            "Total params: 36,134,700\n",
            "Trainable params: 36,080,172\n",
            "Non-trainable params: 54,528\n",
            "_________________________________________________________________\n"
          ]
        }
      ]
    },
    {
      "cell_type": "code",
      "source": [
        "opt = Adam(learning_rate=0.000016, beta_1=0.91, beta_2=0.9994, epsilon=1e-08)\n",
        "model_xceptionbilstm.compile(optimizer=opt,\n",
        "              loss='sparse_categorical_crossentropy',\n",
        "              metrics=['accuracy'])"
      ],
      "metadata": {
        "id": "7AiUnvIj3A_A"
      },
      "execution_count": null,
      "outputs": []
    },
    {
      "cell_type": "code",
      "source": [
        "history3=model_xceptionbilstm.fit(X_train ,y_train,\n",
        "                               validation_data = (X_test,y_test),\n",
        "                               epochs=30,\n",
        "                               batch_size=16)"
      ],
      "metadata": {
        "colab": {
          "base_uri": "https://localhost:8080/"
        },
        "outputId": "1dda34bb-8731-4035-9e2a-df9099f0cbde",
        "id": "jfJ-Dr3n3A_C"
      },
      "execution_count": null,
      "outputs": [
        {
          "output_type": "stream",
          "name": "stdout",
          "text": [
            "Epoch 1/30\n",
            "184/184 [==============================] - 70s 328ms/step - loss: 1.0219 - accuracy: 0.6153 - val_loss: 0.5592 - val_accuracy: 0.7982\n",
            "Epoch 2/30\n",
            "184/184 [==============================] - 58s 314ms/step - loss: 0.4593 - accuracy: 0.8628 - val_loss: 0.2833 - val_accuracy: 0.9205\n",
            "Epoch 3/30\n",
            "184/184 [==============================] - 58s 314ms/step - loss: 0.1888 - accuracy: 0.9496 - val_loss: 0.1542 - val_accuracy: 0.9480\n",
            "Epoch 4/30\n",
            "184/184 [==============================] - 58s 315ms/step - loss: 0.0810 - accuracy: 0.9840 - val_loss: 0.1692 - val_accuracy: 0.9480\n",
            "Epoch 5/30\n",
            "184/184 [==============================] - 58s 314ms/step - loss: 0.0479 - accuracy: 0.9881 - val_loss: 0.1645 - val_accuracy: 0.9572\n",
            "Epoch 6/30\n",
            "184/184 [==============================] - 58s 314ms/step - loss: 0.0231 - accuracy: 0.9956 - val_loss: 0.1796 - val_accuracy: 0.9511\n",
            "Epoch 7/30\n",
            "184/184 [==============================] - 58s 314ms/step - loss: 0.0160 - accuracy: 0.9969 - val_loss: 0.1565 - val_accuracy: 0.9602\n",
            "Epoch 8/30\n",
            "184/184 [==============================] - 58s 314ms/step - loss: 0.0206 - accuracy: 0.9946 - val_loss: 0.1831 - val_accuracy: 0.9602\n",
            "Epoch 9/30\n",
            "184/184 [==============================] - 58s 313ms/step - loss: 0.0106 - accuracy: 0.9986 - val_loss: 0.1898 - val_accuracy: 0.9633\n",
            "Epoch 10/30\n",
            "184/184 [==============================] - 58s 314ms/step - loss: 0.0143 - accuracy: 0.9963 - val_loss: 0.2144 - val_accuracy: 0.9541\n",
            "Epoch 11/30\n",
            "184/184 [==============================] - 58s 313ms/step - loss: 0.0154 - accuracy: 0.9963 - val_loss: 0.2274 - val_accuracy: 0.9572\n",
            "Epoch 12/30\n",
            "184/184 [==============================] - 58s 314ms/step - loss: 0.0135 - accuracy: 0.9966 - val_loss: 0.2187 - val_accuracy: 0.9572\n",
            "Epoch 13/30\n",
            "184/184 [==============================] - 58s 314ms/step - loss: 0.0100 - accuracy: 0.9983 - val_loss: 0.1826 - val_accuracy: 0.9694\n",
            "Epoch 14/30\n",
            "184/184 [==============================] - 58s 314ms/step - loss: 0.0058 - accuracy: 0.9986 - val_loss: 0.1811 - val_accuracy: 0.9602\n",
            "Epoch 15/30\n",
            "184/184 [==============================] - 58s 314ms/step - loss: 0.0085 - accuracy: 0.9973 - val_loss: 0.2598 - val_accuracy: 0.9480\n",
            "Epoch 16/30\n",
            "184/184 [==============================] - 58s 314ms/step - loss: 0.0100 - accuracy: 0.9966 - val_loss: 0.1981 - val_accuracy: 0.9602\n",
            "Epoch 17/30\n",
            "184/184 [==============================] - 58s 314ms/step - loss: 0.0042 - accuracy: 0.9997 - val_loss: 0.2103 - val_accuracy: 0.9572\n",
            "Epoch 18/30\n",
            "184/184 [==============================] - 58s 314ms/step - loss: 0.0053 - accuracy: 0.9986 - val_loss: 0.1940 - val_accuracy: 0.9572\n",
            "Epoch 19/30\n",
            "184/184 [==============================] - 58s 314ms/step - loss: 0.0017 - accuracy: 1.0000 - val_loss: 0.1968 - val_accuracy: 0.9664\n",
            "Epoch 20/30\n",
            "184/184 [==============================] - 58s 314ms/step - loss: 0.0090 - accuracy: 0.9969 - val_loss: 0.1635 - val_accuracy: 0.9633\n",
            "Epoch 21/30\n",
            "184/184 [==============================] - 58s 313ms/step - loss: 0.0069 - accuracy: 0.9983 - val_loss: 0.2041 - val_accuracy: 0.9664\n",
            "Epoch 22/30\n",
            "184/184 [==============================] - 58s 313ms/step - loss: 0.0021 - accuracy: 0.9993 - val_loss: 0.2144 - val_accuracy: 0.9664\n",
            "Epoch 23/30\n",
            "184/184 [==============================] - 58s 313ms/step - loss: 0.0086 - accuracy: 0.9976 - val_loss: 0.2890 - val_accuracy: 0.9511\n",
            "Epoch 24/30\n",
            "184/184 [==============================] - 58s 313ms/step - loss: 0.0043 - accuracy: 0.9986 - val_loss: 0.1762 - val_accuracy: 0.9633\n",
            "Epoch 25/30\n",
            "184/184 [==============================] - 58s 315ms/step - loss: 0.0117 - accuracy: 0.9966 - val_loss: 0.1920 - val_accuracy: 0.9572\n",
            "Epoch 26/30\n",
            "184/184 [==============================] - 58s 314ms/step - loss: 0.0183 - accuracy: 0.9952 - val_loss: 0.2137 - val_accuracy: 0.9602\n",
            "Epoch 27/30\n",
            "184/184 [==============================] - 58s 313ms/step - loss: 0.0022 - accuracy: 1.0000 - val_loss: 0.1838 - val_accuracy: 0.9664\n",
            "Epoch 28/30\n",
            "184/184 [==============================] - 58s 314ms/step - loss: 0.0081 - accuracy: 0.9983 - val_loss: 0.2764 - val_accuracy: 0.9480\n",
            "Epoch 29/30\n",
            "184/184 [==============================] - 58s 313ms/step - loss: 0.0037 - accuracy: 0.9990 - val_loss: 0.2505 - val_accuracy: 0.9602\n",
            "Epoch 30/30\n",
            "184/184 [==============================] - 58s 314ms/step - loss: 0.0055 - accuracy: 0.9983 - val_loss: 0.1846 - val_accuracy: 0.9633\n"
          ]
        }
      ]
    },
    {
      "cell_type": "code",
      "source": [
        "model_xceptionbilstm.evaluate(X_test, y_test)"
      ],
      "metadata": {
        "colab": {
          "base_uri": "https://localhost:8080/"
        },
        "outputId": "d083fe72-f460-452b-ea81-35e799ad01ae",
        "id": "gswUxGIP3A_C"
      },
      "execution_count": null,
      "outputs": [
        {
          "output_type": "stream",
          "name": "stdout",
          "text": [
            "11/11 [==============================] - 1s 122ms/step - loss: 0.1846 - accuracy: 0.9633\n"
          ]
        },
        {
          "output_type": "execute_result",
          "data": {
            "text/plain": [
              "[0.184580996632576, 0.963302731513977]"
            ]
          },
          "metadata": {},
          "execution_count": 58
        }
      ]
    },
    {
      "cell_type": "markdown",
      "source": [
        "<h2>Plot Accuracy dan Loss"
      ],
      "metadata": {
        "id": "99ubxyu13A_E"
      }
    },
    {
      "cell_type": "code",
      "source": [
        "plt.figure(figsize = (10, 5))\n",
        "plt.plot(history3.history[\"accuracy\"], label = \"accuracy\")\n",
        "plt.plot(history3.history[\"val_accuracy\"], label = \"val_accuracy\")\n",
        "plt.title(\"Training Accuracy and Validation Accuracy on COVID-19 Dataset\")\n",
        "plt.xlabel(\"Epoch\")\n",
        "plt.ylabel(\"Training/Validation Accuracy\")\n",
        "plt.legend(loc = \"upper left\")"
      ],
      "metadata": {
        "colab": {
          "base_uri": "https://localhost:8080/",
          "height": 367
        },
        "outputId": "c1edce2d-355e-4bdd-83c6-6d1795ec67cc",
        "id": "MYjzK8NT3A_E"
      },
      "execution_count": null,
      "outputs": [
        {
          "output_type": "execute_result",
          "data": {
            "text/plain": [
              "<matplotlib.legend.Legend at 0x7fe112714590>"
            ]
          },
          "metadata": {},
          "execution_count": 59
        },
        {
          "output_type": "display_data",
          "data": {
            "text/plain": [
              "<Figure size 720x360 with 1 Axes>"
            ],
            "image/png": "[encoded data removed]"
          },
          "metadata": {
            "needs_background": "light"
          }
        }
      ]
    },
    {
      "cell_type": "code",
      "source": [
        "plt.figure(figsize = (10, 5))\n",
        "plt.plot(history3.history[\"loss\"], label = \"loss\")\n",
        "plt.plot(history3.history[\"val_loss\"], label = \"val_loss\")\n",
        "plt.title(\"Training Loss and Validation Loss on COVID-19 Dataset\")\n",
        "plt.xlabel(\"Epoch\")\n",
        "plt.ylabel(\"Training/Validation Loss\")\n",
        "plt.legend()"
      ],
      "metadata": {
        "colab": {
          "base_uri": "https://localhost:8080/",
          "height": 367
        },
        "outputId": "e18d7393-d285-4d48-be91-02052c35fdce",
        "id": "L6hqENzq3A_F"
      },
      "execution_count": null,
      "outputs": [
        {
          "output_type": "execute_result",
          "data": {
            "text/plain": [
              "<matplotlib.legend.Legend at 0x7fe110a2c9d0>"
            ]
          },
          "metadata": {},
          "execution_count": 60
        },
        {
          "output_type": "display_data",
          "data": {
            "text/plain": [
              "<Figure size 720x360 with 1 Axes>"
            ],
            "image/png": "[encoded data removed]"
          },
          "metadata": {
            "needs_background": "light"
          }
        }
      ]
    },
    {
      "cell_type": "markdown",
      "source": [
        "<h2>Save Model Xception+BiLSTM"
      ],
      "metadata": {
        "id": "bDcLlmg43A_G"
      }
    },
    {
      "cell_type": "code",
      "source": [
        "model_xceptionbilstm.save('/content/drive/MyDrive/Dataset/model_tumor_otak/model_xception+bilstm_skripsi.h5')"
      ],
      "metadata": {
        "id": "F_9gYZln3A_G"
      },
      "execution_count": null,
      "outputs": []
    },
    {
      "cell_type": "code",
      "source": [
        "pred2=np.argmax(model_xceptionbilstm.predict(X_test),axis=1)\n",
        "print(classification_report(y_test,pred2,target_names=classes,digits=4))"
      ],
      "metadata": {
        "colab": {
          "base_uri": "https://localhost:8080/"
        },
        "outputId": "6aa7c958-7316-4fe7-c6b8-ab5184644bb7",
        "id": "4DqoqGvL3A_H"
      },
      "execution_count": null,
      "outputs": [
        {
          "output_type": "stream",
          "name": "stdout",
          "text": [
            "                  precision    recall  f1-score   support\n",
            "\n",
            " pituitary_tumor     0.9667    0.9355    0.9508        93\n",
            "        no_tumor     0.9479    0.9681    0.9579        94\n",
            "meningioma_tumor     0.9592    0.9400    0.9495        50\n",
            "    glioma_tumor     0.9783    1.0000    0.9890        90\n",
            "\n",
            "        accuracy                         0.9633       327\n",
            "       macro avg     0.9630    0.9609    0.9618       327\n",
            "    weighted avg     0.9633    0.9633    0.9632       327\n",
            "\n"
          ]
        }
      ]
    },
    {
      "cell_type": "markdown",
      "source": [
        "##InceptionV3"
      ],
      "metadata": {
        "id": "yDDcxbKEpjYf"
      }
    },
    {
      "cell_type": "code",
      "source": [
        "from tensorflow.keras.applications.inception_v3 import InceptionV3"
      ],
      "metadata": {
        "id": "H7SjShfhpwDp"
      },
      "execution_count": 17,
      "outputs": []
    },
    {
      "cell_type": "code",
      "source": [
        "model_inception = Sequential(InceptionV3(include_top=False, weights='imagenet', input_shape=(image_size, image_size, 3)))\n",
        "model_inception.add(Flatten())\n",
        "tf.keras.applications.trainable = False\n",
        "model_inception.add(Dense(256, activation='relu'))\n",
        "model_inception.add(Dropout(0.5))\n",
        "model_inception.add(Dense(4, activation='softmax'))"
      ],
      "metadata": {
        "colab": {
          "base_uri": "https://localhost:8080/"
        },
        "id": "kCwKUXsQpjYg",
        "outputId": "81f548ed-993a-4cec-98f1-c511f1c3f048"
      },
      "execution_count": 18,
      "outputs": [
        {
          "output_type": "stream",
          "name": "stdout",
          "text": [
            "Downloading data from https://storage.googleapis.com/tensorflow/keras-applications/inception_v3/inception_v3_weights_tf_dim_ordering_tf_kernels_notop.h5\n",
            "87916544/87910968 [==============================] - 0s 0us/step\n",
            "87924736/87910968 [==============================] - 0s 0us/step\n"
          ]
        }
      ]
    },
    {
      "cell_type": "code",
      "source": [
        "model_inception.summary()"
      ],
      "metadata": {
        "colab": {
          "base_uri": "https://localhost:8080/"
        },
        "outputId": "19f4ef3b-b391-4193-d281-e007c8480b7b",
        "id": "rRdykE7JpjYg"
      },
      "execution_count": 19,
      "outputs": [
        {
          "output_type": "stream",
          "name": "stdout",
          "text": [
            "Model: \"sequential_1\"\n",
            "_________________________________________________________________\n",
            " Layer (type)                Output Shape              Param #   \n",
            "=================================================================\n",
            " inception_v3 (Functional)   (None, 5, 5, 2048)        21802784  \n",
            "                                                                 \n",
            " flatten_1 (Flatten)         (None, 51200)             0         \n",
            "                                                                 \n",
            " dense_2 (Dense)             (None, 256)               13107456  \n",
            "                                                                 \n",
            " dropout_2 (Dropout)         (None, 256)               0         \n",
            "                                                                 \n",
            " dense_3 (Dense)             (None, 4)                 1028      \n",
            "                                                                 \n",
            "=================================================================\n",
            "Total params: 34,911,268\n",
            "Trainable params: 34,876,836\n",
            "Non-trainable params: 34,432\n",
            "_________________________________________________________________\n"
          ]
        }
      ]
    },
    {
      "cell_type": "code",
      "source": [
        "opt = Adam(learning_rate=0.000016, beta_1=0.91, beta_2=0.9994, epsilon=1e-08)\n",
        "model_inception.compile(optimizer=opt,\n",
        "              loss='sparse_categorical_crossentropy',\n",
        "              metrics=['accuracy'])"
      ],
      "metadata": {
        "id": "Bq1X2eu5pjYh"
      },
      "execution_count": 20,
      "outputs": []
    },
    {
      "cell_type": "code",
      "source": [
        "history_inception=model_inception.fit(X_train ,y_train,\n",
        "                               validation_data = (X_test,y_test),\n",
        "                               epochs=30,\n",
        "                               batch_size=16)"
      ],
      "metadata": {
        "colab": {
          "base_uri": "https://localhost:8080/"
        },
        "outputId": "70ee8a28-fc81-4067-8e8f-6cbef80d8e64",
        "id": "gJgrZDY2pjYh"
      },
      "execution_count": 21,
      "outputs": [
        {
          "output_type": "stream",
          "name": "stdout",
          "text": [
            "Epoch 1/30\n",
            "184/184 [==============================] - 37s 153ms/step - loss: 0.9080 - accuracy: 0.6459 - val_loss: 0.4140 - val_accuracy: 0.8624\n",
            "Epoch 2/30\n",
            "184/184 [==============================] - 25s 136ms/step - loss: 0.3946 - accuracy: 0.8464 - val_loss: 0.2142 - val_accuracy: 0.9266\n",
            "Epoch 3/30\n",
            "184/184 [==============================] - 25s 135ms/step - loss: 0.2178 - accuracy: 0.9213 - val_loss: 0.1578 - val_accuracy: 0.9450\n",
            "Epoch 4/30\n",
            "184/184 [==============================] - 25s 136ms/step - loss: 0.1379 - accuracy: 0.9537 - val_loss: 0.1154 - val_accuracy: 0.9602\n",
            "Epoch 5/30\n",
            "184/184 [==============================] - 25s 136ms/step - loss: 0.0823 - accuracy: 0.9680 - val_loss: 0.1129 - val_accuracy: 0.9664\n",
            "Epoch 6/30\n",
            "184/184 [==============================] - 26s 140ms/step - loss: 0.0547 - accuracy: 0.9857 - val_loss: 0.1081 - val_accuracy: 0.9664\n",
            "Epoch 7/30\n",
            "184/184 [==============================] - 26s 141ms/step - loss: 0.0476 - accuracy: 0.9854 - val_loss: 0.1324 - val_accuracy: 0.9694\n",
            "Epoch 8/30\n",
            "184/184 [==============================] - 26s 139ms/step - loss: 0.0344 - accuracy: 0.9864 - val_loss: 0.1217 - val_accuracy: 0.9725\n",
            "Epoch 9/30\n",
            "184/184 [==============================] - 26s 139ms/step - loss: 0.0399 - accuracy: 0.9894 - val_loss: 0.1120 - val_accuracy: 0.9694\n",
            "Epoch 10/30\n",
            "184/184 [==============================] - 26s 142ms/step - loss: 0.0328 - accuracy: 0.9881 - val_loss: 0.1258 - val_accuracy: 0.9725\n",
            "Epoch 11/30\n",
            "184/184 [==============================] - 26s 139ms/step - loss: 0.0176 - accuracy: 0.9932 - val_loss: 0.1629 - val_accuracy: 0.9602\n",
            "Epoch 12/30\n",
            "184/184 [==============================] - 26s 140ms/step - loss: 0.0181 - accuracy: 0.9942 - val_loss: 0.1572 - val_accuracy: 0.9664\n",
            "Epoch 13/30\n",
            "184/184 [==============================] - 26s 142ms/step - loss: 0.0127 - accuracy: 0.9973 - val_loss: 0.1382 - val_accuracy: 0.9664\n",
            "Epoch 14/30\n",
            "184/184 [==============================] - 26s 143ms/step - loss: 0.0166 - accuracy: 0.9952 - val_loss: 0.1440 - val_accuracy: 0.9602\n",
            "Epoch 15/30\n",
            "184/184 [==============================] - 26s 140ms/step - loss: 0.0445 - accuracy: 0.9857 - val_loss: 0.1199 - val_accuracy: 0.9664\n",
            "Epoch 16/30\n",
            "184/184 [==============================] - 26s 140ms/step - loss: 0.0240 - accuracy: 0.9918 - val_loss: 0.1153 - val_accuracy: 0.9725\n",
            "Epoch 17/30\n",
            "184/184 [==============================] - 26s 140ms/step - loss: 0.0261 - accuracy: 0.9922 - val_loss: 0.1428 - val_accuracy: 0.9755\n",
            "Epoch 18/30\n",
            "184/184 [==============================] - 26s 140ms/step - loss: 0.0261 - accuracy: 0.9915 - val_loss: 0.1291 - val_accuracy: 0.9755\n",
            "Epoch 19/30\n",
            "184/184 [==============================] - 26s 140ms/step - loss: 0.0210 - accuracy: 0.9901 - val_loss: 0.1328 - val_accuracy: 0.9694\n",
            "Epoch 20/30\n",
            "184/184 [==============================] - 26s 143ms/step - loss: 0.0113 - accuracy: 0.9963 - val_loss: 0.1573 - val_accuracy: 0.9694\n",
            "Epoch 21/30\n",
            "184/184 [==============================] - 26s 141ms/step - loss: 0.0155 - accuracy: 0.9928 - val_loss: 0.1838 - val_accuracy: 0.9694\n",
            "Epoch 22/30\n",
            "184/184 [==============================] - 26s 140ms/step - loss: 0.0106 - accuracy: 0.9966 - val_loss: 0.1628 - val_accuracy: 0.9755\n",
            "Epoch 23/30\n",
            "184/184 [==============================] - 26s 140ms/step - loss: 0.0121 - accuracy: 0.9959 - val_loss: 0.1796 - val_accuracy: 0.9572\n",
            "Epoch 24/30\n",
            "184/184 [==============================] - 26s 141ms/step - loss: 0.0239 - accuracy: 0.9922 - val_loss: 0.1742 - val_accuracy: 0.9725\n",
            "Epoch 25/30\n",
            "184/184 [==============================] - 26s 140ms/step - loss: 0.0232 - accuracy: 0.9935 - val_loss: 0.1180 - val_accuracy: 0.9725\n",
            "Epoch 26/30\n",
            "184/184 [==============================] - 26s 143ms/step - loss: 0.0124 - accuracy: 0.9952 - val_loss: 0.1876 - val_accuracy: 0.9725\n",
            "Epoch 27/30\n",
            "184/184 [==============================] - 26s 140ms/step - loss: 0.0073 - accuracy: 0.9969 - val_loss: 0.1547 - val_accuracy: 0.9725\n",
            "Epoch 28/30\n",
            "184/184 [==============================] - 26s 141ms/step - loss: 0.0186 - accuracy: 0.9932 - val_loss: 0.1344 - val_accuracy: 0.9694\n",
            "Epoch 29/30\n",
            "184/184 [==============================] - 26s 141ms/step - loss: 0.0140 - accuracy: 0.9963 - val_loss: 0.1144 - val_accuracy: 0.9755\n",
            "Epoch 30/30\n",
            "184/184 [==============================] - 26s 141ms/step - loss: 0.0152 - accuracy: 0.9946 - val_loss: 0.2098 - val_accuracy: 0.9664\n"
          ]
        }
      ]
    },
    {
      "cell_type": "code",
      "source": [
        "model_inception.evaluate(X_test, y_test)"
      ],
      "metadata": {
        "colab": {
          "base_uri": "https://localhost:8080/"
        },
        "outputId": "c99895b8-9c2e-402d-b0fd-94fa1cd149ae",
        "id": "4pKUqbYIpjYh"
      },
      "execution_count": 22,
      "outputs": [
        {
          "output_type": "stream",
          "name": "stdout",
          "text": [
            "11/11 [==============================] - 2s 67ms/step - loss: 0.2098 - accuracy: 0.9664\n"
          ]
        },
        {
          "output_type": "execute_result",
          "data": {
            "text/plain": [
              "[0.209797203540802, 0.966360867023468]"
            ]
          },
          "metadata": {},
          "execution_count": 22
        }
      ]
    },
    {
      "cell_type": "markdown",
      "source": [
        "<h2>Plot Accuracy dan Loss"
      ],
      "metadata": {
        "id": "8AugXtvbpjYh"
      }
    },
    {
      "cell_type": "code",
      "source": [
        "plt.figure(figsize = (10, 5))\n",
        "plt.plot(history_inception.history[\"accuracy\"], label = \"accuracy\")\n",
        "plt.plot(history_inception.history[\"val_accuracy\"], label = \"val_accuracy\")\n",
        "plt.title(\"Training Accuracy and Validation Accuracy on COVID-19 Dataset\")\n",
        "plt.xlabel(\"Epoch\")\n",
        "plt.ylabel(\"Training/Validation Accuracy\")\n",
        "plt.legend(loc = \"upper left\")"
      ],
      "metadata": {
        "colab": {
          "base_uri": "https://localhost:8080/",
          "height": 367
        },
        "outputId": "51a43418-2e93-4a9d-bffe-c3f2ba146c2a",
        "id": "esv4xM8-pjYi"
      },
      "execution_count": 23,
      "outputs": [
        {
          "output_type": "execute_result",
          "data": {
            "text/plain": [
              "<matplotlib.legend.Legend at 0x7fcfad7dac90>"
            ]
          },
          "metadata": {},
          "execution_count": 23
        },
        {
          "output_type": "display_data",
          "data": {
            "text/plain": [
              "<Figure size 720x360 with 1 Axes>"
            ],
            "image/png": "[encoded data removed]"
          },
          "metadata": {
            "needs_background": "light"
          }
        }
      ]
    },
    {
      "cell_type": "code",
      "source": [
        "plt.figure(figsize = (10, 5))\n",
        "plt.plot(history_inception.history[\"loss\"], label = \"loss\")\n",
        "plt.plot(history_inception.history[\"val_loss\"], label = \"val_loss\")\n",
        "plt.title(\"Training Loss and Validation Loss on COVID-19 Dataset\")\n",
        "plt.xlabel(\"Epoch\")\n",
        "plt.ylabel(\"Training/Validation Loss\")\n",
        "plt.legend()"
      ],
      "metadata": {
        "colab": {
          "base_uri": "https://localhost:8080/",
          "height": 367
        },
        "outputId": "bba1424d-4586-4dc4-873d-e13935d91810",
        "id": "zNapaeS7pjYk"
      },
      "execution_count": 24,
      "outputs": [
        {
          "output_type": "execute_result",
          "data": {
            "text/plain": [
              "<matplotlib.legend.Legend at 0x7fcfad7cee50>"
            ]
          },
          "metadata": {},
          "execution_count": 24
        },
        {
          "output_type": "display_data",
          "data": {
            "text/plain": [
              "<Figure size 720x360 with 1 Axes>"
            ],
            "image/png": "[encoded data removed]"
          },
          "metadata": {
            "needs_background": "light"
          }
        }
      ]
    },
    {
      "cell_type": "markdown",
      "source": [
        "<h2>Save Model Xception+BiLSTM"
      ],
      "metadata": {
        "id": "pmMD1517pjYk"
      }
    },
    {
      "cell_type": "code",
      "source": [
        "pred2=np.argmax(model_inception.predict(X_test),axis=1)\n",
        "print(classification_report(y_test,pred2,target_names=classes,digits=4\n",
        "                            ))"
      ],
      "metadata": {
        "colab": {
          "base_uri": "https://localhost:8080/"
        },
        "outputId": "69e75aa7-61a4-4d66-e76a-8678696c6fba",
        "id": "nKs8S_IIpjYl"
      },
      "execution_count": 29,
      "outputs": [
        {
          "output_type": "stream",
          "name": "stdout",
          "text": [
            "                  precision    recall  f1-score   support\n",
            "\n",
            " pituitary_tumor     0.9681    0.9785    0.9733        93\n",
            "    glioma_tumor     0.9888    0.9362    0.9617        94\n",
            "        no_tumor     0.9259    1.0000    0.9615        50\n",
            "meningioma_tumor     0.9667    0.9667    0.9667        90\n",
            "\n",
            "        accuracy                         0.9664       327\n",
            "       macro avg     0.9624    0.9703    0.9658       327\n",
            "    weighted avg     0.9672    0.9664    0.9663       327\n",
            "\n"
          ]
        }
      ]
    },
    {
      "cell_type": "markdown",
      "source": [
        "##InceptionV3+BiLSTM"
      ],
      "metadata": {
        "id": "bsFqKvY8zxd6"
      }
    },
    {
      "cell_type": "code",
      "source": [
        "from tensorflow.keras.applications.inception_v3 import InceptionV3"
      ],
      "metadata": {
        "id": "Z6Wn889t0Nrg"
      },
      "execution_count": 9,
      "outputs": []
    },
    {
      "cell_type": "code",
      "source": [
        "model_inceptionbilstm = Sequential(InceptionV3(include_top=False, weights='imagenet', input_shape=(image_size, image_size, 3)))\n",
        "model_inceptionbilstm.add(TimeDistributed(Flatten()))\n",
        "tf.keras.applications.trainable = False\n",
        "model_inceptionbilstm.add(Bidirectional(LSTM(units=128, return_sequences=True)))\n",
        "model_inceptionbilstm.add(Dropout(0.5))\n",
        "model_inceptionbilstm.add(Bidirectional(LSTM(units=128, return_sequences=False)))\n",
        "model_inceptionbilstm.add(Dropout(0.5))\n",
        "model_inceptionbilstm.add(Dense(256, activation='relu'))\n",
        "model_inceptionbilstm.add(Dense(4, activation='softmax'))"
      ],
      "metadata": {
        "id": "Tsgtjv-tzxeH",
        "colab": {
          "base_uri": "https://localhost:8080/"
        },
        "outputId": "f5d20a68-ad6c-47a7-a4c7-2020aff2526d"
      },
      "execution_count": 10,
      "outputs": [
        {
          "output_type": "stream",
          "name": "stdout",
          "text": [
            "Downloading data from https://storage.googleapis.com/tensorflow/keras-applications/inception_v3/inception_v3_weights_tf_dim_ordering_tf_kernels_notop.h5\n",
            "87916544/87910968 [==============================] - 0s 0us/step\n",
            "87924736/87910968 [==============================] - 0s 0us/step\n"
          ]
        }
      ]
    },
    {
      "cell_type": "code",
      "source": [
        "model_inceptionbilstm.summary()"
      ],
      "metadata": {
        "colab": {
          "base_uri": "https://localhost:8080/"
        },
        "outputId": "93d8f475-e1f0-4f56-b565-3cf0a4e95515",
        "id": "KsUgfzdbzxeI"
      },
      "execution_count": 11,
      "outputs": [
        {
          "output_type": "stream",
          "name": "stdout",
          "text": [
            "Model: \"sequential\"\n",
            "_________________________________________________________________\n",
            " Layer (type)                Output Shape              Param #   \n",
            "=================================================================\n",
            " inception_v3 (Functional)   (None, 5, 5, 2048)        21802784  \n",
            "                                                                 \n",
            " time_distributed (TimeDistr  (None, 5, 10240)         0         \n",
            " ibuted)                                                         \n",
            "                                                                 \n",
            " bidirectional (Bidirectiona  (None, 5, 256)           10617856  \n",
            " l)                                                              \n",
            "                                                                 \n",
            " dropout (Dropout)           (None, 5, 256)            0         \n",
            "                                                                 \n",
            " bidirectional_1 (Bidirectio  (None, 256)              394240    \n",
            " nal)                                                            \n",
            "                                                                 \n",
            " dropout_1 (Dropout)         (None, 256)               0         \n",
            "                                                                 \n",
            " dense (Dense)               (None, 256)               65792     \n",
            "                                                                 \n",
            " dense_1 (Dense)             (None, 4)                 1028      \n",
            "                                                                 \n",
            "=================================================================\n",
            "Total params: 32,881,700\n",
            "Trainable params: 32,847,268\n",
            "Non-trainable params: 34,432\n",
            "_________________________________________________________________\n"
          ]
        }
      ]
    },
    {
      "cell_type": "code",
      "source": [
        "opt = Adam(learning_rate=0.000016, beta_1=0.91, beta_2=0.9994, epsilon=1e-08)\n",
        "model_inceptionbilstm.compile(optimizer=opt,\n",
        "              loss='sparse_categorical_crossentropy',\n",
        "              metrics=['accuracy'])"
      ],
      "metadata": {
        "id": "LsDlXNIGzxeI"
      },
      "execution_count": 12,
      "outputs": []
    },
    {
      "cell_type": "code",
      "source": [
        "history_inceptionblstm=model_inceptionbilstm.fit(X_train ,y_train,\n",
        "                               validation_data = (X_test,y_test),\n",
        "                               epochs=20+10,\n",
        "                               batch_size=16)"
      ],
      "metadata": {
        "colab": {
          "base_uri": "https://localhost:8080/"
        },
        "outputId": "7d6869a4-9197-45b3-b3c8-b15e68f55151",
        "id": "BZcbGRZ5zxeJ"
      },
      "execution_count": 13,
      "outputs": [
        {
          "output_type": "stream",
          "name": "stdout",
          "text": [
            "Epoch 1/30\n",
            "184/184 [==============================] - 65s 188ms/step - loss: 1.1102 - accuracy: 0.5570 - val_loss: 0.6792 - val_accuracy: 0.8135\n",
            "Epoch 2/30\n",
            "184/184 [==============================] - 28s 152ms/step - loss: 0.5134 - accuracy: 0.8543 - val_loss: 0.2537 - val_accuracy: 0.9174\n",
            "Epoch 3/30\n",
            "184/184 [==============================] - 29s 157ms/step - loss: 0.2748 - accuracy: 0.9224 - val_loss: 0.1735 - val_accuracy: 0.9419\n",
            "Epoch 4/30\n",
            "184/184 [==============================] - 28s 154ms/step - loss: 0.1412 - accuracy: 0.9629 - val_loss: 0.1236 - val_accuracy: 0.9694\n",
            "Epoch 5/30\n",
            "184/184 [==============================] - 28s 155ms/step - loss: 0.0999 - accuracy: 0.9738 - val_loss: 0.1103 - val_accuracy: 0.9725\n",
            "Epoch 6/30\n",
            "184/184 [==============================] - 29s 157ms/step - loss: 0.0586 - accuracy: 0.9864 - val_loss: 0.1182 - val_accuracy: 0.9664\n",
            "Epoch 7/30\n",
            "184/184 [==============================] - 28s 154ms/step - loss: 0.0394 - accuracy: 0.9911 - val_loss: 0.0967 - val_accuracy: 0.9664\n",
            "Epoch 8/30\n",
            "184/184 [==============================] - 28s 155ms/step - loss: 0.0261 - accuracy: 0.9949 - val_loss: 0.1183 - val_accuracy: 0.9664\n",
            "Epoch 9/30\n",
            "184/184 [==============================] - 29s 155ms/step - loss: 0.0226 - accuracy: 0.9939 - val_loss: 0.1169 - val_accuracy: 0.9755\n",
            "Epoch 10/30\n",
            "184/184 [==============================] - 28s 154ms/step - loss: 0.0190 - accuracy: 0.9966 - val_loss: 0.1282 - val_accuracy: 0.9664\n",
            "Epoch 11/30\n",
            "184/184 [==============================] - 28s 154ms/step - loss: 0.0226 - accuracy: 0.9942 - val_loss: 0.1194 - val_accuracy: 0.9725\n",
            "Epoch 12/30\n",
            "184/184 [==============================] - 28s 154ms/step - loss: 0.0245 - accuracy: 0.9932 - val_loss: 0.1153 - val_accuracy: 0.9694\n",
            "Epoch 13/30\n",
            "184/184 [==============================] - 28s 154ms/step - loss: 0.0264 - accuracy: 0.9911 - val_loss: 0.1526 - val_accuracy: 0.9572\n",
            "Epoch 14/30\n",
            "184/184 [==============================] - 28s 154ms/step - loss: 0.0195 - accuracy: 0.9949 - val_loss: 0.1676 - val_accuracy: 0.9633\n",
            "Epoch 15/30\n",
            "184/184 [==============================] - 28s 154ms/step - loss: 0.0171 - accuracy: 0.9946 - val_loss: 0.1698 - val_accuracy: 0.9664\n",
            "Epoch 16/30\n",
            "184/184 [==============================] - 28s 155ms/step - loss: 0.0150 - accuracy: 0.9949 - val_loss: 0.1109 - val_accuracy: 0.9755\n",
            "Epoch 17/30\n",
            "184/184 [==============================] - 28s 154ms/step - loss: 0.0092 - accuracy: 0.9980 - val_loss: 0.1367 - val_accuracy: 0.9786\n",
            "Epoch 18/30\n",
            "184/184 [==============================] - 28s 154ms/step - loss: 0.0105 - accuracy: 0.9973 - val_loss: 0.1547 - val_accuracy: 0.9725\n",
            "Epoch 19/30\n",
            "184/184 [==============================] - 28s 154ms/step - loss: 0.0132 - accuracy: 0.9959 - val_loss: 0.1466 - val_accuracy: 0.9786\n",
            "Epoch 20/30\n",
            "184/184 [==============================] - 28s 154ms/step - loss: 0.0104 - accuracy: 0.9973 - val_loss: 0.1429 - val_accuracy: 0.9755\n",
            "Epoch 21/30\n",
            "184/184 [==============================] - 28s 154ms/step - loss: 0.0190 - accuracy: 0.9932 - val_loss: 0.1672 - val_accuracy: 0.9664\n",
            "Epoch 22/30\n",
            "184/184 [==============================] - 28s 154ms/step - loss: 0.0168 - accuracy: 0.9949 - val_loss: 0.1351 - val_accuracy: 0.9602\n",
            "Epoch 23/30\n",
            "184/184 [==============================] - 28s 154ms/step - loss: 0.0181 - accuracy: 0.9949 - val_loss: 0.2305 - val_accuracy: 0.9480\n",
            "Epoch 24/30\n",
            "184/184 [==============================] - 28s 154ms/step - loss: 0.0137 - accuracy: 0.9959 - val_loss: 0.1118 - val_accuracy: 0.9755\n",
            "Epoch 25/30\n",
            "184/184 [==============================] - 28s 154ms/step - loss: 0.0093 - accuracy: 0.9980 - val_loss: 0.1313 - val_accuracy: 0.9694\n",
            "Epoch 26/30\n",
            "184/184 [==============================] - 28s 154ms/step - loss: 0.0077 - accuracy: 0.9973 - val_loss: 0.1913 - val_accuracy: 0.9633\n",
            "Epoch 27/30\n",
            "184/184 [==============================] - 28s 154ms/step - loss: 0.0117 - accuracy: 0.9969 - val_loss: 0.1805 - val_accuracy: 0.9633\n",
            "Epoch 28/30\n",
            "184/184 [==============================] - 28s 154ms/step - loss: 0.0047 - accuracy: 0.9983 - val_loss: 0.1081 - val_accuracy: 0.9847\n",
            "Epoch 29/30\n",
            "184/184 [==============================] - 28s 154ms/step - loss: 0.0039 - accuracy: 0.9990 - val_loss: 0.0971 - val_accuracy: 0.9817\n",
            "Epoch 30/30\n",
            "184/184 [==============================] - 28s 154ms/step - loss: 0.0035 - accuracy: 0.9990 - val_loss: 0.1210 - val_accuracy: 0.9755\n"
          ]
        }
      ]
    },
    {
      "cell_type": "code",
      "source": [
        "model_inceptionbilstm.evaluate(X_test, y_test)"
      ],
      "metadata": {
        "colab": {
          "base_uri": "https://localhost:8080/"
        },
        "id": "62uE9wKx1E2z",
        "outputId": "955e140f-9a71-4e24-f9e5-62c3d00fac54"
      },
      "execution_count": 14,
      "outputs": [
        {
          "output_type": "stream",
          "name": "stdout",
          "text": [
            "11/11 [==============================] - 2s 71ms/step - loss: 0.1211 - accuracy: 0.9755\n"
          ]
        },
        {
          "output_type": "execute_result",
          "data": {
            "text/plain": [
              "[0.12105190753936768, 0.9755351543426514]"
            ]
          },
          "metadata": {},
          "execution_count": 14
        }
      ]
    },
    {
      "cell_type": "markdown",
      "source": [
        "<h2>Plot Accuracy dan Loss"
      ],
      "metadata": {
        "id": "6glZiNnDzxeJ"
      }
    },
    {
      "cell_type": "code",
      "source": [
        "plt.figure(figsize = (10, 5))\n",
        "plt.plot(history_inceptionblstm.history[\"accuracy\"], label = \"accuracy\")\n",
        "plt.plot(history_inceptionblstm.history[\"val_accuracy\"], label = \"val_accuracy\")\n",
        "plt.title(\"Training Accuracy and Validation Accuracy on COVID-19 Dataset\")\n",
        "plt.xlabel(\"Epoch\")\n",
        "plt.ylabel(\"Training/Validation Accuracy\")\n",
        "plt.legend(loc = \"upper left\")"
      ],
      "metadata": {
        "colab": {
          "base_uri": "https://localhost:8080/",
          "height": 367
        },
        "outputId": "76e0f159-5e75-46df-9244-6dac9db06dcb",
        "id": "XKMDlTMVzxeK"
      },
      "execution_count": 15,
      "outputs": [
        {
          "output_type": "execute_result",
          "data": {
            "text/plain": [
              "<matplotlib.legend.Legend at 0x7fd2391f3510>"
            ]
          },
          "metadata": {},
          "execution_count": 15
        },
        {
          "output_type": "display_data",
          "data": {
            "text/plain": [
              "<Figure size 720x360 with 1 Axes>"
            ],
            "image/png": "[encoded data removed]"
          },
          "metadata": {
            "needs_background": "light"
          }
        }
      ]
    },
    {
      "cell_type": "code",
      "source": [
        "plt.figure(figsize = (10, 5))\n",
        "plt.plot(history_inceptionblstm.history[\"loss\"], label = \"loss\")\n",
        "plt.plot(history_inceptionblstm.history[\"val_loss\"], label = \"val_loss\")\n",
        "plt.title(\"Training Loss and Validation Loss on COVID-19 Dataset\")\n",
        "plt.xlabel(\"Epoch\")\n",
        "plt.ylabel(\"Training/Validation Loss\")\n",
        "plt.legend()"
      ],
      "metadata": {
        "colab": {
          "base_uri": "https://localhost:8080/",
          "height": 367
        },
        "outputId": "e0be87e0-45c7-4008-80ce-f45ee303460e",
        "id": "-Pe2XbxFzxeK"
      },
      "execution_count": 16,
      "outputs": [
        {
          "output_type": "execute_result",
          "data": {
            "text/plain": [
              "<matplotlib.legend.Legend at 0x7fd23b73c590>"
            ]
          },
          "metadata": {},
          "execution_count": 16
        },
        {
          "output_type": "display_data",
          "data": {
            "text/plain": [
              "<Figure size 720x360 with 1 Axes>"
            ],
            "image/png": "[encoded data removed]"
          },
          "metadata": {
            "needs_background": "light"
          }
        }
      ]
    },
    {
      "cell_type": "markdown",
      "source": [
        "<h3>Classification Report Model Xception+BiLSTM"
      ],
      "metadata": {
        "id": "6pwrVzJozxeK"
      }
    },
    {
      "cell_type": "code",
      "source": [
        "pred2=np.argmax(model_inceptionbilstm.predict(X_test),axis=1)\n",
        "print(classification_report(y_test,pred2,target_names=classes, digits=2+2))"
      ],
      "metadata": {
        "colab": {
          "base_uri": "https://localhost:8080/"
        },
        "outputId": "f9684536-81b6-4b05-8630-99bcc3da772f",
        "id": "x4nsNcuWzxeL"
      },
      "execution_count": 17,
      "outputs": [
        {
          "output_type": "stream",
          "name": "stdout",
          "text": [
            "                  precision    recall  f1-score   support\n",
            "\n",
            " pituitary_tumor     0.9783    0.9677    0.9730        93\n",
            "    glioma_tumor     0.9588    0.9894    0.9738        94\n",
            "        no_tumor     0.9796    0.9600    0.9697        50\n",
            "meningioma_tumor     0.9888    0.9778    0.9832        90\n",
            "\n",
            "        accuracy                         0.9755       327\n",
            "       macro avg     0.9763    0.9737    0.9749       327\n",
            "    weighted avg     0.9758    0.9755    0.9755       327\n",
            "\n"
          ]
        }
      ]
    }
  ]
}